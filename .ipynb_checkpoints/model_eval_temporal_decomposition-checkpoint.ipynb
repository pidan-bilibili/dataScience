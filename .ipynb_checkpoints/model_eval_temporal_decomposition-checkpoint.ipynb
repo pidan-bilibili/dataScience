{
 "cells": [
  {
   "cell_type": "markdown",
   "metadata": {
    "id": "2h9-nXfDrI9_"
   },
   "source": [
    "## Importing the required libraries for Model Development"
   ]
  },
  {
   "cell_type": "code",
   "execution_count": 21,
   "metadata": {
    "executionInfo": {
     "elapsed": 702,
     "status": "ok",
     "timestamp": 1666822480133,
     "user": {
      "displayName": "Yaqian Tang",
      "userId": "11643113709903451935"
     },
     "user_tz": 420
    },
    "id": "YAlmVT7pp93-"
   },
   "outputs": [],
   "source": [
    "import pandas as pd\n",
    "import numpy as np\n",
    "import seaborn as sns                       #visualisation\n",
    "import matplotlib.pyplot as plt             #visualisation\n",
    "%matplotlib inline     \n",
    "sns.set(color_codes=True)\n",
    "\n",
    "#modeling\n",
    "\n",
    "from xgboost import XGBRegressor \n",
    "from sklearn.model_selection import train_test_split\n",
    "from sklearn.linear_model import LinearRegression, Lasso, Ridge, LassoCV, RidgeCV\n",
    "from sklearn.neural_network import MLPClassifier\n",
    "from sklearn.neural_network import MLPRegressor\n",
    "from sklearn.svm import SVR\n",
    "from sklearn.model_selection import cross_val_score, train_test_split, KFold, StratifiedGroupKFold, GridSearchCV\n",
    "from sklearn.metrics import mean_squared_error, r2_score\n",
    "from sklearn.preprocessing import StandardScaler, MinMaxScaler\n",
    "from sklearn.ensemble import RandomForestRegressor\n",
    "from sklearn.model_selection import RandomizedSearchCV\n",
    "from scipy.stats import randint\n",
    "from sklearn import ensemble\n",
    "from sklearn import neighbors\n",
    "from sklearn.metrics import mean_squared_error \n",
    "from math import sqrt\n",
    "from sklearn.metrics import r2_score\n",
    "from sklearn.model_selection import cross_val_score\n",
    "from sklearn.model_selection import GridSearchCV\n",
    "from sklearn.preprocessing import OneHotEncoder\n",
    "from sklearn.compose import make_column_transformer"
   ]
  },
  {
   "cell_type": "markdown",
   "metadata": {
    "id": "kedu-7merQlo"
   },
   "source": [
    "## Loading the data from Google Drive"
   ]
  },
  {
   "cell_type": "markdown",
   "metadata": {
    "id": "lBbUI7hpPK5U"
   },
   "source": [
    "❗**NOTE: Before running this step, add a shortcut of the shared project folder to your drive**:\n",
    "https://drive.google.com/drive/folders/1Zss_aak84cHnoGLaK6lUQLyDNKqAdn6s?usp=sharing\n"
   ]
  },
  {
   "cell_type": "code",
   "execution_count": 22,
   "metadata": {
    "colab": {
     "base_uri": "https://localhost:8080/"
    },
    "executionInfo": {
     "elapsed": 1027,
     "status": "ok",
     "timestamp": 1666822485718,
     "user": {
      "displayName": "Yaqian Tang",
      "userId": "11643113709903451935"
     },
     "user_tz": 420
    },
    "id": "gWzMAUyWkUS9",
    "outputId": "7bf3f387-98c3-43e4-a549-4d910454bcc5"
   },
   "outputs": [
    {
     "name": "stdout",
     "output_type": "stream",
     "text": [
      "Drive already mounted at /content/drive; to attempt to forcibly remount, call drive.mount(\"/content/drive\", force_remount=True).\n"
     ]
    }
   ],
   "source": [
    "from google.colab import drive\n",
    "drive.mount('/content/drive')"
   ]
  },
  {
   "cell_type": "code",
   "execution_count": 23,
   "metadata": {
    "executionInfo": {
     "elapsed": 543,
     "status": "ok",
     "timestamp": 1666822487203,
     "user": {
      "displayName": "Yaqian Tang",
      "userId": "11643113709903451935"
     },
     "user_tz": 420
    },
    "id": "P59T5h45rk4g"
   },
   "outputs": [],
   "source": [
    "data_path = '/content/drive/MyDrive/Discovery_2022fall_photosynthesis_mapping/Data/' + \\\n",
    " 'train/data_monthly_v1_0.csv'\n",
    "df = pd.read_csv(data_path)"
   ]
  },
  {
   "cell_type": "code",
   "execution_count": 24,
   "metadata": {
    "colab": {
     "base_uri": "https://localhost:8080/",
     "height": 300
    },
    "executionInfo": {
     "elapsed": 7,
     "status": "ok",
     "timestamp": 1666822487204,
     "user": {
      "displayName": "Yaqian Tang",
      "userId": "11643113709903451935"
     },
     "user_tz": 420
    },
    "id": "XV3bMDZWtOyl",
    "outputId": "6beb05ae-862e-4401-8d1d-08fc32c55f1f"
   },
   "outputs": [
    {
     "data": {
      "text/html": [
       "\n",
       "  <div id=\"df-1c89dedc-3355-4fa8-86fd-ab08cb773989\">\n",
       "    <div class=\"colab-df-container\">\n",
       "      <div>\n",
       "<style scoped>\n",
       "    .dataframe tbody tr th:only-of-type {\n",
       "        vertical-align: middle;\n",
       "    }\n",
       "\n",
       "    .dataframe tbody tr th {\n",
       "        vertical-align: top;\n",
       "    }\n",
       "\n",
       "    .dataframe thead th {\n",
       "        text-align: right;\n",
       "    }\n",
       "</style>\n",
       "<table border=\"1\" class=\"dataframe\">\n",
       "  <thead>\n",
       "    <tr style=\"text-align: right;\">\n",
       "      <th></th>\n",
       "      <th>SITE_ID</th>\n",
       "      <th>year</th>\n",
       "      <th>month</th>\n",
       "      <th>TIMESTAMP</th>\n",
       "      <th>dataset</th>\n",
       "      <th>SITE_IGBP</th>\n",
       "      <th>LOCATION_LAT</th>\n",
       "      <th>LOCATION_LONG</th>\n",
       "      <th>TA_F</th>\n",
       "      <th>VPD_F</th>\n",
       "      <th>...</th>\n",
       "      <th>Percent_Snow</th>\n",
       "      <th>Fpar</th>\n",
       "      <th>Lai</th>\n",
       "      <th>LST_Day</th>\n",
       "      <th>LST_Night</th>\n",
       "      <th>MODIS_IGBP</th>\n",
       "      <th>MODIS_PFT</th>\n",
       "      <th>koppen_sub</th>\n",
       "      <th>koppen</th>\n",
       "      <th>CO2_concentration</th>\n",
       "    </tr>\n",
       "  </thead>\n",
       "  <tbody>\n",
       "    <tr>\n",
       "      <th>0</th>\n",
       "      <td>AR-SLu</td>\n",
       "      <td>2010</td>\n",
       "      <td>1</td>\n",
       "      <td>201001</td>\n",
       "      <td>FLUXNET</td>\n",
       "      <td>MF</td>\n",
       "      <td>-33.4648</td>\n",
       "      <td>-66.4598</td>\n",
       "      <td>28.493</td>\n",
       "      <td>23.378</td>\n",
       "      <td>...</td>\n",
       "      <td>0.0</td>\n",
       "      <td>0.49</td>\n",
       "      <td>1.2</td>\n",
       "      <td>313.84</td>\n",
       "      <td>293.58</td>\n",
       "      <td>OSH</td>\n",
       "      <td>SH</td>\n",
       "      <td>BSk</td>\n",
       "      <td>Arid</td>\n",
       "      <td>387.110</td>\n",
       "    </tr>\n",
       "    <tr>\n",
       "      <th>1</th>\n",
       "      <td>AR-SLu</td>\n",
       "      <td>2010</td>\n",
       "      <td>2</td>\n",
       "      <td>201002</td>\n",
       "      <td>FLUXNET</td>\n",
       "      <td>MF</td>\n",
       "      <td>-33.4648</td>\n",
       "      <td>-66.4598</td>\n",
       "      <td>26.673</td>\n",
       "      <td>14.369</td>\n",
       "      <td>...</td>\n",
       "      <td>0.0</td>\n",
       "      <td>0.43</td>\n",
       "      <td>0.9</td>\n",
       "      <td>309.86</td>\n",
       "      <td>292.96</td>\n",
       "      <td>OSH</td>\n",
       "      <td>SH</td>\n",
       "      <td>BSk</td>\n",
       "      <td>Arid</td>\n",
       "      <td>387.675</td>\n",
       "    </tr>\n",
       "    <tr>\n",
       "      <th>2</th>\n",
       "      <td>AR-SLu</td>\n",
       "      <td>2010</td>\n",
       "      <td>3</td>\n",
       "      <td>201003</td>\n",
       "      <td>FLUXNET</td>\n",
       "      <td>MF</td>\n",
       "      <td>-33.4648</td>\n",
       "      <td>-66.4598</td>\n",
       "      <td>25.744</td>\n",
       "      <td>15.167</td>\n",
       "      <td>...</td>\n",
       "      <td>0.0</td>\n",
       "      <td>0.41</td>\n",
       "      <td>0.8</td>\n",
       "      <td>309.18</td>\n",
       "      <td>290.52</td>\n",
       "      <td>OSH</td>\n",
       "      <td>SH</td>\n",
       "      <td>BSk</td>\n",
       "      <td>Arid</td>\n",
       "      <td>388.195</td>\n",
       "    </tr>\n",
       "    <tr>\n",
       "      <th>3</th>\n",
       "      <td>AR-SLu</td>\n",
       "      <td>2010</td>\n",
       "      <td>4</td>\n",
       "      <td>201004</td>\n",
       "      <td>FLUXNET</td>\n",
       "      <td>MF</td>\n",
       "      <td>-33.4648</td>\n",
       "      <td>-66.4598</td>\n",
       "      <td>18.450</td>\n",
       "      <td>9.185</td>\n",
       "      <td>...</td>\n",
       "      <td>0.0</td>\n",
       "      <td>0.36</td>\n",
       "      <td>0.5</td>\n",
       "      <td>303.24</td>\n",
       "      <td>286.34</td>\n",
       "      <td>OSH</td>\n",
       "      <td>SH</td>\n",
       "      <td>BSk</td>\n",
       "      <td>Arid</td>\n",
       "      <td>388.905</td>\n",
       "    </tr>\n",
       "    <tr>\n",
       "      <th>4</th>\n",
       "      <td>AR-SLu</td>\n",
       "      <td>2010</td>\n",
       "      <td>5</td>\n",
       "      <td>201005</td>\n",
       "      <td>FLUXNET</td>\n",
       "      <td>MF</td>\n",
       "      <td>-33.4648</td>\n",
       "      <td>-66.4598</td>\n",
       "      <td>13.493</td>\n",
       "      <td>5.823</td>\n",
       "      <td>...</td>\n",
       "      <td>0.0</td>\n",
       "      <td>0.37</td>\n",
       "      <td>0.5</td>\n",
       "      <td>296.20</td>\n",
       "      <td>277.82</td>\n",
       "      <td>OSH</td>\n",
       "      <td>SH</td>\n",
       "      <td>BSk</td>\n",
       "      <td>Arid</td>\n",
       "      <td>389.320</td>\n",
       "    </tr>\n",
       "  </tbody>\n",
       "</table>\n",
       "<p>5 rows × 62 columns</p>\n",
       "</div>\n",
       "      <button class=\"colab-df-convert\" onclick=\"convertToInteractive('df-1c89dedc-3355-4fa8-86fd-ab08cb773989')\"\n",
       "              title=\"Convert this dataframe to an interactive table.\"\n",
       "              style=\"display:none;\">\n",
       "        \n",
       "  <svg xmlns=\"http://www.w3.org/2000/svg\" height=\"24px\"viewBox=\"0 0 24 24\"\n",
       "       width=\"24px\">\n",
       "    <path d=\"M0 0h24v24H0V0z\" fill=\"none\"/>\n",
       "    <path d=\"M18.56 5.44l.94 2.06.94-2.06 2.06-.94-2.06-.94-.94-2.06-.94 2.06-2.06.94zm-11 1L8.5 8.5l.94-2.06 2.06-.94-2.06-.94L8.5 2.5l-.94 2.06-2.06.94zm10 10l.94 2.06.94-2.06 2.06-.94-2.06-.94-.94-2.06-.94 2.06-2.06.94z\"/><path d=\"M17.41 7.96l-1.37-1.37c-.4-.4-.92-.59-1.43-.59-.52 0-1.04.2-1.43.59L10.3 9.45l-7.72 7.72c-.78.78-.78 2.05 0 2.83L4 21.41c.39.39.9.59 1.41.59.51 0 1.02-.2 1.41-.59l7.78-7.78 2.81-2.81c.8-.78.8-2.07 0-2.86zM5.41 20L4 18.59l7.72-7.72 1.47 1.35L5.41 20z\"/>\n",
       "  </svg>\n",
       "      </button>\n",
       "      \n",
       "  <style>\n",
       "    .colab-df-container {\n",
       "      display:flex;\n",
       "      flex-wrap:wrap;\n",
       "      gap: 12px;\n",
       "    }\n",
       "\n",
       "    .colab-df-convert {\n",
       "      background-color: #E8F0FE;\n",
       "      border: none;\n",
       "      border-radius: 50%;\n",
       "      cursor: pointer;\n",
       "      display: none;\n",
       "      fill: #1967D2;\n",
       "      height: 32px;\n",
       "      padding: 0 0 0 0;\n",
       "      width: 32px;\n",
       "    }\n",
       "\n",
       "    .colab-df-convert:hover {\n",
       "      background-color: #E2EBFA;\n",
       "      box-shadow: 0px 1px 2px rgba(60, 64, 67, 0.3), 0px 1px 3px 1px rgba(60, 64, 67, 0.15);\n",
       "      fill: #174EA6;\n",
       "    }\n",
       "\n",
       "    [theme=dark] .colab-df-convert {\n",
       "      background-color: #3B4455;\n",
       "      fill: #D2E3FC;\n",
       "    }\n",
       "\n",
       "    [theme=dark] .colab-df-convert:hover {\n",
       "      background-color: #434B5C;\n",
       "      box-shadow: 0px 1px 3px 1px rgba(0, 0, 0, 0.15);\n",
       "      filter: drop-shadow(0px 1px 2px rgba(0, 0, 0, 0.3));\n",
       "      fill: #FFFFFF;\n",
       "    }\n",
       "  </style>\n",
       "\n",
       "      <script>\n",
       "        const buttonEl =\n",
       "          document.querySelector('#df-1c89dedc-3355-4fa8-86fd-ab08cb773989 button.colab-df-convert');\n",
       "        buttonEl.style.display =\n",
       "          google.colab.kernel.accessAllowed ? 'block' : 'none';\n",
       "\n",
       "        async function convertToInteractive(key) {\n",
       "          const element = document.querySelector('#df-1c89dedc-3355-4fa8-86fd-ab08cb773989');\n",
       "          const dataTable =\n",
       "            await google.colab.kernel.invokeFunction('convertToInteractive',\n",
       "                                                     [key], {});\n",
       "          if (!dataTable) return;\n",
       "\n",
       "          const docLinkHtml = 'Like what you see? Visit the ' +\n",
       "            '<a target=\"_blank\" href=https://colab.research.google.com/notebooks/data_table.ipynb>data table notebook</a>'\n",
       "            + ' to learn more about interactive tables.';\n",
       "          element.innerHTML = '';\n",
       "          dataTable['output_type'] = 'display_data';\n",
       "          await google.colab.output.renderOutput(dataTable, element);\n",
       "          const docLink = document.createElement('div');\n",
       "          docLink.innerHTML = docLinkHtml;\n",
       "          element.appendChild(docLink);\n",
       "        }\n",
       "      </script>\n",
       "    </div>\n",
       "  </div>\n",
       "  "
      ],
      "text/plain": [
       "  SITE_ID  year  month  TIMESTAMP  dataset SITE_IGBP  LOCATION_LAT  \\\n",
       "0  AR-SLu  2010      1     201001  FLUXNET        MF      -33.4648   \n",
       "1  AR-SLu  2010      2     201002  FLUXNET        MF      -33.4648   \n",
       "2  AR-SLu  2010      3     201003  FLUXNET        MF      -33.4648   \n",
       "3  AR-SLu  2010      4     201004  FLUXNET        MF      -33.4648   \n",
       "4  AR-SLu  2010      5     201005  FLUXNET        MF      -33.4648   \n",
       "\n",
       "   LOCATION_LONG    TA_F   VPD_F  ...  Percent_Snow  Fpar  Lai  LST_Day  \\\n",
       "0       -66.4598  28.493  23.378  ...           0.0  0.49  1.2   313.84   \n",
       "1       -66.4598  26.673  14.369  ...           0.0  0.43  0.9   309.86   \n",
       "2       -66.4598  25.744  15.167  ...           0.0  0.41  0.8   309.18   \n",
       "3       -66.4598  18.450   9.185  ...           0.0  0.36  0.5   303.24   \n",
       "4       -66.4598  13.493   5.823  ...           0.0  0.37  0.5   296.20   \n",
       "\n",
       "   LST_Night  MODIS_IGBP  MODIS_PFT  koppen_sub  koppen  CO2_concentration  \n",
       "0     293.58         OSH         SH         BSk    Arid            387.110  \n",
       "1     292.96         OSH         SH         BSk    Arid            387.675  \n",
       "2     290.52         OSH         SH         BSk    Arid            388.195  \n",
       "3     286.34         OSH         SH         BSk    Arid            388.905  \n",
       "4     277.82         OSH         SH         BSk    Arid            389.320  \n",
       "\n",
       "[5 rows x 62 columns]"
      ]
     },
     "execution_count": 24,
     "metadata": {},
     "output_type": "execute_result"
    }
   ],
   "source": [
    "df.head(5)"
   ]
  },
  {
   "cell_type": "code",
   "execution_count": 25,
   "metadata": {
    "colab": {
     "base_uri": "https://localhost:8080/",
     "height": 394
    },
    "executionInfo": {
     "elapsed": 487,
     "status": "ok",
     "timestamp": 1666822488152,
     "user": {
      "displayName": "Yaqian Tang",
      "userId": "11643113709903451935"
     },
     "user_tz": 420
    },
    "id": "TsF8ScnzWs_X",
    "outputId": "1fe4016f-424f-4e7b-88e2-631388449c83"
   },
   "outputs": [
    {
     "data": {
      "text/html": [
       "\n",
       "  <div id=\"df-105ad719-3458-47e9-9262-84628f10037d\">\n",
       "    <div class=\"colab-df-container\">\n",
       "      <div>\n",
       "<style scoped>\n",
       "    .dataframe tbody tr th:only-of-type {\n",
       "        vertical-align: middle;\n",
       "    }\n",
       "\n",
       "    .dataframe tbody tr th {\n",
       "        vertical-align: top;\n",
       "    }\n",
       "\n",
       "    .dataframe thead th {\n",
       "        text-align: right;\n",
       "    }\n",
       "</style>\n",
       "<table border=\"1\" class=\"dataframe\">\n",
       "  <thead>\n",
       "    <tr style=\"text-align: right;\">\n",
       "      <th></th>\n",
       "      <th>year</th>\n",
       "      <th>month</th>\n",
       "      <th>TIMESTAMP</th>\n",
       "      <th>LOCATION_LAT</th>\n",
       "      <th>LOCATION_LONG</th>\n",
       "      <th>TA_F</th>\n",
       "      <th>VPD_F</th>\n",
       "      <th>P_F</th>\n",
       "      <th>NETRAD</th>\n",
       "      <th>NEE_VUT_REF</th>\n",
       "      <th>...</th>\n",
       "      <th>NDVI</th>\n",
       "      <th>NDWI</th>\n",
       "      <th>NIRv</th>\n",
       "      <th>kNDVI</th>\n",
       "      <th>Percent_Snow</th>\n",
       "      <th>Fpar</th>\n",
       "      <th>Lai</th>\n",
       "      <th>LST_Day</th>\n",
       "      <th>LST_Night</th>\n",
       "      <th>CO2_concentration</th>\n",
       "    </tr>\n",
       "  </thead>\n",
       "  <tbody>\n",
       "    <tr>\n",
       "      <th>count</th>\n",
       "      <td>19015.000000</td>\n",
       "      <td>19015.000000</td>\n",
       "      <td>19015.000000</td>\n",
       "      <td>19015.000000</td>\n",
       "      <td>19015.000000</td>\n",
       "      <td>19015.000000</td>\n",
       "      <td>19015.000000</td>\n",
       "      <td>18662.000000</td>\n",
       "      <td>16322.000000</td>\n",
       "      <td>19015.000000</td>\n",
       "      <td>...</td>\n",
       "      <td>18563.000000</td>\n",
       "      <td>18609.000000</td>\n",
       "      <td>18563.000000</td>\n",
       "      <td>18609.000000</td>\n",
       "      <td>18872.000000</td>\n",
       "      <td>18080.000000</td>\n",
       "      <td>18080.000000</td>\n",
       "      <td>19015.000000</td>\n",
       "      <td>19015.000000</td>\n",
       "      <td>19015.000000</td>\n",
       "    </tr>\n",
       "    <tr>\n",
       "      <th>mean</th>\n",
       "      <td>2010.626821</td>\n",
       "      <td>6.590849</td>\n",
       "      <td>201069.272942</td>\n",
       "      <td>42.190960</td>\n",
       "      <td>-21.169896</td>\n",
       "      <td>10.335353</td>\n",
       "      <td>5.431886</td>\n",
       "      <td>2.095369</td>\n",
       "      <td>81.498813</td>\n",
       "      <td>-0.636588</td>\n",
       "      <td>...</td>\n",
       "      <td>0.535087</td>\n",
       "      <td>0.165757</td>\n",
       "      <td>0.131622</td>\n",
       "      <td>0.305653</td>\n",
       "      <td>11.620639</td>\n",
       "      <td>0.484481</td>\n",
       "      <td>1.430520</td>\n",
       "      <td>289.817007</td>\n",
       "      <td>277.196492</td>\n",
       "      <td>390.256548</td>\n",
       "    </tr>\n",
       "    <tr>\n",
       "      <th>std</th>\n",
       "      <td>5.150904</td>\n",
       "      <td>3.387905</td>\n",
       "      <td>515.043678</td>\n",
       "      <td>18.723591</td>\n",
       "      <td>68.771907</td>\n",
       "      <td>9.497750</td>\n",
       "      <td>5.196374</td>\n",
       "      <td>2.008792</td>\n",
       "      <td>60.609140</td>\n",
       "      <td>2.119773</td>\n",
       "      <td>...</td>\n",
       "      <td>0.200831</td>\n",
       "      <td>0.199895</td>\n",
       "      <td>0.072160</td>\n",
       "      <td>0.173797</td>\n",
       "      <td>26.684868</td>\n",
       "      <td>0.199732</td>\n",
       "      <td>1.128479</td>\n",
       "      <td>13.737654</td>\n",
       "      <td>9.700046</td>\n",
       "      <td>11.250848</td>\n",
       "    </tr>\n",
       "    <tr>\n",
       "      <th>min</th>\n",
       "      <td>2001.000000</td>\n",
       "      <td>1.000000</td>\n",
       "      <td>200101.000000</td>\n",
       "      <td>-37.425900</td>\n",
       "      <td>-157.408900</td>\n",
       "      <td>-31.455000</td>\n",
       "      <td>0.007000</td>\n",
       "      <td>0.000000</td>\n",
       "      <td>-67.894013</td>\n",
       "      <td>-14.029700</td>\n",
       "      <td>...</td>\n",
       "      <td>0.002544</td>\n",
       "      <td>-0.276199</td>\n",
       "      <td>0.001238</td>\n",
       "      <td>0.000016</td>\n",
       "      <td>0.000000</td>\n",
       "      <td>0.060000</td>\n",
       "      <td>0.100000</td>\n",
       "      <td>238.540000</td>\n",
       "      <td>237.900000</td>\n",
       "      <td>369.070000</td>\n",
       "    </tr>\n",
       "    <tr>\n",
       "      <th>25%</th>\n",
       "      <td>2006.000000</td>\n",
       "      <td>4.000000</td>\n",
       "      <td>200612.000000</td>\n",
       "      <td>39.942690</td>\n",
       "      <td>-90.079900</td>\n",
       "      <td>3.874000</td>\n",
       "      <td>1.884000</td>\n",
       "      <td>0.727000</td>\n",
       "      <td>25.832575</td>\n",
       "      <td>-1.494660</td>\n",
       "      <td>...</td>\n",
       "      <td>0.405351</td>\n",
       "      <td>0.028162</td>\n",
       "      <td>0.076971</td>\n",
       "      <td>0.165432</td>\n",
       "      <td>0.000000</td>\n",
       "      <td>0.330000</td>\n",
       "      <td>0.500000</td>\n",
       "      <td>280.380000</td>\n",
       "      <td>271.240000</td>\n",
       "      <td>381.500000</td>\n",
       "    </tr>\n",
       "    <tr>\n",
       "      <th>50%</th>\n",
       "      <td>2011.000000</td>\n",
       "      <td>7.000000</td>\n",
       "      <td>201103.000000</td>\n",
       "      <td>45.945900</td>\n",
       "      <td>5.743560</td>\n",
       "      <td>10.966000</td>\n",
       "      <td>4.008000</td>\n",
       "      <td>1.619000</td>\n",
       "      <td>83.546492</td>\n",
       "      <td>-0.034683</td>\n",
       "      <td>...</td>\n",
       "      <td>0.570044</td>\n",
       "      <td>0.169703</td>\n",
       "      <td>0.116626</td>\n",
       "      <td>0.315323</td>\n",
       "      <td>0.000000</td>\n",
       "      <td>0.500000</td>\n",
       "      <td>1.100000</td>\n",
       "      <td>290.900000</td>\n",
       "      <td>277.920000</td>\n",
       "      <td>389.320000</td>\n",
       "    </tr>\n",
       "    <tr>\n",
       "      <th>75%</th>\n",
       "      <td>2015.000000</td>\n",
       "      <td>10.000000</td>\n",
       "      <td>201502.000000</td>\n",
       "      <td>50.893060</td>\n",
       "      <td>13.512590</td>\n",
       "      <td>17.159000</td>\n",
       "      <td>6.997500</td>\n",
       "      <td>2.871000</td>\n",
       "      <td>131.353100</td>\n",
       "      <td>0.638339</td>\n",
       "      <td>...</td>\n",
       "      <td>0.691212</td>\n",
       "      <td>0.283465</td>\n",
       "      <td>0.175177</td>\n",
       "      <td>0.444393</td>\n",
       "      <td>1.171358</td>\n",
       "      <td>0.650000</td>\n",
       "      <td>2.100000</td>\n",
       "      <td>298.460000</td>\n",
       "      <td>284.180000</td>\n",
       "      <td>398.230000</td>\n",
       "    </tr>\n",
       "    <tr>\n",
       "      <th>max</th>\n",
       "      <td>2020.000000</td>\n",
       "      <td>12.000000</td>\n",
       "      <td>202012.000000</td>\n",
       "      <td>78.186000</td>\n",
       "      <td>161.341430</td>\n",
       "      <td>33.400000</td>\n",
       "      <td>45.384000</td>\n",
       "      <td>25.172000</td>\n",
       "      <td>307.991579</td>\n",
       "      <td>8.817250</td>\n",
       "      <td>...</td>\n",
       "      <td>0.915832</td>\n",
       "      <td>0.854756</td>\n",
       "      <td>0.426510</td>\n",
       "      <td>0.685111</td>\n",
       "      <td>100.000000</td>\n",
       "      <td>0.910000</td>\n",
       "      <td>6.300000</td>\n",
       "      <td>328.280000</td>\n",
       "      <td>299.340000</td>\n",
       "      <td>413.325000</td>\n",
       "    </tr>\n",
       "  </tbody>\n",
       "</table>\n",
       "<p>8 rows × 54 columns</p>\n",
       "</div>\n",
       "      <button class=\"colab-df-convert\" onclick=\"convertToInteractive('df-105ad719-3458-47e9-9262-84628f10037d')\"\n",
       "              title=\"Convert this dataframe to an interactive table.\"\n",
       "              style=\"display:none;\">\n",
       "        \n",
       "  <svg xmlns=\"http://www.w3.org/2000/svg\" height=\"24px\"viewBox=\"0 0 24 24\"\n",
       "       width=\"24px\">\n",
       "    <path d=\"M0 0h24v24H0V0z\" fill=\"none\"/>\n",
       "    <path d=\"M18.56 5.44l.94 2.06.94-2.06 2.06-.94-2.06-.94-.94-2.06-.94 2.06-2.06.94zm-11 1L8.5 8.5l.94-2.06 2.06-.94-2.06-.94L8.5 2.5l-.94 2.06-2.06.94zm10 10l.94 2.06.94-2.06 2.06-.94-2.06-.94-.94-2.06-.94 2.06-2.06.94z\"/><path d=\"M17.41 7.96l-1.37-1.37c-.4-.4-.92-.59-1.43-.59-.52 0-1.04.2-1.43.59L10.3 9.45l-7.72 7.72c-.78.78-.78 2.05 0 2.83L4 21.41c.39.39.9.59 1.41.59.51 0 1.02-.2 1.41-.59l7.78-7.78 2.81-2.81c.8-.78.8-2.07 0-2.86zM5.41 20L4 18.59l7.72-7.72 1.47 1.35L5.41 20z\"/>\n",
       "  </svg>\n",
       "      </button>\n",
       "      \n",
       "  <style>\n",
       "    .colab-df-container {\n",
       "      display:flex;\n",
       "      flex-wrap:wrap;\n",
       "      gap: 12px;\n",
       "    }\n",
       "\n",
       "    .colab-df-convert {\n",
       "      background-color: #E8F0FE;\n",
       "      border: none;\n",
       "      border-radius: 50%;\n",
       "      cursor: pointer;\n",
       "      display: none;\n",
       "      fill: #1967D2;\n",
       "      height: 32px;\n",
       "      padding: 0 0 0 0;\n",
       "      width: 32px;\n",
       "    }\n",
       "\n",
       "    .colab-df-convert:hover {\n",
       "      background-color: #E2EBFA;\n",
       "      box-shadow: 0px 1px 2px rgba(60, 64, 67, 0.3), 0px 1px 3px 1px rgba(60, 64, 67, 0.15);\n",
       "      fill: #174EA6;\n",
       "    }\n",
       "\n",
       "    [theme=dark] .colab-df-convert {\n",
       "      background-color: #3B4455;\n",
       "      fill: #D2E3FC;\n",
       "    }\n",
       "\n",
       "    [theme=dark] .colab-df-convert:hover {\n",
       "      background-color: #434B5C;\n",
       "      box-shadow: 0px 1px 3px 1px rgba(0, 0, 0, 0.15);\n",
       "      filter: drop-shadow(0px 1px 2px rgba(0, 0, 0, 0.3));\n",
       "      fill: #FFFFFF;\n",
       "    }\n",
       "  </style>\n",
       "\n",
       "      <script>\n",
       "        const buttonEl =\n",
       "          document.querySelector('#df-105ad719-3458-47e9-9262-84628f10037d button.colab-df-convert');\n",
       "        buttonEl.style.display =\n",
       "          google.colab.kernel.accessAllowed ? 'block' : 'none';\n",
       "\n",
       "        async function convertToInteractive(key) {\n",
       "          const element = document.querySelector('#df-105ad719-3458-47e9-9262-84628f10037d');\n",
       "          const dataTable =\n",
       "            await google.colab.kernel.invokeFunction('convertToInteractive',\n",
       "                                                     [key], {});\n",
       "          if (!dataTable) return;\n",
       "\n",
       "          const docLinkHtml = 'Like what you see? Visit the ' +\n",
       "            '<a target=\"_blank\" href=https://colab.research.google.com/notebooks/data_table.ipynb>data table notebook</a>'\n",
       "            + ' to learn more about interactive tables.';\n",
       "          element.innerHTML = '';\n",
       "          dataTable['output_type'] = 'display_data';\n",
       "          await google.colab.output.renderOutput(dataTable, element);\n",
       "          const docLink = document.createElement('div');\n",
       "          docLink.innerHTML = docLinkHtml;\n",
       "          element.appendChild(docLink);\n",
       "        }\n",
       "      </script>\n",
       "    </div>\n",
       "  </div>\n",
       "  "
      ],
      "text/plain": [
       "               year         month      TIMESTAMP  LOCATION_LAT  LOCATION_LONG  \\\n",
       "count  19015.000000  19015.000000   19015.000000  19015.000000   19015.000000   \n",
       "mean    2010.626821      6.590849  201069.272942     42.190960     -21.169896   \n",
       "std        5.150904      3.387905     515.043678     18.723591      68.771907   \n",
       "min     2001.000000      1.000000  200101.000000    -37.425900    -157.408900   \n",
       "25%     2006.000000      4.000000  200612.000000     39.942690     -90.079900   \n",
       "50%     2011.000000      7.000000  201103.000000     45.945900       5.743560   \n",
       "75%     2015.000000     10.000000  201502.000000     50.893060      13.512590   \n",
       "max     2020.000000     12.000000  202012.000000     78.186000     161.341430   \n",
       "\n",
       "               TA_F         VPD_F           P_F        NETRAD   NEE_VUT_REF  \\\n",
       "count  19015.000000  19015.000000  18662.000000  16322.000000  19015.000000   \n",
       "mean      10.335353      5.431886      2.095369     81.498813     -0.636588   \n",
       "std        9.497750      5.196374      2.008792     60.609140      2.119773   \n",
       "min      -31.455000      0.007000      0.000000    -67.894013    -14.029700   \n",
       "25%        3.874000      1.884000      0.727000     25.832575     -1.494660   \n",
       "50%       10.966000      4.008000      1.619000     83.546492     -0.034683   \n",
       "75%       17.159000      6.997500      2.871000    131.353100      0.638339   \n",
       "max       33.400000     45.384000     25.172000    307.991579      8.817250   \n",
       "\n",
       "       ...          NDVI          NDWI          NIRv         kNDVI  \\\n",
       "count  ...  18563.000000  18609.000000  18563.000000  18609.000000   \n",
       "mean   ...      0.535087      0.165757      0.131622      0.305653   \n",
       "std    ...      0.200831      0.199895      0.072160      0.173797   \n",
       "min    ...      0.002544     -0.276199      0.001238      0.000016   \n",
       "25%    ...      0.405351      0.028162      0.076971      0.165432   \n",
       "50%    ...      0.570044      0.169703      0.116626      0.315323   \n",
       "75%    ...      0.691212      0.283465      0.175177      0.444393   \n",
       "max    ...      0.915832      0.854756      0.426510      0.685111   \n",
       "\n",
       "       Percent_Snow          Fpar           Lai       LST_Day     LST_Night  \\\n",
       "count  18872.000000  18080.000000  18080.000000  19015.000000  19015.000000   \n",
       "mean      11.620639      0.484481      1.430520    289.817007    277.196492   \n",
       "std       26.684868      0.199732      1.128479     13.737654      9.700046   \n",
       "min        0.000000      0.060000      0.100000    238.540000    237.900000   \n",
       "25%        0.000000      0.330000      0.500000    280.380000    271.240000   \n",
       "50%        0.000000      0.500000      1.100000    290.900000    277.920000   \n",
       "75%        1.171358      0.650000      2.100000    298.460000    284.180000   \n",
       "max      100.000000      0.910000      6.300000    328.280000    299.340000   \n",
       "\n",
       "       CO2_concentration  \n",
       "count       19015.000000  \n",
       "mean          390.256548  \n",
       "std            11.250848  \n",
       "min           369.070000  \n",
       "25%           381.500000  \n",
       "50%           389.320000  \n",
       "75%           398.230000  \n",
       "max           413.325000  \n",
       "\n",
       "[8 rows x 54 columns]"
      ]
     },
     "execution_count": 25,
     "metadata": {},
     "output_type": "execute_result"
    }
   ],
   "source": [
    "df.describe()"
   ]
  },
  {
   "cell_type": "markdown",
   "metadata": {
    "id": "iotgRgL3tv-Q"
   },
   "source": [
    "## Understand the data variables"
   ]
  },
  {
   "cell_type": "markdown",
   "metadata": {
    "id": "3_RWCcO0NRws"
   },
   "source": [
    "GPP: Gross primary productivity.  \n",
    "\n",
    "Here the dataset includes monthly GPP in unit of gram carbon per m2 per day (gC m-2 d-1)\n",
    "\n",
    "The GPP data is in a column named 'GPP_NT_VUT_REF'."
   ]
  },
  {
   "cell_type": "code",
   "execution_count": 26,
   "metadata": {
    "executionInfo": {
     "elapsed": 5,
     "status": "ok",
     "timestamp": 1666822488706,
     "user": {
      "displayName": "Yaqian Tang",
      "userId": "11643113709903451935"
     },
     "user_tz": 420
    },
    "id": "g3o1-OaIt1BY"
   },
   "outputs": [],
   "source": [
    "# attributes of eddy covariance site\n",
    "site_data_attrs = ['SITE_ID','dataset','LOCATION_LAT','LOCATION_LONG','SITE_IGBP','MODIS_PFT','koppen']\n",
    "\n",
    "# target variable: GPP\n",
    "target = 'GPP_NT_VUT_REF'"
   ]
  },
  {
   "cell_type": "markdown",
   "metadata": {
    "id": "wJHCa2t8NrVt"
   },
   "source": [
    "Below is a list of explanatory variables that will be used in the ML models. These data were collected from satellite images, gridded climate datasets, and other geospatial datasets. A description of these variable is provided here: \n",
    "https://docs.google.com/document/d/1uwn2okcE5IB5x4fDELnF2qRizDwLH9H_EfLFHqg_eRo/edit?usp=sharing\n",
    "\n",
    "Feel free to Google if any of these terms don't sound familiar to you.\n"
   ]
  },
  {
   "cell_type": "code",
   "execution_count": 27,
   "metadata": {
    "executionInfo": {
     "elapsed": 13,
     "status": "ok",
     "timestamp": 1666822489322,
     "user": {
      "displayName": "Yaqian Tang",
      "userId": "11643113709903451935"
     },
     "user_tz": 420
    },
    "id": "MNq-G3HyNsOV"
   },
   "outputs": [],
   "source": [
    "# explanatory variables\n",
    "exp_vars = [\n",
    "    'BESS-PAR',  \n",
    "    'BESS-PARdiff', \n",
    "    'BESS-RSDN', \n",
    "    'Tmean', \n",
    "    'prcp', \n",
    "    'vpd', \n",
    "    'prcp-lag3',\n",
    "    'ESACCI-sm', \n",
    "    'ET', \n",
    "    'b1', 'b2', 'b3', 'b4', 'b5', 'b6', 'b7', 'EVI', 'NDVI', 'GCI', 'NDWI', 'NIRv', 'kNDVI', \n",
    "    'CSIF-SIFdaily', \n",
    "    'Fpar', 'Lai', \n",
    "    'LST_Day', 'LST_Night', \n",
    "    'MODIS_PFT', \n",
    "    'koppen', \n",
    "]"
   ]
  },
  {
   "cell_type": "code",
   "execution_count": 28,
   "metadata": {
    "colab": {
     "base_uri": "https://localhost:8080/"
    },
    "executionInfo": {
     "elapsed": 279,
     "status": "ok",
     "timestamp": 1666822489588,
     "user": {
      "displayName": "Yaqian Tang",
      "userId": "11643113709903451935"
     },
     "user_tz": 420
    },
    "id": "akt7ASrStlTA",
    "outputId": "04b9d09f-6eca-48e2-855b-6665a5df138e"
   },
   "outputs": [
    {
     "data": {
      "text/plain": [
       "BESS-PAR           int64\n",
       "BESS-PARdiff       int64\n",
       "BESS-RSDN          int64\n",
       "Tmean            float64\n",
       "prcp             float64\n",
       "vpd              float64\n",
       "prcp-lag3        float64\n",
       "ESACCI-sm        float64\n",
       "ET               float64\n",
       "b1               float64\n",
       "b2               float64\n",
       "b3               float64\n",
       "b4               float64\n",
       "b5               float64\n",
       "b6               float64\n",
       "b7               float64\n",
       "EVI              float64\n",
       "NDVI             float64\n",
       "GCI              float64\n",
       "NDWI             float64\n",
       "NIRv             float64\n",
       "kNDVI            float64\n",
       "CSIF-SIFdaily    float64\n",
       "Fpar             float64\n",
       "Lai              float64\n",
       "LST_Day          float64\n",
       "LST_Night        float64\n",
       "MODIS_PFT         object\n",
       "koppen            object\n",
       "dtype: object"
      ]
     },
     "execution_count": 28,
     "metadata": {},
     "output_type": "execute_result"
    }
   ],
   "source": [
    "df[exp_vars].dtypes"
   ]
  },
  {
   "cell_type": "markdown",
   "metadata": {
    "id": "blw79H3N7TwH"
   },
   "source": [
    "## One Hot Encoding of Categorical Variables\n",
    "* MODIS_PFD\n",
    "* koppen "
   ]
  },
  {
   "cell_type": "code",
   "execution_count": 29,
   "metadata": {
    "colab": {
     "base_uri": "https://localhost:8080/"
    },
    "executionInfo": {
     "elapsed": 3,
     "status": "ok",
     "timestamp": 1666822490186,
     "user": {
      "displayName": "Yaqian Tang",
      "userId": "11643113709903451935"
     },
     "user_tz": 420
    },
    "id": "0fkAPSrv7doD",
    "outputId": "68ae0702-4047-4125-886b-43804f68260e"
   },
   "outputs": [
    {
     "data": {
      "text/plain": [
       "Index(['SITE_ID', 'year', 'month', 'TIMESTAMP', 'dataset', 'SITE_IGBP',\n",
       "       'LOCATION_LAT', 'LOCATION_LONG', 'TA_F', 'VPD_F', 'P_F', 'NETRAD',\n",
       "       'NEE_VUT_REF', 'NEE_VUT_REF_QC', 'NEE_CUT_REF', 'NEE_CUT_REF_QC',\n",
       "       'GPP_NT_VUT_REF', 'GPP_DT_VUT_REF', 'GPP_NT_CUT_REF', 'GPP_DT_CUT_REF',\n",
       "       'RECO_NT_VUT_REF', 'RECO_DT_VUT_REF', 'RECO_NT_CUT_REF',\n",
       "       'RECO_DT_CUT_REF', 'time', 'ET', 'BESS-PAR', 'BESS-PARdiff',\n",
       "       'BESS-RSDN', 'CSIF-SIFdaily', 'CSIF-SIFinst', 'PET', 'Ts', 'Tmean',\n",
       "       'prcp', 'vpd', 'prcp-lag3', 'ESACCI-sm', 'MODIS_LC', 'b1', 'b2', 'b3',\n",
       "       'b4', 'b5', 'b6', 'b7', 'EVI', 'GCI', 'NDVI', 'NDWI', 'NIRv', 'kNDVI',\n",
       "       'Percent_Snow', 'Fpar', 'Lai', 'LST_Day', 'LST_Night', 'MODIS_IGBP',\n",
       "       'koppen_sub', 'CO2_concentration', 'MODIS_PFT_CRO', 'MODIS_PFT_DBF',\n",
       "       'MODIS_PFT_EBF', 'MODIS_PFT_ENF', 'MODIS_PFT_GRA', 'MODIS_PFT_MF',\n",
       "       'MODIS_PFT_Other', 'MODIS_PFT_SA', 'MODIS_PFT_SH', 'koppen_Arid',\n",
       "       'koppen_Cold', 'koppen_Polar', 'koppen_Temperate', 'koppen_Tropical'],\n",
       "      dtype='object')"
      ]
     },
     "execution_count": 29,
     "metadata": {},
     "output_type": "execute_result"
    }
   ],
   "source": [
    "# keep columns needed for stratified KFold\n",
    "#df_ohe = df[[target, 'MODIS_IGBP', 'SITE_ID'] + exp_vars]\n",
    "df_ohe = df\n",
    "\n",
    "categorical_columns = ['MODIS_PFT', 'koppen']\n",
    "for col in categorical_columns:\n",
    "    col_ohe = pd.get_dummies(df[col], prefix=col)\n",
    "    df_ohe = pd.concat((df_ohe, col_ohe), axis=1).drop(col, axis=1)\n",
    "\n",
    "df_ohe.columns"
   ]
  },
  {
   "cell_type": "code",
   "execution_count": 30,
   "metadata": {
    "executionInfo": {
     "elapsed": 1,
     "status": "ok",
     "timestamp": 1666822490448,
     "user": {
      "displayName": "Yaqian Tang",
      "userId": "11643113709903451935"
     },
     "user_tz": 420
    },
    "id": "idD04hOL8Sql"
   },
   "outputs": [],
   "source": [
    "def clean_dataset(df):\n",
    "    assert isinstance(df, pd.DataFrame), \"df needs to be a pd.DataFrame\"\n",
    "    df.dropna(inplace=True)\n",
    "    return df"
   ]
  },
  {
   "cell_type": "code",
   "execution_count": 31,
   "metadata": {
    "executionInfo": {
     "elapsed": 2,
     "status": "ok",
     "timestamp": 1666822490953,
     "user": {
      "displayName": "Yaqian Tang",
      "userId": "11643113709903451935"
     },
     "user_tz": 420
    },
    "id": "8MxnrFRj8UZY"
   },
   "outputs": [],
   "source": [
    "# clean the data.\n",
    "df = clean_dataset(df_ohe)"
   ]
  },
  {
   "cell_type": "code",
   "execution_count": 32,
   "metadata": {
    "colab": {
     "base_uri": "https://localhost:8080/"
    },
    "executionInfo": {
     "elapsed": 12,
     "status": "ok",
     "timestamp": 1666822491383,
     "user": {
      "displayName": "Yaqian Tang",
      "userId": "11643113709903451935"
     },
     "user_tz": 420
    },
    "id": "5IvcjBMz9Etp",
    "outputId": "e9b5d2bc-7048-4df9-b35a-f5d2daa7a878"
   },
   "outputs": [
    {
     "data": {
      "text/plain": [
       " 0.214468    12\n",
       "-0.060224    11\n",
       " 0.255464     5\n",
       "-0.680478     5\n",
       " 0.024174     3\n",
       "             ..\n",
       " 4.672300     1\n",
       " 0.082914     1\n",
       "-0.147212     1\n",
       "-0.188735     1\n",
       " 6.681610     1\n",
       "Name: GPP_NT_VUT_REF, Length: 12846, dtype: int64"
      ]
     },
     "execution_count": 32,
     "metadata": {},
     "output_type": "execute_result"
    }
   ],
   "source": [
    "df[target].value_counts()"
   ]
  },
  {
   "cell_type": "markdown",
   "metadata": {
    "id": "J3HmbtwOQgxH"
   },
   "source": [
    "## Model Evaluation Temporal Decomposition"
   ]
  },
  {
   "cell_type": "code",
   "execution_count": 33,
   "metadata": {
    "executionInfo": {
     "elapsed": 2,
     "status": "ok",
     "timestamp": 1666822493303,
     "user": {
      "displayName": "Yaqian Tang",
      "userId": "11643113709903451935"
     },
     "user_tz": 420
    },
    "id": "KzkYctkzQkwZ"
   },
   "outputs": [],
   "source": [
    "from datetime import date\n",
    "\n",
    "def convert_to_timestamp(year, month):\n",
    "  return pd.Timestamp(year = year, month = month, day = 1)\n",
    "\n",
    "def lr_model(series_inp, return_coef=False):\n",
    "    '''Helper function for linear regression\n",
    "    \n",
    "    Args:\n",
    "        series_inp (pd.Series): Time series on site-level, Date as index\n",
    "        return_coef (bool): Indicator whether function should return the regression coefficients instead of the trend\n",
    "\n",
    "    Returns:\n",
    "        Time series of trend or coefficients if return_coef=True\n",
    "    '''\n",
    "    series = series_inp.droplevel(0)\n",
    "    x = ((series.index - pd.to_datetime(date(1970, 1, 31))) / np.timedelta64(1, 'M')).values.round().reshape(-1, 1)\n",
    "    y = series.values\n",
    "    lr = LinearRegression()\n",
    "    lr.fit(x, y)\n",
    "    \n",
    "    if return_coef == True:\n",
    "            return lr.coef_\n",
    "    return pd.Series(lr.predict(x), index=series_inp.index)\n",
    "\n",
    "def across_site_trend(ts):\n",
    "    '''Calculates slope on site level from linear regression\n",
    "\n",
    "    Args:\n",
    "        ts (DataFrame): time series with sites and dates as index\n",
    "\n",
    "    Returns:\n",
    "        Slope in pd.Series\n",
    "    '''\n",
    "    grp = ts.groupby('SITE_ID').apply(lr_model, return_coef=True)\n",
    "    return pd.Series(np.concatenate(grp.values).ravel(), index=grp.index)\n",
    "\n",
    "def trend(ts):\n",
    "    '''Calculates trend\n",
    "    \n",
    "    Groups by sites and performs a linear regression for each site\n",
    "    Args:\n",
    "        ts (DataFrame): time series with sites and dates as index\n",
    "    Returns:\n",
    "        pd.Series with trend-only values\n",
    "    '''     \n",
    "    grp = ts.groupby(['SITE_ID']).apply(lr_model)\n",
    "    return grp\n",
    "\n",
    "def msc(ts, transform=False, no_mean=False):\n",
    "    '''Mean seasonal cycle (seasonal time series component)\n",
    "\n",
    "    Args:\n",
    "        ts (pd.DataFrame): Time series as DataFrame or Series with SITE_ID and Date as columns or multiindex\n",
    "        transform (bool): Indicator if group should be transformed (if time series length should be retained)\n",
    "        no_mean (bool): Indicator if site-mean mean should be subtracted from data\n",
    "\n",
    "    Returns:\n",
    "        Seasonal time series component, SITE_ID and Date as index\n",
    "    '''\n",
    "    if no_mean:\n",
    "        ts = ts.sub(ts.groupby(['SITE_ID']).transform('mean'))\n",
    "    grp = ts.groupby(['SITE_ID', ts.index.get_level_values('Date').month])\n",
    "    if transform:\n",
    "        return grp.transform('mean')\n",
    "    return grp.mean()\n",
    "\n",
    "def iav(ts, detrend=False):\n",
    "    '''Interannual variability (time series anomalies)\n",
    "    \n",
    "    Args:\n",
    "        ts (pd.DataFrame): Time series as DataFrame or Series with SITE_ID and Date as columns or multiindex\n",
    "        detrend (bool): Indicator if time series should be de-trended\n",
    "\n",
    "    Returns:\n",
    "        Anomalies, SITE_ID and Date as index\n",
    "    '''\n",
    "    ts = ts.sub(msc(ts, transform=True))\n",
    "    if detrend == True:\n",
    "        ts = ts.sub(trend(ts))\n",
    "\n",
    "    return ts"
   ]
  },
  {
   "cell_type": "code",
   "execution_count": 34,
   "metadata": {
    "colab": {
     "base_uri": "https://localhost:8080/"
    },
    "executionInfo": {
     "elapsed": 1394,
     "status": "ok",
     "timestamp": 1666822494695,
     "user": {
      "displayName": "Yaqian Tang",
      "userId": "11643113709903451935"
     },
     "user_tz": 420
    },
    "id": "LyLBshWdaR1y",
    "outputId": "5cb0c4c9-5449-4fb3-e3d6-db6b9787ccf6"
   },
   "outputs": [
    {
     "name": "stderr",
     "output_type": "stream",
     "text": [
      "/usr/local/lib/python3.7/dist-packages/ipykernel_launcher.py:11: SettingWithCopyWarning: \n",
      "A value is trying to be set on a copy of a slice from a DataFrame.\n",
      "Try using .loc[row_indexer,col_indexer] = value instead\n",
      "\n",
      "See the caveats in the documentation: https://pandas.pydata.org/pandas-docs/stable/user_guide/indexing.html#returning-a-view-versus-a-copy\n",
      "  # This is added back by InteractiveShellApp.init_path()\n"
     ]
    },
    {
     "data": {
      "text/plain": [
       "SITE_ID  Date      \n",
       "AR-SLu   2010-01-01    6.093412\n",
       "         2010-02-01    6.211787\n",
       "         2010-03-01    6.330162\n",
       "         2010-04-01    6.448537\n",
       "         2010-05-01    6.566912\n",
       "                         ...   \n",
       "NL-Loo   2018-03-01    5.135509\n",
       "         2018-05-01    5.140345\n",
       "         2018-06-01    5.142762\n",
       "         2018-07-01    5.145180\n",
       "         2018-08-01    5.147598\n",
       "Name: GPP_NT_VUT_REF, Length: 12936, dtype: float64"
      ]
     },
     "execution_count": 34,
     "metadata": {},
     "output_type": "execute_result"
    }
   ],
   "source": [
    "# fitting a linear regression line and get trends and slopes of each site\n",
    "\n",
    "ts = df[['SITE_ID', 'year', 'month', target, 'BESS-PAR', 'BESS-PARdiff',\n",
    "       'BESS-RSDN', 'Tmean', 'prcp', 'vpd', 'prcp-lag3', 'ESACCI-sm', 'ET',\n",
    "       'b1', 'b2', 'b3', 'b4', 'b5', 'b6', 'b7', 'EVI', 'NDVI', 'GCI', 'NDWI',\n",
    "       'NIRv', 'kNDVI', 'CSIF-SIFdaily', 'Fpar', 'Lai', 'LST_Day', 'LST_Night',\n",
    "       'MODIS_PFT_CRO', 'MODIS_PFT_DBF', 'MODIS_PFT_EBF', 'MODIS_PFT_ENF',\n",
    "       'MODIS_PFT_GRA', 'MODIS_PFT_MF', 'MODIS_PFT_Other', 'MODIS_PFT_SA',\n",
    "       'MODIS_PFT_SH', 'koppen_Arid', 'koppen_Cold', 'koppen_Polar',\n",
    "       'koppen_Temperate', 'koppen_Tropical']]\n",
    "ts['Date'] = ts.apply(lambda x: convert_to_timestamp(x['year'], x['month']),axis=1)\n",
    "ts = ts.set_index(['SITE_ID', 'Date'])\n",
    "\n",
    "trends = trend(ts[target])\n",
    "slopes = across_site_trend(ts[target])\n",
    "trends"
   ]
  },
  {
   "cell_type": "code",
   "execution_count": 35,
   "metadata": {
    "executionInfo": {
     "elapsed": 7,
     "status": "ok",
     "timestamp": 1666822494695,
     "user": {
      "displayName": "Yaqian Tang",
      "userId": "11643113709903451935"
     },
     "user_tz": 420
    },
    "id": "rEo9kalIiS2x"
   },
   "outputs": [],
   "source": [
    "# See how many site there are\n",
    "#ts.groupby(['SITE_ID']).sum()"
   ]
  },
  {
   "cell_type": "code",
   "execution_count": 36,
   "metadata": {
    "colab": {
     "base_uri": "https://localhost:8080/",
     "height": 286
    },
    "executionInfo": {
     "elapsed": 253,
     "status": "ok",
     "timestamp": 1666822494942,
     "user": {
      "displayName": "Yaqian Tang",
      "userId": "11643113709903451935"
     },
     "user_tz": 420
    },
    "id": "fuIHmGylpIQi",
    "outputId": "dac5aab2-abf4-4e82-81cd-fc407f3dae67"
   },
   "outputs": [
    {
     "data": {
      "text/plain": [
       "[<matplotlib.lines.Line2D at 0x7f600a7ed590>]"
      ]
     },
     "execution_count": 36,
     "metadata": {},
     "output_type": "execute_result"
    },
    {
     "data": {
      "image/png": "[encoded data removed]",
      "text/plain": [
       "<Figure size 432x288 with 1 Axes>"
      ]
     },
     "metadata": {},
     "output_type": "display_data"
    }
   ],
   "source": [
    "# Plotting Trend Line for one of the sites\n",
    "plt.plot(trends[trends.index.isin(['AR-SLu'], level=0)].values)"
   ]
  },
  {
   "cell_type": "code",
   "execution_count": 37,
   "metadata": {
    "executionInfo": {
     "elapsed": 9,
     "status": "ok",
     "timestamp": 1666822494942,
     "user": {
      "displayName": "Yaqian Tang",
      "userId": "11643113709903451935"
     },
     "user_tz": 420
    },
    "id": "r7QCcAd7pqF4"
   },
   "outputs": [],
   "source": [
    "# Subtract trend from the GPP data\n",
    "\n",
    "# detrends = []\n",
    "# for site in list(df['SITE_ID'].unique()):\n",
    "#   y = ts[ts.index.isin([site], level=0)][target]\n",
    "#   trend = trends[trends.index.isin([site], level=0)].values\n",
    "#   detr = [y[i] - trend[i] for i in range(0, len(y))]\n",
    "#   for d in detr:\n",
    "#     detrends.append(d)  \n",
    "\n",
    "# ts['detrended_GPP'] = detrends\n",
    "\n",
    "detrends = ts[target].sub(trends)\n",
    "ts['detrended_GPP'] = detrends"
   ]
  },
  {
   "cell_type": "code",
   "execution_count": 38,
   "metadata": {
    "colab": {
     "base_uri": "https://localhost:8080/"
    },
    "executionInfo": {
     "elapsed": 9,
     "status": "ok",
     "timestamp": 1666822494942,
     "user": {
      "displayName": "Yaqian Tang",
      "userId": "11643113709903451935"
     },
     "user_tz": 420
    },
    "id": "DGMl60-uHvhl",
    "outputId": "bf7e3793-22b2-40fa-e22a-7111bd5f4326"
   },
   "outputs": [
    {
     "data": {
      "text/plain": [
       "SITE_ID  Date      \n",
       "AR-SLu   2010-01-01    4.116088\n",
       "         2010-02-01    1.951283\n",
       "         2010-03-01    0.732058\n",
       "         2010-04-01   -0.720727\n",
       "         2010-05-01   -3.089282\n",
       "                         ...   \n",
       "NL-Loo   2018-03-01   -2.294709\n",
       "         2018-05-01    2.412035\n",
       "         2018-06-01    3.719618\n",
       "         2018-07-01    3.064800\n",
       "         2018-08-01    1.534012\n",
       "Name: detrended_GPP, Length: 12936, dtype: float64"
      ]
     },
     "execution_count": 38,
     "metadata": {},
     "output_type": "execute_result"
    }
   ],
   "source": [
    "ts['detrended_GPP']"
   ]
  },
  {
   "cell_type": "code",
   "execution_count": 39,
   "metadata": {
    "colab": {
     "base_uri": "https://localhost:8080/",
     "height": 455
    },
    "executionInfo": {
     "elapsed": 7,
     "status": "ok",
     "timestamp": 1666822494942,
     "user": {
      "displayName": "Yaqian Tang",
      "userId": "11643113709903451935"
     },
     "user_tz": 420
    },
    "id": "O1Q1lblXds9V",
    "outputId": "66b5126e-0604-429a-bca7-80fe14f51b4e"
   },
   "outputs": [
    {
     "data": {
      "text/html": [
       "\n",
       "  <div id=\"df-a9d37bc1-330c-4a75-9641-d61fcba236da\">\n",
       "    <div class=\"colab-df-container\">\n",
       "      <div>\n",
       "<style scoped>\n",
       "    .dataframe tbody tr th:only-of-type {\n",
       "        vertical-align: middle;\n",
       "    }\n",
       "\n",
       "    .dataframe tbody tr th {\n",
       "        vertical-align: top;\n",
       "    }\n",
       "\n",
       "    .dataframe thead th {\n",
       "        text-align: right;\n",
       "    }\n",
       "</style>\n",
       "<table border=\"1\" class=\"dataframe\">\n",
       "  <thead>\n",
       "    <tr style=\"text-align: right;\">\n",
       "      <th></th>\n",
       "      <th></th>\n",
       "      <th>month</th>\n",
       "      <th>detrended_GPP</th>\n",
       "    </tr>\n",
       "    <tr>\n",
       "      <th>SITE_ID</th>\n",
       "      <th>Date</th>\n",
       "      <th></th>\n",
       "      <th></th>\n",
       "    </tr>\n",
       "  </thead>\n",
       "  <tbody>\n",
       "    <tr>\n",
       "      <th rowspan=\"5\" valign=\"top\">AR-SLu</th>\n",
       "      <th>1</th>\n",
       "      <td>1.0</td>\n",
       "      <td>4.116088</td>\n",
       "    </tr>\n",
       "    <tr>\n",
       "      <th>2</th>\n",
       "      <td>2.0</td>\n",
       "      <td>1.951283</td>\n",
       "    </tr>\n",
       "    <tr>\n",
       "      <th>3</th>\n",
       "      <td>3.0</td>\n",
       "      <td>0.732058</td>\n",
       "    </tr>\n",
       "    <tr>\n",
       "      <th>4</th>\n",
       "      <td>4.0</td>\n",
       "      <td>-0.720727</td>\n",
       "    </tr>\n",
       "    <tr>\n",
       "      <th>5</th>\n",
       "      <td>5.0</td>\n",
       "      <td>-3.089282</td>\n",
       "    </tr>\n",
       "    <tr>\n",
       "      <th>...</th>\n",
       "      <th>...</th>\n",
       "      <td>...</td>\n",
       "      <td>...</td>\n",
       "    </tr>\n",
       "    <tr>\n",
       "      <th rowspan=\"5\" valign=\"top\">ZM-Mon</th>\n",
       "      <th>8</th>\n",
       "      <td>8.0</td>\n",
       "      <td>-3.690698</td>\n",
       "    </tr>\n",
       "    <tr>\n",
       "      <th>9</th>\n",
       "      <td>9.0</td>\n",
       "      <td>-4.453427</td>\n",
       "    </tr>\n",
       "    <tr>\n",
       "      <th>10</th>\n",
       "      <td>10.0</td>\n",
       "      <td>-2.509240</td>\n",
       "    </tr>\n",
       "    <tr>\n",
       "      <th>11</th>\n",
       "      <td>11.0</td>\n",
       "      <td>0.958028</td>\n",
       "    </tr>\n",
       "    <tr>\n",
       "      <th>12</th>\n",
       "      <td>12.0</td>\n",
       "      <td>2.444186</td>\n",
       "    </tr>\n",
       "  </tbody>\n",
       "</table>\n",
       "<p>2213 rows × 2 columns</p>\n",
       "</div>\n",
       "      <button class=\"colab-df-convert\" onclick=\"convertToInteractive('df-a9d37bc1-330c-4a75-9641-d61fcba236da')\"\n",
       "              title=\"Convert this dataframe to an interactive table.\"\n",
       "              style=\"display:none;\">\n",
       "        \n",
       "  <svg xmlns=\"http://www.w3.org/2000/svg\" height=\"24px\"viewBox=\"0 0 24 24\"\n",
       "       width=\"24px\">\n",
       "    <path d=\"M0 0h24v24H0V0z\" fill=\"none\"/>\n",
       "    <path d=\"M18.56 5.44l.94 2.06.94-2.06 2.06-.94-2.06-.94-.94-2.06-.94 2.06-2.06.94zm-11 1L8.5 8.5l.94-2.06 2.06-.94-2.06-.94L8.5 2.5l-.94 2.06-2.06.94zm10 10l.94 2.06.94-2.06 2.06-.94-2.06-.94-.94-2.06-.94 2.06-2.06.94z\"/><path d=\"M17.41 7.96l-1.37-1.37c-.4-.4-.92-.59-1.43-.59-.52 0-1.04.2-1.43.59L10.3 9.45l-7.72 7.72c-.78.78-.78 2.05 0 2.83L4 21.41c.39.39.9.59 1.41.59.51 0 1.02-.2 1.41-.59l7.78-7.78 2.81-2.81c.8-.78.8-2.07 0-2.86zM5.41 20L4 18.59l7.72-7.72 1.47 1.35L5.41 20z\"/>\n",
       "  </svg>\n",
       "      </button>\n",
       "      \n",
       "  <style>\n",
       "    .colab-df-container {\n",
       "      display:flex;\n",
       "      flex-wrap:wrap;\n",
       "      gap: 12px;\n",
       "    }\n",
       "\n",
       "    .colab-df-convert {\n",
       "      background-color: #E8F0FE;\n",
       "      border: none;\n",
       "      border-radius: 50%;\n",
       "      cursor: pointer;\n",
       "      display: none;\n",
       "      fill: #1967D2;\n",
       "      height: 32px;\n",
       "      padding: 0 0 0 0;\n",
       "      width: 32px;\n",
       "    }\n",
       "\n",
       "    .colab-df-convert:hover {\n",
       "      background-color: #E2EBFA;\n",
       "      box-shadow: 0px 1px 2px rgba(60, 64, 67, 0.3), 0px 1px 3px 1px rgba(60, 64, 67, 0.15);\n",
       "      fill: #174EA6;\n",
       "    }\n",
       "\n",
       "    [theme=dark] .colab-df-convert {\n",
       "      background-color: #3B4455;\n",
       "      fill: #D2E3FC;\n",
       "    }\n",
       "\n",
       "    [theme=dark] .colab-df-convert:hover {\n",
       "      background-color: #434B5C;\n",
       "      box-shadow: 0px 1px 3px 1px rgba(0, 0, 0, 0.15);\n",
       "      filter: drop-shadow(0px 1px 2px rgba(0, 0, 0, 0.3));\n",
       "      fill: #FFFFFF;\n",
       "    }\n",
       "  </style>\n",
       "\n",
       "      <script>\n",
       "        const buttonEl =\n",
       "          document.querySelector('#df-a9d37bc1-330c-4a75-9641-d61fcba236da button.colab-df-convert');\n",
       "        buttonEl.style.display =\n",
       "          google.colab.kernel.accessAllowed ? 'block' : 'none';\n",
       "\n",
       "        async function convertToInteractive(key) {\n",
       "          const element = document.querySelector('#df-a9d37bc1-330c-4a75-9641-d61fcba236da');\n",
       "          const dataTable =\n",
       "            await google.colab.kernel.invokeFunction('convertToInteractive',\n",
       "                                                     [key], {});\n",
       "          if (!dataTable) return;\n",
       "\n",
       "          const docLinkHtml = 'Like what you see? Visit the ' +\n",
       "            '<a target=\"_blank\" href=https://colab.research.google.com/notebooks/data_table.ipynb>data table notebook</a>'\n",
       "            + ' to learn more about interactive tables.';\n",
       "          element.innerHTML = '';\n",
       "          dataTable['output_type'] = 'display_data';\n",
       "          await google.colab.output.renderOutput(dataTable, element);\n",
       "          const docLink = document.createElement('div');\n",
       "          docLink.innerHTML = docLinkHtml;\n",
       "          element.appendChild(docLink);\n",
       "        }\n",
       "      </script>\n",
       "    </div>\n",
       "  </div>\n",
       "  "
      ],
      "text/plain": [
       "              month  detrended_GPP\n",
       "SITE_ID Date                      \n",
       "AR-SLu  1       1.0       4.116088\n",
       "        2       2.0       1.951283\n",
       "        3       3.0       0.732058\n",
       "        4       4.0      -0.720727\n",
       "        5       5.0      -3.089282\n",
       "...             ...            ...\n",
       "ZM-Mon  8       8.0      -3.690698\n",
       "        9       9.0      -4.453427\n",
       "        10     10.0      -2.509240\n",
       "        11     11.0       0.958028\n",
       "        12     12.0       2.444186\n",
       "\n",
       "[2213 rows x 2 columns]"
      ]
     },
     "execution_count": 39,
     "metadata": {},
     "output_type": "execute_result"
    }
   ],
   "source": [
    "# GPP Seasonal: average detrended GPP for each month over all years \n",
    "\n",
    "seasonal_gpp = msc(ts[['month', 'detrended_GPP']])\n",
    "seasonal_gpp"
   ]
  },
  {
   "cell_type": "code",
   "execution_count": 40,
   "metadata": {
    "colab": {
     "base_uri": "https://localhost:8080/",
     "height": 303
    },
    "executionInfo": {
     "elapsed": 591,
     "status": "ok",
     "timestamp": 1666822495526,
     "user": {
      "displayName": "Yaqian Tang",
      "userId": "11643113709903451935"
     },
     "user_tz": 420
    },
    "id": "D50d4cUUid_6",
    "outputId": "2fab4df2-f467-4f4e-b35f-f2845f46e95a"
   },
   "outputs": [
    {
     "data": {
      "text/plain": [
       "<matplotlib.axes._subplots.AxesSubplot at 0x7f5ffd831310>"
      ]
     },
     "execution_count": 40,
     "metadata": {},
     "output_type": "execute_result"
    },
    {
     "data": {
      "image/png": "[encoded data removed]",
      "text/plain": [
       "<Figure size 432x288 with 1 Axes>"
      ]
     },
     "metadata": {},
     "output_type": "display_data"
    }
   ],
   "source": [
    "# Plotting Mean Seasonal Cycle for one of the sites\n",
    "\n",
    "example = seasonal_gpp[seasonal_gpp.index.isin(['NL-Loo'], level=0)]\n",
    "sns.lineplot(x='month', \n",
    "             y='detrended_GPP',\n",
    "             data=example)"
   ]
  },
  {
   "cell_type": "code",
   "execution_count": 41,
   "metadata": {
    "colab": {
     "base_uri": "https://localhost:8080/",
     "height": 455
    },
    "executionInfo": {
     "elapsed": 5,
     "status": "ok",
     "timestamp": 1666822495526,
     "user": {
      "displayName": "Yaqian Tang",
      "userId": "11643113709903451935"
     },
     "user_tz": 420
    },
    "id": "mYoyXkvOBkLQ",
    "outputId": "4bdbe99e-a2b3-4fb6-a8e3-237719b291ed"
   },
   "outputs": [
    {
     "data": {
      "text/html": [
       "\n",
       "  <div id=\"df-ac0db952-2450-4394-a2c4-54f0f2197b00\">\n",
       "    <div class=\"colab-df-container\">\n",
       "      <div>\n",
       "<style scoped>\n",
       "    .dataframe tbody tr th:only-of-type {\n",
       "        vertical-align: middle;\n",
       "    }\n",
       "\n",
       "    .dataframe tbody tr th {\n",
       "        vertical-align: top;\n",
       "    }\n",
       "\n",
       "    .dataframe thead th {\n",
       "        text-align: right;\n",
       "    }\n",
       "</style>\n",
       "<table border=\"1\" class=\"dataframe\">\n",
       "  <thead>\n",
       "    <tr style=\"text-align: right;\">\n",
       "      <th></th>\n",
       "      <th></th>\n",
       "      <th>detrended_GPP</th>\n",
       "    </tr>\n",
       "    <tr>\n",
       "      <th>SITE_ID</th>\n",
       "      <th>Date</th>\n",
       "      <th></th>\n",
       "    </tr>\n",
       "  </thead>\n",
       "  <tbody>\n",
       "    <tr>\n",
       "      <th rowspan=\"5\" valign=\"top\">AR-SLu</th>\n",
       "      <th>2010-01-01</th>\n",
       "      <td>0.000000</td>\n",
       "    </tr>\n",
       "    <tr>\n",
       "      <th>2010-02-01</th>\n",
       "      <td>0.000000</td>\n",
       "    </tr>\n",
       "    <tr>\n",
       "      <th>2010-03-01</th>\n",
       "      <td>0.000000</td>\n",
       "    </tr>\n",
       "    <tr>\n",
       "      <th>2010-04-01</th>\n",
       "      <td>0.000000</td>\n",
       "    </tr>\n",
       "    <tr>\n",
       "      <th>2010-05-01</th>\n",
       "      <td>0.000000</td>\n",
       "    </tr>\n",
       "    <tr>\n",
       "      <th>...</th>\n",
       "      <th>...</th>\n",
       "      <td>...</td>\n",
       "    </tr>\n",
       "    <tr>\n",
       "      <th rowspan=\"5\" valign=\"top\">NL-Loo</th>\n",
       "      <th>2018-03-01</th>\n",
       "      <td>-0.284068</td>\n",
       "    </tr>\n",
       "    <tr>\n",
       "      <th>2018-05-01</th>\n",
       "      <td>0.550394</td>\n",
       "    </tr>\n",
       "    <tr>\n",
       "      <th>2018-06-01</th>\n",
       "      <td>0.286851</td>\n",
       "    </tr>\n",
       "    <tr>\n",
       "      <th>2018-07-01</th>\n",
       "      <td>-0.891191</td>\n",
       "    </tr>\n",
       "    <tr>\n",
       "      <th>2018-08-01</th>\n",
       "      <td>-1.587520</td>\n",
       "    </tr>\n",
       "  </tbody>\n",
       "</table>\n",
       "<p>12936 rows × 1 columns</p>\n",
       "</div>\n",
       "      <button class=\"colab-df-convert\" onclick=\"convertToInteractive('df-ac0db952-2450-4394-a2c4-54f0f2197b00')\"\n",
       "              title=\"Convert this dataframe to an interactive table.\"\n",
       "              style=\"display:none;\">\n",
       "        \n",
       "  <svg xmlns=\"http://www.w3.org/2000/svg\" height=\"24px\"viewBox=\"0 0 24 24\"\n",
       "       width=\"24px\">\n",
       "    <path d=\"M0 0h24v24H0V0z\" fill=\"none\"/>\n",
       "    <path d=\"M18.56 5.44l.94 2.06.94-2.06 2.06-.94-2.06-.94-.94-2.06-.94 2.06-2.06.94zm-11 1L8.5 8.5l.94-2.06 2.06-.94-2.06-.94L8.5 2.5l-.94 2.06-2.06.94zm10 10l.94 2.06.94-2.06 2.06-.94-2.06-.94-.94-2.06-.94 2.06-2.06.94z\"/><path d=\"M17.41 7.96l-1.37-1.37c-.4-.4-.92-.59-1.43-.59-.52 0-1.04.2-1.43.59L10.3 9.45l-7.72 7.72c-.78.78-.78 2.05 0 2.83L4 21.41c.39.39.9.59 1.41.59.51 0 1.02-.2 1.41-.59l7.78-7.78 2.81-2.81c.8-.78.8-2.07 0-2.86zM5.41 20L4 18.59l7.72-7.72 1.47 1.35L5.41 20z\"/>\n",
       "  </svg>\n",
       "      </button>\n",
       "      \n",
       "  <style>\n",
       "    .colab-df-container {\n",
       "      display:flex;\n",
       "      flex-wrap:wrap;\n",
       "      gap: 12px;\n",
       "    }\n",
       "\n",
       "    .colab-df-convert {\n",
       "      background-color: #E8F0FE;\n",
       "      border: none;\n",
       "      border-radius: 50%;\n",
       "      cursor: pointer;\n",
       "      display: none;\n",
       "      fill: #1967D2;\n",
       "      height: 32px;\n",
       "      padding: 0 0 0 0;\n",
       "      width: 32px;\n",
       "    }\n",
       "\n",
       "    .colab-df-convert:hover {\n",
       "      background-color: #E2EBFA;\n",
       "      box-shadow: 0px 1px 2px rgba(60, 64, 67, 0.3), 0px 1px 3px 1px rgba(60, 64, 67, 0.15);\n",
       "      fill: #174EA6;\n",
       "    }\n",
       "\n",
       "    [theme=dark] .colab-df-convert {\n",
       "      background-color: #3B4455;\n",
       "      fill: #D2E3FC;\n",
       "    }\n",
       "\n",
       "    [theme=dark] .colab-df-convert:hover {\n",
       "      background-color: #434B5C;\n",
       "      box-shadow: 0px 1px 3px 1px rgba(0, 0, 0, 0.15);\n",
       "      filter: drop-shadow(0px 1px 2px rgba(0, 0, 0, 0.3));\n",
       "      fill: #FFFFFF;\n",
       "    }\n",
       "  </style>\n",
       "\n",
       "      <script>\n",
       "        const buttonEl =\n",
       "          document.querySelector('#df-ac0db952-2450-4394-a2c4-54f0f2197b00 button.colab-df-convert');\n",
       "        buttonEl.style.display =\n",
       "          google.colab.kernel.accessAllowed ? 'block' : 'none';\n",
       "\n",
       "        async function convertToInteractive(key) {\n",
       "          const element = document.querySelector('#df-ac0db952-2450-4394-a2c4-54f0f2197b00');\n",
       "          const dataTable =\n",
       "            await google.colab.kernel.invokeFunction('convertToInteractive',\n",
       "                                                     [key], {});\n",
       "          if (!dataTable) return;\n",
       "\n",
       "          const docLinkHtml = 'Like what you see? Visit the ' +\n",
       "            '<a target=\"_blank\" href=https://colab.research.google.com/notebooks/data_table.ipynb>data table notebook</a>'\n",
       "            + ' to learn more about interactive tables.';\n",
       "          element.innerHTML = '';\n",
       "          dataTable['output_type'] = 'display_data';\n",
       "          await google.colab.output.renderOutput(dataTable, element);\n",
       "          const docLink = document.createElement('div');\n",
       "          docLink.innerHTML = docLinkHtml;\n",
       "          element.appendChild(docLink);\n",
       "        }\n",
       "      </script>\n",
       "    </div>\n",
       "  </div>\n",
       "  "
      ],
      "text/plain": [
       "                    detrended_GPP\n",
       "SITE_ID Date                     \n",
       "AR-SLu  2010-01-01       0.000000\n",
       "        2010-02-01       0.000000\n",
       "        2010-03-01       0.000000\n",
       "        2010-04-01       0.000000\n",
       "        2010-05-01       0.000000\n",
       "...                           ...\n",
       "NL-Loo  2018-03-01      -0.284068\n",
       "        2018-05-01       0.550394\n",
       "        2018-06-01       0.286851\n",
       "        2018-07-01      -0.891191\n",
       "        2018-08-01      -1.587520\n",
       "\n",
       "[12936 rows x 1 columns]"
      ]
     },
     "execution_count": 41,
     "metadata": {},
     "output_type": "execute_result"
    }
   ],
   "source": [
    "# Calculate GPP Anomaly: Subtract MSC from Detrended GPP\n",
    "\n",
    "anomalies = iav(ts[['detrended_GPP']])\n",
    "anomalies"
   ]
  },
  {
   "cell_type": "markdown",
   "metadata": {
    "id": "PvYlxqQYtKFF"
   },
   "source": [
    "# Model Evaluations"
   ]
  },
  {
   "cell_type": "markdown",
   "metadata": {
    "id": "FjemBVAHtOBH"
   },
   "source": [
    "## Training and Testing Data"
   ]
  },
  {
   "cell_type": "code",
   "execution_count": 42,
   "metadata": {
    "colab": {
     "base_uri": "https://localhost:8080/",
     "height": 107
    },
    "executionInfo": {
     "elapsed": 5,
     "status": "ok",
     "timestamp": 1666822495764,
     "user": {
      "displayName": "Yaqian Tang",
      "userId": "11643113709903451935"
     },
     "user_tz": 420
    },
    "id": "8sr0XEDptkmI",
    "outputId": "80185994-7df1-46e4-8676-f7c78b18bfab"
   },
   "outputs": [
    {
     "data": {
      "application/vnd.google.colaboratory.intrinsic+json": {
       "type": "string"
      },
      "text/plain": [
       "\"\\nX = df[['SITE_ID', 'year', 'month', 'BESS-PAR', 'BESS-PARdiff',\\n       'BESS-RSDN', 'Tmean', 'prcp', 'vpd', 'prcp-lag3', 'ESACCI-sm', 'ET',\\n       'b1', 'b2', 'b3', 'b4', 'b5', 'b6', 'b7', 'EVI', 'NDVI', 'GCI', 'NDWI',\\n       'NIRv', 'kNDVI', 'CSIF-SIFdaily', 'Fpar', 'Lai', 'LST_Day', 'LST_Night',\\n       'MODIS_PFT_CRO', 'MODIS_PFT_DBF', 'MODIS_PFT_EBF', 'MODIS_PFT_ENF',\\n       'MODIS_PFT_GRA', 'MODIS_PFT_MF', 'MODIS_PFT_Other', 'MODIS_PFT_SA',\\n       'MODIS_PFT_SH', 'koppen_Arid', 'koppen_Cold', 'koppen_Polar',\\n       'koppen_Temperate', 'koppen_Tropical']]\\n\\ny = df[target]\\n\\nX_train, X_test, y_train, y_test = train_test_split(X, y, test_size=0.3)\\n\""
      ]
     },
     "execution_count": 42,
     "metadata": {},
     "output_type": "execute_result"
    }
   ],
   "source": [
    "'''\n",
    "X = df[['SITE_ID', 'year', 'month', 'BESS-PAR', 'BESS-PARdiff',\n",
    "       'BESS-RSDN', 'Tmean', 'prcp', 'vpd', 'prcp-lag3', 'ESACCI-sm', 'ET',\n",
    "       'b1', 'b2', 'b3', 'b4', 'b5', 'b6', 'b7', 'EVI', 'NDVI', 'GCI', 'NDWI',\n",
    "       'NIRv', 'kNDVI', 'CSIF-SIFdaily', 'Fpar', 'Lai', 'LST_Day', 'LST_Night',\n",
    "       'MODIS_PFT_CRO', 'MODIS_PFT_DBF', 'MODIS_PFT_EBF', 'MODIS_PFT_ENF',\n",
    "       'MODIS_PFT_GRA', 'MODIS_PFT_MF', 'MODIS_PFT_Other', 'MODIS_PFT_SA',\n",
    "       'MODIS_PFT_SH', 'koppen_Arid', 'koppen_Cold', 'koppen_Polar',\n",
    "       'koppen_Temperate', 'koppen_Tropical']]\n",
    "\n",
    "y = df[target]\n",
    "\n",
    "X_train, X_test, y_train, y_test = train_test_split(X, y, test_size=0.3)\n",
    "'''"
   ]
  },
  {
   "cell_type": "code",
   "execution_count": 43,
   "metadata": {
    "executionInfo": {
     "elapsed": 2,
     "status": "ok",
     "timestamp": 1666822496455,
     "user": {
      "displayName": "Yaqian Tang",
      "userId": "11643113709903451935"
     },
     "user_tz": 420
    },
    "id": "jdfPIeLneLUG"
   },
   "outputs": [],
   "source": [
    "# test train split grouped by SiteID, year, month\n",
    "from sklearn.model_selection import GroupShuffleSplit \n",
    "\n",
    "splitter = GroupShuffleSplit(test_size=0.3, n_splits=2)\n",
    "split = splitter.split(df, groups=df['SITE_ID'])\n",
    "train_inds, test_inds = next(split)\n",
    "\n",
    "train_df = df.iloc[train_inds]\n",
    "test_df = df.iloc[test_inds]"
   ]
  },
  {
   "cell_type": "code",
   "execution_count": 44,
   "metadata": {
    "executionInfo": {
     "elapsed": 2,
     "status": "ok",
     "timestamp": 1666822496456,
     "user": {
      "displayName": "Yaqian Tang",
      "userId": "11643113709903451935"
     },
     "user_tz": 420
    },
    "id": "fikf0xiAhG3c"
   },
   "outputs": [],
   "source": [
    "train_df = train_df[[target, 'SITE_ID', 'year', 'month', 'BESS-PAR', 'BESS-PARdiff',\n",
    "       'BESS-RSDN', 'Tmean', 'prcp', 'vpd', 'prcp-lag3', 'ESACCI-sm', 'ET',\n",
    "       'b1', 'b2', 'b3', 'b4', 'b5', 'b6', 'b7', 'EVI', 'NDVI', 'GCI', 'NDWI',\n",
    "       'NIRv', 'kNDVI', 'CSIF-SIFdaily', 'Fpar', 'Lai', 'LST_Day', 'LST_Night',\n",
    "       'MODIS_PFT_CRO', 'MODIS_PFT_DBF', 'MODIS_PFT_EBF', 'MODIS_PFT_ENF',\n",
    "       'MODIS_PFT_GRA', 'MODIS_PFT_MF', 'MODIS_PFT_Other', 'MODIS_PFT_SA',\n",
    "       'MODIS_PFT_SH', 'koppen_Arid', 'koppen_Cold', 'koppen_Polar',\n",
    "       'koppen_Temperate', 'koppen_Tropical']]\n",
    "\n",
    "test_df = test_df[[target, 'SITE_ID', 'year', 'month', 'BESS-PAR', 'BESS-PARdiff',\n",
    "       'BESS-RSDN', 'Tmean', 'prcp', 'vpd', 'prcp-lag3', 'ESACCI-sm', 'ET',\n",
    "       'b1', 'b2', 'b3', 'b4', 'b5', 'b6', 'b7', 'EVI', 'NDVI', 'GCI', 'NDWI',\n",
    "       'NIRv', 'kNDVI', 'CSIF-SIFdaily', 'Fpar', 'Lai', 'LST_Day', 'LST_Night',\n",
    "       'MODIS_PFT_CRO', 'MODIS_PFT_DBF', 'MODIS_PFT_EBF', 'MODIS_PFT_ENF',\n",
    "       'MODIS_PFT_GRA', 'MODIS_PFT_MF', 'MODIS_PFT_Other', 'MODIS_PFT_SA',\n",
    "       'MODIS_PFT_SH', 'koppen_Arid', 'koppen_Cold', 'koppen_Polar',\n",
    "       'koppen_Temperate', 'koppen_Tropical']]"
   ]
  },
  {
   "cell_type": "code",
   "execution_count": 45,
   "metadata": {
    "colab": {
     "base_uri": "https://localhost:8080/",
     "height": 317
    },
    "executionInfo": {
     "elapsed": 8,
     "status": "ok",
     "timestamp": 1666822497164,
     "user": {
      "displayName": "Yaqian Tang",
      "userId": "11643113709903451935"
     },
     "user_tz": 420
    },
    "id": "3SYBf6MafH8Q",
    "outputId": "b82ad804-adbd-4006-feb7-d8a60d00f0da"
   },
   "outputs": [
    {
     "data": {
      "text/html": [
       "\n",
       "  <div id=\"df-089561ad-94bd-4d11-aef0-0c6b33353dec\">\n",
       "    <div class=\"colab-df-container\">\n",
       "      <div>\n",
       "<style scoped>\n",
       "    .dataframe tbody tr th:only-of-type {\n",
       "        vertical-align: middle;\n",
       "    }\n",
       "\n",
       "    .dataframe tbody tr th {\n",
       "        vertical-align: top;\n",
       "    }\n",
       "\n",
       "    .dataframe thead th {\n",
       "        text-align: right;\n",
       "    }\n",
       "</style>\n",
       "<table border=\"1\" class=\"dataframe\">\n",
       "  <thead>\n",
       "    <tr style=\"text-align: right;\">\n",
       "      <th></th>\n",
       "      <th>GPP_NT_VUT_REF</th>\n",
       "      <th>SITE_ID</th>\n",
       "      <th>year</th>\n",
       "      <th>month</th>\n",
       "      <th>BESS-PAR</th>\n",
       "      <th>BESS-PARdiff</th>\n",
       "      <th>BESS-RSDN</th>\n",
       "      <th>Tmean</th>\n",
       "      <th>prcp</th>\n",
       "      <th>vpd</th>\n",
       "      <th>...</th>\n",
       "      <th>MODIS_PFT_GRA</th>\n",
       "      <th>MODIS_PFT_MF</th>\n",
       "      <th>MODIS_PFT_Other</th>\n",
       "      <th>MODIS_PFT_SA</th>\n",
       "      <th>MODIS_PFT_SH</th>\n",
       "      <th>koppen_Arid</th>\n",
       "      <th>koppen_Cold</th>\n",
       "      <th>koppen_Polar</th>\n",
       "      <th>koppen_Temperate</th>\n",
       "      <th>koppen_Tropical</th>\n",
       "    </tr>\n",
       "  </thead>\n",
       "  <tbody>\n",
       "    <tr>\n",
       "      <th>0</th>\n",
       "      <td>10.20950</td>\n",
       "      <td>AR-SLu</td>\n",
       "      <td>2010</td>\n",
       "      <td>1</td>\n",
       "      <td>154</td>\n",
       "      <td>40</td>\n",
       "      <td>336</td>\n",
       "      <td>300.10977</td>\n",
       "      <td>0.002115</td>\n",
       "      <td>2.066180</td>\n",
       "      <td>...</td>\n",
       "      <td>0</td>\n",
       "      <td>0</td>\n",
       "      <td>0</td>\n",
       "      <td>0</td>\n",
       "      <td>1</td>\n",
       "      <td>1</td>\n",
       "      <td>0</td>\n",
       "      <td>0</td>\n",
       "      <td>0</td>\n",
       "      <td>0</td>\n",
       "    </tr>\n",
       "    <tr>\n",
       "      <th>1</th>\n",
       "      <td>8.16307</td>\n",
       "      <td>AR-SLu</td>\n",
       "      <td>2010</td>\n",
       "      <td>2</td>\n",
       "      <td>120</td>\n",
       "      <td>46</td>\n",
       "      <td>258</td>\n",
       "      <td>297.27515</td>\n",
       "      <td>0.003132</td>\n",
       "      <td>1.090115</td>\n",
       "      <td>...</td>\n",
       "      <td>0</td>\n",
       "      <td>0</td>\n",
       "      <td>0</td>\n",
       "      <td>0</td>\n",
       "      <td>1</td>\n",
       "      <td>1</td>\n",
       "      <td>0</td>\n",
       "      <td>0</td>\n",
       "      <td>0</td>\n",
       "      <td>0</td>\n",
       "    </tr>\n",
       "    <tr>\n",
       "      <th>2</th>\n",
       "      <td>7.06222</td>\n",
       "      <td>AR-SLu</td>\n",
       "      <td>2010</td>\n",
       "      <td>3</td>\n",
       "      <td>107</td>\n",
       "      <td>31</td>\n",
       "      <td>231</td>\n",
       "      <td>296.43670</td>\n",
       "      <td>0.002206</td>\n",
       "      <td>1.168640</td>\n",
       "      <td>...</td>\n",
       "      <td>0</td>\n",
       "      <td>0</td>\n",
       "      <td>0</td>\n",
       "      <td>0</td>\n",
       "      <td>1</td>\n",
       "      <td>1</td>\n",
       "      <td>0</td>\n",
       "      <td>0</td>\n",
       "      <td>0</td>\n",
       "      <td>0</td>\n",
       "    </tr>\n",
       "    <tr>\n",
       "      <th>3</th>\n",
       "      <td>5.72781</td>\n",
       "      <td>AR-SLu</td>\n",
       "      <td>2010</td>\n",
       "      <td>4</td>\n",
       "      <td>81</td>\n",
       "      <td>27</td>\n",
       "      <td>175</td>\n",
       "      <td>290.61377</td>\n",
       "      <td>0.000209</td>\n",
       "      <td>0.946196</td>\n",
       "      <td>...</td>\n",
       "      <td>0</td>\n",
       "      <td>0</td>\n",
       "      <td>0</td>\n",
       "      <td>0</td>\n",
       "      <td>1</td>\n",
       "      <td>1</td>\n",
       "      <td>0</td>\n",
       "      <td>0</td>\n",
       "      <td>0</td>\n",
       "      <td>0</td>\n",
       "    </tr>\n",
       "    <tr>\n",
       "      <th>4</th>\n",
       "      <td>3.47763</td>\n",
       "      <td>AR-SLu</td>\n",
       "      <td>2010</td>\n",
       "      <td>5</td>\n",
       "      <td>56</td>\n",
       "      <td>19</td>\n",
       "      <td>122</td>\n",
       "      <td>286.88320</td>\n",
       "      <td>0.000842</td>\n",
       "      <td>0.716291</td>\n",
       "      <td>...</td>\n",
       "      <td>0</td>\n",
       "      <td>0</td>\n",
       "      <td>0</td>\n",
       "      <td>0</td>\n",
       "      <td>1</td>\n",
       "      <td>1</td>\n",
       "      <td>0</td>\n",
       "      <td>0</td>\n",
       "      <td>0</td>\n",
       "      <td>0</td>\n",
       "    </tr>\n",
       "  </tbody>\n",
       "</table>\n",
       "<p>5 rows × 45 columns</p>\n",
       "</div>\n",
       "      <button class=\"colab-df-convert\" onclick=\"convertToInteractive('df-089561ad-94bd-4d11-aef0-0c6b33353dec')\"\n",
       "              title=\"Convert this dataframe to an interactive table.\"\n",
       "              style=\"display:none;\">\n",
       "        \n",
       "  <svg xmlns=\"http://www.w3.org/2000/svg\" height=\"24px\"viewBox=\"0 0 24 24\"\n",
       "       width=\"24px\">\n",
       "    <path d=\"M0 0h24v24H0V0z\" fill=\"none\"/>\n",
       "    <path d=\"M18.56 5.44l.94 2.06.94-2.06 2.06-.94-2.06-.94-.94-2.06-.94 2.06-2.06.94zm-11 1L8.5 8.5l.94-2.06 2.06-.94-2.06-.94L8.5 2.5l-.94 2.06-2.06.94zm10 10l.94 2.06.94-2.06 2.06-.94-2.06-.94-.94-2.06-.94 2.06-2.06.94z\"/><path d=\"M17.41 7.96l-1.37-1.37c-.4-.4-.92-.59-1.43-.59-.52 0-1.04.2-1.43.59L10.3 9.45l-7.72 7.72c-.78.78-.78 2.05 0 2.83L4 21.41c.39.39.9.59 1.41.59.51 0 1.02-.2 1.41-.59l7.78-7.78 2.81-2.81c.8-.78.8-2.07 0-2.86zM5.41 20L4 18.59l7.72-7.72 1.47 1.35L5.41 20z\"/>\n",
       "  </svg>\n",
       "      </button>\n",
       "      \n",
       "  <style>\n",
       "    .colab-df-container {\n",
       "      display:flex;\n",
       "      flex-wrap:wrap;\n",
       "      gap: 12px;\n",
       "    }\n",
       "\n",
       "    .colab-df-convert {\n",
       "      background-color: #E8F0FE;\n",
       "      border: none;\n",
       "      border-radius: 50%;\n",
       "      cursor: pointer;\n",
       "      display: none;\n",
       "      fill: #1967D2;\n",
       "      height: 32px;\n",
       "      padding: 0 0 0 0;\n",
       "      width: 32px;\n",
       "    }\n",
       "\n",
       "    .colab-df-convert:hover {\n",
       "      background-color: #E2EBFA;\n",
       "      box-shadow: 0px 1px 2px rgba(60, 64, 67, 0.3), 0px 1px 3px 1px rgba(60, 64, 67, 0.15);\n",
       "      fill: #174EA6;\n",
       "    }\n",
       "\n",
       "    [theme=dark] .colab-df-convert {\n",
       "      background-color: #3B4455;\n",
       "      fill: #D2E3FC;\n",
       "    }\n",
       "\n",
       "    [theme=dark] .colab-df-convert:hover {\n",
       "      background-color: #434B5C;\n",
       "      box-shadow: 0px 1px 3px 1px rgba(0, 0, 0, 0.15);\n",
       "      filter: drop-shadow(0px 1px 2px rgba(0, 0, 0, 0.3));\n",
       "      fill: #FFFFFF;\n",
       "    }\n",
       "  </style>\n",
       "\n",
       "      <script>\n",
       "        const buttonEl =\n",
       "          document.querySelector('#df-089561ad-94bd-4d11-aef0-0c6b33353dec button.colab-df-convert');\n",
       "        buttonEl.style.display =\n",
       "          google.colab.kernel.accessAllowed ? 'block' : 'none';\n",
       "\n",
       "        async function convertToInteractive(key) {\n",
       "          const element = document.querySelector('#df-089561ad-94bd-4d11-aef0-0c6b33353dec');\n",
       "          const dataTable =\n",
       "            await google.colab.kernel.invokeFunction('convertToInteractive',\n",
       "                                                     [key], {});\n",
       "          if (!dataTable) return;\n",
       "\n",
       "          const docLinkHtml = 'Like what you see? Visit the ' +\n",
       "            '<a target=\"_blank\" href=https://colab.research.google.com/notebooks/data_table.ipynb>data table notebook</a>'\n",
       "            + ' to learn more about interactive tables.';\n",
       "          element.innerHTML = '';\n",
       "          dataTable['output_type'] = 'display_data';\n",
       "          await google.colab.output.renderOutput(dataTable, element);\n",
       "          const docLink = document.createElement('div');\n",
       "          docLink.innerHTML = docLinkHtml;\n",
       "          element.appendChild(docLink);\n",
       "        }\n",
       "      </script>\n",
       "    </div>\n",
       "  </div>\n",
       "  "
      ],
      "text/plain": [
       "   GPP_NT_VUT_REF SITE_ID  year  month  BESS-PAR  BESS-PARdiff  BESS-RSDN  \\\n",
       "0        10.20950  AR-SLu  2010      1       154            40        336   \n",
       "1         8.16307  AR-SLu  2010      2       120            46        258   \n",
       "2         7.06222  AR-SLu  2010      3       107            31        231   \n",
       "3         5.72781  AR-SLu  2010      4        81            27        175   \n",
       "4         3.47763  AR-SLu  2010      5        56            19        122   \n",
       "\n",
       "       Tmean      prcp       vpd  ...  MODIS_PFT_GRA  MODIS_PFT_MF  \\\n",
       "0  300.10977  0.002115  2.066180  ...              0             0   \n",
       "1  297.27515  0.003132  1.090115  ...              0             0   \n",
       "2  296.43670  0.002206  1.168640  ...              0             0   \n",
       "3  290.61377  0.000209  0.946196  ...              0             0   \n",
       "4  286.88320  0.000842  0.716291  ...              0             0   \n",
       "\n",
       "   MODIS_PFT_Other  MODIS_PFT_SA  MODIS_PFT_SH  koppen_Arid  koppen_Cold  \\\n",
       "0                0             0             1            1            0   \n",
       "1                0             0             1            1            0   \n",
       "2                0             0             1            1            0   \n",
       "3                0             0             1            1            0   \n",
       "4                0             0             1            1            0   \n",
       "\n",
       "   koppen_Polar  koppen_Temperate  koppen_Tropical  \n",
       "0             0                 0                0  \n",
       "1             0                 0                0  \n",
       "2             0                 0                0  \n",
       "3             0                 0                0  \n",
       "4             0                 0                0  \n",
       "\n",
       "[5 rows x 45 columns]"
      ]
     },
     "execution_count": 45,
     "metadata": {},
     "output_type": "execute_result"
    }
   ],
   "source": [
    "train_df.head()"
   ]
  },
  {
   "cell_type": "code",
   "execution_count": 46,
   "metadata": {
    "colab": {
     "base_uri": "https://localhost:8080/",
     "height": 317
    },
    "executionInfo": {
     "elapsed": 184,
     "status": "ok",
     "timestamp": 1666822498082,
     "user": {
      "displayName": "Yaqian Tang",
      "userId": "11643113709903451935"
     },
     "user_tz": 420
    },
    "id": "cZKpwPu5fKDS",
    "outputId": "cba211a4-88ba-4c7a-d00c-aa547ff00645"
   },
   "outputs": [
    {
     "data": {
      "text/html": [
       "\n",
       "  <div id=\"df-f6c373f8-b02b-4f79-8098-ed6157f6c272\">\n",
       "    <div class=\"colab-df-container\">\n",
       "      <div>\n",
       "<style scoped>\n",
       "    .dataframe tbody tr th:only-of-type {\n",
       "        vertical-align: middle;\n",
       "    }\n",
       "\n",
       "    .dataframe tbody tr th {\n",
       "        vertical-align: top;\n",
       "    }\n",
       "\n",
       "    .dataframe thead th {\n",
       "        text-align: right;\n",
       "    }\n",
       "</style>\n",
       "<table border=\"1\" class=\"dataframe\">\n",
       "  <thead>\n",
       "    <tr style=\"text-align: right;\">\n",
       "      <th></th>\n",
       "      <th>GPP_NT_VUT_REF</th>\n",
       "      <th>SITE_ID</th>\n",
       "      <th>year</th>\n",
       "      <th>month</th>\n",
       "      <th>BESS-PAR</th>\n",
       "      <th>BESS-PARdiff</th>\n",
       "      <th>BESS-RSDN</th>\n",
       "      <th>Tmean</th>\n",
       "      <th>prcp</th>\n",
       "      <th>vpd</th>\n",
       "      <th>...</th>\n",
       "      <th>MODIS_PFT_GRA</th>\n",
       "      <th>MODIS_PFT_MF</th>\n",
       "      <th>MODIS_PFT_Other</th>\n",
       "      <th>MODIS_PFT_SA</th>\n",
       "      <th>MODIS_PFT_SH</th>\n",
       "      <th>koppen_Arid</th>\n",
       "      <th>koppen_Cold</th>\n",
       "      <th>koppen_Polar</th>\n",
       "      <th>koppen_Temperate</th>\n",
       "      <th>koppen_Tropical</th>\n",
       "    </tr>\n",
       "  </thead>\n",
       "  <tbody>\n",
       "    <tr>\n",
       "      <th>34</th>\n",
       "      <td>13.95680</td>\n",
       "      <td>AT-Neu</td>\n",
       "      <td>2002</td>\n",
       "      <td>5</td>\n",
       "      <td>80</td>\n",
       "      <td>54</td>\n",
       "      <td>173</td>\n",
       "      <td>277.19626</td>\n",
       "      <td>0.005213</td>\n",
       "      <td>0.130126</td>\n",
       "      <td>...</td>\n",
       "      <td>0</td>\n",
       "      <td>1</td>\n",
       "      <td>0</td>\n",
       "      <td>0</td>\n",
       "      <td>0</td>\n",
       "      <td>0</td>\n",
       "      <td>1</td>\n",
       "      <td>0</td>\n",
       "      <td>0</td>\n",
       "      <td>0</td>\n",
       "    </tr>\n",
       "    <tr>\n",
       "      <th>35</th>\n",
       "      <td>10.75930</td>\n",
       "      <td>AT-Neu</td>\n",
       "      <td>2002</td>\n",
       "      <td>6</td>\n",
       "      <td>112</td>\n",
       "      <td>56</td>\n",
       "      <td>249</td>\n",
       "      <td>283.57202</td>\n",
       "      <td>0.005298</td>\n",
       "      <td>0.293348</td>\n",
       "      <td>...</td>\n",
       "      <td>0</td>\n",
       "      <td>1</td>\n",
       "      <td>0</td>\n",
       "      <td>0</td>\n",
       "      <td>0</td>\n",
       "      <td>0</td>\n",
       "      <td>1</td>\n",
       "      <td>0</td>\n",
       "      <td>0</td>\n",
       "      <td>0</td>\n",
       "    </tr>\n",
       "    <tr>\n",
       "      <th>36</th>\n",
       "      <td>13.25910</td>\n",
       "      <td>AT-Neu</td>\n",
       "      <td>2002</td>\n",
       "      <td>7</td>\n",
       "      <td>95</td>\n",
       "      <td>50</td>\n",
       "      <td>208</td>\n",
       "      <td>283.60522</td>\n",
       "      <td>0.007136</td>\n",
       "      <td>0.248484</td>\n",
       "      <td>...</td>\n",
       "      <td>0</td>\n",
       "      <td>1</td>\n",
       "      <td>0</td>\n",
       "      <td>0</td>\n",
       "      <td>0</td>\n",
       "      <td>0</td>\n",
       "      <td>1</td>\n",
       "      <td>0</td>\n",
       "      <td>0</td>\n",
       "      <td>0</td>\n",
       "    </tr>\n",
       "    <tr>\n",
       "      <th>37</th>\n",
       "      <td>8.95187</td>\n",
       "      <td>AT-Neu</td>\n",
       "      <td>2002</td>\n",
       "      <td>8</td>\n",
       "      <td>84</td>\n",
       "      <td>44</td>\n",
       "      <td>186</td>\n",
       "      <td>282.80750</td>\n",
       "      <td>0.006768</td>\n",
       "      <td>0.214698</td>\n",
       "      <td>...</td>\n",
       "      <td>0</td>\n",
       "      <td>1</td>\n",
       "      <td>0</td>\n",
       "      <td>0</td>\n",
       "      <td>0</td>\n",
       "      <td>0</td>\n",
       "      <td>1</td>\n",
       "      <td>0</td>\n",
       "      <td>0</td>\n",
       "      <td>0</td>\n",
       "    </tr>\n",
       "    <tr>\n",
       "      <th>38</th>\n",
       "      <td>7.42695</td>\n",
       "      <td>AT-Neu</td>\n",
       "      <td>2002</td>\n",
       "      <td>9</td>\n",
       "      <td>64</td>\n",
       "      <td>31</td>\n",
       "      <td>141</td>\n",
       "      <td>277.55316</td>\n",
       "      <td>0.004696</td>\n",
       "      <td>0.150145</td>\n",
       "      <td>...</td>\n",
       "      <td>0</td>\n",
       "      <td>1</td>\n",
       "      <td>0</td>\n",
       "      <td>0</td>\n",
       "      <td>0</td>\n",
       "      <td>0</td>\n",
       "      <td>1</td>\n",
       "      <td>0</td>\n",
       "      <td>0</td>\n",
       "      <td>0</td>\n",
       "    </tr>\n",
       "  </tbody>\n",
       "</table>\n",
       "<p>5 rows × 45 columns</p>\n",
       "</div>\n",
       "      <button class=\"colab-df-convert\" onclick=\"convertToInteractive('df-f6c373f8-b02b-4f79-8098-ed6157f6c272')\"\n",
       "              title=\"Convert this dataframe to an interactive table.\"\n",
       "              style=\"display:none;\">\n",
       "        \n",
       "  <svg xmlns=\"http://www.w3.org/2000/svg\" height=\"24px\"viewBox=\"0 0 24 24\"\n",
       "       width=\"24px\">\n",
       "    <path d=\"M0 0h24v24H0V0z\" fill=\"none\"/>\n",
       "    <path d=\"M18.56 5.44l.94 2.06.94-2.06 2.06-.94-2.06-.94-.94-2.06-.94 2.06-2.06.94zm-11 1L8.5 8.5l.94-2.06 2.06-.94-2.06-.94L8.5 2.5l-.94 2.06-2.06.94zm10 10l.94 2.06.94-2.06 2.06-.94-2.06-.94-.94-2.06-.94 2.06-2.06.94z\"/><path d=\"M17.41 7.96l-1.37-1.37c-.4-.4-.92-.59-1.43-.59-.52 0-1.04.2-1.43.59L10.3 9.45l-7.72 7.72c-.78.78-.78 2.05 0 2.83L4 21.41c.39.39.9.59 1.41.59.51 0 1.02-.2 1.41-.59l7.78-7.78 2.81-2.81c.8-.78.8-2.07 0-2.86zM5.41 20L4 18.59l7.72-7.72 1.47 1.35L5.41 20z\"/>\n",
       "  </svg>\n",
       "      </button>\n",
       "      \n",
       "  <style>\n",
       "    .colab-df-container {\n",
       "      display:flex;\n",
       "      flex-wrap:wrap;\n",
       "      gap: 12px;\n",
       "    }\n",
       "\n",
       "    .colab-df-convert {\n",
       "      background-color: #E8F0FE;\n",
       "      border: none;\n",
       "      border-radius: 50%;\n",
       "      cursor: pointer;\n",
       "      display: none;\n",
       "      fill: #1967D2;\n",
       "      height: 32px;\n",
       "      padding: 0 0 0 0;\n",
       "      width: 32px;\n",
       "    }\n",
       "\n",
       "    .colab-df-convert:hover {\n",
       "      background-color: #E2EBFA;\n",
       "      box-shadow: 0px 1px 2px rgba(60, 64, 67, 0.3), 0px 1px 3px 1px rgba(60, 64, 67, 0.15);\n",
       "      fill: #174EA6;\n",
       "    }\n",
       "\n",
       "    [theme=dark] .colab-df-convert {\n",
       "      background-color: #3B4455;\n",
       "      fill: #D2E3FC;\n",
       "    }\n",
       "\n",
       "    [theme=dark] .colab-df-convert:hover {\n",
       "      background-color: #434B5C;\n",
       "      box-shadow: 0px 1px 3px 1px rgba(0, 0, 0, 0.15);\n",
       "      filter: drop-shadow(0px 1px 2px rgba(0, 0, 0, 0.3));\n",
       "      fill: #FFFFFF;\n",
       "    }\n",
       "  </style>\n",
       "\n",
       "      <script>\n",
       "        const buttonEl =\n",
       "          document.querySelector('#df-f6c373f8-b02b-4f79-8098-ed6157f6c272 button.colab-df-convert');\n",
       "        buttonEl.style.display =\n",
       "          google.colab.kernel.accessAllowed ? 'block' : 'none';\n",
       "\n",
       "        async function convertToInteractive(key) {\n",
       "          const element = document.querySelector('#df-f6c373f8-b02b-4f79-8098-ed6157f6c272');\n",
       "          const dataTable =\n",
       "            await google.colab.kernel.invokeFunction('convertToInteractive',\n",
       "                                                     [key], {});\n",
       "          if (!dataTable) return;\n",
       "\n",
       "          const docLinkHtml = 'Like what you see? Visit the ' +\n",
       "            '<a target=\"_blank\" href=https://colab.research.google.com/notebooks/data_table.ipynb>data table notebook</a>'\n",
       "            + ' to learn more about interactive tables.';\n",
       "          element.innerHTML = '';\n",
       "          dataTable['output_type'] = 'display_data';\n",
       "          await google.colab.output.renderOutput(dataTable, element);\n",
       "          const docLink = document.createElement('div');\n",
       "          docLink.innerHTML = docLinkHtml;\n",
       "          element.appendChild(docLink);\n",
       "        }\n",
       "      </script>\n",
       "    </div>\n",
       "  </div>\n",
       "  "
      ],
      "text/plain": [
       "    GPP_NT_VUT_REF SITE_ID  year  month  BESS-PAR  BESS-PARdiff  BESS-RSDN  \\\n",
       "34        13.95680  AT-Neu  2002      5        80            54        173   \n",
       "35        10.75930  AT-Neu  2002      6       112            56        249   \n",
       "36        13.25910  AT-Neu  2002      7        95            50        208   \n",
       "37         8.95187  AT-Neu  2002      8        84            44        186   \n",
       "38         7.42695  AT-Neu  2002      9        64            31        141   \n",
       "\n",
       "        Tmean      prcp       vpd  ...  MODIS_PFT_GRA  MODIS_PFT_MF  \\\n",
       "34  277.19626  0.005213  0.130126  ...              0             1   \n",
       "35  283.57202  0.005298  0.293348  ...              0             1   \n",
       "36  283.60522  0.007136  0.248484  ...              0             1   \n",
       "37  282.80750  0.006768  0.214698  ...              0             1   \n",
       "38  277.55316  0.004696  0.150145  ...              0             1   \n",
       "\n",
       "    MODIS_PFT_Other  MODIS_PFT_SA  MODIS_PFT_SH  koppen_Arid  koppen_Cold  \\\n",
       "34                0             0             0            0            1   \n",
       "35                0             0             0            0            1   \n",
       "36                0             0             0            0            1   \n",
       "37                0             0             0            0            1   \n",
       "38                0             0             0            0            1   \n",
       "\n",
       "    koppen_Polar  koppen_Temperate  koppen_Tropical  \n",
       "34             0                 0                0  \n",
       "35             0                 0                0  \n",
       "36             0                 0                0  \n",
       "37             0                 0                0  \n",
       "38             0                 0                0  \n",
       "\n",
       "[5 rows x 45 columns]"
      ]
     },
     "execution_count": 46,
     "metadata": {},
     "output_type": "execute_result"
    }
   ],
   "source": [
    "test_df.head()"
   ]
  },
  {
   "cell_type": "markdown",
   "metadata": {
    "id": "16iVSHmh28MQ"
   },
   "source": [
    "### Create trends, MSC, and anomolies for observed data"
   ]
  },
  {
   "cell_type": "markdown",
   "metadata": {
    "id": "UZNTwKWG3IcV"
   },
   "source": [
    "#### Train Set"
   ]
  },
  {
   "cell_type": "code",
   "execution_count": 47,
   "metadata": {
    "colab": {
     "base_uri": "https://localhost:8080/",
     "height": 107
    },
    "executionInfo": {
     "elapsed": 167,
     "status": "ok",
     "timestamp": 1666822499386,
     "user": {
      "displayName": "Yaqian Tang",
      "userId": "11643113709903451935"
     },
     "user_tz": 420
    },
    "id": "SCC6valfzs48",
    "outputId": "286c2e2e-3224-48fb-95fd-77b711327c6a"
   },
   "outputs": [
    {
     "data": {
      "application/vnd.google.colaboratory.intrinsic+json": {
       "type": "string"
      },
      "text/plain": [
       "\"\\ntrain_df = pd.DataFrame(data = X_train, columns = ['SITE_ID', 'year', 'month', 'BESS-PAR', 'BESS-PARdiff',\\n       'BESS-RSDN', 'Tmean', 'prcp', 'vpd', 'prcp-lag3', 'ESACCI-sm', 'ET',\\n       'b1', 'b2', 'b3', 'b4', 'b5', 'b6', 'b7', 'EVI', 'NDVI', 'GCI', 'NDWI',\\n       'NIRv', 'kNDVI', 'CSIF-SIFdaily', 'Fpar', 'Lai', 'LST_Day', 'LST_Night',\\n       'MODIS_PFT_CRO', 'MODIS_PFT_DBF', 'MODIS_PFT_EBF', 'MODIS_PFT_ENF',\\n       'MODIS_PFT_GRA', 'MODIS_PFT_MF', 'MODIS_PFT_Other', 'MODIS_PFT_SA',\\n       'MODIS_PFT_SH', 'koppen_Arid', 'koppen_Cold', 'koppen_Polar',\\n       'koppen_Temperate', 'koppen_Tropical'])\\ny_train_df = pd.DataFrame(data = y_train, columns = [target])\\n\""
      ]
     },
     "execution_count": 47,
     "metadata": {},
     "output_type": "execute_result"
    }
   ],
   "source": [
    "# transform X_train and y_tain to a dataframe\n",
    "'''\n",
    "train_df = pd.DataFrame(data = X_train, columns = ['SITE_ID', 'year', 'month', 'BESS-PAR', 'BESS-PARdiff',\n",
    "       'BESS-RSDN', 'Tmean', 'prcp', 'vpd', 'prcp-lag3', 'ESACCI-sm', 'ET',\n",
    "       'b1', 'b2', 'b3', 'b4', 'b5', 'b6', 'b7', 'EVI', 'NDVI', 'GCI', 'NDWI',\n",
    "       'NIRv', 'kNDVI', 'CSIF-SIFdaily', 'Fpar', 'Lai', 'LST_Day', 'LST_Night',\n",
    "       'MODIS_PFT_CRO', 'MODIS_PFT_DBF', 'MODIS_PFT_EBF', 'MODIS_PFT_ENF',\n",
    "       'MODIS_PFT_GRA', 'MODIS_PFT_MF', 'MODIS_PFT_Other', 'MODIS_PFT_SA',\n",
    "       'MODIS_PFT_SH', 'koppen_Arid', 'koppen_Cold', 'koppen_Polar',\n",
    "       'koppen_Temperate', 'koppen_Tropical'])\n",
    "y_train_df = pd.DataFrame(data = y_train, columns = [target])\n",
    "'''"
   ]
  },
  {
   "cell_type": "code",
   "execution_count": 48,
   "metadata": {
    "colab": {
     "base_uri": "https://localhost:8080/",
     "height": 53
    },
    "executionInfo": {
     "elapsed": 9,
     "status": "ok",
     "timestamp": 1666822500087,
     "user": {
      "displayName": "Yaqian Tang",
      "userId": "11643113709903451935"
     },
     "user_tz": 420
    },
    "id": "kL_RhPgc9X7R",
    "outputId": "e2793f34-476d-4b97-bb3a-a894a90623e8"
   },
   "outputs": [
    {
     "data": {
      "application/vnd.google.colaboratory.intrinsic+json": {
       "type": "string"
      },
      "text/plain": [
       "'\\ntrain_df.insert(loc = 0, column = target, value = y_train, allow_duplicates = True)\\n#train_df = X_train_df.assign(target=y_train)[[target] + X_train_df.columns.tolist()]\\n'"
      ]
     },
     "execution_count": 48,
     "metadata": {},
     "output_type": "execute_result"
    }
   ],
   "source": [
    "# merge the X_df and y_df into one\n",
    "'''\n",
    "train_df.insert(loc = 0, column = target, value = y_train, allow_duplicates = True)\n",
    "#train_df = X_train_df.assign(target=y_train)[[target] + X_train_df.columns.tolist()]\n",
    "'''"
   ]
  },
  {
   "cell_type": "markdown",
   "metadata": {
    "id": "SPy_ktNV3LYo"
   },
   "source": [
    "#### Test Set"
   ]
  },
  {
   "cell_type": "code",
   "execution_count": 49,
   "metadata": {
    "colab": {
     "base_uri": "https://localhost:8080/",
     "height": 107
    },
    "executionInfo": {
     "elapsed": 178,
     "status": "ok",
     "timestamp": 1666822501312,
     "user": {
      "displayName": "Yaqian Tang",
      "userId": "11643113709903451935"
     },
     "user_tz": 420
    },
    "id": "DBhxgaiizrtv",
    "outputId": "f93dad77-5d7f-4940-99c6-711dbc21ec93"
   },
   "outputs": [
    {
     "data": {
      "application/vnd.google.colaboratory.intrinsic+json": {
       "type": "string"
      },
      "text/plain": [
       "\"\\ntest_df = pd.DataFrame(data = X_test, columns = ['SITE_ID', 'year', 'month', 'BESS-PAR', 'BESS-PARdiff',\\n       'BESS-RSDN', 'Tmean', 'prcp', 'vpd', 'prcp-lag3', 'ESACCI-sm', 'ET',\\n       'b1', 'b2', 'b3', 'b4', 'b5', 'b6', 'b7', 'EVI', 'NDVI', 'GCI', 'NDWI',\\n       'NIRv', 'kNDVI', 'CSIF-SIFdaily', 'Fpar', 'Lai', 'LST_Day', 'LST_Night',\\n       'MODIS_PFT_CRO', 'MODIS_PFT_DBF', 'MODIS_PFT_EBF', 'MODIS_PFT_ENF',\\n       'MODIS_PFT_GRA', 'MODIS_PFT_MF', 'MODIS_PFT_Other', 'MODIS_PFT_SA',\\n       'MODIS_PFT_SH', 'koppen_Arid', 'koppen_Cold', 'koppen_Polar',\\n       'koppen_Temperate', 'koppen_Tropical'])\\ny_test_df = pd.DataFrame(data = y_test, columns = [target])\\n\""
      ]
     },
     "execution_count": 49,
     "metadata": {},
     "output_type": "execute_result"
    }
   ],
   "source": [
    "# transform X_test and y_test to a dataframe\n",
    "'''\n",
    "test_df = pd.DataFrame(data = X_test, columns = ['SITE_ID', 'year', 'month', 'BESS-PAR', 'BESS-PARdiff',\n",
    "       'BESS-RSDN', 'Tmean', 'prcp', 'vpd', 'prcp-lag3', 'ESACCI-sm', 'ET',\n",
    "       'b1', 'b2', 'b3', 'b4', 'b5', 'b6', 'b7', 'EVI', 'NDVI', 'GCI', 'NDWI',\n",
    "       'NIRv', 'kNDVI', 'CSIF-SIFdaily', 'Fpar', 'Lai', 'LST_Day', 'LST_Night',\n",
    "       'MODIS_PFT_CRO', 'MODIS_PFT_DBF', 'MODIS_PFT_EBF', 'MODIS_PFT_ENF',\n",
    "       'MODIS_PFT_GRA', 'MODIS_PFT_MF', 'MODIS_PFT_Other', 'MODIS_PFT_SA',\n",
    "       'MODIS_PFT_SH', 'koppen_Arid', 'koppen_Cold', 'koppen_Polar',\n",
    "       'koppen_Temperate', 'koppen_Tropical'])\n",
    "y_test_df = pd.DataFrame(data = y_test, columns = [target])\n",
    "'''"
   ]
  },
  {
   "cell_type": "code",
   "execution_count": 50,
   "metadata": {
    "colab": {
     "base_uri": "https://localhost:8080/",
     "height": 35
    },
    "executionInfo": {
     "elapsed": 2,
     "status": "ok",
     "timestamp": 1666822501555,
     "user": {
      "displayName": "Yaqian Tang",
      "userId": "11643113709903451935"
     },
     "user_tz": 420
    },
    "id": "qel_5U9u_EAt",
    "outputId": "14673727-6199-49fa-daff-8e8b3f372a52"
   },
   "outputs": [
    {
     "data": {
      "application/vnd.google.colaboratory.intrinsic+json": {
       "type": "string"
      },
      "text/plain": [
       "'\\ntest_df.insert(loc = 0, column = target, value = y_test, allow_duplicates = True)\\n'"
      ]
     },
     "execution_count": 50,
     "metadata": {},
     "output_type": "execute_result"
    }
   ],
   "source": [
    "# merge the X_df and y_df into one\n",
    "'''\n",
    "test_df.insert(loc = 0, column = target, value = y_test, allow_duplicates = True)\n",
    "'''\n",
    "#test_df = X_test_df.assign(target=y_test)[[target] + X_test_df.columns.tolist()]"
   ]
  },
  {
   "cell_type": "code",
   "execution_count": 51,
   "metadata": {
    "colab": {
     "base_uri": "https://localhost:8080/"
    },
    "executionInfo": {
     "elapsed": 973,
     "status": "ok",
     "timestamp": 1666822503219,
     "user": {
      "displayName": "Yaqian Tang",
      "userId": "11643113709903451935"
     },
     "user_tz": 420
    },
    "id": "Do0bpvcJ3E1P",
    "outputId": "0c9c5b62-051c-4739-9e1f-2c1c10438c0f"
   },
   "outputs": [
    {
     "data": {
      "text/plain": [
       "SITE_ID  Date      \n",
       "AT-Neu   2002-05-01    8.226984\n",
       "         2002-06-01    8.238957\n",
       "         2002-07-01    8.250930\n",
       "         2002-08-01    8.262903\n",
       "         2002-09-01    8.274876\n",
       "                         ...   \n",
       "RU-Fyo   2019-07-01    5.381878\n",
       "         2019-08-01    5.386587\n",
       "         2019-09-01    5.391296\n",
       "         2019-10-01    5.396005\n",
       "         2019-11-01    5.400714\n",
       "Name: GPP_NT_VUT_REF, Length: 4150, dtype: float64"
      ]
     },
     "execution_count": 51,
     "metadata": {},
     "output_type": "execute_result"
    }
   ],
   "source": [
    "# for observed test set: fitting a linear regression line and get trends and slopes of each site\n",
    "\n",
    "ts_test = test_df.copy()\n",
    "ts_test['Date'] = ts_test.apply(lambda x: convert_to_timestamp(x['year'], x['month']),axis=1)\n",
    "ts_test = ts_test.set_index(['SITE_ID', 'Date'])\n",
    "\n",
    "test_trends = trend(ts_test[target])\n",
    "test_slopes = across_site_trend(ts_test[target])\n",
    "test_trends"
   ]
  },
  {
   "cell_type": "code",
   "execution_count": 52,
   "metadata": {
    "executionInfo": {
     "elapsed": 17,
     "status": "ok",
     "timestamp": 1666822503222,
     "user": {
      "displayName": "Yaqian Tang",
      "userId": "11643113709903451935"
     },
     "user_tz": 420
    },
    "id": "GiohhYRc-FI6"
   },
   "outputs": [],
   "source": [
    "test_detrends = ts[target].sub(trends)\n",
    "ts_test['detrended_GPP'] = test_detrends"
   ]
  },
  {
   "cell_type": "code",
   "execution_count": 53,
   "metadata": {
    "colab": {
     "base_uri": "https://localhost:8080/",
     "height": 455
    },
    "executionInfo": {
     "elapsed": 205,
     "status": "ok",
     "timestamp": 1666822503410,
     "user": {
      "displayName": "Yaqian Tang",
      "userId": "11643113709903451935"
     },
     "user_tz": 420
    },
    "id": "GK8mXMGm-GnG",
    "outputId": "62e625ad-47f8-4ae8-d540-4de3dd904259"
   },
   "outputs": [
    {
     "data": {
      "text/html": [
       "\n",
       "  <div id=\"df-6e6dbcfd-9267-407a-8df3-c22f51f62476\">\n",
       "    <div class=\"colab-df-container\">\n",
       "      <div>\n",
       "<style scoped>\n",
       "    .dataframe tbody tr th:only-of-type {\n",
       "        vertical-align: middle;\n",
       "    }\n",
       "\n",
       "    .dataframe tbody tr th {\n",
       "        vertical-align: top;\n",
       "    }\n",
       "\n",
       "    .dataframe thead th {\n",
       "        text-align: right;\n",
       "    }\n",
       "</style>\n",
       "<table border=\"1\" class=\"dataframe\">\n",
       "  <thead>\n",
       "    <tr style=\"text-align: right;\">\n",
       "      <th></th>\n",
       "      <th></th>\n",
       "      <th>month</th>\n",
       "      <th>detrended_GPP</th>\n",
       "    </tr>\n",
       "    <tr>\n",
       "      <th>SITE_ID</th>\n",
       "      <th>Date</th>\n",
       "      <th></th>\n",
       "      <th></th>\n",
       "    </tr>\n",
       "  </thead>\n",
       "  <tbody>\n",
       "    <tr>\n",
       "      <th rowspan=\"5\" valign=\"top\">AT-Neu</th>\n",
       "      <th>5</th>\n",
       "      <td>5.0</td>\n",
       "      <td>5.046843</td>\n",
       "    </tr>\n",
       "    <tr>\n",
       "      <th>6</th>\n",
       "      <td>6.0</td>\n",
       "      <td>2.088182</td>\n",
       "    </tr>\n",
       "    <tr>\n",
       "      <th>7</th>\n",
       "      <td>7.0</td>\n",
       "      <td>5.197761</td>\n",
       "    </tr>\n",
       "    <tr>\n",
       "      <th>8</th>\n",
       "      <td>8.0</td>\n",
       "      <td>1.087798</td>\n",
       "    </tr>\n",
       "    <tr>\n",
       "      <th>9</th>\n",
       "      <td>9.0</td>\n",
       "      <td>-0.243910</td>\n",
       "    </tr>\n",
       "    <tr>\n",
       "      <th>...</th>\n",
       "      <th>...</th>\n",
       "      <td>...</td>\n",
       "      <td>...</td>\n",
       "    </tr>\n",
       "    <tr>\n",
       "      <th rowspan=\"5\" valign=\"top\">US-Wi4</th>\n",
       "      <th>6</th>\n",
       "      <td>6.0</td>\n",
       "      <td>0.746531</td>\n",
       "    </tr>\n",
       "    <tr>\n",
       "      <th>7</th>\n",
       "      <td>7.0</td>\n",
       "      <td>1.347817</td>\n",
       "    </tr>\n",
       "    <tr>\n",
       "      <th>8</th>\n",
       "      <td>8.0</td>\n",
       "      <td>0.744767</td>\n",
       "    </tr>\n",
       "    <tr>\n",
       "      <th>9</th>\n",
       "      <td>9.0</td>\n",
       "      <td>-1.052582</td>\n",
       "    </tr>\n",
       "    <tr>\n",
       "      <th>10</th>\n",
       "      <td>10.0</td>\n",
       "      <td>-3.795905</td>\n",
       "    </tr>\n",
       "  </tbody>\n",
       "</table>\n",
       "<p>707 rows × 2 columns</p>\n",
       "</div>\n",
       "      <button class=\"colab-df-convert\" onclick=\"convertToInteractive('df-6e6dbcfd-9267-407a-8df3-c22f51f62476')\"\n",
       "              title=\"Convert this dataframe to an interactive table.\"\n",
       "              style=\"display:none;\">\n",
       "        \n",
       "  <svg xmlns=\"http://www.w3.org/2000/svg\" height=\"24px\"viewBox=\"0 0 24 24\"\n",
       "       width=\"24px\">\n",
       "    <path d=\"M0 0h24v24H0V0z\" fill=\"none\"/>\n",
       "    <path d=\"M18.56 5.44l.94 2.06.94-2.06 2.06-.94-2.06-.94-.94-2.06-.94 2.06-2.06.94zm-11 1L8.5 8.5l.94-2.06 2.06-.94-2.06-.94L8.5 2.5l-.94 2.06-2.06.94zm10 10l.94 2.06.94-2.06 2.06-.94-2.06-.94-.94-2.06-.94 2.06-2.06.94z\"/><path d=\"M17.41 7.96l-1.37-1.37c-.4-.4-.92-.59-1.43-.59-.52 0-1.04.2-1.43.59L10.3 9.45l-7.72 7.72c-.78.78-.78 2.05 0 2.83L4 21.41c.39.39.9.59 1.41.59.51 0 1.02-.2 1.41-.59l7.78-7.78 2.81-2.81c.8-.78.8-2.07 0-2.86zM5.41 20L4 18.59l7.72-7.72 1.47 1.35L5.41 20z\"/>\n",
       "  </svg>\n",
       "      </button>\n",
       "      \n",
       "  <style>\n",
       "    .colab-df-container {\n",
       "      display:flex;\n",
       "      flex-wrap:wrap;\n",
       "      gap: 12px;\n",
       "    }\n",
       "\n",
       "    .colab-df-convert {\n",
       "      background-color: #E8F0FE;\n",
       "      border: none;\n",
       "      border-radius: 50%;\n",
       "      cursor: pointer;\n",
       "      display: none;\n",
       "      fill: #1967D2;\n",
       "      height: 32px;\n",
       "      padding: 0 0 0 0;\n",
       "      width: 32px;\n",
       "    }\n",
       "\n",
       "    .colab-df-convert:hover {\n",
       "      background-color: #E2EBFA;\n",
       "      box-shadow: 0px 1px 2px rgba(60, 64, 67, 0.3), 0px 1px 3px 1px rgba(60, 64, 67, 0.15);\n",
       "      fill: #174EA6;\n",
       "    }\n",
       "\n",
       "    [theme=dark] .colab-df-convert {\n",
       "      background-color: #3B4455;\n",
       "      fill: #D2E3FC;\n",
       "    }\n",
       "\n",
       "    [theme=dark] .colab-df-convert:hover {\n",
       "      background-color: #434B5C;\n",
       "      box-shadow: 0px 1px 3px 1px rgba(0, 0, 0, 0.15);\n",
       "      filter: drop-shadow(0px 1px 2px rgba(0, 0, 0, 0.3));\n",
       "      fill: #FFFFFF;\n",
       "    }\n",
       "  </style>\n",
       "\n",
       "      <script>\n",
       "        const buttonEl =\n",
       "          document.querySelector('#df-6e6dbcfd-9267-407a-8df3-c22f51f62476 button.colab-df-convert');\n",
       "        buttonEl.style.display =\n",
       "          google.colab.kernel.accessAllowed ? 'block' : 'none';\n",
       "\n",
       "        async function convertToInteractive(key) {\n",
       "          const element = document.querySelector('#df-6e6dbcfd-9267-407a-8df3-c22f51f62476');\n",
       "          const dataTable =\n",
       "            await google.colab.kernel.invokeFunction('convertToInteractive',\n",
       "                                                     [key], {});\n",
       "          if (!dataTable) return;\n",
       "\n",
       "          const docLinkHtml = 'Like what you see? Visit the ' +\n",
       "            '<a target=\"_blank\" href=https://colab.research.google.com/notebooks/data_table.ipynb>data table notebook</a>'\n",
       "            + ' to learn more about interactive tables.';\n",
       "          element.innerHTML = '';\n",
       "          dataTable['output_type'] = 'display_data';\n",
       "          await google.colab.output.renderOutput(dataTable, element);\n",
       "          const docLink = document.createElement('div');\n",
       "          docLink.innerHTML = docLinkHtml;\n",
       "          element.appendChild(docLink);\n",
       "        }\n",
       "      </script>\n",
       "    </div>\n",
       "  </div>\n",
       "  "
      ],
      "text/plain": [
       "              month  detrended_GPP\n",
       "SITE_ID Date                      \n",
       "AT-Neu  5       5.0       5.046843\n",
       "        6       6.0       2.088182\n",
       "        7       7.0       5.197761\n",
       "        8       8.0       1.087798\n",
       "        9       9.0      -0.243910\n",
       "...             ...            ...\n",
       "US-Wi4  6       6.0       0.746531\n",
       "        7       7.0       1.347817\n",
       "        8       8.0       0.744767\n",
       "        9       9.0      -1.052582\n",
       "        10     10.0      -3.795905\n",
       "\n",
       "[707 rows x 2 columns]"
      ]
     },
     "execution_count": 53,
     "metadata": {},
     "output_type": "execute_result"
    }
   ],
   "source": [
    "# GPP Seasonal: average detrended GPP for each month over all years \n",
    "\n",
    "test_seasonal_gpp = msc(ts_test[['month', 'detrended_GPP']])\n",
    "test_seasonal_gpp"
   ]
  },
  {
   "cell_type": "code",
   "execution_count": 54,
   "metadata": {
    "colab": {
     "base_uri": "https://localhost:8080/",
     "height": 455
    },
    "executionInfo": {
     "elapsed": 36,
     "status": "ok",
     "timestamp": 1666822504283,
     "user": {
      "displayName": "Yaqian Tang",
      "userId": "11643113709903451935"
     },
     "user_tz": 420
    },
    "id": "iCIh_Tl3-IB-",
    "outputId": "c27dac96-79fd-4651-d1fe-52f3a996f0c6"
   },
   "outputs": [
    {
     "data": {
      "text/html": [
       "\n",
       "  <div id=\"df-8d2a8abf-339c-4ba5-a01b-be7aa106a496\">\n",
       "    <div class=\"colab-df-container\">\n",
       "      <div>\n",
       "<style scoped>\n",
       "    .dataframe tbody tr th:only-of-type {\n",
       "        vertical-align: middle;\n",
       "    }\n",
       "\n",
       "    .dataframe tbody tr th {\n",
       "        vertical-align: top;\n",
       "    }\n",
       "\n",
       "    .dataframe thead th {\n",
       "        text-align: right;\n",
       "    }\n",
       "</style>\n",
       "<table border=\"1\" class=\"dataframe\">\n",
       "  <thead>\n",
       "    <tr style=\"text-align: right;\">\n",
       "      <th></th>\n",
       "      <th></th>\n",
       "      <th>detrended_GPP</th>\n",
       "    </tr>\n",
       "    <tr>\n",
       "      <th>SITE_ID</th>\n",
       "      <th>Date</th>\n",
       "      <th></th>\n",
       "    </tr>\n",
       "  </thead>\n",
       "  <tbody>\n",
       "    <tr>\n",
       "      <th rowspan=\"5\" valign=\"top\">AT-Neu</th>\n",
       "      <th>2002-05-01</th>\n",
       "      <td>0.682974</td>\n",
       "    </tr>\n",
       "    <tr>\n",
       "      <th>2002-06-01</th>\n",
       "      <td>0.432161</td>\n",
       "    </tr>\n",
       "    <tr>\n",
       "      <th>2002-07-01</th>\n",
       "      <td>-0.189591</td>\n",
       "    </tr>\n",
       "    <tr>\n",
       "      <th>2002-08-01</th>\n",
       "      <td>-0.398831</td>\n",
       "    </tr>\n",
       "    <tr>\n",
       "      <th>2002-09-01</th>\n",
       "      <td>-0.604017</td>\n",
       "    </tr>\n",
       "    <tr>\n",
       "      <th>...</th>\n",
       "      <th>...</th>\n",
       "      <td>...</td>\n",
       "    </tr>\n",
       "    <tr>\n",
       "      <th rowspan=\"5\" valign=\"top\">RU-Fyo</th>\n",
       "      <th>2019-07-01</th>\n",
       "      <td>0.964347</td>\n",
       "    </tr>\n",
       "    <tr>\n",
       "      <th>2019-08-01</th>\n",
       "      <td>1.248726</td>\n",
       "    </tr>\n",
       "    <tr>\n",
       "      <th>2019-09-01</th>\n",
       "      <td>0.459892</td>\n",
       "    </tr>\n",
       "    <tr>\n",
       "      <th>2019-10-01</th>\n",
       "      <td>-1.030981</td>\n",
       "    </tr>\n",
       "    <tr>\n",
       "      <th>2019-11-01</th>\n",
       "      <td>-0.535201</td>\n",
       "    </tr>\n",
       "  </tbody>\n",
       "</table>\n",
       "<p>4150 rows × 1 columns</p>\n",
       "</div>\n",
       "      <button class=\"colab-df-convert\" onclick=\"convertToInteractive('df-8d2a8abf-339c-4ba5-a01b-be7aa106a496')\"\n",
       "              title=\"Convert this dataframe to an interactive table.\"\n",
       "              style=\"display:none;\">\n",
       "        \n",
       "  <svg xmlns=\"http://www.w3.org/2000/svg\" height=\"24px\"viewBox=\"0 0 24 24\"\n",
       "       width=\"24px\">\n",
       "    <path d=\"M0 0h24v24H0V0z\" fill=\"none\"/>\n",
       "    <path d=\"M18.56 5.44l.94 2.06.94-2.06 2.06-.94-2.06-.94-.94-2.06-.94 2.06-2.06.94zm-11 1L8.5 8.5l.94-2.06 2.06-.94-2.06-.94L8.5 2.5l-.94 2.06-2.06.94zm10 10l.94 2.06.94-2.06 2.06-.94-2.06-.94-.94-2.06-.94 2.06-2.06.94z\"/><path d=\"M17.41 7.96l-1.37-1.37c-.4-.4-.92-.59-1.43-.59-.52 0-1.04.2-1.43.59L10.3 9.45l-7.72 7.72c-.78.78-.78 2.05 0 2.83L4 21.41c.39.39.9.59 1.41.59.51 0 1.02-.2 1.41-.59l7.78-7.78 2.81-2.81c.8-.78.8-2.07 0-2.86zM5.41 20L4 18.59l7.72-7.72 1.47 1.35L5.41 20z\"/>\n",
       "  </svg>\n",
       "      </button>\n",
       "      \n",
       "  <style>\n",
       "    .colab-df-container {\n",
       "      display:flex;\n",
       "      flex-wrap:wrap;\n",
       "      gap: 12px;\n",
       "    }\n",
       "\n",
       "    .colab-df-convert {\n",
       "      background-color: #E8F0FE;\n",
       "      border: none;\n",
       "      border-radius: 50%;\n",
       "      cursor: pointer;\n",
       "      display: none;\n",
       "      fill: #1967D2;\n",
       "      height: 32px;\n",
       "      padding: 0 0 0 0;\n",
       "      width: 32px;\n",
       "    }\n",
       "\n",
       "    .colab-df-convert:hover {\n",
       "      background-color: #E2EBFA;\n",
       "      box-shadow: 0px 1px 2px rgba(60, 64, 67, 0.3), 0px 1px 3px 1px rgba(60, 64, 67, 0.15);\n",
       "      fill: #174EA6;\n",
       "    }\n",
       "\n",
       "    [theme=dark] .colab-df-convert {\n",
       "      background-color: #3B4455;\n",
       "      fill: #D2E3FC;\n",
       "    }\n",
       "\n",
       "    [theme=dark] .colab-df-convert:hover {\n",
       "      background-color: #434B5C;\n",
       "      box-shadow: 0px 1px 3px 1px rgba(0, 0, 0, 0.15);\n",
       "      filter: drop-shadow(0px 1px 2px rgba(0, 0, 0, 0.3));\n",
       "      fill: #FFFFFF;\n",
       "    }\n",
       "  </style>\n",
       "\n",
       "      <script>\n",
       "        const buttonEl =\n",
       "          document.querySelector('#df-8d2a8abf-339c-4ba5-a01b-be7aa106a496 button.colab-df-convert');\n",
       "        buttonEl.style.display =\n",
       "          google.colab.kernel.accessAllowed ? 'block' : 'none';\n",
       "\n",
       "        async function convertToInteractive(key) {\n",
       "          const element = document.querySelector('#df-8d2a8abf-339c-4ba5-a01b-be7aa106a496');\n",
       "          const dataTable =\n",
       "            await google.colab.kernel.invokeFunction('convertToInteractive',\n",
       "                                                     [key], {});\n",
       "          if (!dataTable) return;\n",
       "\n",
       "          const docLinkHtml = 'Like what you see? Visit the ' +\n",
       "            '<a target=\"_blank\" href=https://colab.research.google.com/notebooks/data_table.ipynb>data table notebook</a>'\n",
       "            + ' to learn more about interactive tables.';\n",
       "          element.innerHTML = '';\n",
       "          dataTable['output_type'] = 'display_data';\n",
       "          await google.colab.output.renderOutput(dataTable, element);\n",
       "          const docLink = document.createElement('div');\n",
       "          docLink.innerHTML = docLinkHtml;\n",
       "          element.appendChild(docLink);\n",
       "        }\n",
       "      </script>\n",
       "    </div>\n",
       "  </div>\n",
       "  "
      ],
      "text/plain": [
       "                    detrended_GPP\n",
       "SITE_ID Date                     \n",
       "AT-Neu  2002-05-01       0.682974\n",
       "        2002-06-01       0.432161\n",
       "        2002-07-01      -0.189591\n",
       "        2002-08-01      -0.398831\n",
       "        2002-09-01      -0.604017\n",
       "...                           ...\n",
       "RU-Fyo  2019-07-01       0.964347\n",
       "        2019-08-01       1.248726\n",
       "        2019-09-01       0.459892\n",
       "        2019-10-01      -1.030981\n",
       "        2019-11-01      -0.535201\n",
       "\n",
       "[4150 rows x 1 columns]"
      ]
     },
     "execution_count": 54,
     "metadata": {},
     "output_type": "execute_result"
    }
   ],
   "source": [
    "# Calculate GPP Anomaly: Subtract MSC from Detrended GPP\n",
    "\n",
    "test_anomalies = iav(ts_test[['detrended_GPP']])\n",
    "test_anomalies"
   ]
  },
  {
   "cell_type": "markdown",
   "metadata": {
    "id": "bYM5TNoktr9i"
   },
   "source": [
    "## Lasso"
   ]
  },
  {
   "cell_type": "code",
   "execution_count": 55,
   "metadata": {
    "colab": {
     "base_uri": "https://localhost:8080/",
     "height": 317
    },
    "executionInfo": {
     "elapsed": 23,
     "status": "ok",
     "timestamp": 1666822505102,
     "user": {
      "displayName": "Yaqian Tang",
      "userId": "11643113709903451935"
     },
     "user_tz": 420
    },
    "id": "am6rWvhiFs_1",
    "outputId": "92532ab9-017f-478c-82f8-b969d8233a25"
   },
   "outputs": [
    {
     "data": {
      "text/html": [
       "\n",
       "  <div id=\"df-771091ef-97ac-415a-9ce0-dda163c53dfa\">\n",
       "    <div class=\"colab-df-container\">\n",
       "      <div>\n",
       "<style scoped>\n",
       "    .dataframe tbody tr th:only-of-type {\n",
       "        vertical-align: middle;\n",
       "    }\n",
       "\n",
       "    .dataframe tbody tr th {\n",
       "        vertical-align: top;\n",
       "    }\n",
       "\n",
       "    .dataframe thead th {\n",
       "        text-align: right;\n",
       "    }\n",
       "</style>\n",
       "<table border=\"1\" class=\"dataframe\">\n",
       "  <thead>\n",
       "    <tr style=\"text-align: right;\">\n",
       "      <th></th>\n",
       "      <th>BESS-PAR</th>\n",
       "      <th>BESS-PARdiff</th>\n",
       "      <th>BESS-RSDN</th>\n",
       "      <th>Tmean</th>\n",
       "      <th>prcp</th>\n",
       "      <th>vpd</th>\n",
       "      <th>prcp-lag3</th>\n",
       "      <th>ESACCI-sm</th>\n",
       "      <th>ET</th>\n",
       "      <th>b1</th>\n",
       "      <th>...</th>\n",
       "      <th>MODIS_PFT_GRA</th>\n",
       "      <th>MODIS_PFT_MF</th>\n",
       "      <th>MODIS_PFT_Other</th>\n",
       "      <th>MODIS_PFT_SA</th>\n",
       "      <th>MODIS_PFT_SH</th>\n",
       "      <th>koppen_Arid</th>\n",
       "      <th>koppen_Cold</th>\n",
       "      <th>koppen_Polar</th>\n",
       "      <th>koppen_Temperate</th>\n",
       "      <th>koppen_Tropical</th>\n",
       "    </tr>\n",
       "  </thead>\n",
       "  <tbody>\n",
       "    <tr>\n",
       "      <th>0</th>\n",
       "      <td>154</td>\n",
       "      <td>40</td>\n",
       "      <td>336</td>\n",
       "      <td>300.10977</td>\n",
       "      <td>0.002115</td>\n",
       "      <td>2.066180</td>\n",
       "      <td>0.008739</td>\n",
       "      <td>0.151521</td>\n",
       "      <td>9.014540</td>\n",
       "      <td>0.084426</td>\n",
       "      <td>...</td>\n",
       "      <td>0</td>\n",
       "      <td>0</td>\n",
       "      <td>0</td>\n",
       "      <td>0</td>\n",
       "      <td>1</td>\n",
       "      <td>1</td>\n",
       "      <td>0</td>\n",
       "      <td>0</td>\n",
       "      <td>0</td>\n",
       "      <td>0</td>\n",
       "    </tr>\n",
       "    <tr>\n",
       "      <th>1</th>\n",
       "      <td>120</td>\n",
       "      <td>46</td>\n",
       "      <td>258</td>\n",
       "      <td>297.27515</td>\n",
       "      <td>0.003132</td>\n",
       "      <td>1.090115</td>\n",
       "      <td>0.009724</td>\n",
       "      <td>0.166558</td>\n",
       "      <td>7.677973</td>\n",
       "      <td>0.091800</td>\n",
       "      <td>...</td>\n",
       "      <td>0</td>\n",
       "      <td>0</td>\n",
       "      <td>0</td>\n",
       "      <td>0</td>\n",
       "      <td>1</td>\n",
       "      <td>1</td>\n",
       "      <td>0</td>\n",
       "      <td>0</td>\n",
       "      <td>0</td>\n",
       "      <td>0</td>\n",
       "    </tr>\n",
       "    <tr>\n",
       "      <th>2</th>\n",
       "      <td>107</td>\n",
       "      <td>31</td>\n",
       "      <td>231</td>\n",
       "      <td>296.43670</td>\n",
       "      <td>0.002206</td>\n",
       "      <td>1.168640</td>\n",
       "      <td>0.007453</td>\n",
       "      <td>0.164077</td>\n",
       "      <td>5.890317</td>\n",
       "      <td>0.085561</td>\n",
       "      <td>...</td>\n",
       "      <td>0</td>\n",
       "      <td>0</td>\n",
       "      <td>0</td>\n",
       "      <td>0</td>\n",
       "      <td>1</td>\n",
       "      <td>1</td>\n",
       "      <td>0</td>\n",
       "      <td>0</td>\n",
       "      <td>0</td>\n",
       "      <td>0</td>\n",
       "    </tr>\n",
       "    <tr>\n",
       "      <th>3</th>\n",
       "      <td>81</td>\n",
       "      <td>27</td>\n",
       "      <td>175</td>\n",
       "      <td>290.61377</td>\n",
       "      <td>0.000209</td>\n",
       "      <td>0.946196</td>\n",
       "      <td>0.005547</td>\n",
       "      <td>0.124017</td>\n",
       "      <td>2.345664</td>\n",
       "      <td>0.087403</td>\n",
       "      <td>...</td>\n",
       "      <td>0</td>\n",
       "      <td>0</td>\n",
       "      <td>0</td>\n",
       "      <td>0</td>\n",
       "      <td>1</td>\n",
       "      <td>1</td>\n",
       "      <td>0</td>\n",
       "      <td>0</td>\n",
       "      <td>0</td>\n",
       "      <td>0</td>\n",
       "    </tr>\n",
       "    <tr>\n",
       "      <th>4</th>\n",
       "      <td>56</td>\n",
       "      <td>19</td>\n",
       "      <td>122</td>\n",
       "      <td>286.88320</td>\n",
       "      <td>0.000842</td>\n",
       "      <td>0.716291</td>\n",
       "      <td>0.003257</td>\n",
       "      <td>0.142726</td>\n",
       "      <td>2.208000</td>\n",
       "      <td>0.076190</td>\n",
       "      <td>...</td>\n",
       "      <td>0</td>\n",
       "      <td>0</td>\n",
       "      <td>0</td>\n",
       "      <td>0</td>\n",
       "      <td>1</td>\n",
       "      <td>1</td>\n",
       "      <td>0</td>\n",
       "      <td>0</td>\n",
       "      <td>0</td>\n",
       "      <td>0</td>\n",
       "    </tr>\n",
       "  </tbody>\n",
       "</table>\n",
       "<p>5 rows × 41 columns</p>\n",
       "</div>\n",
       "      <button class=\"colab-df-convert\" onclick=\"convertToInteractive('df-771091ef-97ac-415a-9ce0-dda163c53dfa')\"\n",
       "              title=\"Convert this dataframe to an interactive table.\"\n",
       "              style=\"display:none;\">\n",
       "        \n",
       "  <svg xmlns=\"http://www.w3.org/2000/svg\" height=\"24px\"viewBox=\"0 0 24 24\"\n",
       "       width=\"24px\">\n",
       "    <path d=\"M0 0h24v24H0V0z\" fill=\"none\"/>\n",
       "    <path d=\"M18.56 5.44l.94 2.06.94-2.06 2.06-.94-2.06-.94-.94-2.06-.94 2.06-2.06.94zm-11 1L8.5 8.5l.94-2.06 2.06-.94-2.06-.94L8.5 2.5l-.94 2.06-2.06.94zm10 10l.94 2.06.94-2.06 2.06-.94-2.06-.94-.94-2.06-.94 2.06-2.06.94z\"/><path d=\"M17.41 7.96l-1.37-1.37c-.4-.4-.92-.59-1.43-.59-.52 0-1.04.2-1.43.59L10.3 9.45l-7.72 7.72c-.78.78-.78 2.05 0 2.83L4 21.41c.39.39.9.59 1.41.59.51 0 1.02-.2 1.41-.59l7.78-7.78 2.81-2.81c.8-.78.8-2.07 0-2.86zM5.41 20L4 18.59l7.72-7.72 1.47 1.35L5.41 20z\"/>\n",
       "  </svg>\n",
       "      </button>\n",
       "      \n",
       "  <style>\n",
       "    .colab-df-container {\n",
       "      display:flex;\n",
       "      flex-wrap:wrap;\n",
       "      gap: 12px;\n",
       "    }\n",
       "\n",
       "    .colab-df-convert {\n",
       "      background-color: #E8F0FE;\n",
       "      border: none;\n",
       "      border-radius: 50%;\n",
       "      cursor: pointer;\n",
       "      display: none;\n",
       "      fill: #1967D2;\n",
       "      height: 32px;\n",
       "      padding: 0 0 0 0;\n",
       "      width: 32px;\n",
       "    }\n",
       "\n",
       "    .colab-df-convert:hover {\n",
       "      background-color: #E2EBFA;\n",
       "      box-shadow: 0px 1px 2px rgba(60, 64, 67, 0.3), 0px 1px 3px 1px rgba(60, 64, 67, 0.15);\n",
       "      fill: #174EA6;\n",
       "    }\n",
       "\n",
       "    [theme=dark] .colab-df-convert {\n",
       "      background-color: #3B4455;\n",
       "      fill: #D2E3FC;\n",
       "    }\n",
       "\n",
       "    [theme=dark] .colab-df-convert:hover {\n",
       "      background-color: #434B5C;\n",
       "      box-shadow: 0px 1px 3px 1px rgba(0, 0, 0, 0.15);\n",
       "      filter: drop-shadow(0px 1px 2px rgba(0, 0, 0, 0.3));\n",
       "      fill: #FFFFFF;\n",
       "    }\n",
       "  </style>\n",
       "\n",
       "      <script>\n",
       "        const buttonEl =\n",
       "          document.querySelector('#df-771091ef-97ac-415a-9ce0-dda163c53dfa button.colab-df-convert');\n",
       "        buttonEl.style.display =\n",
       "          google.colab.kernel.accessAllowed ? 'block' : 'none';\n",
       "\n",
       "        async function convertToInteractive(key) {\n",
       "          const element = document.querySelector('#df-771091ef-97ac-415a-9ce0-dda163c53dfa');\n",
       "          const dataTable =\n",
       "            await google.colab.kernel.invokeFunction('convertToInteractive',\n",
       "                                                     [key], {});\n",
       "          if (!dataTable) return;\n",
       "\n",
       "          const docLinkHtml = 'Like what you see? Visit the ' +\n",
       "            '<a target=\"_blank\" href=https://colab.research.google.com/notebooks/data_table.ipynb>data table notebook</a>'\n",
       "            + ' to learn more about interactive tables.';\n",
       "          element.innerHTML = '';\n",
       "          dataTable['output_type'] = 'display_data';\n",
       "          await google.colab.output.renderOutput(dataTable, element);\n",
       "          const docLink = document.createElement('div');\n",
       "          docLink.innerHTML = docLinkHtml;\n",
       "          element.appendChild(docLink);\n",
       "        }\n",
       "      </script>\n",
       "    </div>\n",
       "  </div>\n",
       "  "
      ],
      "text/plain": [
       "   BESS-PAR  BESS-PARdiff  BESS-RSDN      Tmean      prcp       vpd  \\\n",
       "0       154            40        336  300.10977  0.002115  2.066180   \n",
       "1       120            46        258  297.27515  0.003132  1.090115   \n",
       "2       107            31        231  296.43670  0.002206  1.168640   \n",
       "3        81            27        175  290.61377  0.000209  0.946196   \n",
       "4        56            19        122  286.88320  0.000842  0.716291   \n",
       "\n",
       "   prcp-lag3  ESACCI-sm        ET        b1  ...  MODIS_PFT_GRA  MODIS_PFT_MF  \\\n",
       "0   0.008739   0.151521  9.014540  0.084426  ...              0             0   \n",
       "1   0.009724   0.166558  7.677973  0.091800  ...              0             0   \n",
       "2   0.007453   0.164077  5.890317  0.085561  ...              0             0   \n",
       "3   0.005547   0.124017  2.345664  0.087403  ...              0             0   \n",
       "4   0.003257   0.142726  2.208000  0.076190  ...              0             0   \n",
       "\n",
       "   MODIS_PFT_Other  MODIS_PFT_SA  MODIS_PFT_SH  koppen_Arid  koppen_Cold  \\\n",
       "0                0             0             1            1            0   \n",
       "1                0             0             1            1            0   \n",
       "2                0             0             1            1            0   \n",
       "3                0             0             1            1            0   \n",
       "4                0             0             1            1            0   \n",
       "\n",
       "   koppen_Polar  koppen_Temperate  koppen_Tropical  \n",
       "0             0                 0                0  \n",
       "1             0                 0                0  \n",
       "2             0                 0                0  \n",
       "3             0                 0                0  \n",
       "4             0                 0                0  \n",
       "\n",
       "[5 rows x 41 columns]"
      ]
     },
     "execution_count": 55,
     "metadata": {},
     "output_type": "execute_result"
    }
   ],
   "source": [
    "X_train_without = train_df.drop([target, 'SITE_ID', 'year', 'month'], axis = 1)\n",
    "X_train_without.head()"
   ]
  },
  {
   "cell_type": "code",
   "execution_count": 56,
   "metadata": {
    "colab": {
     "base_uri": "https://localhost:8080/",
     "height": 317
    },
    "executionInfo": {
     "elapsed": 14,
     "status": "ok",
     "timestamp": 1666822506396,
     "user": {
      "displayName": "Yaqian Tang",
      "userId": "11643113709903451935"
     },
     "user_tz": 420
    },
    "id": "TByiw6YkF9Ds",
    "outputId": "2378966b-2065-48d2-a4b1-227d52273b6d"
   },
   "outputs": [
    {
     "data": {
      "text/html": [
       "\n",
       "  <div id=\"df-5d302680-00bf-4e21-a9f8-5f56d8481d1b\">\n",
       "    <div class=\"colab-df-container\">\n",
       "      <div>\n",
       "<style scoped>\n",
       "    .dataframe tbody tr th:only-of-type {\n",
       "        vertical-align: middle;\n",
       "    }\n",
       "\n",
       "    .dataframe tbody tr th {\n",
       "        vertical-align: top;\n",
       "    }\n",
       "\n",
       "    .dataframe thead th {\n",
       "        text-align: right;\n",
       "    }\n",
       "</style>\n",
       "<table border=\"1\" class=\"dataframe\">\n",
       "  <thead>\n",
       "    <tr style=\"text-align: right;\">\n",
       "      <th></th>\n",
       "      <th>BESS-PAR</th>\n",
       "      <th>BESS-PARdiff</th>\n",
       "      <th>BESS-RSDN</th>\n",
       "      <th>Tmean</th>\n",
       "      <th>prcp</th>\n",
       "      <th>vpd</th>\n",
       "      <th>prcp-lag3</th>\n",
       "      <th>ESACCI-sm</th>\n",
       "      <th>ET</th>\n",
       "      <th>b1</th>\n",
       "      <th>...</th>\n",
       "      <th>MODIS_PFT_GRA</th>\n",
       "      <th>MODIS_PFT_MF</th>\n",
       "      <th>MODIS_PFT_Other</th>\n",
       "      <th>MODIS_PFT_SA</th>\n",
       "      <th>MODIS_PFT_SH</th>\n",
       "      <th>koppen_Arid</th>\n",
       "      <th>koppen_Cold</th>\n",
       "      <th>koppen_Polar</th>\n",
       "      <th>koppen_Temperate</th>\n",
       "      <th>koppen_Tropical</th>\n",
       "    </tr>\n",
       "  </thead>\n",
       "  <tbody>\n",
       "    <tr>\n",
       "      <th>34</th>\n",
       "      <td>80</td>\n",
       "      <td>54</td>\n",
       "      <td>173</td>\n",
       "      <td>277.19626</td>\n",
       "      <td>0.005213</td>\n",
       "      <td>0.130126</td>\n",
       "      <td>0.013440</td>\n",
       "      <td>0.272129</td>\n",
       "      <td>4.978327</td>\n",
       "      <td>0.047066</td>\n",
       "      <td>...</td>\n",
       "      <td>0</td>\n",
       "      <td>1</td>\n",
       "      <td>0</td>\n",
       "      <td>0</td>\n",
       "      <td>0</td>\n",
       "      <td>0</td>\n",
       "      <td>1</td>\n",
       "      <td>0</td>\n",
       "      <td>0</td>\n",
       "      <td>0</td>\n",
       "    </tr>\n",
       "    <tr>\n",
       "      <th>35</th>\n",
       "      <td>112</td>\n",
       "      <td>56</td>\n",
       "      <td>249</td>\n",
       "      <td>283.57202</td>\n",
       "      <td>0.005298</td>\n",
       "      <td>0.293348</td>\n",
       "      <td>0.014155</td>\n",
       "      <td>0.281479</td>\n",
       "      <td>5.669967</td>\n",
       "      <td>0.041801</td>\n",
       "      <td>...</td>\n",
       "      <td>0</td>\n",
       "      <td>1</td>\n",
       "      <td>0</td>\n",
       "      <td>0</td>\n",
       "      <td>0</td>\n",
       "      <td>0</td>\n",
       "      <td>1</td>\n",
       "      <td>0</td>\n",
       "      <td>0</td>\n",
       "      <td>0</td>\n",
       "    </tr>\n",
       "    <tr>\n",
       "      <th>36</th>\n",
       "      <td>95</td>\n",
       "      <td>50</td>\n",
       "      <td>208</td>\n",
       "      <td>283.60522</td>\n",
       "      <td>0.007136</td>\n",
       "      <td>0.248484</td>\n",
       "      <td>0.017647</td>\n",
       "      <td>0.277045</td>\n",
       "      <td>5.772760</td>\n",
       "      <td>0.032740</td>\n",
       "      <td>...</td>\n",
       "      <td>0</td>\n",
       "      <td>1</td>\n",
       "      <td>0</td>\n",
       "      <td>0</td>\n",
       "      <td>0</td>\n",
       "      <td>0</td>\n",
       "      <td>1</td>\n",
       "      <td>0</td>\n",
       "      <td>0</td>\n",
       "      <td>0</td>\n",
       "    </tr>\n",
       "    <tr>\n",
       "      <th>37</th>\n",
       "      <td>84</td>\n",
       "      <td>44</td>\n",
       "      <td>186</td>\n",
       "      <td>282.80750</td>\n",
       "      <td>0.006768</td>\n",
       "      <td>0.214698</td>\n",
       "      <td>0.019201</td>\n",
       "      <td>0.274122</td>\n",
       "      <td>4.307540</td>\n",
       "      <td>0.033916</td>\n",
       "      <td>...</td>\n",
       "      <td>0</td>\n",
       "      <td>1</td>\n",
       "      <td>0</td>\n",
       "      <td>0</td>\n",
       "      <td>0</td>\n",
       "      <td>0</td>\n",
       "      <td>1</td>\n",
       "      <td>0</td>\n",
       "      <td>0</td>\n",
       "      <td>0</td>\n",
       "    </tr>\n",
       "    <tr>\n",
       "      <th>38</th>\n",
       "      <td>64</td>\n",
       "      <td>31</td>\n",
       "      <td>141</td>\n",
       "      <td>277.55316</td>\n",
       "      <td>0.004696</td>\n",
       "      <td>0.150145</td>\n",
       "      <td>0.018599</td>\n",
       "      <td>0.266339</td>\n",
       "      <td>2.786653</td>\n",
       "      <td>0.035003</td>\n",
       "      <td>...</td>\n",
       "      <td>0</td>\n",
       "      <td>1</td>\n",
       "      <td>0</td>\n",
       "      <td>0</td>\n",
       "      <td>0</td>\n",
       "      <td>0</td>\n",
       "      <td>1</td>\n",
       "      <td>0</td>\n",
       "      <td>0</td>\n",
       "      <td>0</td>\n",
       "    </tr>\n",
       "  </tbody>\n",
       "</table>\n",
       "<p>5 rows × 41 columns</p>\n",
       "</div>\n",
       "      <button class=\"colab-df-convert\" onclick=\"convertToInteractive('df-5d302680-00bf-4e21-a9f8-5f56d8481d1b')\"\n",
       "              title=\"Convert this dataframe to an interactive table.\"\n",
       "              style=\"display:none;\">\n",
       "        \n",
       "  <svg xmlns=\"http://www.w3.org/2000/svg\" height=\"24px\"viewBox=\"0 0 24 24\"\n",
       "       width=\"24px\">\n",
       "    <path d=\"M0 0h24v24H0V0z\" fill=\"none\"/>\n",
       "    <path d=\"M18.56 5.44l.94 2.06.94-2.06 2.06-.94-2.06-.94-.94-2.06-.94 2.06-2.06.94zm-11 1L8.5 8.5l.94-2.06 2.06-.94-2.06-.94L8.5 2.5l-.94 2.06-2.06.94zm10 10l.94 2.06.94-2.06 2.06-.94-2.06-.94-.94-2.06-.94 2.06-2.06.94z\"/><path d=\"M17.41 7.96l-1.37-1.37c-.4-.4-.92-.59-1.43-.59-.52 0-1.04.2-1.43.59L10.3 9.45l-7.72 7.72c-.78.78-.78 2.05 0 2.83L4 21.41c.39.39.9.59 1.41.59.51 0 1.02-.2 1.41-.59l7.78-7.78 2.81-2.81c.8-.78.8-2.07 0-2.86zM5.41 20L4 18.59l7.72-7.72 1.47 1.35L5.41 20z\"/>\n",
       "  </svg>\n",
       "      </button>\n",
       "      \n",
       "  <style>\n",
       "    .colab-df-container {\n",
       "      display:flex;\n",
       "      flex-wrap:wrap;\n",
       "      gap: 12px;\n",
       "    }\n",
       "\n",
       "    .colab-df-convert {\n",
       "      background-color: #E8F0FE;\n",
       "      border: none;\n",
       "      border-radius: 50%;\n",
       "      cursor: pointer;\n",
       "      display: none;\n",
       "      fill: #1967D2;\n",
       "      height: 32px;\n",
       "      padding: 0 0 0 0;\n",
       "      width: 32px;\n",
       "    }\n",
       "\n",
       "    .colab-df-convert:hover {\n",
       "      background-color: #E2EBFA;\n",
       "      box-shadow: 0px 1px 2px rgba(60, 64, 67, 0.3), 0px 1px 3px 1px rgba(60, 64, 67, 0.15);\n",
       "      fill: #174EA6;\n",
       "    }\n",
       "\n",
       "    [theme=dark] .colab-df-convert {\n",
       "      background-color: #3B4455;\n",
       "      fill: #D2E3FC;\n",
       "    }\n",
       "\n",
       "    [theme=dark] .colab-df-convert:hover {\n",
       "      background-color: #434B5C;\n",
       "      box-shadow: 0px 1px 3px 1px rgba(0, 0, 0, 0.15);\n",
       "      filter: drop-shadow(0px 1px 2px rgba(0, 0, 0, 0.3));\n",
       "      fill: #FFFFFF;\n",
       "    }\n",
       "  </style>\n",
       "\n",
       "      <script>\n",
       "        const buttonEl =\n",
       "          document.querySelector('#df-5d302680-00bf-4e21-a9f8-5f56d8481d1b button.colab-df-convert');\n",
       "        buttonEl.style.display =\n",
       "          google.colab.kernel.accessAllowed ? 'block' : 'none';\n",
       "\n",
       "        async function convertToInteractive(key) {\n",
       "          const element = document.querySelector('#df-5d302680-00bf-4e21-a9f8-5f56d8481d1b');\n",
       "          const dataTable =\n",
       "            await google.colab.kernel.invokeFunction('convertToInteractive',\n",
       "                                                     [key], {});\n",
       "          if (!dataTable) return;\n",
       "\n",
       "          const docLinkHtml = 'Like what you see? Visit the ' +\n",
       "            '<a target=\"_blank\" href=https://colab.research.google.com/notebooks/data_table.ipynb>data table notebook</a>'\n",
       "            + ' to learn more about interactive tables.';\n",
       "          element.innerHTML = '';\n",
       "          dataTable['output_type'] = 'display_data';\n",
       "          await google.colab.output.renderOutput(dataTable, element);\n",
       "          const docLink = document.createElement('div');\n",
       "          docLink.innerHTML = docLinkHtml;\n",
       "          element.appendChild(docLink);\n",
       "        }\n",
       "      </script>\n",
       "    </div>\n",
       "  </div>\n",
       "  "
      ],
      "text/plain": [
       "    BESS-PAR  BESS-PARdiff  BESS-RSDN      Tmean      prcp       vpd  \\\n",
       "34        80            54        173  277.19626  0.005213  0.130126   \n",
       "35       112            56        249  283.57202  0.005298  0.293348   \n",
       "36        95            50        208  283.60522  0.007136  0.248484   \n",
       "37        84            44        186  282.80750  0.006768  0.214698   \n",
       "38        64            31        141  277.55316  0.004696  0.150145   \n",
       "\n",
       "    prcp-lag3  ESACCI-sm        ET        b1  ...  MODIS_PFT_GRA  \\\n",
       "34   0.013440   0.272129  4.978327  0.047066  ...              0   \n",
       "35   0.014155   0.281479  5.669967  0.041801  ...              0   \n",
       "36   0.017647   0.277045  5.772760  0.032740  ...              0   \n",
       "37   0.019201   0.274122  4.307540  0.033916  ...              0   \n",
       "38   0.018599   0.266339  2.786653  0.035003  ...              0   \n",
       "\n",
       "    MODIS_PFT_MF  MODIS_PFT_Other  MODIS_PFT_SA  MODIS_PFT_SH  koppen_Arid  \\\n",
       "34             1                0             0             0            0   \n",
       "35             1                0             0             0            0   \n",
       "36             1                0             0             0            0   \n",
       "37             1                0             0             0            0   \n",
       "38             1                0             0             0            0   \n",
       "\n",
       "    koppen_Cold  koppen_Polar  koppen_Temperate  koppen_Tropical  \n",
       "34            1             0                 0                0  \n",
       "35            1             0                 0                0  \n",
       "36            1             0                 0                0  \n",
       "37            1             0                 0                0  \n",
       "38            1             0                 0                0  \n",
       "\n",
       "[5 rows x 41 columns]"
      ]
     },
     "execution_count": 56,
     "metadata": {},
     "output_type": "execute_result"
    }
   ],
   "source": [
    "X_test_without = test_df.drop([target, 'SITE_ID', 'year', 'month'], axis = 1)\n",
    "X_test_without.head()"
   ]
  },
  {
   "cell_type": "code",
   "execution_count": 57,
   "metadata": {
    "executionInfo": {
     "elapsed": 12,
     "status": "ok",
     "timestamp": 1666822506397,
     "user": {
      "displayName": "Yaqian Tang",
      "userId": "11643113709903451935"
     },
     "user_tz": 420
    },
    "id": "d-N-iw8gg3RS"
   },
   "outputs": [],
   "source": [
    "y_train = train_df[target]\n",
    "y_test = test_df[target]"
   ]
  },
  {
   "cell_type": "code",
   "execution_count": 58,
   "metadata": {
    "colab": {
     "base_uri": "https://localhost:8080/"
    },
    "executionInfo": {
     "elapsed": 488,
     "status": "ok",
     "timestamp": 1666822507286,
     "user": {
      "displayName": "Yaqian Tang",
      "userId": "11643113709903451935"
     },
     "user_tz": 420
    },
    "id": "Wipait-Stkx1",
    "outputId": "d29b301c-3603-4e74-fbcf-0b52df221a6d"
   },
   "outputs": [
    {
     "data": {
      "text/plain": [
       "Lasso(alpha=0.001)"
      ]
     },
     "execution_count": 58,
     "metadata": {},
     "output_type": "execute_result"
    }
   ],
   "source": [
    "lasso_model = Lasso(alpha = 0.001)\n",
    "lasso_model.fit(X_train_without, y_train)"
   ]
  },
  {
   "cell_type": "code",
   "execution_count": 59,
   "metadata": {
    "executionInfo": {
     "elapsed": 13,
     "status": "ok",
     "timestamp": 1666822507292,
     "user": {
      "displayName": "Yaqian Tang",
      "userId": "11643113709903451935"
     },
     "user_tz": 420
    },
    "id": "qp9B-TCMuwyY"
   },
   "outputs": [],
   "source": [
    "lasso_y_train_predicted = lasso_model.predict(X_train_without)\n",
    "lasso_y_test_predicted = lasso_model.predict(X_test_without)"
   ]
  },
  {
   "cell_type": "markdown",
   "metadata": {
    "id": "RCPHcIYgy2wF"
   },
   "source": [
    "### Test Set"
   ]
  },
  {
   "cell_type": "code",
   "execution_count": 60,
   "metadata": {
    "executionInfo": {
     "elapsed": 350,
     "status": "ok",
     "timestamp": 1666822509207,
     "user": {
      "displayName": "Yaqian Tang",
      "userId": "11643113709903451935"
     },
     "user_tz": 420
    },
    "id": "e9AyuM_9iWru"
   },
   "outputs": [],
   "source": [
    "lasso_test_df = test_df[['SITE_ID', 'year', 'month', 'BESS-PAR', 'BESS-PARdiff',\n",
    "       'BESS-RSDN', 'Tmean', 'prcp', 'vpd', 'prcp-lag3', 'ESACCI-sm', 'ET',\n",
    "       'b1', 'b2', 'b3', 'b4', 'b5', 'b6', 'b7', 'EVI', 'NDVI', 'GCI', 'NDWI',\n",
    "       'NIRv', 'kNDVI', 'CSIF-SIFdaily', 'Fpar', 'Lai', 'LST_Day', 'LST_Night',\n",
    "       'MODIS_PFT_CRO', 'MODIS_PFT_DBF', 'MODIS_PFT_EBF', 'MODIS_PFT_ENF',\n",
    "       'MODIS_PFT_GRA', 'MODIS_PFT_MF', 'MODIS_PFT_Other', 'MODIS_PFT_SA',\n",
    "       'MODIS_PFT_SH', 'koppen_Arid', 'koppen_Cold', 'koppen_Polar',\n",
    "       'koppen_Temperate', 'koppen_Tropical']]\n",
    "\n",
    "lasso_test_df.insert(loc = 0, column = target, value = lasso_y_test_predicted, allow_duplicates = True)"
   ]
  },
  {
   "cell_type": "code",
   "execution_count": 61,
   "metadata": {
    "colab": {
     "base_uri": "https://localhost:8080/"
    },
    "executionInfo": {
     "elapsed": 653,
     "status": "ok",
     "timestamp": 1666822510134,
     "user": {
      "displayName": "Yaqian Tang",
      "userId": "11643113709903451935"
     },
     "user_tz": 420
    },
    "id": "ajVWjDXpwZyH",
    "outputId": "e0684987-d292-4375-c9ec-2c69bbb564ac"
   },
   "outputs": [
    {
     "name": "stderr",
     "output_type": "stream",
     "text": [
      "/usr/local/lib/python3.7/dist-packages/ipykernel_launcher.py:3: SettingWithCopyWarning: \n",
      "A value is trying to be set on a copy of a slice from a DataFrame.\n",
      "Try using .loc[row_indexer,col_indexer] = value instead\n",
      "\n",
      "See the caveats in the documentation: https://pandas.pydata.org/pandas-docs/stable/user_guide/indexing.html#returning-a-view-versus-a-copy\n",
      "  This is separate from the ipykernel package so we can avoid doing imports until\n"
     ]
    },
    {
     "data": {
      "text/plain": [
       "SITE_ID  Date      \n",
       "AT-Neu   2002-05-01    5.446497\n",
       "         2002-06-01    5.445648\n",
       "         2002-07-01    5.444800\n",
       "         2002-08-01    5.443951\n",
       "         2002-09-01    5.443103\n",
       "                         ...   \n",
       "RU-Fyo   2019-07-01    5.456100\n",
       "         2019-08-01    5.459448\n",
       "         2019-09-01    5.462795\n",
       "         2019-10-01    5.466142\n",
       "         2019-11-01    5.469489\n",
       "Name: GPP_NT_VUT_REF, Length: 4150, dtype: float64"
      ]
     },
     "execution_count": 61,
     "metadata": {},
     "output_type": "execute_result"
    }
   ],
   "source": [
    "# for observed test set: fitting a linear regression line and get trends and slopes of each site\n",
    "\n",
    "lasso_test_df['Date'] = lasso_test_df.apply(lambda x: convert_to_timestamp(x['year'], x['month']),axis=1)\n",
    "lasso_test_df = lasso_test_df.set_index(['SITE_ID', 'Date'])\n",
    "\n",
    "lasso_trends = trend(lasso_test_df[target])\n",
    "lasso_slopes = across_site_trend(lasso_test_df[target])\n",
    "lasso_trends"
   ]
  },
  {
   "cell_type": "code",
   "execution_count": 62,
   "metadata": {
    "executionInfo": {
     "elapsed": 12,
     "status": "ok",
     "timestamp": 1666822510135,
     "user": {
      "displayName": "Yaqian Tang",
      "userId": "11643113709903451935"
     },
     "user_tz": 420
    },
    "id": "-ydKYIL10Hyz"
   },
   "outputs": [],
   "source": [
    "lasso_detrends = lasso_test_df[target].sub(lasso_trends)\n",
    "lasso_test_df['detrended_GPP'] = lasso_detrends"
   ]
  },
  {
   "cell_type": "code",
   "execution_count": 63,
   "metadata": {
    "colab": {
     "base_uri": "https://localhost:8080/",
     "height": 455
    },
    "executionInfo": {
     "elapsed": 11,
     "status": "ok",
     "timestamp": 1666822510135,
     "user": {
      "displayName": "Yaqian Tang",
      "userId": "11643113709903451935"
     },
     "user_tz": 420
    },
    "id": "yufupLtT0KWh",
    "outputId": "a89331f1-76ea-4048-e837-1bcdfce6f2c6"
   },
   "outputs": [
    {
     "data": {
      "text/html": [
       "\n",
       "  <div id=\"df-0e7a3f00-41d6-4f3f-9f3d-0c293690a2ca\">\n",
       "    <div class=\"colab-df-container\">\n",
       "      <div>\n",
       "<style scoped>\n",
       "    .dataframe tbody tr th:only-of-type {\n",
       "        vertical-align: middle;\n",
       "    }\n",
       "\n",
       "    .dataframe tbody tr th {\n",
       "        vertical-align: top;\n",
       "    }\n",
       "\n",
       "    .dataframe thead th {\n",
       "        text-align: right;\n",
       "    }\n",
       "</style>\n",
       "<table border=\"1\" class=\"dataframe\">\n",
       "  <thead>\n",
       "    <tr style=\"text-align: right;\">\n",
       "      <th></th>\n",
       "      <th></th>\n",
       "      <th>month</th>\n",
       "      <th>detrended_GPP</th>\n",
       "    </tr>\n",
       "    <tr>\n",
       "      <th>SITE_ID</th>\n",
       "      <th>Date</th>\n",
       "      <th></th>\n",
       "      <th></th>\n",
       "    </tr>\n",
       "  </thead>\n",
       "  <tbody>\n",
       "    <tr>\n",
       "      <th rowspan=\"5\" valign=\"top\">AT-Neu</th>\n",
       "      <th>5</th>\n",
       "      <td>5.0</td>\n",
       "      <td>0.656339</td>\n",
       "    </tr>\n",
       "    <tr>\n",
       "      <th>6</th>\n",
       "      <td>6.0</td>\n",
       "      <td>2.165113</td>\n",
       "    </tr>\n",
       "    <tr>\n",
       "      <th>7</th>\n",
       "      <td>7.0</td>\n",
       "      <td>2.868141</td>\n",
       "    </tr>\n",
       "    <tr>\n",
       "      <th>8</th>\n",
       "      <td>8.0</td>\n",
       "      <td>1.608096</td>\n",
       "    </tr>\n",
       "    <tr>\n",
       "      <th>9</th>\n",
       "      <td>9.0</td>\n",
       "      <td>-0.024098</td>\n",
       "    </tr>\n",
       "    <tr>\n",
       "      <th>...</th>\n",
       "      <th>...</th>\n",
       "      <td>...</td>\n",
       "      <td>...</td>\n",
       "    </tr>\n",
       "    <tr>\n",
       "      <th rowspan=\"5\" valign=\"top\">US-Wi4</th>\n",
       "      <th>6</th>\n",
       "      <td>6.0</td>\n",
       "      <td>0.266840</td>\n",
       "    </tr>\n",
       "    <tr>\n",
       "      <th>7</th>\n",
       "      <td>7.0</td>\n",
       "      <td>3.013874</td>\n",
       "    </tr>\n",
       "    <tr>\n",
       "      <th>8</th>\n",
       "      <td>8.0</td>\n",
       "      <td>1.367668</td>\n",
       "    </tr>\n",
       "    <tr>\n",
       "      <th>9</th>\n",
       "      <td>9.0</td>\n",
       "      <td>-1.423372</td>\n",
       "    </tr>\n",
       "    <tr>\n",
       "      <th>10</th>\n",
       "      <td>10.0</td>\n",
       "      <td>-5.409582</td>\n",
       "    </tr>\n",
       "  </tbody>\n",
       "</table>\n",
       "<p>707 rows × 2 columns</p>\n",
       "</div>\n",
       "      <button class=\"colab-df-convert\" onclick=\"convertToInteractive('df-0e7a3f00-41d6-4f3f-9f3d-0c293690a2ca')\"\n",
       "              title=\"Convert this dataframe to an interactive table.\"\n",
       "              style=\"display:none;\">\n",
       "        \n",
       "  <svg xmlns=\"http://www.w3.org/2000/svg\" height=\"24px\"viewBox=\"0 0 24 24\"\n",
       "       width=\"24px\">\n",
       "    <path d=\"M0 0h24v24H0V0z\" fill=\"none\"/>\n",
       "    <path d=\"M18.56 5.44l.94 2.06.94-2.06 2.06-.94-2.06-.94-.94-2.06-.94 2.06-2.06.94zm-11 1L8.5 8.5l.94-2.06 2.06-.94-2.06-.94L8.5 2.5l-.94 2.06-2.06.94zm10 10l.94 2.06.94-2.06 2.06-.94-2.06-.94-.94-2.06-.94 2.06-2.06.94z\"/><path d=\"M17.41 7.96l-1.37-1.37c-.4-.4-.92-.59-1.43-.59-.52 0-1.04.2-1.43.59L10.3 9.45l-7.72 7.72c-.78.78-.78 2.05 0 2.83L4 21.41c.39.39.9.59 1.41.59.51 0 1.02-.2 1.41-.59l7.78-7.78 2.81-2.81c.8-.78.8-2.07 0-2.86zM5.41 20L4 18.59l7.72-7.72 1.47 1.35L5.41 20z\"/>\n",
       "  </svg>\n",
       "      </button>\n",
       "      \n",
       "  <style>\n",
       "    .colab-df-container {\n",
       "      display:flex;\n",
       "      flex-wrap:wrap;\n",
       "      gap: 12px;\n",
       "    }\n",
       "\n",
       "    .colab-df-convert {\n",
       "      background-color: #E8F0FE;\n",
       "      border: none;\n",
       "      border-radius: 50%;\n",
       "      cursor: pointer;\n",
       "      display: none;\n",
       "      fill: #1967D2;\n",
       "      height: 32px;\n",
       "      padding: 0 0 0 0;\n",
       "      width: 32px;\n",
       "    }\n",
       "\n",
       "    .colab-df-convert:hover {\n",
       "      background-color: #E2EBFA;\n",
       "      box-shadow: 0px 1px 2px rgba(60, 64, 67, 0.3), 0px 1px 3px 1px rgba(60, 64, 67, 0.15);\n",
       "      fill: #174EA6;\n",
       "    }\n",
       "\n",
       "    [theme=dark] .colab-df-convert {\n",
       "      background-color: #3B4455;\n",
       "      fill: #D2E3FC;\n",
       "    }\n",
       "\n",
       "    [theme=dark] .colab-df-convert:hover {\n",
       "      background-color: #434B5C;\n",
       "      box-shadow: 0px 1px 3px 1px rgba(0, 0, 0, 0.15);\n",
       "      filter: drop-shadow(0px 1px 2px rgba(0, 0, 0, 0.3));\n",
       "      fill: #FFFFFF;\n",
       "    }\n",
       "  </style>\n",
       "\n",
       "      <script>\n",
       "        const buttonEl =\n",
       "          document.querySelector('#df-0e7a3f00-41d6-4f3f-9f3d-0c293690a2ca button.colab-df-convert');\n",
       "        buttonEl.style.display =\n",
       "          google.colab.kernel.accessAllowed ? 'block' : 'none';\n",
       "\n",
       "        async function convertToInteractive(key) {\n",
       "          const element = document.querySelector('#df-0e7a3f00-41d6-4f3f-9f3d-0c293690a2ca');\n",
       "          const dataTable =\n",
       "            await google.colab.kernel.invokeFunction('convertToInteractive',\n",
       "                                                     [key], {});\n",
       "          if (!dataTable) return;\n",
       "\n",
       "          const docLinkHtml = 'Like what you see? Visit the ' +\n",
       "            '<a target=\"_blank\" href=https://colab.research.google.com/notebooks/data_table.ipynb>data table notebook</a>'\n",
       "            + ' to learn more about interactive tables.';\n",
       "          element.innerHTML = '';\n",
       "          dataTable['output_type'] = 'display_data';\n",
       "          await google.colab.output.renderOutput(dataTable, element);\n",
       "          const docLink = document.createElement('div');\n",
       "          docLink.innerHTML = docLinkHtml;\n",
       "          element.appendChild(docLink);\n",
       "        }\n",
       "      </script>\n",
       "    </div>\n",
       "  </div>\n",
       "  "
      ],
      "text/plain": [
       "              month  detrended_GPP\n",
       "SITE_ID Date                      \n",
       "AT-Neu  5       5.0       0.656339\n",
       "        6       6.0       2.165113\n",
       "        7       7.0       2.868141\n",
       "        8       8.0       1.608096\n",
       "        9       9.0      -0.024098\n",
       "...             ...            ...\n",
       "US-Wi4  6       6.0       0.266840\n",
       "        7       7.0       3.013874\n",
       "        8       8.0       1.367668\n",
       "        9       9.0      -1.423372\n",
       "        10     10.0      -5.409582\n",
       "\n",
       "[707 rows x 2 columns]"
      ]
     },
     "execution_count": 63,
     "metadata": {},
     "output_type": "execute_result"
    }
   ],
   "source": [
    "# GPP Seasonal: average detrended GPP for each month over all years \n",
    "\n",
    "lasso_seasonal_gpp = msc(lasso_test_df[['month', 'detrended_GPP']])\n",
    "lasso_seasonal_gpp"
   ]
  },
  {
   "cell_type": "code",
   "execution_count": 64,
   "metadata": {
    "colab": {
     "base_uri": "https://localhost:8080/",
     "height": 455
    },
    "executionInfo": {
     "elapsed": 2,
     "status": "ok",
     "timestamp": 1666822510363,
     "user": {
      "displayName": "Yaqian Tang",
      "userId": "11643113709903451935"
     },
     "user_tz": 420
    },
    "id": "iQQYrsd10NYA",
    "outputId": "6320aa83-258d-4378-bc56-1fc7c3c26ff0"
   },
   "outputs": [
    {
     "data": {
      "text/html": [
       "\n",
       "  <div id=\"df-ff5d907d-0e0c-4318-906a-8116e05b581a\">\n",
       "    <div class=\"colab-df-container\">\n",
       "      <div>\n",
       "<style scoped>\n",
       "    .dataframe tbody tr th:only-of-type {\n",
       "        vertical-align: middle;\n",
       "    }\n",
       "\n",
       "    .dataframe tbody tr th {\n",
       "        vertical-align: top;\n",
       "    }\n",
       "\n",
       "    .dataframe thead th {\n",
       "        text-align: right;\n",
       "    }\n",
       "</style>\n",
       "<table border=\"1\" class=\"dataframe\">\n",
       "  <thead>\n",
       "    <tr style=\"text-align: right;\">\n",
       "      <th></th>\n",
       "      <th></th>\n",
       "      <th>detrended_GPP</th>\n",
       "    </tr>\n",
       "    <tr>\n",
       "      <th>SITE_ID</th>\n",
       "      <th>Date</th>\n",
       "      <th></th>\n",
       "    </tr>\n",
       "  </thead>\n",
       "  <tbody>\n",
       "    <tr>\n",
       "      <th rowspan=\"5\" valign=\"top\">AT-Neu</th>\n",
       "      <th>2002-05-01</th>\n",
       "      <td>-0.251901</td>\n",
       "    </tr>\n",
       "    <tr>\n",
       "      <th>2002-06-01</th>\n",
       "      <td>0.611987</td>\n",
       "    </tr>\n",
       "    <tr>\n",
       "      <th>2002-07-01</th>\n",
       "      <td>0.254801</td>\n",
       "    </tr>\n",
       "    <tr>\n",
       "      <th>2002-08-01</th>\n",
       "      <td>-0.292596</td>\n",
       "    </tr>\n",
       "    <tr>\n",
       "      <th>2002-09-01</th>\n",
       "      <td>-0.654599</td>\n",
       "    </tr>\n",
       "    <tr>\n",
       "      <th>...</th>\n",
       "      <th>...</th>\n",
       "      <td>...</td>\n",
       "    </tr>\n",
       "    <tr>\n",
       "      <th rowspan=\"5\" valign=\"top\">RU-Fyo</th>\n",
       "      <th>2019-07-01</th>\n",
       "      <td>-1.173527</td>\n",
       "    </tr>\n",
       "    <tr>\n",
       "      <th>2019-08-01</th>\n",
       "      <td>-0.706778</td>\n",
       "    </tr>\n",
       "    <tr>\n",
       "      <th>2019-09-01</th>\n",
       "      <td>-0.224395</td>\n",
       "    </tr>\n",
       "    <tr>\n",
       "      <th>2019-10-01</th>\n",
       "      <td>-0.103871</td>\n",
       "    </tr>\n",
       "    <tr>\n",
       "      <th>2019-11-01</th>\n",
       "      <td>-0.563609</td>\n",
       "    </tr>\n",
       "  </tbody>\n",
       "</table>\n",
       "<p>4150 rows × 1 columns</p>\n",
       "</div>\n",
       "      <button class=\"colab-df-convert\" onclick=\"convertToInteractive('df-ff5d907d-0e0c-4318-906a-8116e05b581a')\"\n",
       "              title=\"Convert this dataframe to an interactive table.\"\n",
       "              style=\"display:none;\">\n",
       "        \n",
       "  <svg xmlns=\"http://www.w3.org/2000/svg\" height=\"24px\"viewBox=\"0 0 24 24\"\n",
       "       width=\"24px\">\n",
       "    <path d=\"M0 0h24v24H0V0z\" fill=\"none\"/>\n",
       "    <path d=\"M18.56 5.44l.94 2.06.94-2.06 2.06-.94-2.06-.94-.94-2.06-.94 2.06-2.06.94zm-11 1L8.5 8.5l.94-2.06 2.06-.94-2.06-.94L8.5 2.5l-.94 2.06-2.06.94zm10 10l.94 2.06.94-2.06 2.06-.94-2.06-.94-.94-2.06-.94 2.06-2.06.94z\"/><path d=\"M17.41 7.96l-1.37-1.37c-.4-.4-.92-.59-1.43-.59-.52 0-1.04.2-1.43.59L10.3 9.45l-7.72 7.72c-.78.78-.78 2.05 0 2.83L4 21.41c.39.39.9.59 1.41.59.51 0 1.02-.2 1.41-.59l7.78-7.78 2.81-2.81c.8-.78.8-2.07 0-2.86zM5.41 20L4 18.59l7.72-7.72 1.47 1.35L5.41 20z\"/>\n",
       "  </svg>\n",
       "      </button>\n",
       "      \n",
       "  <style>\n",
       "    .colab-df-container {\n",
       "      display:flex;\n",
       "      flex-wrap:wrap;\n",
       "      gap: 12px;\n",
       "    }\n",
       "\n",
       "    .colab-df-convert {\n",
       "      background-color: #E8F0FE;\n",
       "      border: none;\n",
       "      border-radius: 50%;\n",
       "      cursor: pointer;\n",
       "      display: none;\n",
       "      fill: #1967D2;\n",
       "      height: 32px;\n",
       "      padding: 0 0 0 0;\n",
       "      width: 32px;\n",
       "    }\n",
       "\n",
       "    .colab-df-convert:hover {\n",
       "      background-color: #E2EBFA;\n",
       "      box-shadow: 0px 1px 2px rgba(60, 64, 67, 0.3), 0px 1px 3px 1px rgba(60, 64, 67, 0.15);\n",
       "      fill: #174EA6;\n",
       "    }\n",
       "\n",
       "    [theme=dark] .colab-df-convert {\n",
       "      background-color: #3B4455;\n",
       "      fill: #D2E3FC;\n",
       "    }\n",
       "\n",
       "    [theme=dark] .colab-df-convert:hover {\n",
       "      background-color: #434B5C;\n",
       "      box-shadow: 0px 1px 3px 1px rgba(0, 0, 0, 0.15);\n",
       "      filter: drop-shadow(0px 1px 2px rgba(0, 0, 0, 0.3));\n",
       "      fill: #FFFFFF;\n",
       "    }\n",
       "  </style>\n",
       "\n",
       "      <script>\n",
       "        const buttonEl =\n",
       "          document.querySelector('#df-ff5d907d-0e0c-4318-906a-8116e05b581a button.colab-df-convert');\n",
       "        buttonEl.style.display =\n",
       "          google.colab.kernel.accessAllowed ? 'block' : 'none';\n",
       "\n",
       "        async function convertToInteractive(key) {\n",
       "          const element = document.querySelector('#df-ff5d907d-0e0c-4318-906a-8116e05b581a');\n",
       "          const dataTable =\n",
       "            await google.colab.kernel.invokeFunction('convertToInteractive',\n",
       "                                                     [key], {});\n",
       "          if (!dataTable) return;\n",
       "\n",
       "          const docLinkHtml = 'Like what you see? Visit the ' +\n",
       "            '<a target=\"_blank\" href=https://colab.research.google.com/notebooks/data_table.ipynb>data table notebook</a>'\n",
       "            + ' to learn more about interactive tables.';\n",
       "          element.innerHTML = '';\n",
       "          dataTable['output_type'] = 'display_data';\n",
       "          await google.colab.output.renderOutput(dataTable, element);\n",
       "          const docLink = document.createElement('div');\n",
       "          docLink.innerHTML = docLinkHtml;\n",
       "          element.appendChild(docLink);\n",
       "        }\n",
       "      </script>\n",
       "    </div>\n",
       "  </div>\n",
       "  "
      ],
      "text/plain": [
       "                    detrended_GPP\n",
       "SITE_ID Date                     \n",
       "AT-Neu  2002-05-01      -0.251901\n",
       "        2002-06-01       0.611987\n",
       "        2002-07-01       0.254801\n",
       "        2002-08-01      -0.292596\n",
       "        2002-09-01      -0.654599\n",
       "...                           ...\n",
       "RU-Fyo  2019-07-01      -1.173527\n",
       "        2019-08-01      -0.706778\n",
       "        2019-09-01      -0.224395\n",
       "        2019-10-01      -0.103871\n",
       "        2019-11-01      -0.563609\n",
       "\n",
       "[4150 rows x 1 columns]"
      ]
     },
     "execution_count": 64,
     "metadata": {},
     "output_type": "execute_result"
    }
   ],
   "source": [
    "# Calculate GPP Anomaly: Subtract MSC from Detrended GPP\n",
    "\n",
    "lasso_anomalies = iav(lasso_test_df[['detrended_GPP']])\n",
    "lasso_anomalies"
   ]
  },
  {
   "cell_type": "code",
   "execution_count": 65,
   "metadata": {
    "colab": {
     "base_uri": "https://localhost:8080/"
    },
    "executionInfo": {
     "elapsed": 4,
     "status": "ok",
     "timestamp": 1666822510841,
     "user": {
      "displayName": "Yaqian Tang",
      "userId": "11643113709903451935"
     },
     "user_tz": 420
    },
    "id": "-cDMBUduJ5eA",
    "outputId": "021de2e2-2f93-4f25-b427-3afeea0afd04"
   },
   "outputs": [
    {
     "name": "stdout",
     "output_type": "stream",
     "text": [
      "The R2 of trends is: 0.6719167094364648\n",
      "The R2 of MSC is: 0.9023605880509078\n",
      "The RMSE of trends is: 1.2490992708642137\n",
      "The RMSE of msc is: 0.8739111984276586\n"
     ]
    }
   ],
   "source": [
    "r2_trend = r2_score(test_trends, lasso_trends)\n",
    "r2_msc = r2_score(test_seasonal_gpp, lasso_seasonal_gpp)\n",
    "rmse_trend = np.sqrt(mean_squared_error(test_trends, lasso_trends))\n",
    "rmse_msc = np.sqrt(mean_squared_error(test_seasonal_gpp, lasso_seasonal_gpp))\n",
    "\n",
    "print(\"The R2 of trends is: \" + str(r2_trend))\n",
    "print(\"The R2 of MSC is: \" + str(r2_msc))\n",
    "print(\"The RMSE of trends is: \" + str(rmse_trend))\n",
    "print(\"The RMSE of msc is: \" + str(rmse_msc))"
   ]
  },
  {
   "cell_type": "markdown",
   "metadata": {
    "id": "ARAkRZ5rK9jL"
   },
   "source": [
    "## SVM"
   ]
  },
  {
   "cell_type": "code",
   "execution_count": 219,
   "metadata": {
    "colab": {
     "base_uri": "https://localhost:8080/"
    },
    "executionInfo": {
     "elapsed": 44560,
     "status": "ok",
     "timestamp": 1666775231940,
     "user": {
      "displayName": "Yaqian Tang",
      "userId": "11643113709903451935"
     },
     "user_tz": 420
    },
    "id": "AmcyH55EVJ8R",
    "outputId": "ee08f8a1-cee7-4ca6-efd9-246fcb057bcf"
   },
   "outputs": [
    {
     "data": {
      "text/plain": [
       "SVR(C=10, gamma=0.1)"
      ]
     },
     "execution_count": 219,
     "metadata": {},
     "output_type": "execute_result"
    }
   ],
   "source": [
    "svm_model = SVR(kernel = 'rbf', gamma = 0.1, C = 10)\n",
    "svm_model.fit(X_train_without, y_train)"
   ]
  },
  {
   "cell_type": "code",
   "execution_count": 220,
   "metadata": {
    "executionInfo": {
     "elapsed": 23466,
     "status": "ok",
     "timestamp": 1666775385906,
     "user": {
      "displayName": "Yaqian Tang",
      "userId": "11643113709903451935"
     },
     "user_tz": 420
    },
    "id": "OBswbqsJi0Nt"
   },
   "outputs": [],
   "source": [
    "svm_y_train_predicted = svm_model.predict(X_train_without)\n",
    "svm_y_test_predicted = svm_model.predict(X_test_without)"
   ]
  },
  {
   "cell_type": "markdown",
   "metadata": {
    "id": "x1jqTTPDLCaP"
   },
   "source": [
    "### Test Set"
   ]
  },
  {
   "cell_type": "code",
   "execution_count": 221,
   "metadata": {
    "colab": {
     "base_uri": "https://localhost:8080/"
    },
    "executionInfo": {
     "elapsed": 751,
     "status": "ok",
     "timestamp": 1666775420096,
     "user": {
      "displayName": "Yaqian Tang",
      "userId": "11643113709903451935"
     },
     "user_tz": 420
    },
    "id": "6gOfSQkxi_vd",
    "outputId": "08db143c-9d11-4a89-e141-5e0ef36a65bc"
   },
   "outputs": [
    {
     "name": "stderr",
     "output_type": "stream",
     "text": [
      "/usr/local/lib/python3.7/dist-packages/ipykernel_launcher.py:15: SettingWithCopyWarning: \n",
      "A value is trying to be set on a copy of a slice from a DataFrame.\n",
      "Try using .loc[row_indexer,col_indexer] = value instead\n",
      "\n",
      "See the caveats in the documentation: https://pandas.pydata.org/pandas-docs/stable/user_guide/indexing.html#returning-a-view-versus-a-copy\n",
      "  from ipykernel import kernelapp as app\n"
     ]
    },
    {
     "name": "stdout",
     "output_type": "stream",
     "text": [
      "The R2 of trends is: 0.2829544943848772\n",
      "The R2 of MSC is: 0.8359639949744935\n",
      "The RMSE of trends is: 1.3975108090101587\n",
      "The RMSE of msc is: 1.1134097056438486\n"
     ]
    }
   ],
   "source": [
    "svm_test_df = test_df[['SITE_ID', 'year', 'month', 'BESS-PAR', 'BESS-PARdiff',\n",
    "       'BESS-RSDN', 'Tmean', 'prcp', 'vpd', 'prcp-lag3', 'ESACCI-sm', 'ET',\n",
    "       'b1', 'b2', 'b3', 'b4', 'b5', 'b6', 'b7', 'EVI', 'NDVI', 'GCI', 'NDWI',\n",
    "       'NIRv', 'kNDVI', 'CSIF-SIFdaily', 'Fpar', 'Lai', 'LST_Day', 'LST_Night',\n",
    "       'MODIS_PFT_CRO', 'MODIS_PFT_DBF', 'MODIS_PFT_EBF', 'MODIS_PFT_ENF',\n",
    "       'MODIS_PFT_GRA', 'MODIS_PFT_MF', 'MODIS_PFT_Other', 'MODIS_PFT_SA',\n",
    "       'MODIS_PFT_SH', 'koppen_Arid', 'koppen_Cold', 'koppen_Polar',\n",
    "       'koppen_Temperate', 'koppen_Tropical']]\n",
    "\n",
    "svm_test_df.insert(loc = 0, column = target, value = svm_y_test_predicted, allow_duplicates = True)\n",
    "\n",
    "\n",
    "# for observed test set: fitting a linear regression line and get trends and slopes of each site\n",
    "\n",
    "svm_test_df['Date'] = svm_test_df.apply(lambda x: convert_to_timestamp(x['year'], x['month']),axis=1)\n",
    "svm_test_df = svm_test_df.set_index(['SITE_ID', 'Date'])\n",
    "\n",
    "svm_trends = trend(svm_test_df[target])\n",
    "svm_slopes = across_site_trend(svm_test_df[target])\n",
    "svm_trends\n",
    "\n",
    "# compute detrended for model\n",
    "svm_detrends = svm_test_df[target].sub(svm_trends)\n",
    "svm_test_df['detrended_GPP'] = svm_detrends\n",
    "\n",
    "\n",
    "# GPP Seasonal: average detrended GPP for each month over all years \n",
    "\n",
    "svm_seasonal_gpp = msc(svm_test_df[['month', 'detrended_GPP']])\n",
    "svm_seasonal_gpp\n",
    "\n",
    "# print out error statistics\n",
    "\n",
    "r2_trend = r2_score(test_trends, svm_trends)\n",
    "r2_msc = r2_score(test_seasonal_gpp, svm_seasonal_gpp)\n",
    "rmse_trend = np.sqrt(mean_squared_error(test_trends, svm_trends))\n",
    "rmse_msc = np.sqrt(mean_squared_error(test_seasonal_gpp, svm_seasonal_gpp))\n",
    "\n",
    "print(\"The R2 of trends is: \" + str(r2_trend))\n",
    "print(\"The R2 of MSC is: \" + str(r2_msc))\n",
    "print(\"The RMSE of trends is: \" + str(rmse_trend))\n",
    "print(\"The RMSE of msc is: \" + str(rmse_msc))"
   ]
  },
  {
   "cell_type": "markdown",
   "metadata": {
    "id": "TUga73BUVa0s"
   },
   "source": [
    "## Random Forest"
   ]
  },
  {
   "cell_type": "code",
   "execution_count": null,
   "metadata": {
    "executionInfo": {
     "elapsed": 162,
     "status": "aborted",
     "timestamp": 1666773653999,
     "user": {
      "displayName": "Yaqian Tang",
      "userId": "11643113709903451935"
     },
     "user_tz": 420
    },
    "id": "mXdywfIUDIHt"
   },
   "outputs": [],
   "source": [
    "# Number of trees in random forest\n",
    "n_estimators = [25, 50, 75, 100, 150, 200]\n",
    "# Number of features to consider at every split\n",
    "max_features = ['auto', 'sqrt', 0.1, 0.5, 1.0]\n",
    "# Maximum number of levels in tree\n",
    "max_depth = [3, 4, 5, 6]\n",
    "# Minimum number of samples required to split a node\n",
    "min_samples_split = [2,3,4,5,6]\n",
    "# Minimum number of samples required at each leaf node\n",
    "min_samples_leaf = [2,3,4,5,6]\n",
    "# Method of selecting samples for training each tree\n",
    "bootstrap = [True, False]\n",
    "\n",
    "\n",
    "# Create the random grid\n",
    "random_grid = {'n_estimators': n_estimators,\n",
    "               'max_features': max_features,\n",
    "               'max_depth': max_depth,\n",
    "               'min_samples_split': min_samples_split,\n",
    "               'min_samples_leaf': min_samples_leaf,\n",
    "               'bootstrap': bootstrap}\n",
    "rf = RandomForestRegressor()\n",
    "rf_model = RandomizedSearchCV(estimator = rf, param_distributions = random_grid, \n",
    "                               scoring='neg_mean_squared_error', n_iter = 10, verbose=2, \n",
    "                               random_state=2022, n_jobs = -1)\n",
    "rf_model.fit(X_train, y_train)"
   ]
  },
  {
   "cell_type": "code",
   "execution_count": null,
   "metadata": {
    "executionInfo": {
     "elapsed": 124,
     "status": "aborted",
     "timestamp": 1666773653999,
     "user": {
      "displayName": "Yaqian Tang",
      "userId": "11643113709903451935"
     },
     "user_tz": 420
    },
    "id": "_0t7SMmsCuH2"
   },
   "outputs": [],
   "source": [
    "# fitting a linear regression line and get trends and slopes of each site\n",
    "rf_test_df = pd.DataFrame(data = X_test, columns = ['SITE_ID', 'year', 'month', 'BESS-PAR', 'BESS-PARdiff',\n",
    "       'BESS-RSDN', 'Tmean', 'prcp', 'vpd', 'prcp-lag3', 'ESACCI-sm', 'ET',\n",
    "       'b1', 'b2', 'b3', 'b4', 'b5', 'b6', 'b7', 'EVI', 'NDVI', 'GCI', 'NDWI',\n",
    "       'NIRv', 'kNDVI', 'CSIF-SIFdaily', 'Fpar', 'Lai', 'LST_Day', 'LST_Night',\n",
    "       'MODIS_PFT_CRO', 'MODIS_PFT_DBF', 'MODIS_PFT_EBF', 'MODIS_PFT_ENF',\n",
    "       'MODIS_PFT_GRA', 'MODIS_PFT_MF', 'MODIS_PFT_Other', 'MODIS_PFT_SA',\n",
    "       'MODIS_PFT_SH', 'koppen_Arid', 'koppen_Cold', 'koppen_Polar',\n",
    "       'koppen_Temperate', 'koppen_Tropical'])\n",
    "\n",
    "rf_test_df.insert(loc = 0, column = target, value = rf_y_test_predicted, allow_duplicates = True)"
   ]
  },
  {
   "cell_type": "code",
   "execution_count": 222,
   "metadata": {
    "executionInfo": {
     "elapsed": 19476,
     "status": "ok",
     "timestamp": 1666775919173,
     "user": {
      "displayName": "Yaqian Tang",
      "userId": "11643113709903451935"
     },
     "user_tz": 420
    },
    "id": "6Eof8B_plVel"
   },
   "outputs": [],
   "source": [
    "rf_model = RandomForestRegressor(n_estimators=200, min_samples_split=6, min_samples_leaf=6, \n",
    "                                 max_features=0.5, max_depth = 6, bootstrap = False)\n",
    "rf_model.fit(X_train_without, y_train)\n",
    "\n",
    "rf_y_train_predicted = rf_model.predict(X_train_without)\n",
    "rf_y_test_predicted = rf_model.predict(X_test_without)"
   ]
  },
  {
   "cell_type": "markdown",
   "metadata": {
    "id": "quemIBbVVdoK"
   },
   "source": [
    "### Test Set"
   ]
  },
  {
   "cell_type": "code",
   "execution_count": 223,
   "metadata": {
    "colab": {
     "base_uri": "https://localhost:8080/"
    },
    "executionInfo": {
     "elapsed": 1241,
     "status": "ok",
     "timestamp": 1666775994716,
     "user": {
      "displayName": "Yaqian Tang",
      "userId": "11643113709903451935"
     },
     "user_tz": 420
    },
    "id": "J9w19lI5-fOy",
    "outputId": "4874143b-57fd-472e-84c8-44d54d44982a"
   },
   "outputs": [
    {
     "name": "stderr",
     "output_type": "stream",
     "text": [
      "/usr/local/lib/python3.7/dist-packages/ipykernel_launcher.py:15: SettingWithCopyWarning: \n",
      "A value is trying to be set on a copy of a slice from a DataFrame.\n",
      "Try using .loc[row_indexer,col_indexer] = value instead\n",
      "\n",
      "See the caveats in the documentation: https://pandas.pydata.org/pandas-docs/stable/user_guide/indexing.html#returning-a-view-versus-a-copy\n",
      "  from ipykernel import kernelapp as app\n"
     ]
    },
    {
     "name": "stdout",
     "output_type": "stream",
     "text": [
      "The R2 of trends is: 0.5954794448037088\n",
      "The R2 of MSC is: 0.9137330858300313\n",
      "The RMSE of trends is: 1.049668377855934\n",
      "The RMSE of msc is: 0.8074349471543812\n"
     ]
    }
   ],
   "source": [
    "rf_test_df = test_df[['SITE_ID', 'year', 'month', 'BESS-PAR', 'BESS-PARdiff',\n",
    "       'BESS-RSDN', 'Tmean', 'prcp', 'vpd', 'prcp-lag3', 'ESACCI-sm', 'ET',\n",
    "       'b1', 'b2', 'b3', 'b4', 'b5', 'b6', 'b7', 'EVI', 'NDVI', 'GCI', 'NDWI',\n",
    "       'NIRv', 'kNDVI', 'CSIF-SIFdaily', 'Fpar', 'Lai', 'LST_Day', 'LST_Night',\n",
    "       'MODIS_PFT_CRO', 'MODIS_PFT_DBF', 'MODIS_PFT_EBF', 'MODIS_PFT_ENF',\n",
    "       'MODIS_PFT_GRA', 'MODIS_PFT_MF', 'MODIS_PFT_Other', 'MODIS_PFT_SA',\n",
    "       'MODIS_PFT_SH', 'koppen_Arid', 'koppen_Cold', 'koppen_Polar',\n",
    "       'koppen_Temperate', 'koppen_Tropical']]\n",
    "\n",
    "rf_test_df.insert(loc = 0, column = target, value = rf_y_test_predicted, allow_duplicates = True)\n",
    "\n",
    "\n",
    "# for observed test set: fitting a linear regression line and get trends and slopes of each site\n",
    "\n",
    "rf_test_df['Date'] = rf_test_df.apply(lambda x: convert_to_timestamp(x['year'], x['month']),axis=1)\n",
    "rf_test_df = rf_test_df.set_index(['SITE_ID', 'Date'])\n",
    "\n",
    "rf_trends = trend(rf_test_df[target])\n",
    "rf_slopes = across_site_trend(rf_test_df[target])\n",
    "rf_trends\n",
    "\n",
    "# compute detrended for model\n",
    "rf_detrends = rf_test_df[target].sub(rf_trends)\n",
    "rf_test_df['detrended_GPP'] = rf_detrends\n",
    "\n",
    "\n",
    "# GPP Seasonal: average detrended GPP for each month over all years \n",
    "\n",
    "rf_seasonal_gpp = msc(rf_test_df[['month', 'detrended_GPP']])\n",
    "rf_seasonal_gpp\n",
    "\n",
    "# print out error statistics\n",
    "\n",
    "r2_trend = r2_score(test_trends, rf_trends)\n",
    "r2_msc = r2_score(test_seasonal_gpp, rf_seasonal_gpp)\n",
    "rmse_trend = np.sqrt(mean_squared_error(test_trends, rf_trends))\n",
    "rmse_msc = np.sqrt(mean_squared_error(test_seasonal_gpp, rf_seasonal_gpp))\n",
    "\n",
    "print(\"The R2 of trends is: \" + str(r2_trend))\n",
    "print(\"The R2 of MSC is: \" + str(r2_msc))\n",
    "print(\"The RMSE of trends is: \" + str(rmse_trend))\n",
    "print(\"The RMSE of msc is: \" + str(rmse_msc))"
   ]
  },
  {
   "cell_type": "markdown",
   "metadata": {
    "id": "XIbBnudKmaac"
   },
   "source": [
    "## XGBoost"
   ]
  },
  {
   "cell_type": "code",
   "execution_count": 224,
   "metadata": {
    "executionInfo": {
     "elapsed": 6045,
     "status": "ok",
     "timestamp": 1666776194491,
     "user": {
      "displayName": "Yaqian Tang",
      "userId": "11643113709903451935"
     },
     "user_tz": 420
    },
    "id": "nn_BL1HbmcL-"
   },
   "outputs": [],
   "source": [
    "xgb_model = XGBRegressor(subsample = 0.8, n_estimators = 150, max_depth = 6, \n",
    "                         learning_rate = 0.1, colsample_bytree = 0.9, colsample_bylevel = 0.7,\n",
    "                         objective = 'reg:squarederror')\n",
    "xgb_model.fit(X_train_without, y_train)\n",
    "\n",
    "xgb_y_train_predicted = xgb_model.predict(X_train_without)\n",
    "xgb_y_test_predicted = xgb_model.predict(X_test_without)"
   ]
  },
  {
   "cell_type": "markdown",
   "metadata": {
    "id": "55rgYqQJmlGQ"
   },
   "source": [
    "### Test Set"
   ]
  },
  {
   "cell_type": "code",
   "execution_count": 225,
   "metadata": {
    "colab": {
     "base_uri": "https://localhost:8080/"
    },
    "executionInfo": {
     "elapsed": 831,
     "status": "ok",
     "timestamp": 1666776245308,
     "user": {
      "displayName": "Yaqian Tang",
      "userId": "11643113709903451935"
     },
     "user_tz": 420
    },
    "id": "2JopMrvcmkO8",
    "outputId": "caed340e-aa20-48dd-9bab-f503e17cb3fc"
   },
   "outputs": [
    {
     "name": "stderr",
     "output_type": "stream",
     "text": [
      "/usr/local/lib/python3.7/dist-packages/ipykernel_launcher.py:15: SettingWithCopyWarning: \n",
      "A value is trying to be set on a copy of a slice from a DataFrame.\n",
      "Try using .loc[row_indexer,col_indexer] = value instead\n",
      "\n",
      "See the caveats in the documentation: https://pandas.pydata.org/pandas-docs/stable/user_guide/indexing.html#returning-a-view-versus-a-copy\n",
      "  from ipykernel import kernelapp as app\n"
     ]
    },
    {
     "name": "stdout",
     "output_type": "stream",
     "text": [
      "The R2 of trends is: 0.636907040585813\n",
      "The R2 of MSC is: 0.907743708433299\n",
      "The RMSE of trends is: 0.9944678111537426\n",
      "The RMSE of msc is: 0.8349941012714416\n"
     ]
    }
   ],
   "source": [
    "xgb_test_df = test_df[['SITE_ID', 'year', 'month', 'BESS-PAR', 'BESS-PARdiff',\n",
    "       'BESS-RSDN', 'Tmean', 'prcp', 'vpd', 'prcp-lag3', 'ESACCI-sm', 'ET',\n",
    "       'b1', 'b2', 'b3', 'b4', 'b5', 'b6', 'b7', 'EVI', 'NDVI', 'GCI', 'NDWI',\n",
    "       'NIRv', 'kNDVI', 'CSIF-SIFdaily', 'Fpar', 'Lai', 'LST_Day', 'LST_Night',\n",
    "       'MODIS_PFT_CRO', 'MODIS_PFT_DBF', 'MODIS_PFT_EBF', 'MODIS_PFT_ENF',\n",
    "       'MODIS_PFT_GRA', 'MODIS_PFT_MF', 'MODIS_PFT_Other', 'MODIS_PFT_SA',\n",
    "       'MODIS_PFT_SH', 'koppen_Arid', 'koppen_Cold', 'koppen_Polar',\n",
    "       'koppen_Temperate', 'koppen_Tropical']]\n",
    "\n",
    "xgb_test_df.insert(loc = 0, column = target, value = xgb_y_test_predicted, allow_duplicates = True)\n",
    "\n",
    "\n",
    "# for observed test set: fitting a linear regression line and get trends and slopes of each site\n",
    "\n",
    "xgb_test_df['Date'] = xgb_test_df.apply(lambda x: convert_to_timestamp(x['year'], x['month']),axis=1)\n",
    "xgb_test_df = xgb_test_df.set_index(['SITE_ID', 'Date'])\n",
    "\n",
    "xgb_trends = trend(xgb_test_df[target])\n",
    "xgb_slopes = across_site_trend(xgb_test_df[target])\n",
    "xgb_trends\n",
    "\n",
    "# compute detrended for model\n",
    "xgb_detrends = xgb_test_df[target].sub(xgb_trends)\n",
    "xgb_test_df['detrended_GPP'] = xgb_detrends\n",
    "\n",
    "\n",
    "# GPP Seasonal: average detrended GPP for each month over all years \n",
    "\n",
    "xgb_seasonal_gpp = msc(xgb_test_df[['month', 'detrended_GPP']])\n",
    "xgb_seasonal_gpp\n",
    "\n",
    "# print out error statistics\n",
    "\n",
    "r2_trend = r2_score(test_trends, xgb_trends)\n",
    "r2_msc = r2_score(test_seasonal_gpp, xgb_seasonal_gpp)\n",
    "rmse_trend = np.sqrt(mean_squared_error(test_trends, xgb_trends))\n",
    "rmse_msc = np.sqrt(mean_squared_error(test_seasonal_gpp, xgb_seasonal_gpp))\n",
    "\n",
    "print(\"The R2 of trends is: \" + str(r2_trend))\n",
    "print(\"The R2 of MSC is: \" + str(r2_msc))\n",
    "print(\"The RMSE of trends is: \" + str(rmse_trend))\n",
    "print(\"The RMSE of msc is: \" + str(rmse_msc))"
   ]
  },
  {
   "cell_type": "markdown",
   "metadata": {
    "id": "AhRinKI6nI8l"
   },
   "source": [
    "## MLP"
   ]
  },
  {
   "cell_type": "code",
   "execution_count": 226,
   "metadata": {
    "executionInfo": {
     "elapsed": 292,
     "status": "ok",
     "timestamp": 1666776378018,
     "user": {
      "displayName": "Yaqian Tang",
      "userId": "11643113709903451935"
     },
     "user_tz": 420
    },
    "id": "Y1HV5DmVmx0l"
   },
   "outputs": [],
   "source": [
    "from sklearn.neural_network import MLPClassifier\n",
    "from sklearn.neural_network import MLPRegressor\n",
    "import warnings\n",
    "warnings.filterwarnings(\"ignore\")"
   ]
  },
  {
   "cell_type": "code",
   "execution_count": 227,
   "metadata": {
    "executionInfo": {
     "elapsed": 15516,
     "status": "ok",
     "timestamp": 1666776435110,
     "user": {
      "displayName": "Yaqian Tang",
      "userId": "11643113709903451935"
     },
     "user_tz": 420
    },
    "id": "VSeYmx8mnNdm"
   },
   "outputs": [],
   "source": [
    "mlp_model = MLPRegressor(learning_rate_init=0.0001, batch_size=32, max_iter=10000)\n",
    "mlp_model.fit(X_train_without, y_train)\n",
    "\n",
    "mlp_y_train_predicted = mlp_model.predict(X_train_without)\n",
    "mlp_y_test_predicted = mlp_model.predict(X_test_without)"
   ]
  },
  {
   "cell_type": "markdown",
   "metadata": {
    "id": "hDncYWLjneR6"
   },
   "source": [
    "### Test Set"
   ]
  },
  {
   "cell_type": "code",
   "execution_count": 228,
   "metadata": {
    "colab": {
     "base_uri": "https://localhost:8080/"
    },
    "executionInfo": {
     "elapsed": 863,
     "status": "ok",
     "timestamp": 1666776487847,
     "user": {
      "displayName": "Yaqian Tang",
      "userId": "11643113709903451935"
     },
     "user_tz": 420
    },
    "id": "WX0OqaNFncqb",
    "outputId": "173ead5c-17a3-478e-9c60-8cba2638f562"
   },
   "outputs": [
    {
     "name": "stdout",
     "output_type": "stream",
     "text": [
      "The R2 of trends is: 0.28355065121566203\n",
      "The R2 of MSC is: 0.9026532065242192\n",
      "The RMSE of trends is: 1.396929737900213\n",
      "The RMSE of msc is: 0.8577213811328821\n"
     ]
    }
   ],
   "source": [
    "mlp_test_df = test_df[['SITE_ID', 'year', 'month', 'BESS-PAR', 'BESS-PARdiff',\n",
    "       'BESS-RSDN', 'Tmean', 'prcp', 'vpd', 'prcp-lag3', 'ESACCI-sm', 'ET',\n",
    "       'b1', 'b2', 'b3', 'b4', 'b5', 'b6', 'b7', 'EVI', 'NDVI', 'GCI', 'NDWI',\n",
    "       'NIRv', 'kNDVI', 'CSIF-SIFdaily', 'Fpar', 'Lai', 'LST_Day', 'LST_Night',\n",
    "       'MODIS_PFT_CRO', 'MODIS_PFT_DBF', 'MODIS_PFT_EBF', 'MODIS_PFT_ENF',\n",
    "       'MODIS_PFT_GRA', 'MODIS_PFT_MF', 'MODIS_PFT_Other', 'MODIS_PFT_SA',\n",
    "       'MODIS_PFT_SH', 'koppen_Arid', 'koppen_Cold', 'koppen_Polar',\n",
    "       'koppen_Temperate', 'koppen_Tropical']]\n",
    "\n",
    "mlp_test_df.insert(loc = 0, column = target, value = mlp_y_test_predicted, allow_duplicates = True)\n",
    "\n",
    "\n",
    "# for observed test set: fitting a linear regression line and get trends and slopes of each site\n",
    "\n",
    "mlp_test_df['Date'] = mlp_test_df.apply(lambda x: convert_to_timestamp(x['year'], x['month']),axis=1)\n",
    "mlp_test_df = mlp_test_df.set_index(['SITE_ID', 'Date'])\n",
    "\n",
    "mlp_trends = trend(mlp_test_df[target])\n",
    "mlp_slopes = across_site_trend(mlp_test_df[target])\n",
    "mlp_trends\n",
    "\n",
    "# compute detrended for model\n",
    "mlp_detrends = mlp_test_df[target].sub(mlp_trends)\n",
    "mlp_test_df['detrended_GPP'] = mlp_detrends\n",
    "\n",
    "\n",
    "# GPP Seasonal: average detrended GPP for each month over all years \n",
    "\n",
    "mlp_seasonal_gpp = msc(mlp_test_df[['month', 'detrended_GPP']])\n",
    "mlp_seasonal_gpp\n",
    "\n",
    "# print out error statistics\n",
    "\n",
    "r2_trend = r2_score(test_trends, mlp_trends)\n",
    "r2_msc = r2_score(test_seasonal_gpp, mlp_seasonal_gpp)\n",
    "rmse_trend = np.sqrt(mean_squared_error(test_trends, mlp_trends))\n",
    "rmse_msc = np.sqrt(mean_squared_error(test_seasonal_gpp, mlp_seasonal_gpp))\n",
    "\n",
    "print(\"The R2 of trends is: \" + str(r2_trend))\n",
    "print(\"The R2 of MSC is: \" + str(r2_msc))\n",
    "print(\"The RMSE of trends is: \" + str(rmse_trend))\n",
    "print(\"The RMSE of msc is: \" + str(rmse_msc))"
   ]
  },
  {
   "cell_type": "markdown",
   "metadata": {
    "id": "tGLGxJm50XGz"
   },
   "source": [
    "## LSTM"
   ]
  },
  {
   "cell_type": "code",
   "execution_count": 4,
   "metadata": {
    "executionInfo": {
     "elapsed": 248,
     "status": "ok",
     "timestamp": 1666813420998,
     "user": {
      "displayName": "Yaqian Tang",
      "userId": "11643113709903451935"
     },
     "user_tz": 420
    },
    "id": "OiF8QnbantG5"
   },
   "outputs": [],
   "source": [
    "import numpy as np\n",
    "import pandas as pd\n",
    "import matplotlib.pyplot as plt\n",
    "from pandas import read_csv\n",
    "import math\n",
    "import tensorflow as tf\n",
    "from tensorflow.keras.models import Sequential\n",
    "from tensorflow.keras.layers import Dense\n",
    "from tensorflow.keras.layers import LSTM\n",
    "from sklearn.preprocessing import MinMaxScaler\n",
    "from sklearn.metrics import mean_squared_error\n",
    "from tensorflow import keras\n",
    "from tensorflow.keras import layers"
   ]
  },
  {
   "cell_type": "code",
   "execution_count": 5,
   "metadata": {
    "colab": {
     "base_uri": "https://localhost:8080/"
    },
    "executionInfo": {
     "elapsed": 1058,
     "status": "ok",
     "timestamp": 1666813423052,
     "user": {
      "displayName": "Yaqian Tang",
      "userId": "11643113709903451935"
     },
     "user_tz": 420
    },
    "id": "x4aN3rT30bY6",
    "outputId": "1968e642-d816-4a95-c1ca-7962be4996af"
   },
   "outputs": [
    {
     "name": "stdout",
     "output_type": "stream",
     "text": [
      "Drive already mounted at /content/drive; to attempt to forcibly remount, call drive.mount(\"/content/drive\", force_remount=True).\n"
     ]
    }
   ],
   "source": [
    "from google.colab import drive\n",
    "drive.mount('/content/drive')"
   ]
  },
  {
   "cell_type": "code",
   "execution_count": 6,
   "metadata": {
    "executionInfo": {
     "elapsed": 2064,
     "status": "ok",
     "timestamp": 1666813425262,
     "user": {
      "displayName": "Yaqian Tang",
      "userId": "11643113709903451935"
     },
     "user_tz": 420
    },
    "id": "b2X4ipum0es-"
   },
   "outputs": [],
   "source": [
    "data_path = '/content/drive/MyDrive/Discovery_2022fall_photosynthesis_mapping/Data/' + \\\n",
    " 'train/data_monthly_v1_0.csv'\n",
    "df = pd.read_csv(data_path)"
   ]
  },
  {
   "cell_type": "code",
   "execution_count": 7,
   "metadata": {
    "executionInfo": {
     "elapsed": 3,
     "status": "ok",
     "timestamp": 1666813425263,
     "user": {
      "displayName": "Yaqian Tang",
      "userId": "11643113709903451935"
     },
     "user_tz": 420
    },
    "id": "FCwjwqOE0hvJ"
   },
   "outputs": [],
   "source": [
    "# attributes of eddy covariance site\n",
    "site_data_attrs = ['SITE_ID','dataset','LOCATION_LAT','LOCATION_LONG','SITE_IGBP','MODIS_PFT','koppen']\n",
    "\n",
    "# target variable: GPP\n",
    "target = 'GPP_NT_VUT_REF'"
   ]
  },
  {
   "cell_type": "code",
   "execution_count": 8,
   "metadata": {
    "executionInfo": {
     "elapsed": 2,
     "status": "ok",
     "timestamp": 1666813425263,
     "user": {
      "displayName": "Yaqian Tang",
      "userId": "11643113709903451935"
     },
     "user_tz": 420
    },
    "id": "VMBwxopJ0i96"
   },
   "outputs": [],
   "source": [
    "# explanatory variables\n",
    "exp_vars = [\n",
    "    'BESS-PAR',  \n",
    "    'BESS-PARdiff', \n",
    "    'BESS-RSDN', \n",
    "    'Tmean', \n",
    "    'prcp', \n",
    "    'vpd', \n",
    "    'prcp-lag3',\n",
    "    'ESACCI-sm', \n",
    "    'ET', \n",
    "    'b1', 'b2', 'b3', 'b4', 'b5', 'b6', 'b7', 'EVI', 'NDVI', 'GCI', 'NDWI', 'NIRv', 'kNDVI', \n",
    "    'CSIF-SIFdaily', \n",
    "    'Fpar', 'Lai', \n",
    "    'LST_Day', 'LST_Night', \n",
    "    'MODIS_PFT', \n",
    "    'koppen', \n",
    "]"
   ]
  },
  {
   "cell_type": "code",
   "execution_count": 9,
   "metadata": {
    "colab": {
     "base_uri": "https://localhost:8080/"
    },
    "executionInfo": {
     "elapsed": 158,
     "status": "ok",
     "timestamp": 1666813430660,
     "user": {
      "displayName": "Yaqian Tang",
      "userId": "11643113709903451935"
     },
     "user_tz": 420
    },
    "id": "ptYtBXdg0nOC",
    "outputId": "a5e59833-4b87-4992-d9be-3b01ddbc183d"
   },
   "outputs": [
    {
     "data": {
      "text/plain": [
       "Index(['GPP_NT_VUT_REF', 'MODIS_IGBP', 'SITE_ID', 'BESS-PAR', 'BESS-PARdiff',\n",
       "       'BESS-RSDN', 'Tmean', 'prcp', 'vpd', 'prcp-lag3', 'ESACCI-sm', 'ET',\n",
       "       'b1', 'b2', 'b3', 'b4', 'b5', 'b6', 'b7', 'EVI', 'NDVI', 'GCI', 'NDWI',\n",
       "       'NIRv', 'kNDVI', 'CSIF-SIFdaily', 'Fpar', 'Lai', 'LST_Day', 'LST_Night',\n",
       "       'MODIS_PFT_CRO', 'MODIS_PFT_DBF', 'MODIS_PFT_EBF', 'MODIS_PFT_ENF',\n",
       "       'MODIS_PFT_GRA', 'MODIS_PFT_MF', 'MODIS_PFT_Other', 'MODIS_PFT_SA',\n",
       "       'MODIS_PFT_SH', 'koppen_Arid', 'koppen_Cold', 'koppen_Polar',\n",
       "       'koppen_Temperate', 'koppen_Tropical'],\n",
       "      dtype='object')"
      ]
     },
     "execution_count": 9,
     "metadata": {},
     "output_type": "execute_result"
    }
   ],
   "source": [
    "# keep columns needed for stratified KFold\n",
    "df_ohe = df[[target, 'MODIS_IGBP', 'SITE_ID'] + exp_vars]\n",
    "\n",
    "categorical_columns = ['MODIS_PFT', 'koppen']\n",
    "for col in categorical_columns:\n",
    "    col_ohe = pd.get_dummies(df[col], prefix=col)\n",
    "    df_ohe = pd.concat((df_ohe, col_ohe), axis=1).drop(col, axis=1)\n",
    "\n",
    "df_ohe.columns"
   ]
  },
  {
   "cell_type": "code",
   "execution_count": 10,
   "metadata": {
    "executionInfo": {
     "elapsed": 171,
     "status": "ok",
     "timestamp": 1666813438851,
     "user": {
      "displayName": "Yaqian Tang",
      "userId": "11643113709903451935"
     },
     "user_tz": 420
    },
    "id": "9EWgLRD10onA"
   },
   "outputs": [],
   "source": [
    "def clean_dataset(df):\n",
    "    assert isinstance(df, pd.DataFrame), \"df needs to be a pd.DataFrame\"\n",
    "    df.dropna(inplace=True)\n",
    "    return df"
   ]
  },
  {
   "cell_type": "code",
   "execution_count": 11,
   "metadata": {
    "colab": {
     "base_uri": "https://localhost:8080/"
    },
    "executionInfo": {
     "elapsed": 146,
     "status": "ok",
     "timestamp": 1666813443382,
     "user": {
      "displayName": "Yaqian Tang",
      "userId": "11643113709903451935"
     },
     "user_tz": 420
    },
    "id": "bwM-XHhE0qlm",
    "outputId": "d3b6461b-bd24-47fa-e36b-25d1824ea190"
   },
   "outputs": [
    {
     "name": "stdout",
     "output_type": "stream",
     "text": [
      "(15327, 44)\n"
     ]
    }
   ],
   "source": [
    "df = clean_dataset(df_ohe)\n",
    "print(df.shape)"
   ]
  },
  {
   "cell_type": "code",
   "execution_count": 12,
   "metadata": {
    "executionInfo": {
     "elapsed": 2,
     "status": "ok",
     "timestamp": 1666813448086,
     "user": {
      "displayName": "Yaqian Tang",
      "userId": "11643113709903451935"
     },
     "user_tz": 420
    },
    "id": "-PaXX3A50rs_"
   },
   "outputs": [],
   "source": [
    "# split the dataset into training and testing\n",
    "Data = df[['BESS-PAR', 'BESS-PARdiff', 'SITE_ID',\n",
    "       'BESS-RSDN', 'Tmean', 'prcp', 'vpd', 'prcp-lag3', 'ESACCI-sm', 'ET',\n",
    "       'b1', 'b2', 'b3', 'b4', 'b5', 'b6', 'b7', 'EVI', 'NDVI', 'GCI', 'NDWI',\n",
    "       'NIRv', 'kNDVI', 'CSIF-SIFdaily', 'Fpar', 'Lai', 'LST_Day', 'LST_Night',\n",
    "       'MODIS_PFT_CRO', 'MODIS_PFT_DBF', 'MODIS_PFT_EBF', 'MODIS_PFT_ENF',\n",
    "       'MODIS_PFT_GRA', 'MODIS_PFT_MF', 'MODIS_PFT_Other', 'MODIS_PFT_SA',\n",
    "       'MODIS_PFT_SH', 'koppen_Arid', 'koppen_Cold', 'koppen_Polar',\n",
    "       'koppen_Temperate', 'koppen_Tropical', target]]"
   ]
  },
  {
   "cell_type": "code",
   "execution_count": 13,
   "metadata": {
    "executionInfo": {
     "elapsed": 3,
     "status": "ok",
     "timestamp": 1666813453499,
     "user": {
      "displayName": "Yaqian Tang",
      "userId": "11643113709903451935"
     },
     "user_tz": 420
    },
    "id": "3vHC0vgO0s3D"
   },
   "outputs": [],
   "source": [
    "import binascii\n",
    "def test_set_check(identifier, test_ratio):\n",
    "    return binascii.crc32(np.int64(hash(identifier))) & 0xffffffff < test_ratio * 2**32\n",
    "\n",
    "# Function to split train/test\n",
    "def split_train_test_by_id(data, test_ratio, id_column):\n",
    "    ids = data[id_column]\n",
    "    in_test_set = ids.apply(lambda id_: test_set_check(id_, test_ratio))\n",
    "    return data.loc[~in_test_set], data.loc[in_test_set]"
   ]
  },
  {
   "cell_type": "code",
   "execution_count": 14,
   "metadata": {
    "colab": {
     "base_uri": "https://localhost:8080/"
    },
    "executionInfo": {
     "elapsed": 153,
     "status": "ok",
     "timestamp": 1666813457966,
     "user": {
      "displayName": "Yaqian Tang",
      "userId": "11643113709903451935"
     },
     "user_tz": 420
    },
    "id": "jM4-5X-90uMK",
    "outputId": "2f76d156-7a9e-4325-95b4-48c5d713f24e"
   },
   "outputs": [
    {
     "name": "stdout",
     "output_type": "stream",
     "text": [
      "(11616, 43) (3711, 43)\n"
     ]
    }
   ],
   "source": [
    "test, train = split_train_test_by_id(Data, 0.7, 'SITE_ID')\n",
    "print(train.shape, test.shape)"
   ]
  },
  {
   "cell_type": "code",
   "execution_count": 15,
   "metadata": {
    "executionInfo": {
     "elapsed": 179,
     "status": "ok",
     "timestamp": 1666813462769,
     "user": {
      "displayName": "Yaqian Tang",
      "userId": "11643113709903451935"
     },
     "user_tz": 420
    },
    "id": "rf5x-rRe0vQ2"
   },
   "outputs": [],
   "source": [
    "X_train = train[['BESS-PAR', 'BESS-PARdiff',\n",
    "       'BESS-RSDN', 'Tmean', 'prcp', 'vpd', 'prcp-lag3', 'ESACCI-sm', 'ET',\n",
    "       'b1', 'b2', 'b3', 'b4', 'b5', 'b6', 'b7', 'EVI', 'NDVI', 'GCI', 'NDWI',\n",
    "       'NIRv', 'kNDVI', 'CSIF-SIFdaily', 'Fpar', 'Lai', 'LST_Day', 'LST_Night',\n",
    "       'MODIS_PFT_CRO', 'MODIS_PFT_DBF', 'MODIS_PFT_EBF', 'MODIS_PFT_ENF',\n",
    "       'MODIS_PFT_GRA', 'MODIS_PFT_MF', 'MODIS_PFT_Other', 'MODIS_PFT_SA',\n",
    "       'MODIS_PFT_SH', 'koppen_Arid', 'koppen_Cold', 'koppen_Polar',\n",
    "       'koppen_Temperate', 'koppen_Tropical']]\n",
    "y_train = train[target]\n",
    "\n",
    "X_test = test[['BESS-PAR', 'BESS-PARdiff',\n",
    "       'BESS-RSDN', 'Tmean', 'prcp', 'vpd', 'prcp-lag3', 'ESACCI-sm', 'ET',\n",
    "       'b1', 'b2', 'b3', 'b4', 'b5', 'b6', 'b7', 'EVI', 'NDVI', 'GCI', 'NDWI',\n",
    "       'NIRv', 'kNDVI', 'CSIF-SIFdaily', 'Fpar', 'Lai', 'LST_Day', 'LST_Night',\n",
    "       'MODIS_PFT_CRO', 'MODIS_PFT_DBF', 'MODIS_PFT_EBF', 'MODIS_PFT_ENF',\n",
    "       'MODIS_PFT_GRA', 'MODIS_PFT_MF', 'MODIS_PFT_Other', 'MODIS_PFT_SA',\n",
    "       'MODIS_PFT_SH', 'koppen_Arid', 'koppen_Cold', 'koppen_Polar',\n",
    "       'koppen_Temperate', 'koppen_Tropical']]\n",
    "y_test = test[target]"
   ]
  },
  {
   "cell_type": "code",
   "execution_count": 17,
   "metadata": {
    "colab": {
     "base_uri": "https://localhost:8080/"
    },
    "executionInfo": {
     "elapsed": 5874648,
     "status": "ok",
     "timestamp": 1666820993825,
     "user": {
      "displayName": "Yaqian Tang",
      "userId": "11643113709903451935"
     },
     "user_tz": 420
    },
    "id": "GzYXJp510wb2",
    "outputId": "12c9a4cf-d897-4720-b467-ccc6b7f532c1"
   },
   "outputs": [
    {
     "name": "stdout",
     "output_type": "stream",
     "text": [
      "Epoch 1/100\n",
      "11616/11616 - 107s - loss: 9.2511 - 107s/epoch - 9ms/step\n",
      "Epoch 2/100\n",
      "11616/11616 - 75s - loss: 5.3079 - 75s/epoch - 6ms/step\n",
      "Epoch 3/100\n",
      "11616/11616 - 79s - loss: 5.1918 - 79s/epoch - 7ms/step\n",
      "Epoch 4/100\n",
      "11616/11616 - 74s - loss: 5.0780 - 74s/epoch - 6ms/step\n",
      "Epoch 5/100\n",
      "11616/11616 - 74s - loss: 5.0153 - 74s/epoch - 6ms/step\n",
      "Epoch 6/100\n",
      "11616/11616 - 76s - loss: 4.9726 - 76s/epoch - 7ms/step\n",
      "Epoch 7/100\n",
      "11616/11616 - 74s - loss: 4.9352 - 74s/epoch - 6ms/step\n",
      "Epoch 8/100\n",
      "11616/11616 - 75s - loss: 4.9410 - 75s/epoch - 6ms/step\n",
      "Epoch 9/100\n",
      "11616/11616 - 73s - loss: 4.9292 - 73s/epoch - 6ms/step\n",
      "Epoch 10/100\n",
      "11616/11616 - 75s - loss: 4.8883 - 75s/epoch - 6ms/step\n",
      "Epoch 11/100\n",
      "11616/11616 - 77s - loss: 4.8723 - 77s/epoch - 7ms/step\n",
      "Epoch 12/100\n",
      "11616/11616 - 74s - loss: 4.8740 - 74s/epoch - 6ms/step\n",
      "Epoch 13/100\n",
      "11616/11616 - 76s - loss: 4.8276 - 76s/epoch - 7ms/step\n",
      "Epoch 14/100\n",
      "11616/11616 - 76s - loss: 4.8251 - 76s/epoch - 7ms/step\n",
      "Epoch 15/100\n",
      "11616/11616 - 74s - loss: 4.8209 - 74s/epoch - 6ms/step\n",
      "Epoch 16/100\n",
      "11616/11616 - 76s - loss: 4.7702 - 76s/epoch - 7ms/step\n",
      "Epoch 17/100\n",
      "11616/11616 - 73s - loss: 4.7821 - 73s/epoch - 6ms/step\n",
      "Epoch 18/100\n",
      "11616/11616 - 74s - loss: 4.7593 - 74s/epoch - 6ms/step\n",
      "Epoch 19/100\n",
      "11616/11616 - 75s - loss: 4.7266 - 75s/epoch - 6ms/step\n",
      "Epoch 20/100\n",
      "11616/11616 - 73s - loss: 4.7437 - 73s/epoch - 6ms/step\n",
      "Epoch 21/100\n",
      "11616/11616 - 75s - loss: 4.7310 - 75s/epoch - 6ms/step\n",
      "Epoch 22/100\n",
      "11616/11616 - 74s - loss: 4.7205 - 74s/epoch - 6ms/step\n",
      "Epoch 23/100\n",
      "11616/11616 - 75s - loss: 4.7258 - 75s/epoch - 6ms/step\n",
      "Epoch 24/100\n",
      "11616/11616 - 74s - loss: 4.7181 - 74s/epoch - 6ms/step\n",
      "Epoch 25/100\n",
      "11616/11616 - 73s - loss: 4.6980 - 73s/epoch - 6ms/step\n",
      "Epoch 26/100\n",
      "11616/11616 - 74s - loss: 4.6830 - 74s/epoch - 6ms/step\n",
      "Epoch 27/100\n",
      "11616/11616 - 73s - loss: 4.7318 - 73s/epoch - 6ms/step\n",
      "Epoch 28/100\n",
      "11616/11616 - 78s - loss: 4.7000 - 78s/epoch - 7ms/step\n",
      "Epoch 29/100\n",
      "11616/11616 - 75s - loss: 4.6954 - 75s/epoch - 6ms/step\n",
      "Epoch 30/100\n",
      "11616/11616 - 75s - loss: 4.6765 - 75s/epoch - 6ms/step\n",
      "Epoch 31/100\n",
      "11616/11616 - 75s - loss: 4.6955 - 75s/epoch - 6ms/step\n",
      "Epoch 32/100\n",
      "11616/11616 - 76s - loss: 4.6757 - 76s/epoch - 7ms/step\n",
      "Epoch 33/100\n",
      "11616/11616 - 76s - loss: 4.6930 - 76s/epoch - 7ms/step\n",
      "Epoch 34/100\n",
      "11616/11616 - 75s - loss: 4.6733 - 75s/epoch - 6ms/step\n",
      "Epoch 35/100\n",
      "11616/11616 - 77s - loss: 4.6707 - 77s/epoch - 7ms/step\n",
      "Epoch 36/100\n",
      "11616/11616 - 74s - loss: 4.6561 - 74s/epoch - 6ms/step\n",
      "Epoch 37/100\n",
      "11616/11616 - 75s - loss: 4.6568 - 75s/epoch - 6ms/step\n",
      "Epoch 38/100\n",
      "11616/11616 - 76s - loss: 4.6523 - 76s/epoch - 7ms/step\n",
      "Epoch 39/100\n",
      "11616/11616 - 75s - loss: 4.8830 - 75s/epoch - 6ms/step\n",
      "Epoch 40/100\n",
      "11616/11616 - 77s - loss: 4.7974 - 77s/epoch - 7ms/step\n",
      "Epoch 41/100\n",
      "11616/11616 - 74s - loss: 4.7401 - 74s/epoch - 6ms/step\n",
      "Epoch 42/100\n",
      "11616/11616 - 74s - loss: 4.7608 - 74s/epoch - 6ms/step\n",
      "Epoch 43/100\n",
      "11616/11616 - 76s - loss: 4.7444 - 76s/epoch - 7ms/step\n",
      "Epoch 44/100\n",
      "11616/11616 - 74s - loss: 4.7231 - 74s/epoch - 6ms/step\n",
      "Epoch 45/100\n",
      "11616/11616 - 75s - loss: 4.7034 - 75s/epoch - 6ms/step\n",
      "Epoch 46/100\n",
      "11616/11616 - 75s - loss: 4.6995 - 75s/epoch - 6ms/step\n",
      "Epoch 47/100\n",
      "11616/11616 - 74s - loss: 4.6638 - 74s/epoch - 6ms/step\n",
      "Epoch 48/100\n",
      "11616/11616 - 75s - loss: 4.6954 - 75s/epoch - 6ms/step\n",
      "Epoch 49/100\n",
      "11616/11616 - 73s - loss: 4.7190 - 73s/epoch - 6ms/step\n",
      "Epoch 50/100\n",
      "11616/11616 - 76s - loss: 4.6670 - 76s/epoch - 7ms/step\n",
      "Epoch 51/100\n",
      "11616/11616 - 75s - loss: 4.6225 - 75s/epoch - 6ms/step\n",
      "Epoch 52/100\n",
      "11616/11616 - 75s - loss: 4.6174 - 75s/epoch - 6ms/step\n",
      "Epoch 53/100\n",
      "11616/11616 - 74s - loss: 4.6358 - 74s/epoch - 6ms/step\n",
      "Epoch 54/100\n",
      "11616/11616 - 74s - loss: 4.6651 - 74s/epoch - 6ms/step\n",
      "Epoch 55/100\n",
      "11616/11616 - 74s - loss: 4.6443 - 74s/epoch - 6ms/step\n",
      "Epoch 56/100\n",
      "11616/11616 - 74s - loss: 4.6090 - 74s/epoch - 6ms/step\n",
      "Epoch 57/100\n",
      "11616/11616 - 75s - loss: 4.5880 - 75s/epoch - 6ms/step\n",
      "Epoch 58/100\n",
      "11616/11616 - 72s - loss: 4.5292 - 72s/epoch - 6ms/step\n",
      "Epoch 59/100\n",
      "11616/11616 - 74s - loss: 4.4978 - 74s/epoch - 6ms/step\n",
      "Epoch 60/100\n",
      "11616/11616 - 74s - loss: 4.4795 - 74s/epoch - 6ms/step\n",
      "Epoch 61/100\n",
      "11616/11616 - 74s - loss: 4.4732 - 74s/epoch - 6ms/step\n",
      "Epoch 62/100\n",
      "11616/11616 - 73s - loss: 4.4472 - 73s/epoch - 6ms/step\n",
      "Epoch 63/100\n",
      "11616/11616 - 73s - loss: 4.4770 - 73s/epoch - 6ms/step\n",
      "Epoch 64/100\n",
      "11616/11616 - 75s - loss: 4.5002 - 75s/epoch - 6ms/step\n",
      "Epoch 65/100\n",
      "11616/11616 - 75s - loss: 4.4568 - 75s/epoch - 6ms/step\n",
      "Epoch 66/100\n",
      "11616/11616 - 74s - loss: 4.3939 - 74s/epoch - 6ms/step\n",
      "Epoch 67/100\n",
      "11616/11616 - 73s - loss: 4.3608 - 73s/epoch - 6ms/step\n",
      "Epoch 68/100\n",
      "11616/11616 - 72s - loss: 4.3635 - 72s/epoch - 6ms/step\n",
      "Epoch 69/100\n",
      "11616/11616 - 75s - loss: 4.3614 - 75s/epoch - 6ms/step\n",
      "Epoch 70/100\n",
      "11616/11616 - 73s - loss: 4.3519 - 73s/epoch - 6ms/step\n",
      "Epoch 71/100\n",
      "11616/11616 - 73s - loss: 4.3285 - 73s/epoch - 6ms/step\n",
      "Epoch 72/100\n",
      "11616/11616 - 74s - loss: 4.3448 - 74s/epoch - 6ms/step\n",
      "Epoch 73/100\n",
      "11616/11616 - 72s - loss: 4.3163 - 72s/epoch - 6ms/step\n",
      "Epoch 74/100\n",
      "11616/11616 - 73s - loss: 4.3308 - 73s/epoch - 6ms/step\n",
      "Epoch 75/100\n",
      "11616/11616 - 73s - loss: 4.2732 - 73s/epoch - 6ms/step\n",
      "Epoch 76/100\n",
      "11616/11616 - 75s - loss: 4.3484 - 75s/epoch - 6ms/step\n",
      "Epoch 77/100\n",
      "11616/11616 - 75s - loss: 4.3504 - 75s/epoch - 6ms/step\n",
      "Epoch 78/100\n",
      "11616/11616 - 72s - loss: 4.3535 - 72s/epoch - 6ms/step\n",
      "Epoch 79/100\n",
      "11616/11616 - 75s - loss: 4.3099 - 75s/epoch - 6ms/step\n",
      "Epoch 80/100\n",
      "11616/11616 - 74s - loss: 4.2668 - 74s/epoch - 6ms/step\n",
      "Epoch 81/100\n",
      "11616/11616 - 73s - loss: 4.2986 - 73s/epoch - 6ms/step\n",
      "Epoch 82/100\n",
      "11616/11616 - 73s - loss: 4.2461 - 73s/epoch - 6ms/step\n",
      "Epoch 83/100\n",
      "11616/11616 - 73s - loss: 4.2728 - 73s/epoch - 6ms/step\n",
      "Epoch 84/100\n",
      "11616/11616 - 73s - loss: 4.2803 - 73s/epoch - 6ms/step\n",
      "Epoch 85/100\n",
      "11616/11616 - 72s - loss: 4.2425 - 72s/epoch - 6ms/step\n",
      "Epoch 86/100\n",
      "11616/11616 - 73s - loss: 4.2773 - 73s/epoch - 6ms/step\n",
      "Epoch 87/100\n",
      "11616/11616 - 73s - loss: 4.2368 - 73s/epoch - 6ms/step\n",
      "Epoch 88/100\n",
      "11616/11616 - 74s - loss: 4.1983 - 74s/epoch - 6ms/step\n",
      "Epoch 89/100\n",
      "11616/11616 - 73s - loss: 4.1889 - 73s/epoch - 6ms/step\n",
      "Epoch 90/100\n",
      "11616/11616 - 73s - loss: 4.1669 - 73s/epoch - 6ms/step\n",
      "Epoch 91/100\n",
      "11616/11616 - 72s - loss: 4.1755 - 72s/epoch - 6ms/step\n",
      "Epoch 92/100\n",
      "11616/11616 - 73s - loss: 4.1518 - 73s/epoch - 6ms/step\n",
      "Epoch 93/100\n",
      "11616/11616 - 73s - loss: 4.1807 - 73s/epoch - 6ms/step\n",
      "Epoch 94/100\n",
      "11616/11616 - 72s - loss: 4.1482 - 72s/epoch - 6ms/step\n",
      "Epoch 95/100\n",
      "11616/11616 - 74s - loss: 4.1435 - 74s/epoch - 6ms/step\n",
      "Epoch 96/100\n",
      "11616/11616 - 72s - loss: 4.1987 - 72s/epoch - 6ms/step\n",
      "Epoch 97/100\n",
      "11616/11616 - 74s - loss: 4.2279 - 74s/epoch - 6ms/step\n",
      "Epoch 98/100\n",
      "11616/11616 - 71s - loss: 4.1353 - 71s/epoch - 6ms/step\n",
      "Epoch 99/100\n",
      "11616/11616 - 73s - loss: 4.1272 - 73s/epoch - 6ms/step\n",
      "Epoch 100/100\n",
      "11616/11616 - 74s - loss: 4.0815 - 74s/epoch - 6ms/step\n"
     ]
    },
    {
     "data": {
      "text/plain": [
       "<keras.callbacks.History at 0x7f600a8c5f90>"
      ]
     },
     "execution_count": 17,
     "metadata": {},
     "output_type": "execute_result"
    }
   ],
   "source": [
    "lstm_model = Sequential()\n",
    "lstm_model.add(LSTM(4, input_shape=(41, 1)))\n",
    "lstm_model.add(Dense(1))\n",
    "lstm_model.compile(loss='mean_squared_error', optimizer='adam')\n",
    "lstm_model.fit(X_train, y_train, epochs=100, batch_size=1, verbose=2)"
   ]
  },
  {
   "cell_type": "code",
   "execution_count": 66,
   "metadata": {
    "colab": {
     "base_uri": "https://localhost:8080/"
    },
    "executionInfo": {
     "elapsed": 4701,
     "status": "ok",
     "timestamp": 1666822527708,
     "user": {
      "displayName": "Yaqian Tang",
      "userId": "11643113709903451935"
     },
     "user_tz": 420
    },
    "id": "KWlozTfD0_34",
    "outputId": "6b98f892-8ebc-4875-8063-fe0a68ba360b"
   },
   "outputs": [
    {
     "name": "stdout",
     "output_type": "stream",
     "text": [
      "275/275 [==============================] - 2s 5ms/step\n",
      "130/130 [==============================] - 1s 5ms/step\n"
     ]
    }
   ],
   "source": [
    "lstm_y_train_predicted = lstm_model.predict(X_train_without)\n",
    "lstm_y_test_predicted = lstm_model.predict(X_test_without)"
   ]
  },
  {
   "cell_type": "markdown",
   "metadata": {
    "id": "ysIog8p206B8"
   },
   "source": [
    "### Test Set"
   ]
  },
  {
   "cell_type": "code",
   "execution_count": 67,
   "metadata": {
    "colab": {
     "base_uri": "https://localhost:8080/"
    },
    "executionInfo": {
     "elapsed": 540,
     "status": "ok",
     "timestamp": 1666822530736,
     "user": {
      "displayName": "Yaqian Tang",
      "userId": "11643113709903451935"
     },
     "user_tz": 420
    },
    "id": "2_Wktl4k0ynh",
    "outputId": "6dd7b3b8-8f3f-4745-8fac-ff95457ae5f5"
   },
   "outputs": [
    {
     "name": "stderr",
     "output_type": "stream",
     "text": [
      "/usr/local/lib/python3.7/dist-packages/ipykernel_launcher.py:15: SettingWithCopyWarning: \n",
      "A value is trying to be set on a copy of a slice from a DataFrame.\n",
      "Try using .loc[row_indexer,col_indexer] = value instead\n",
      "\n",
      "See the caveats in the documentation: https://pandas.pydata.org/pandas-docs/stable/user_guide/indexing.html#returning-a-view-versus-a-copy\n",
      "  from ipykernel import kernelapp as app\n"
     ]
    },
    {
     "name": "stdout",
     "output_type": "stream",
     "text": [
      "The R2 of trends is: 0.7847629278601099\n",
      "The R2 of MSC is: 0.9065469699726205\n",
      "The RMSE of trends is: 1.0117272247215807\n",
      "The RMSE of msc is: 0.8549710717422163\n"
     ]
    }
   ],
   "source": [
    "lstm_test_df = test_df[['SITE_ID', 'year', 'month', 'BESS-PAR', 'BESS-PARdiff',\n",
    "       'BESS-RSDN', 'Tmean', 'prcp', 'vpd', 'prcp-lag3', 'ESACCI-sm', 'ET',\n",
    "       'b1', 'b2', 'b3', 'b4', 'b5', 'b6', 'b7', 'EVI', 'NDVI', 'GCI', 'NDWI',\n",
    "       'NIRv', 'kNDVI', 'CSIF-SIFdaily', 'Fpar', 'Lai', 'LST_Day', 'LST_Night',\n",
    "       'MODIS_PFT_CRO', 'MODIS_PFT_DBF', 'MODIS_PFT_EBF', 'MODIS_PFT_ENF',\n",
    "       'MODIS_PFT_GRA', 'MODIS_PFT_MF', 'MODIS_PFT_Other', 'MODIS_PFT_SA',\n",
    "       'MODIS_PFT_SH', 'koppen_Arid', 'koppen_Cold', 'koppen_Polar',\n",
    "       'koppen_Temperate', 'koppen_Tropical']]\n",
    "\n",
    "lstm_test_df.insert(loc = 0, column = target, value = lstm_y_test_predicted, allow_duplicates = True)\n",
    "\n",
    "\n",
    "# for observed test set: fitting a linear regression line and get trends and slopes of each site\n",
    "\n",
    "lstm_test_df['Date'] = lstm_test_df.apply(lambda x: convert_to_timestamp(x['year'], x['month']),axis=1)\n",
    "lstm_test_df = lstm_test_df.set_index(['SITE_ID', 'Date'])\n",
    "\n",
    "lstm_trends = trend(lstm_test_df[target])\n",
    "lstm_slopes = across_site_trend(lstm_test_df[target])\n",
    "lstm_trends\n",
    "\n",
    "# compute detrended for model\n",
    "lstm_detrends = lstm_test_df[target].sub(lstm_trends)\n",
    "lstm_test_df['detrended_GPP'] = lstm_detrends\n",
    "\n",
    "\n",
    "# GPP Seasonal: average detrended GPP for each month over all years \n",
    "\n",
    "lstm_seasonal_gpp = msc(lstm_test_df[['month', 'detrended_GPP']])\n",
    "lstm_seasonal_gpp\n",
    "\n",
    "# print out error statistics\n",
    "\n",
    "r2_trend = r2_score(test_trends, lstm_trends)\n",
    "r2_msc = r2_score(test_seasonal_gpp, lstm_seasonal_gpp)\n",
    "rmse_trend = np.sqrt(mean_squared_error(test_trends, lstm_trends))\n",
    "rmse_msc = np.sqrt(mean_squared_error(test_seasonal_gpp, lstm_seasonal_gpp))\n",
    "\n",
    "print(\"The R2 of trends is: \" + str(r2_trend))\n",
    "print(\"The R2 of MSC is: \" + str(r2_msc))\n",
    "print(\"The RMSE of trends is: \" + str(rmse_trend))\n",
    "print(\"The RMSE of msc is: \" + str(rmse_msc))"
   ]
  },
  {
   "cell_type": "code",
   "execution_count": null,
   "metadata": {
    "id": "bTofWVnB7JOb"
   },
   "outputs": [],
   "source": []
  }
 ],
 "metadata": {
  "colab": {
   "collapsed_sections": [],
   "provenance": []
  },
  "kernelspec": {
   "display_name": "Python 3",
   "name": "python3"
  },
  "language_info": {
   "name": "python"
  }
 },
 "nbformat": 4,
 "nbformat_minor": 0
}
