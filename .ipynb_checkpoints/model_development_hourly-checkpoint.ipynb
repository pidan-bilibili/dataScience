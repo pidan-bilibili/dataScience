{
 "cells": [
  {
   "cell_type": "markdown",
   "metadata": {},
   "source": [
    "# Explore half-hourly dataset\n",
    "\n",
    "We will explore a half-hourly GPP dataset with ground measurements of GPP, climate variables (e.g. temperature, VPD, precipitation), as well as satellite observations (surface reflectance, vegetation indexes). The data were collected from flux tower sites across the world. These are the same sites as in the monthly dataset."
   ]
  },
  {
   "cell_type": "markdown",
   "metadata": {},
   "source": [
    "## Science background and questions\n",
    "Plant physiology processes, such as photosynthesis, changes in response to concurrent environmental factors. Photosynthesis (GPP) has both diurnal and seasonal cycles, mostly triggered by change of solar radiation and temperature within the day and across seasons. For example, solar radiation and temperature normally increases from early morning, reaches the highest around noon or slightly after, and decreases in the afternoon through evening and night. Moreover, plants can also have memories of past experiences, usually due to recurrent environmental stress, which prepares them for future stressful conditions. This plant memory can both be short (i.e. within 24 hours) or long term (i.e. months or years). When this happens, plant photosynthesis can also be affected by past climate and environmental conditions. In this project, we want to model both GPP responses to both present and past environmental stimuli with sequential deep neural networks such as LSTM and Transformer. We will test whether considering sequential information can improve models’ predictive performance of GPP when benchmarked with regular models (e.g. random forest) with only concurrent inputs.\n",
    "\n",
    "## Objectives\n",
    "* Benchmark LSTM and other ML Models (Lasso, SVM, RF, XGBoost, MLP) for predicting hourly data\n",
    "* Compare models for different sites of different PFTs"
   ]
  },
  {
   "cell_type": "markdown",
   "metadata": {},
   "source": [
    "# Load Packages"
   ]
  },
  {
   "cell_type": "code",
   "execution_count": 2,
   "metadata": {},
   "outputs": [],
   "source": [
    "import pandas as pd\n",
    "import numpy as np\n",
    "import seaborn as sns                       #visualisation\n",
    "import matplotlib.pyplot as plt             #visualisation\n",
    "%matplotlib inline     \n",
    "sns.set(color_codes=True)"
   ]
  },
  {
   "cell_type": "code",
   "execution_count": 28,
   "metadata": {},
   "outputs": [],
   "source": [
    "import pandas as pd\n",
    "import numpy as np\n",
    "import seaborn as sns                       #visualisation\n",
    "import matplotlib.pyplot as plt             #visualisation\n",
    "%matplotlib inline     \n",
    "sns.set(color_codes=True)\n",
    "\n",
    "#modeling\n",
    "\n",
    "from xgboost import XGBRegressor \n",
    "from sklearn.model_selection import train_test_split\n",
    "from sklearn.linear_model import LinearRegression, Lasso, Ridge, LassoCV, RidgeCV\n",
    "from sklearn.svm import SVR\n",
    "from sklearn.model_selection import cross_val_score, train_test_split, KFold\n",
    "from sklearn.model_selection import StratifiedGroupKFold, GridSearchCV, GroupKFold\n",
    "from sklearn.metrics import mean_squared_error, r2_score\n",
    "from sklearn.preprocessing import StandardScaler, MinMaxScaler\n",
    "from sklearn.ensemble import RandomForestRegressor\n",
    "from sklearn.model_selection import RandomizedSearchCV\n",
    "from scipy.stats import randint\n",
    "from sklearn import ensemble\n",
    "from sklearn import neighbors\n",
    "from sklearn.metrics import mean_squared_error \n",
    "from math import sqrt\n",
    "from sklearn.metrics import r2_score\n",
    "from sklearn.model_selection import cross_val_score\n",
    "from sklearn.model_selection import GridSearchCV\n",
    "from sklearn.preprocessing import OneHotEncoder\n",
    "from sklearn.compose import make_column_transformer"
   ]
  },
  {
   "cell_type": "markdown",
   "metadata": {},
   "source": [
    "\n",
    "The half-hourly data is saved as separate files per site. Each row in the data contains a GPP observation (“GPP_NT_VUT_REF”), atmospheric observations (half-hourly), and satellite observations (daily) for a half-hour time periods (TIMESTAMP_START, TIMESTAMP_END). \n",
    "\n",
    "**Target**: GPP_NT_VUT_REF  \n",
    "**Features**: \n",
    "* Climate: \n",
    "  * “TA_ERA” (air temperature)\n",
    "  * “P_ERA” (precipitation)\n",
    "  * “VPD_ERA” (VPD)\n",
    "  * “SW_IN_ERA” (solar radiation)\n",
    "* Satellite\n",
    "  * “b1”, “b2”, “b3”, “b4”, “b5”, “b6”, “b7”, “NDVI”, “EVI”, “NIRv”\n",
    "* Categorical\n",
    "  * “IGBP”\n",
    "  * “Koppen”\n",
    "\n",
    "The whole dataset exceeds 15 GB, which will not fit in memory of the colab hardware. So in this notebook, we will explore data for selected sites."
   ]
  },
  {
   "cell_type": "markdown",
   "metadata": {},
   "source": [
    "### Check the list of sites"
   ]
  },
  {
   "cell_type": "code",
   "execution_count": 7,
   "metadata": {},
   "outputs": [
    {
     "data": {
      "text/html": [
       "<div>\n",
       "<style scoped>\n",
       "    .dataframe tbody tr th:only-of-type {\n",
       "        vertical-align: middle;\n",
       "    }\n",
       "\n",
       "    .dataframe tbody tr th {\n",
       "        vertical-align: top;\n",
       "    }\n",
       "\n",
       "    .dataframe thead th {\n",
       "        text-align: right;\n",
       "    }\n",
       "</style>\n",
       "<table border=\"1\" class=\"dataframe\">\n",
       "  <thead>\n",
       "    <tr style=\"text-align: right;\">\n",
       "      <th></th>\n",
       "      <th>SITE_ID</th>\n",
       "      <th>dataset</th>\n",
       "      <th>start_year</th>\n",
       "      <th>end_year</th>\n",
       "      <th>path</th>\n",
       "      <th>dup</th>\n",
       "      <th>IGBP</th>\n",
       "      <th>LOCATION_ELEV</th>\n",
       "      <th>LOCATION_LAT</th>\n",
       "      <th>LOCATION_LONG</th>\n",
       "      <th>SITE_NAME</th>\n",
       "      <th>koppen_sub</th>\n",
       "      <th>koppen_main</th>\n",
       "      <th>koppen_name</th>\n",
       "      <th>koppen_main_name</th>\n",
       "      <th>C3/C4</th>\n",
       "      <th>C4_percent</th>\n",
       "    </tr>\n",
       "  </thead>\n",
       "  <tbody>\n",
       "    <tr>\n",
       "      <th>0</th>\n",
       "      <td>AR-SLu</td>\n",
       "      <td>FLUXNET</td>\n",
       "      <td>2009</td>\n",
       "      <td>2011</td>\n",
       "      <td>/Users/yanghuikang/Documents/Work/Research/Dat...</td>\n",
       "      <td>False</td>\n",
       "      <td>MF</td>\n",
       "      <td>NaN</td>\n",
       "      <td>-33.46480</td>\n",
       "      <td>-66.4598</td>\n",
       "      <td>San Luis</td>\n",
       "      <td>7</td>\n",
       "      <td>2</td>\n",
       "      <td>BSk</td>\n",
       "      <td>Arid</td>\n",
       "      <td>C3</td>\n",
       "      <td>67.08</td>\n",
       "    </tr>\n",
       "    <tr>\n",
       "      <th>1</th>\n",
       "      <td>AR-Vir</td>\n",
       "      <td>FLUXNET</td>\n",
       "      <td>2009</td>\n",
       "      <td>2012</td>\n",
       "      <td>/Users/yanghuikang/Documents/Work/Research/Dat...</td>\n",
       "      <td>False</td>\n",
       "      <td>ENF</td>\n",
       "      <td>NaN</td>\n",
       "      <td>-28.23950</td>\n",
       "      <td>-56.1886</td>\n",
       "      <td>Virasoro</td>\n",
       "      <td>14</td>\n",
       "      <td>3</td>\n",
       "      <td>Cfa</td>\n",
       "      <td>Temperate</td>\n",
       "      <td>C3</td>\n",
       "      <td>8.75</td>\n",
       "    </tr>\n",
       "    <tr>\n",
       "      <th>2</th>\n",
       "      <td>AT-Neu</td>\n",
       "      <td>FLUXNET</td>\n",
       "      <td>2002</td>\n",
       "      <td>2012</td>\n",
       "      <td>/Users/yanghuikang/Documents/Work/Research/Dat...</td>\n",
       "      <td>False</td>\n",
       "      <td>GRA</td>\n",
       "      <td>970.0</td>\n",
       "      <td>47.11667</td>\n",
       "      <td>11.3175</td>\n",
       "      <td>Neustift</td>\n",
       "      <td>26</td>\n",
       "      <td>4</td>\n",
       "      <td>Dfb</td>\n",
       "      <td>Cold</td>\n",
       "      <td>C3</td>\n",
       "      <td>0.00</td>\n",
       "    </tr>\n",
       "    <tr>\n",
       "      <th>3</th>\n",
       "      <td>AU-ASM</td>\n",
       "      <td>FLUXNET</td>\n",
       "      <td>2010</td>\n",
       "      <td>2014</td>\n",
       "      <td>/Users/yanghuikang/Documents/Work/Research/Dat...</td>\n",
       "      <td>False</td>\n",
       "      <td>SAV</td>\n",
       "      <td>NaN</td>\n",
       "      <td>-22.28300</td>\n",
       "      <td>133.2490</td>\n",
       "      <td>Alice Springs</td>\n",
       "      <td>4</td>\n",
       "      <td>2</td>\n",
       "      <td>BWh</td>\n",
       "      <td>Arid</td>\n",
       "      <td>C3</td>\n",
       "      <td>100.00</td>\n",
       "    </tr>\n",
       "    <tr>\n",
       "      <th>4</th>\n",
       "      <td>AU-Ade</td>\n",
       "      <td>FLUXNET</td>\n",
       "      <td>2007</td>\n",
       "      <td>2009</td>\n",
       "      <td>/Users/yanghuikang/Documents/Work/Research/Dat...</td>\n",
       "      <td>False</td>\n",
       "      <td>WSA</td>\n",
       "      <td>NaN</td>\n",
       "      <td>-13.07690</td>\n",
       "      <td>131.1178</td>\n",
       "      <td>Adelaide River</td>\n",
       "      <td>3</td>\n",
       "      <td>1</td>\n",
       "      <td>Aw</td>\n",
       "      <td>Tropical</td>\n",
       "      <td>C3</td>\n",
       "      <td>79.57</td>\n",
       "    </tr>\n",
       "  </tbody>\n",
       "</table>\n",
       "</div>"
      ],
      "text/plain": [
       "  SITE_ID  dataset  start_year  end_year  \\\n",
       "0  AR-SLu  FLUXNET        2009      2011   \n",
       "1  AR-Vir  FLUXNET        2009      2012   \n",
       "2  AT-Neu  FLUXNET        2002      2012   \n",
       "3  AU-ASM  FLUXNET        2010      2014   \n",
       "4  AU-Ade  FLUXNET        2007      2009   \n",
       "\n",
       "                                                path    dup IGBP  \\\n",
       "0  /Users/yanghuikang/Documents/Work/Research/Dat...  False   MF   \n",
       "1  /Users/yanghuikang/Documents/Work/Research/Dat...  False  ENF   \n",
       "2  /Users/yanghuikang/Documents/Work/Research/Dat...  False  GRA   \n",
       "3  /Users/yanghuikang/Documents/Work/Research/Dat...  False  SAV   \n",
       "4  /Users/yanghuikang/Documents/Work/Research/Dat...  False  WSA   \n",
       "\n",
       "   LOCATION_ELEV  LOCATION_LAT  LOCATION_LONG       SITE_NAME  koppen_sub  \\\n",
       "0            NaN     -33.46480       -66.4598        San Luis           7   \n",
       "1            NaN     -28.23950       -56.1886        Virasoro          14   \n",
       "2          970.0      47.11667        11.3175        Neustift          26   \n",
       "3            NaN     -22.28300       133.2490   Alice Springs           4   \n",
       "4            NaN     -13.07690       131.1178  Adelaide River           3   \n",
       "\n",
       "   koppen_main koppen_name koppen_main_name C3/C4  C4_percent  \n",
       "0            2         BSk             Arid    C3       67.08  \n",
       "1            3         Cfa        Temperate    C3        8.75  \n",
       "2            4         Dfb             Cold    C3        0.00  \n",
       "3            2         BWh             Arid    C3      100.00  \n",
       "4            1          Aw         Tropical    C3       79.57  "
      ]
     },
     "execution_count": 7,
     "metadata": {},
     "output_type": "execute_result"
    }
   ],
   "source": [
    "site_path = '/global/scratch/users/yaqiantang/discoveryData/' + \\\n",
    " 'site_summary_v0_3_2.csv'\n",
    "site_summary = pd.read_csv(site_path)\n",
    "site_summary.head()"
   ]
  },
  {
   "cell_type": "markdown",
   "metadata": {},
   "source": [
    "Print a list of site ID for each IGBP category:  \n",
    "Check here for descriptions of the IGBP classification https://fluxnet.org/data/badm-data-templates/igbp-classification/  \n",
    "Note that not all of the sites are in the half-hourly dataset."
   ]
  },
  {
   "cell_type": "code",
   "execution_count": 8,
   "metadata": {},
   "outputs": [
    {
     "data": {
      "text/plain": [
       "IGBP\n",
       "CRO                                                                                                                                                                                                                                                                                                                                    [DE-Seh, DK-Fou, FI-Jok, IT-CA2, US-Lin, US-Ne1, US-Ne2, US-Ne3, US-Tw3, US-Twt, US-ARM, US-Bi1, US-Bi2, US-CRT, US-Ro1, US-Ro5, US-Ro6, US-Tw2, US-Wgr, BE-Lon, CH-Oe2, CZ-KrP, DE-Geb, DE-Kli, DE-RuS, FI-Qvd, FR-Aur, FR-Gri, FR-Lam, IT-BCi, FR-EM2, SE-Lnn]\n",
       "CSH                                                                                                                                                                                                                                                                                                                                                                                                                                                                                                                                                            [IT-Noe, US-KS2, US-Rls, US-Rms, BE-Maa]\n",
       "DBF                                                                                                                                                                                                                                                                                                    [AU-Lox, CA-Oas, CA-TPD, DE-Lnf, IT-CA1, IT-CA3, IT-Col, IT-Isp, IT-PT1, IT-Ro1, IT-Ro2, JP-MBF, PA-SPn, US-Ha1, US-WCr, US-Wi1, US-Wi3, US-Wi8, ZM-Mon, CA-Cbo, US-Bar, US-Dk2, US-MMS, US-Oho, US-UMB, US-UMd, BE-Lcr, CZ-Lnz, CZ-Stn, DE-Hai, DE-HoH, DE-Hzd, DK-Sor, FR-Fon, FR-Hes, IT-BFt]\n",
       "EBF                                                                                                                                                                                                                                                                                                                                                                                                                                                                    [AU-Cum, AU-Rob, AU-Tum, AU-Wac, AU-Whr, AU-Wom, BR-Sa1, BR-Sa3, CN-Din, FR-Pue, GH-Ank, IT-Cpz, MY-PSO, ES-Cnd, GF-Guy, IT-Cp2]\n",
       "ENF    [AR-Vir, CA-Man, CA-NS4, CA-Obs, CA-SF1, CA-TP1, CA-TP2, CA-TP3, CN-Qia, DE-Lkb, FI-Sod, FR-LBr, IT-La2, IT-SRo, US-Blo, US-GBT, US-GLE, US-KS1, US-Me1, US-Me3, US-Me4, US-Me5, US-Me6, US-NR1, US-Wi0, US-Wi2, US-Wi4, US-Wi5, US-Wi9, CA-Ca1, CA-Ca2, CA-Ca3, CA-NS1, CA-NS2, CA-NS3, CA-NS5, CA-Qfo, CA-SF2, CA-SJ2, CA-TP4, US-Dk3, US-Fmf, US-Fuf, US-Ho1, US-Me2, US-Prr, US-Uaf, US-Vcm, US-Vcp, CH-Dav, CZ-BK1, CZ-RAJ, DE-Obe, DE-RuW, DE-Tha, DK-Gds, FI-Hyy, FI-Ken, FI-Let, FI-Var, FR-Bil, IL-Yat, IT-Lav, IT-Ren, IT-SR2, RU-Fy2, RU-Fyo, SE-Htm, SE-Nor, SE-Ros, SE-Svb, NL-Loo]\n",
       "GRA                                                                                                                                                                                                                            [AT-Neu, AU-DaP, AU-Emr, AU-Rig, AU-Stp, AU-TTE, AU-Ync, CH-Oe1, CN-Cng, CN-Dan, CN-Du2, CN-Du3, CN-HaM, CN-Sw2, CZ-BK2, DK-Eng, GL-ZaH, NL-Hor, PA-SPs, RU-Ha1, US-Cop, US-Goo, US-IB2, US-LWW, US-Var, US-Wkg, US-AR1, US-AR2, US-ARb, US-ARc, US-Dk1, US-KFS, US-Ro4, US-SRG, US-Seg, BE-Dor, CH-Aws, CH-Cha, CH-Fru, DE-Gri, DE-RuR, FI-Sii, FR-Tou, IT-MBo, IT-Tor]\n",
       "MF                                                                                                                                                                                                                                                                                                                                                                                                                                                                                                     [AR-SLu, CN-Cha, JP-SMF, US-PFa, US-SRC, US-Syv, CA-Gro, CA-Qc2, BE-Bra, BE-Vie, CH-Lae, FR-FBn]\n",
       "OSH                                                                                                                                                                                                                                                                                                                                                                                                                                                    [CA-NS7, CA-SF3, ES-Amo, ES-LgS, ES-Ln2, RU-Cok, US-Sta, US-Whs, US-Wi6, US-Wi7, CA-NS6, US-Mpj, US-Rws, US-Ses, ES-Agu, ES-LJu, GL-Dsk, IT-Lsn]\n",
       "SAV                                                                                                                                                                                                                                                                                                                                                                                                                                                                                                                            [AU-ASM, AU-Cpr, AU-DaS, AU-Dry, AU-GWW, CG-Tch, SD-Dem, SN-Dhr, US-Wjs]\n",
       "SNO                                                                                                                                                                                                                                                                                                                                                                                                                                                                                                                                                                                            [SJ-Blv]\n",
       "WAT                                                                                                                                                                                                                                                                                                                                                                                                                                                                                                                                                                                    [US-Men, US-Pnp]\n",
       "WET                                                                                                                                                                                                                                                                                                                                                                    [AU-Fog, CN-Ha2, DE-SfN, DE-Spw, DE-Zrk, FI-Lom, GL-NuF, GL-ZaF, RU-Che, SJ-Adv, US-Atq, US-Ivo, US-Los, US-Myb, US-ORv, US-WPT, CA-WP1, CA-WP2, CA-WP3, US-OWC, US-Tw1, US-Tw4, CZ-wet, DE-Akm, FR-LGt, IE-Cra, SE-Deg, DE-Hte]\n",
       "WSA                                                                                                                                                                                                                                                                                                                                                                                                                                                                                                                    [AU-Ade, AU-Gin, AU-How, AU-RDF, US-SRM, US-Ton, US-FR2, ES-Abr, ES-LM1, ES-LM2]\n",
       "Name: SITE_ID, dtype: object"
      ]
     },
     "metadata": {},
     "output_type": "display_data"
    }
   ],
   "source": [
    "with pd.option_context('display.max_colwidth', None):\n",
    "    display(site_summary.groupby('IGBP')['SITE_ID'].apply(list))"
   ]
  },
  {
   "cell_type": "code",
   "execution_count": 9,
   "metadata": {},
   "outputs": [],
   "source": [
    "data_path = '/global/scratch/users/yaqiantang/discoveryData/'"
   ]
  },
  {
   "cell_type": "markdown",
   "metadata": {},
   "source": [
    "# ML Models Development"
   ]
  },
  {
   "cell_type": "markdown",
   "metadata": {},
   "source": [
    "# 5th Site - US-Var"
   ]
  },
  {
   "cell_type": "code",
   "execution_count": 16,
   "metadata": {},
   "outputs": [
    {
     "data": {
      "text/html": [
       "<div>\n",
       "<style scoped>\n",
       "    .dataframe tbody tr th:only-of-type {\n",
       "        vertical-align: middle;\n",
       "    }\n",
       "\n",
       "    .dataframe tbody tr th {\n",
       "        vertical-align: top;\n",
       "    }\n",
       "\n",
       "    .dataframe thead th {\n",
       "        text-align: right;\n",
       "    }\n",
       "</style>\n",
       "<table border=\"1\" class=\"dataframe\">\n",
       "  <thead>\n",
       "    <tr style=\"text-align: right;\">\n",
       "      <th></th>\n",
       "      <th>TIMESTAMP_START</th>\n",
       "      <th>TIMESTAMP_END</th>\n",
       "      <th>TA_F</th>\n",
       "      <th>TA_F_QC</th>\n",
       "      <th>TA_ERA</th>\n",
       "      <th>SW_IN_POT</th>\n",
       "      <th>SW_IN_F</th>\n",
       "      <th>SW_IN_F_QC</th>\n",
       "      <th>SW_IN_ERA</th>\n",
       "      <th>LW_IN_F</th>\n",
       "      <th>...</th>\n",
       "      <th>NIRv</th>\n",
       "      <th>b1</th>\n",
       "      <th>b2</th>\n",
       "      <th>b3</th>\n",
       "      <th>b4</th>\n",
       "      <th>b5</th>\n",
       "      <th>b6</th>\n",
       "      <th>b7</th>\n",
       "      <th>IGBP</th>\n",
       "      <th>koppen</th>\n",
       "    </tr>\n",
       "  </thead>\n",
       "  <tbody>\n",
       "    <tr>\n",
       "      <th>0</th>\n",
       "      <td>200011010000</td>\n",
       "      <td>200011010030</td>\n",
       "      <td>8.59</td>\n",
       "      <td>0</td>\n",
       "      <td>8.117</td>\n",
       "      <td>0.0</td>\n",
       "      <td>0.0</td>\n",
       "      <td>0</td>\n",
       "      <td>0.0</td>\n",
       "      <td>297.554</td>\n",
       "      <td>...</td>\n",
       "      <td>NaN</td>\n",
       "      <td>NaN</td>\n",
       "      <td>NaN</td>\n",
       "      <td>NaN</td>\n",
       "      <td>NaN</td>\n",
       "      <td>NaN</td>\n",
       "      <td>NaN</td>\n",
       "      <td>NaN</td>\n",
       "      <td>GRA</td>\n",
       "      <td>Temperate</td>\n",
       "    </tr>\n",
       "    <tr>\n",
       "      <th>1</th>\n",
       "      <td>200011010030</td>\n",
       "      <td>200011010100</td>\n",
       "      <td>8.54</td>\n",
       "      <td>0</td>\n",
       "      <td>7.898</td>\n",
       "      <td>0.0</td>\n",
       "      <td>0.0</td>\n",
       "      <td>0</td>\n",
       "      <td>0.0</td>\n",
       "      <td>297.554</td>\n",
       "      <td>...</td>\n",
       "      <td>NaN</td>\n",
       "      <td>NaN</td>\n",
       "      <td>NaN</td>\n",
       "      <td>NaN</td>\n",
       "      <td>NaN</td>\n",
       "      <td>NaN</td>\n",
       "      <td>NaN</td>\n",
       "      <td>NaN</td>\n",
       "      <td>GRA</td>\n",
       "      <td>Temperate</td>\n",
       "    </tr>\n",
       "    <tr>\n",
       "      <th>2</th>\n",
       "      <td>200011010100</td>\n",
       "      <td>200011010130</td>\n",
       "      <td>8.51</td>\n",
       "      <td>0</td>\n",
       "      <td>7.680</td>\n",
       "      <td>0.0</td>\n",
       "      <td>0.0</td>\n",
       "      <td>0</td>\n",
       "      <td>0.0</td>\n",
       "      <td>277.808</td>\n",
       "      <td>...</td>\n",
       "      <td>NaN</td>\n",
       "      <td>NaN</td>\n",
       "      <td>NaN</td>\n",
       "      <td>NaN</td>\n",
       "      <td>NaN</td>\n",
       "      <td>NaN</td>\n",
       "      <td>NaN</td>\n",
       "      <td>NaN</td>\n",
       "      <td>GRA</td>\n",
       "      <td>Temperate</td>\n",
       "    </tr>\n",
       "    <tr>\n",
       "      <th>3</th>\n",
       "      <td>200011010130</td>\n",
       "      <td>200011010200</td>\n",
       "      <td>8.07</td>\n",
       "      <td>0</td>\n",
       "      <td>7.353</td>\n",
       "      <td>0.0</td>\n",
       "      <td>0.0</td>\n",
       "      <td>0</td>\n",
       "      <td>0.0</td>\n",
       "      <td>277.808</td>\n",
       "      <td>...</td>\n",
       "      <td>NaN</td>\n",
       "      <td>NaN</td>\n",
       "      <td>NaN</td>\n",
       "      <td>NaN</td>\n",
       "      <td>NaN</td>\n",
       "      <td>NaN</td>\n",
       "      <td>NaN</td>\n",
       "      <td>NaN</td>\n",
       "      <td>GRA</td>\n",
       "      <td>Temperate</td>\n",
       "    </tr>\n",
       "    <tr>\n",
       "      <th>4</th>\n",
       "      <td>200011010200</td>\n",
       "      <td>200011010230</td>\n",
       "      <td>7.43</td>\n",
       "      <td>0</td>\n",
       "      <td>7.027</td>\n",
       "      <td>0.0</td>\n",
       "      <td>0.0</td>\n",
       "      <td>0</td>\n",
       "      <td>0.0</td>\n",
       "      <td>277.808</td>\n",
       "      <td>...</td>\n",
       "      <td>NaN</td>\n",
       "      <td>NaN</td>\n",
       "      <td>NaN</td>\n",
       "      <td>NaN</td>\n",
       "      <td>NaN</td>\n",
       "      <td>NaN</td>\n",
       "      <td>NaN</td>\n",
       "      <td>NaN</td>\n",
       "      <td>GRA</td>\n",
       "      <td>Temperate</td>\n",
       "    </tr>\n",
       "  </tbody>\n",
       "</table>\n",
       "<p>5 rows × 64 columns</p>\n",
       "</div>"
      ],
      "text/plain": [
       "   TIMESTAMP_START  TIMESTAMP_END  TA_F  TA_F_QC  TA_ERA  SW_IN_POT  SW_IN_F  \\\n",
       "0     200011010000   200011010030  8.59        0   8.117        0.0      0.0   \n",
       "1     200011010030   200011010100  8.54        0   7.898        0.0      0.0   \n",
       "2     200011010100   200011010130  8.51        0   7.680        0.0      0.0   \n",
       "3     200011010130   200011010200  8.07        0   7.353        0.0      0.0   \n",
       "4     200011010200   200011010230  7.43        0   7.027        0.0      0.0   \n",
       "\n",
       "   SW_IN_F_QC  SW_IN_ERA  LW_IN_F  ...  NIRv  b1  b2  b3  b4  b5  b6  b7  \\\n",
       "0           0        0.0  297.554  ...   NaN NaN NaN NaN NaN NaN NaN NaN   \n",
       "1           0        0.0  297.554  ...   NaN NaN NaN NaN NaN NaN NaN NaN   \n",
       "2           0        0.0  277.808  ...   NaN NaN NaN NaN NaN NaN NaN NaN   \n",
       "3           0        0.0  277.808  ...   NaN NaN NaN NaN NaN NaN NaN NaN   \n",
       "4           0        0.0  277.808  ...   NaN NaN NaN NaN NaN NaN NaN NaN   \n",
       "\n",
       "   IGBP     koppen  \n",
       "0   GRA  Temperate  \n",
       "1   GRA  Temperate  \n",
       "2   GRA  Temperate  \n",
       "3   GRA  Temperate  \n",
       "4   GRA  Temperate  \n",
       "\n",
       "[5 rows x 64 columns]"
      ]
     },
     "execution_count": 16,
     "metadata": {},
     "output_type": "execute_result"
    }
   ],
   "source": [
    "site_id = 'US-Var' # \n",
    "df = pd.read_csv(data_path + 'data_full_half_hourly_raw_v0_1_' + site_id + '.csv')\n",
    "df.head()"
   ]
  },
  {
   "cell_type": "code",
   "execution_count": 20,
   "metadata": {},
   "outputs": [
    {
     "data": {
      "text/html": [
       "<div>\n",
       "<style scoped>\n",
       "    .dataframe tbody tr th:only-of-type {\n",
       "        vertical-align: middle;\n",
       "    }\n",
       "\n",
       "    .dataframe tbody tr th {\n",
       "        vertical-align: top;\n",
       "    }\n",
       "\n",
       "    .dataframe thead th {\n",
       "        text-align: right;\n",
       "    }\n",
       "</style>\n",
       "<table border=\"1\" class=\"dataframe\">\n",
       "  <thead>\n",
       "    <tr style=\"text-align: right;\">\n",
       "      <th></th>\n",
       "      <th>TIMESTAMP_START</th>\n",
       "      <th>TIMESTAMP_END</th>\n",
       "      <th>TA_F</th>\n",
       "      <th>TA_F_QC</th>\n",
       "      <th>TA_ERA</th>\n",
       "      <th>SW_IN_POT</th>\n",
       "      <th>SW_IN_F</th>\n",
       "      <th>SW_IN_F_QC</th>\n",
       "      <th>SW_IN_ERA</th>\n",
       "      <th>LW_IN_F</th>\n",
       "      <th>...</th>\n",
       "      <th>NIRv</th>\n",
       "      <th>b1</th>\n",
       "      <th>b2</th>\n",
       "      <th>b3</th>\n",
       "      <th>b4</th>\n",
       "      <th>b5</th>\n",
       "      <th>b6</th>\n",
       "      <th>b7</th>\n",
       "      <th>IGBP</th>\n",
       "      <th>koppen</th>\n",
       "    </tr>\n",
       "    <tr>\n",
       "      <th>datetime</th>\n",
       "      <th></th>\n",
       "      <th></th>\n",
       "      <th></th>\n",
       "      <th></th>\n",
       "      <th></th>\n",
       "      <th></th>\n",
       "      <th></th>\n",
       "      <th></th>\n",
       "      <th></th>\n",
       "      <th></th>\n",
       "      <th></th>\n",
       "      <th></th>\n",
       "      <th></th>\n",
       "      <th></th>\n",
       "      <th></th>\n",
       "      <th></th>\n",
       "      <th></th>\n",
       "      <th></th>\n",
       "      <th></th>\n",
       "      <th></th>\n",
       "      <th></th>\n",
       "    </tr>\n",
       "  </thead>\n",
       "  <tbody>\n",
       "    <tr>\n",
       "      <th>2000-11-01 00:00:00</th>\n",
       "      <td>200011010000</td>\n",
       "      <td>200011010030</td>\n",
       "      <td>8.59</td>\n",
       "      <td>0</td>\n",
       "      <td>8.117</td>\n",
       "      <td>0.0</td>\n",
       "      <td>0.0</td>\n",
       "      <td>0</td>\n",
       "      <td>0.0</td>\n",
       "      <td>297.554</td>\n",
       "      <td>...</td>\n",
       "      <td>NaN</td>\n",
       "      <td>NaN</td>\n",
       "      <td>NaN</td>\n",
       "      <td>NaN</td>\n",
       "      <td>NaN</td>\n",
       "      <td>NaN</td>\n",
       "      <td>NaN</td>\n",
       "      <td>NaN</td>\n",
       "      <td>GRA</td>\n",
       "      <td>Temperate</td>\n",
       "    </tr>\n",
       "    <tr>\n",
       "      <th>2000-11-01 00:30:00</th>\n",
       "      <td>200011010030</td>\n",
       "      <td>200011010100</td>\n",
       "      <td>8.54</td>\n",
       "      <td>0</td>\n",
       "      <td>7.898</td>\n",
       "      <td>0.0</td>\n",
       "      <td>0.0</td>\n",
       "      <td>0</td>\n",
       "      <td>0.0</td>\n",
       "      <td>297.554</td>\n",
       "      <td>...</td>\n",
       "      <td>NaN</td>\n",
       "      <td>NaN</td>\n",
       "      <td>NaN</td>\n",
       "      <td>NaN</td>\n",
       "      <td>NaN</td>\n",
       "      <td>NaN</td>\n",
       "      <td>NaN</td>\n",
       "      <td>NaN</td>\n",
       "      <td>GRA</td>\n",
       "      <td>Temperate</td>\n",
       "    </tr>\n",
       "    <tr>\n",
       "      <th>2000-11-01 01:00:00</th>\n",
       "      <td>200011010100</td>\n",
       "      <td>200011010130</td>\n",
       "      <td>8.51</td>\n",
       "      <td>0</td>\n",
       "      <td>7.680</td>\n",
       "      <td>0.0</td>\n",
       "      <td>0.0</td>\n",
       "      <td>0</td>\n",
       "      <td>0.0</td>\n",
       "      <td>277.808</td>\n",
       "      <td>...</td>\n",
       "      <td>NaN</td>\n",
       "      <td>NaN</td>\n",
       "      <td>NaN</td>\n",
       "      <td>NaN</td>\n",
       "      <td>NaN</td>\n",
       "      <td>NaN</td>\n",
       "      <td>NaN</td>\n",
       "      <td>NaN</td>\n",
       "      <td>GRA</td>\n",
       "      <td>Temperate</td>\n",
       "    </tr>\n",
       "    <tr>\n",
       "      <th>2000-11-01 01:30:00</th>\n",
       "      <td>200011010130</td>\n",
       "      <td>200011010200</td>\n",
       "      <td>8.07</td>\n",
       "      <td>0</td>\n",
       "      <td>7.353</td>\n",
       "      <td>0.0</td>\n",
       "      <td>0.0</td>\n",
       "      <td>0</td>\n",
       "      <td>0.0</td>\n",
       "      <td>277.808</td>\n",
       "      <td>...</td>\n",
       "      <td>NaN</td>\n",
       "      <td>NaN</td>\n",
       "      <td>NaN</td>\n",
       "      <td>NaN</td>\n",
       "      <td>NaN</td>\n",
       "      <td>NaN</td>\n",
       "      <td>NaN</td>\n",
       "      <td>NaN</td>\n",
       "      <td>GRA</td>\n",
       "      <td>Temperate</td>\n",
       "    </tr>\n",
       "    <tr>\n",
       "      <th>2000-11-01 02:00:00</th>\n",
       "      <td>200011010200</td>\n",
       "      <td>200011010230</td>\n",
       "      <td>7.43</td>\n",
       "      <td>0</td>\n",
       "      <td>7.027</td>\n",
       "      <td>0.0</td>\n",
       "      <td>0.0</td>\n",
       "      <td>0</td>\n",
       "      <td>0.0</td>\n",
       "      <td>277.808</td>\n",
       "      <td>...</td>\n",
       "      <td>NaN</td>\n",
       "      <td>NaN</td>\n",
       "      <td>NaN</td>\n",
       "      <td>NaN</td>\n",
       "      <td>NaN</td>\n",
       "      <td>NaN</td>\n",
       "      <td>NaN</td>\n",
       "      <td>NaN</td>\n",
       "      <td>GRA</td>\n",
       "      <td>Temperate</td>\n",
       "    </tr>\n",
       "  </tbody>\n",
       "</table>\n",
       "<p>5 rows × 63 columns</p>\n",
       "</div>"
      ],
      "text/plain": [
       "                     TIMESTAMP_START  TIMESTAMP_END  TA_F  TA_F_QC  TA_ERA  \\\n",
       "datetime                                                                     \n",
       "2000-11-01 00:00:00     200011010000   200011010030  8.59        0   8.117   \n",
       "2000-11-01 00:30:00     200011010030   200011010100  8.54        0   7.898   \n",
       "2000-11-01 01:00:00     200011010100   200011010130  8.51        0   7.680   \n",
       "2000-11-01 01:30:00     200011010130   200011010200  8.07        0   7.353   \n",
       "2000-11-01 02:00:00     200011010200   200011010230  7.43        0   7.027   \n",
       "\n",
       "                     SW_IN_POT  SW_IN_F  SW_IN_F_QC  SW_IN_ERA  LW_IN_F  ...  \\\n",
       "datetime                                                                 ...   \n",
       "2000-11-01 00:00:00        0.0      0.0           0        0.0  297.554  ...   \n",
       "2000-11-01 00:30:00        0.0      0.0           0        0.0  297.554  ...   \n",
       "2000-11-01 01:00:00        0.0      0.0           0        0.0  277.808  ...   \n",
       "2000-11-01 01:30:00        0.0      0.0           0        0.0  277.808  ...   \n",
       "2000-11-01 02:00:00        0.0      0.0           0        0.0  277.808  ...   \n",
       "\n",
       "                     NIRv  b1  b2  b3  b4  b5  b6  b7  IGBP     koppen  \n",
       "datetime                                                                \n",
       "2000-11-01 00:00:00   NaN NaN NaN NaN NaN NaN NaN NaN   GRA  Temperate  \n",
       "2000-11-01 00:30:00   NaN NaN NaN NaN NaN NaN NaN NaN   GRA  Temperate  \n",
       "2000-11-01 01:00:00   NaN NaN NaN NaN NaN NaN NaN NaN   GRA  Temperate  \n",
       "2000-11-01 01:30:00   NaN NaN NaN NaN NaN NaN NaN NaN   GRA  Temperate  \n",
       "2000-11-01 02:00:00   NaN NaN NaN NaN NaN NaN NaN NaN   GRA  Temperate  \n",
       "\n",
       "[5 rows x 63 columns]"
      ]
     },
     "execution_count": 20,
     "metadata": {},
     "output_type": "execute_result"
    }
   ],
   "source": [
    "target = 'GPP_NT_VUT_REF'\n",
    "features = ['year','TA_ERA','SW_IN_ERA','P_ERA','VPD_ERA','b1','b2','b3','b4','b5','b6',\n",
    "            'b7','NDVI','EVI','NIRv']\n",
    "# and categorical features: IGBP and koppen\n",
    "\n",
    "df['datetime'] = pd.to_datetime(df['datetime'])\n",
    "df = df.set_index('datetime')\n",
    "df.head()"
   ]
  },
  {
   "cell_type": "code",
   "execution_count": 21,
   "metadata": {},
   "outputs": [
    {
     "data": {
      "text/plain": [
       "Index(['GPP_NT_VUT_REF', 'year', 'TA_ERA', 'SW_IN_ERA', 'P_ERA', 'VPD_ERA',\n",
       "       'b1', 'b2', 'b3', 'b4', 'b5', 'b6', 'b7', 'NDVI', 'EVI', 'NIRv',\n",
       "       'IGBP_GRA', 'koppen_Temperate'],\n",
       "      dtype='object')"
      ]
     },
     "execution_count": 21,
     "metadata": {},
     "output_type": "execute_result"
    }
   ],
   "source": [
    "# One hot encoding categorical variables: IGBP and Koppen\n",
    "df_ohe = df[[target, 'IGBP', 'koppen'] + features]\n",
    "\n",
    "categorical_columns = ['IGBP', 'koppen']\n",
    "for col in categorical_columns:\n",
    "    col_ohe = pd.get_dummies(df[col], prefix=col)\n",
    "    df_ohe = pd.concat((df_ohe, col_ohe), axis=1).drop(col, axis=1)\n",
    "\n",
    "df_ohe.columns"
   ]
  },
  {
   "cell_type": "code",
   "execution_count": 22,
   "metadata": {},
   "outputs": [],
   "source": [
    "def clean_dataset(df):\n",
    "    assert isinstance(df, pd.DataFrame), \"df needs to be a pd.DataFrame\"\n",
    "    df.dropna(inplace=True)\n",
    "    return df"
   ]
  },
  {
   "cell_type": "code",
   "execution_count": 23,
   "metadata": {
    "scrolled": false
   },
   "outputs": [
    {
     "data": {
      "text/html": [
       "<div>\n",
       "<style scoped>\n",
       "    .dataframe tbody tr th:only-of-type {\n",
       "        vertical-align: middle;\n",
       "    }\n",
       "\n",
       "    .dataframe tbody tr th {\n",
       "        vertical-align: top;\n",
       "    }\n",
       "\n",
       "    .dataframe thead th {\n",
       "        text-align: right;\n",
       "    }\n",
       "</style>\n",
       "<table border=\"1\" class=\"dataframe\">\n",
       "  <thead>\n",
       "    <tr style=\"text-align: right;\">\n",
       "      <th></th>\n",
       "      <th>GPP_NT_VUT_REF</th>\n",
       "      <th>year</th>\n",
       "      <th>TA_ERA</th>\n",
       "      <th>SW_IN_ERA</th>\n",
       "      <th>P_ERA</th>\n",
       "      <th>VPD_ERA</th>\n",
       "      <th>b1</th>\n",
       "      <th>b2</th>\n",
       "      <th>b3</th>\n",
       "      <th>b4</th>\n",
       "      <th>b5</th>\n",
       "      <th>b6</th>\n",
       "      <th>b7</th>\n",
       "      <th>NDVI</th>\n",
       "      <th>EVI</th>\n",
       "      <th>NIRv</th>\n",
       "      <th>IGBP_GRA</th>\n",
       "      <th>koppen_Temperate</th>\n",
       "    </tr>\n",
       "    <tr>\n",
       "      <th>datetime</th>\n",
       "      <th></th>\n",
       "      <th></th>\n",
       "      <th></th>\n",
       "      <th></th>\n",
       "      <th></th>\n",
       "      <th></th>\n",
       "      <th></th>\n",
       "      <th></th>\n",
       "      <th></th>\n",
       "      <th></th>\n",
       "      <th></th>\n",
       "      <th></th>\n",
       "      <th></th>\n",
       "      <th></th>\n",
       "      <th></th>\n",
       "      <th></th>\n",
       "      <th></th>\n",
       "      <th></th>\n",
       "    </tr>\n",
       "  </thead>\n",
       "  <tbody>\n",
       "    <tr>\n",
       "      <th>2001-01-01 00:00:00</th>\n",
       "      <td>-1.84180</td>\n",
       "      <td>2001</td>\n",
       "      <td>2.171</td>\n",
       "      <td>0.0</td>\n",
       "      <td>0.0</td>\n",
       "      <td>0.893</td>\n",
       "      <td>0.0628</td>\n",
       "      <td>0.2694</td>\n",
       "      <td>0.0304</td>\n",
       "      <td>0.0625</td>\n",
       "      <td>0.3155</td>\n",
       "      <td>0.2595</td>\n",
       "      <td>0.1311</td>\n",
       "      <td>0.621915</td>\n",
       "      <td>0.364194</td>\n",
       "      <td>0.167544</td>\n",
       "      <td>1</td>\n",
       "      <td>1</td>\n",
       "    </tr>\n",
       "    <tr>\n",
       "      <th>2001-01-01 00:30:00</th>\n",
       "      <td>-1.91023</td>\n",
       "      <td>2001</td>\n",
       "      <td>2.161</td>\n",
       "      <td>0.0</td>\n",
       "      <td>0.0</td>\n",
       "      <td>1.107</td>\n",
       "      <td>0.0628</td>\n",
       "      <td>0.2694</td>\n",
       "      <td>0.0304</td>\n",
       "      <td>0.0625</td>\n",
       "      <td>0.3155</td>\n",
       "      <td>0.2595</td>\n",
       "      <td>0.1311</td>\n",
       "      <td>0.621915</td>\n",
       "      <td>0.364194</td>\n",
       "      <td>0.167544</td>\n",
       "      <td>1</td>\n",
       "      <td>1</td>\n",
       "    </tr>\n",
       "    <tr>\n",
       "      <th>2001-01-01 01:00:00</th>\n",
       "      <td>-1.85277</td>\n",
       "      <td>2001</td>\n",
       "      <td>2.150</td>\n",
       "      <td>0.0</td>\n",
       "      <td>0.0</td>\n",
       "      <td>1.321</td>\n",
       "      <td>0.0628</td>\n",
       "      <td>0.2694</td>\n",
       "      <td>0.0304</td>\n",
       "      <td>0.0625</td>\n",
       "      <td>0.3155</td>\n",
       "      <td>0.2595</td>\n",
       "      <td>0.1311</td>\n",
       "      <td>0.621915</td>\n",
       "      <td>0.364194</td>\n",
       "      <td>0.167544</td>\n",
       "      <td>1</td>\n",
       "      <td>1</td>\n",
       "    </tr>\n",
       "    <tr>\n",
       "      <th>2001-01-01 01:30:00</th>\n",
       "      <td>-5.84140</td>\n",
       "      <td>2001</td>\n",
       "      <td>2.044</td>\n",
       "      <td>0.0</td>\n",
       "      <td>0.0</td>\n",
       "      <td>1.391</td>\n",
       "      <td>0.0628</td>\n",
       "      <td>0.2694</td>\n",
       "      <td>0.0304</td>\n",
       "      <td>0.0625</td>\n",
       "      <td>0.3155</td>\n",
       "      <td>0.2595</td>\n",
       "      <td>0.1311</td>\n",
       "      <td>0.621915</td>\n",
       "      <td>0.364194</td>\n",
       "      <td>0.167544</td>\n",
       "      <td>1</td>\n",
       "      <td>1</td>\n",
       "    </tr>\n",
       "    <tr>\n",
       "      <th>2001-01-01 02:00:00</th>\n",
       "      <td>-2.51478</td>\n",
       "      <td>2001</td>\n",
       "      <td>1.938</td>\n",
       "      <td>0.0</td>\n",
       "      <td>0.0</td>\n",
       "      <td>1.461</td>\n",
       "      <td>0.0628</td>\n",
       "      <td>0.2694</td>\n",
       "      <td>0.0304</td>\n",
       "      <td>0.0625</td>\n",
       "      <td>0.3155</td>\n",
       "      <td>0.2595</td>\n",
       "      <td>0.1311</td>\n",
       "      <td>0.621915</td>\n",
       "      <td>0.364194</td>\n",
       "      <td>0.167544</td>\n",
       "      <td>1</td>\n",
       "      <td>1</td>\n",
       "    </tr>\n",
       "  </tbody>\n",
       "</table>\n",
       "</div>"
      ],
      "text/plain": [
       "                     GPP_NT_VUT_REF  year  TA_ERA  SW_IN_ERA  P_ERA  VPD_ERA  \\\n",
       "datetime                                                                       \n",
       "2001-01-01 00:00:00        -1.84180  2001   2.171        0.0    0.0    0.893   \n",
       "2001-01-01 00:30:00        -1.91023  2001   2.161        0.0    0.0    1.107   \n",
       "2001-01-01 01:00:00        -1.85277  2001   2.150        0.0    0.0    1.321   \n",
       "2001-01-01 01:30:00        -5.84140  2001   2.044        0.0    0.0    1.391   \n",
       "2001-01-01 02:00:00        -2.51478  2001   1.938        0.0    0.0    1.461   \n",
       "\n",
       "                         b1      b2      b3      b4      b5      b6      b7  \\\n",
       "datetime                                                                      \n",
       "2001-01-01 00:00:00  0.0628  0.2694  0.0304  0.0625  0.3155  0.2595  0.1311   \n",
       "2001-01-01 00:30:00  0.0628  0.2694  0.0304  0.0625  0.3155  0.2595  0.1311   \n",
       "2001-01-01 01:00:00  0.0628  0.2694  0.0304  0.0625  0.3155  0.2595  0.1311   \n",
       "2001-01-01 01:30:00  0.0628  0.2694  0.0304  0.0625  0.3155  0.2595  0.1311   \n",
       "2001-01-01 02:00:00  0.0628  0.2694  0.0304  0.0625  0.3155  0.2595  0.1311   \n",
       "\n",
       "                         NDVI       EVI      NIRv  IGBP_GRA  koppen_Temperate  \n",
       "datetime                                                                       \n",
       "2001-01-01 00:00:00  0.621915  0.364194  0.167544         1                 1  \n",
       "2001-01-01 00:30:00  0.621915  0.364194  0.167544         1                 1  \n",
       "2001-01-01 01:00:00  0.621915  0.364194  0.167544         1                 1  \n",
       "2001-01-01 01:30:00  0.621915  0.364194  0.167544         1                 1  \n",
       "2001-01-01 02:00:00  0.621915  0.364194  0.167544         1                 1  "
      ]
     },
     "execution_count": 23,
     "metadata": {},
     "output_type": "execute_result"
    }
   ],
   "source": [
    "# clean the data.\n",
    "df = clean_dataset(df_ohe)\n",
    "df.head()"
   ]
  },
  {
   "cell_type": "code",
   "execution_count": 29,
   "metadata": {},
   "outputs": [],
   "source": [
    "# test train split grouped by SiteID, year, month\n",
    "from sklearn.model_selection import GroupShuffleSplit \n",
    "\n",
    "splitter = GroupShuffleSplit(test_size=0.3, n_splits=2)\n",
    "split = splitter.split(df, groups=df['year'])\n",
    "train_inds, test_inds = next(split)\n",
    "\n",
    "train_df = df.iloc[train_inds]\n",
    "test_df = df.iloc[test_inds]"
   ]
  },
  {
   "cell_type": "code",
   "execution_count": 35,
   "metadata": {},
   "outputs": [
    {
     "data": {
      "text/html": [
       "<div>\n",
       "<style scoped>\n",
       "    .dataframe tbody tr th:only-of-type {\n",
       "        vertical-align: middle;\n",
       "    }\n",
       "\n",
       "    .dataframe tbody tr th {\n",
       "        vertical-align: top;\n",
       "    }\n",
       "\n",
       "    .dataframe thead th {\n",
       "        text-align: right;\n",
       "    }\n",
       "</style>\n",
       "<table border=\"1\" class=\"dataframe\">\n",
       "  <thead>\n",
       "    <tr style=\"text-align: right;\">\n",
       "      <th></th>\n",
       "      <th>GPP_NT_VUT_REF</th>\n",
       "      <th>year</th>\n",
       "      <th>TA_ERA</th>\n",
       "      <th>SW_IN_ERA</th>\n",
       "      <th>P_ERA</th>\n",
       "      <th>VPD_ERA</th>\n",
       "      <th>b1</th>\n",
       "      <th>b2</th>\n",
       "      <th>b3</th>\n",
       "      <th>b4</th>\n",
       "      <th>b5</th>\n",
       "      <th>b6</th>\n",
       "      <th>b7</th>\n",
       "      <th>NDVI</th>\n",
       "      <th>EVI</th>\n",
       "      <th>NIRv</th>\n",
       "      <th>IGBP_GRA</th>\n",
       "      <th>koppen_Temperate</th>\n",
       "    </tr>\n",
       "    <tr>\n",
       "      <th>datetime</th>\n",
       "      <th></th>\n",
       "      <th></th>\n",
       "      <th></th>\n",
       "      <th></th>\n",
       "      <th></th>\n",
       "      <th></th>\n",
       "      <th></th>\n",
       "      <th></th>\n",
       "      <th></th>\n",
       "      <th></th>\n",
       "      <th></th>\n",
       "      <th></th>\n",
       "      <th></th>\n",
       "      <th></th>\n",
       "      <th></th>\n",
       "      <th></th>\n",
       "      <th></th>\n",
       "      <th></th>\n",
       "    </tr>\n",
       "  </thead>\n",
       "  <tbody>\n",
       "    <tr>\n",
       "      <th>2003-01-01 00:00:00</th>\n",
       "      <td>1.80695</td>\n",
       "      <td>2003</td>\n",
       "      <td>1.993</td>\n",
       "      <td>0.0</td>\n",
       "      <td>0.0</td>\n",
       "      <td>0.0</td>\n",
       "      <td>0.0702</td>\n",
       "      <td>0.2603</td>\n",
       "      <td>0.0355</td>\n",
       "      <td>0.0728</td>\n",
       "      <td>0.286</td>\n",
       "      <td>0.2431</td>\n",
       "      <td>0.1245</td>\n",
       "      <td>0.575189</td>\n",
       "      <td>0.335806</td>\n",
       "      <td>0.149722</td>\n",
       "      <td>1</td>\n",
       "      <td>1</td>\n",
       "    </tr>\n",
       "    <tr>\n",
       "      <th>2003-01-01 00:30:00</th>\n",
       "      <td>1.85985</td>\n",
       "      <td>2003</td>\n",
       "      <td>1.871</td>\n",
       "      <td>0.0</td>\n",
       "      <td>0.0</td>\n",
       "      <td>0.0</td>\n",
       "      <td>0.0702</td>\n",
       "      <td>0.2603</td>\n",
       "      <td>0.0355</td>\n",
       "      <td>0.0728</td>\n",
       "      <td>0.286</td>\n",
       "      <td>0.2431</td>\n",
       "      <td>0.1245</td>\n",
       "      <td>0.575189</td>\n",
       "      <td>0.335806</td>\n",
       "      <td>0.149722</td>\n",
       "      <td>1</td>\n",
       "      <td>1</td>\n",
       "    </tr>\n",
       "  </tbody>\n",
       "</table>\n",
       "</div>"
      ],
      "text/plain": [
       "                     GPP_NT_VUT_REF  year  TA_ERA  SW_IN_ERA  P_ERA  VPD_ERA  \\\n",
       "datetime                                                                       \n",
       "2003-01-01 00:00:00         1.80695  2003   1.993        0.0    0.0      0.0   \n",
       "2003-01-01 00:30:00         1.85985  2003   1.871        0.0    0.0      0.0   \n",
       "\n",
       "                         b1      b2      b3      b4     b5      b6      b7  \\\n",
       "datetime                                                                     \n",
       "2003-01-01 00:00:00  0.0702  0.2603  0.0355  0.0728  0.286  0.2431  0.1245   \n",
       "2003-01-01 00:30:00  0.0702  0.2603  0.0355  0.0728  0.286  0.2431  0.1245   \n",
       "\n",
       "                         NDVI       EVI      NIRv  IGBP_GRA  koppen_Temperate  \n",
       "datetime                                                                       \n",
       "2003-01-01 00:00:00  0.575189  0.335806  0.149722         1                 1  \n",
       "2003-01-01 00:30:00  0.575189  0.335806  0.149722         1                 1  "
      ]
     },
     "execution_count": 35,
     "metadata": {},
     "output_type": "execute_result"
    }
   ],
   "source": [
    "train_df.head(2)"
   ]
  },
  {
   "cell_type": "code",
   "execution_count": 36,
   "metadata": {},
   "outputs": [
    {
     "data": {
      "text/html": [
       "<div>\n",
       "<style scoped>\n",
       "    .dataframe tbody tr th:only-of-type {\n",
       "        vertical-align: middle;\n",
       "    }\n",
       "\n",
       "    .dataframe tbody tr th {\n",
       "        vertical-align: top;\n",
       "    }\n",
       "\n",
       "    .dataframe thead th {\n",
       "        text-align: right;\n",
       "    }\n",
       "</style>\n",
       "<table border=\"1\" class=\"dataframe\">\n",
       "  <thead>\n",
       "    <tr style=\"text-align: right;\">\n",
       "      <th></th>\n",
       "      <th>GPP_NT_VUT_REF</th>\n",
       "      <th>year</th>\n",
       "      <th>TA_ERA</th>\n",
       "      <th>SW_IN_ERA</th>\n",
       "      <th>P_ERA</th>\n",
       "      <th>VPD_ERA</th>\n",
       "      <th>b1</th>\n",
       "      <th>b2</th>\n",
       "      <th>b3</th>\n",
       "      <th>b4</th>\n",
       "      <th>b5</th>\n",
       "      <th>b6</th>\n",
       "      <th>b7</th>\n",
       "      <th>NDVI</th>\n",
       "      <th>EVI</th>\n",
       "      <th>NIRv</th>\n",
       "      <th>IGBP_GRA</th>\n",
       "      <th>koppen_Temperate</th>\n",
       "    </tr>\n",
       "    <tr>\n",
       "      <th>datetime</th>\n",
       "      <th></th>\n",
       "      <th></th>\n",
       "      <th></th>\n",
       "      <th></th>\n",
       "      <th></th>\n",
       "      <th></th>\n",
       "      <th></th>\n",
       "      <th></th>\n",
       "      <th></th>\n",
       "      <th></th>\n",
       "      <th></th>\n",
       "      <th></th>\n",
       "      <th></th>\n",
       "      <th></th>\n",
       "      <th></th>\n",
       "      <th></th>\n",
       "      <th></th>\n",
       "      <th></th>\n",
       "    </tr>\n",
       "  </thead>\n",
       "  <tbody>\n",
       "    <tr>\n",
       "      <th>2001-01-01 00:00:00</th>\n",
       "      <td>-1.84180</td>\n",
       "      <td>2001</td>\n",
       "      <td>2.171</td>\n",
       "      <td>0.0</td>\n",
       "      <td>0.0</td>\n",
       "      <td>0.893</td>\n",
       "      <td>0.0628</td>\n",
       "      <td>0.2694</td>\n",
       "      <td>0.0304</td>\n",
       "      <td>0.0625</td>\n",
       "      <td>0.3155</td>\n",
       "      <td>0.2595</td>\n",
       "      <td>0.1311</td>\n",
       "      <td>0.621915</td>\n",
       "      <td>0.364194</td>\n",
       "      <td>0.167544</td>\n",
       "      <td>1</td>\n",
       "      <td>1</td>\n",
       "    </tr>\n",
       "    <tr>\n",
       "      <th>2001-01-01 00:30:00</th>\n",
       "      <td>-1.91023</td>\n",
       "      <td>2001</td>\n",
       "      <td>2.161</td>\n",
       "      <td>0.0</td>\n",
       "      <td>0.0</td>\n",
       "      <td>1.107</td>\n",
       "      <td>0.0628</td>\n",
       "      <td>0.2694</td>\n",
       "      <td>0.0304</td>\n",
       "      <td>0.0625</td>\n",
       "      <td>0.3155</td>\n",
       "      <td>0.2595</td>\n",
       "      <td>0.1311</td>\n",
       "      <td>0.621915</td>\n",
       "      <td>0.364194</td>\n",
       "      <td>0.167544</td>\n",
       "      <td>1</td>\n",
       "      <td>1</td>\n",
       "    </tr>\n",
       "  </tbody>\n",
       "</table>\n",
       "</div>"
      ],
      "text/plain": [
       "                     GPP_NT_VUT_REF  year  TA_ERA  SW_IN_ERA  P_ERA  VPD_ERA  \\\n",
       "datetime                                                                       \n",
       "2001-01-01 00:00:00        -1.84180  2001   2.171        0.0    0.0    0.893   \n",
       "2001-01-01 00:30:00        -1.91023  2001   2.161        0.0    0.0    1.107   \n",
       "\n",
       "                         b1      b2      b3      b4      b5      b6      b7  \\\n",
       "datetime                                                                      \n",
       "2001-01-01 00:00:00  0.0628  0.2694  0.0304  0.0625  0.3155  0.2595  0.1311   \n",
       "2001-01-01 00:30:00  0.0628  0.2694  0.0304  0.0625  0.3155  0.2595  0.1311   \n",
       "\n",
       "                         NDVI       EVI      NIRv  IGBP_GRA  koppen_Temperate  \n",
       "datetime                                                                       \n",
       "2001-01-01 00:00:00  0.621915  0.364194  0.167544         1                 1  \n",
       "2001-01-01 00:30:00  0.621915  0.364194  0.167544         1                 1  "
      ]
     },
     "execution_count": 36,
     "metadata": {},
     "output_type": "execute_result"
    }
   ],
   "source": [
    "test_df.head(2)"
   ]
  },
  {
   "cell_type": "code",
   "execution_count": 34,
   "metadata": {
    "scrolled": true
   },
   "outputs": [
    {
     "data": {
      "text/plain": [
       "2012    17568\n",
       "2007    17520\n",
       "2009    17520\n",
       "2013    17520\n",
       "2011    17472\n",
       "2006    17376\n",
       "2003    17136\n",
       "2004    16992\n",
       "2014    16896\n",
       "Name: year, dtype: int64"
      ]
     },
     "execution_count": 34,
     "metadata": {},
     "output_type": "execute_result"
    }
   ],
   "source": [
    "train_df['year'].value_counts()"
   ]
  },
  {
   "cell_type": "code",
   "execution_count": 33,
   "metadata": {
    "scrolled": true
   },
   "outputs": [
    {
     "data": {
      "text/plain": [
       "2008    17184\n",
       "2001    17136\n",
       "2002    17040\n",
       "2010    16176\n",
       "2005    15216\n",
       "Name: year, dtype: int64"
      ]
     },
     "execution_count": 33,
     "metadata": {},
     "output_type": "execute_result"
    }
   ],
   "source": [
    "test_df['year'].value_counts()"
   ]
  },
  {
   "cell_type": "code",
   "execution_count": 38,
   "metadata": {
    "scrolled": true
   },
   "outputs": [
    {
     "data": {
      "text/html": [
       "<div>\n",
       "<style scoped>\n",
       "    .dataframe tbody tr th:only-of-type {\n",
       "        vertical-align: middle;\n",
       "    }\n",
       "\n",
       "    .dataframe tbody tr th {\n",
       "        vertical-align: top;\n",
       "    }\n",
       "\n",
       "    .dataframe thead th {\n",
       "        text-align: right;\n",
       "    }\n",
       "</style>\n",
       "<table border=\"1\" class=\"dataframe\">\n",
       "  <thead>\n",
       "    <tr style=\"text-align: right;\">\n",
       "      <th></th>\n",
       "      <th>TA_ERA</th>\n",
       "      <th>SW_IN_ERA</th>\n",
       "      <th>P_ERA</th>\n",
       "      <th>VPD_ERA</th>\n",
       "      <th>b1</th>\n",
       "      <th>b2</th>\n",
       "      <th>b3</th>\n",
       "      <th>b4</th>\n",
       "      <th>b5</th>\n",
       "      <th>b6</th>\n",
       "      <th>b7</th>\n",
       "      <th>NDVI</th>\n",
       "      <th>EVI</th>\n",
       "      <th>NIRv</th>\n",
       "      <th>IGBP_GRA</th>\n",
       "      <th>koppen_Temperate</th>\n",
       "    </tr>\n",
       "    <tr>\n",
       "      <th>datetime</th>\n",
       "      <th></th>\n",
       "      <th></th>\n",
       "      <th></th>\n",
       "      <th></th>\n",
       "      <th></th>\n",
       "      <th></th>\n",
       "      <th></th>\n",
       "      <th></th>\n",
       "      <th></th>\n",
       "      <th></th>\n",
       "      <th></th>\n",
       "      <th></th>\n",
       "      <th></th>\n",
       "      <th></th>\n",
       "      <th></th>\n",
       "      <th></th>\n",
       "    </tr>\n",
       "  </thead>\n",
       "  <tbody>\n",
       "    <tr>\n",
       "      <th>2003-01-01 00:00:00</th>\n",
       "      <td>1.993</td>\n",
       "      <td>0.0</td>\n",
       "      <td>0.0</td>\n",
       "      <td>0.0</td>\n",
       "      <td>0.0702</td>\n",
       "      <td>0.2603</td>\n",
       "      <td>0.0355</td>\n",
       "      <td>0.0728</td>\n",
       "      <td>0.286</td>\n",
       "      <td>0.2431</td>\n",
       "      <td>0.1245</td>\n",
       "      <td>0.575189</td>\n",
       "      <td>0.335806</td>\n",
       "      <td>0.149722</td>\n",
       "      <td>1</td>\n",
       "      <td>1</td>\n",
       "    </tr>\n",
       "    <tr>\n",
       "      <th>2003-01-01 00:30:00</th>\n",
       "      <td>1.871</td>\n",
       "      <td>0.0</td>\n",
       "      <td>0.0</td>\n",
       "      <td>0.0</td>\n",
       "      <td>0.0702</td>\n",
       "      <td>0.2603</td>\n",
       "      <td>0.0355</td>\n",
       "      <td>0.0728</td>\n",
       "      <td>0.286</td>\n",
       "      <td>0.2431</td>\n",
       "      <td>0.1245</td>\n",
       "      <td>0.575189</td>\n",
       "      <td>0.335806</td>\n",
       "      <td>0.149722</td>\n",
       "      <td>1</td>\n",
       "      <td>1</td>\n",
       "    </tr>\n",
       "  </tbody>\n",
       "</table>\n",
       "</div>"
      ],
      "text/plain": [
       "                     TA_ERA  SW_IN_ERA  P_ERA  VPD_ERA      b1      b2  \\\n",
       "datetime                                                                 \n",
       "2003-01-01 00:00:00   1.993        0.0    0.0      0.0  0.0702  0.2603   \n",
       "2003-01-01 00:30:00   1.871        0.0    0.0      0.0  0.0702  0.2603   \n",
       "\n",
       "                         b3      b4     b5      b6      b7      NDVI  \\\n",
       "datetime                                                               \n",
       "2003-01-01 00:00:00  0.0355  0.0728  0.286  0.2431  0.1245  0.575189   \n",
       "2003-01-01 00:30:00  0.0355  0.0728  0.286  0.2431  0.1245  0.575189   \n",
       "\n",
       "                          EVI      NIRv  IGBP_GRA  koppen_Temperate  \n",
       "datetime                                                             \n",
       "2003-01-01 00:00:00  0.335806  0.149722         1                 1  \n",
       "2003-01-01 00:30:00  0.335806  0.149722         1                 1  "
      ]
     },
     "execution_count": 38,
     "metadata": {},
     "output_type": "execute_result"
    }
   ],
   "source": [
    "X_train = train_df.drop([target, 'year'], axis = 1)\n",
    "X_train.head(2)"
   ]
  },
  {
   "cell_type": "code",
   "execution_count": 40,
   "metadata": {},
   "outputs": [
    {
     "data": {
      "text/plain": [
       "datetime\n",
       "2003-01-01 00:00:00    1.80695\n",
       "2003-01-01 00:30:00    1.85985\n",
       "Name: GPP_NT_VUT_REF, dtype: float64"
      ]
     },
     "execution_count": 40,
     "metadata": {},
     "output_type": "execute_result"
    }
   ],
   "source": [
    "y_train = train_df[target]\n",
    "y_train.head(2)"
   ]
  },
  {
   "cell_type": "code",
   "execution_count": 41,
   "metadata": {},
   "outputs": [
    {
     "data": {
      "text/html": [
       "<div>\n",
       "<style scoped>\n",
       "    .dataframe tbody tr th:only-of-type {\n",
       "        vertical-align: middle;\n",
       "    }\n",
       "\n",
       "    .dataframe tbody tr th {\n",
       "        vertical-align: top;\n",
       "    }\n",
       "\n",
       "    .dataframe thead th {\n",
       "        text-align: right;\n",
       "    }\n",
       "</style>\n",
       "<table border=\"1\" class=\"dataframe\">\n",
       "  <thead>\n",
       "    <tr style=\"text-align: right;\">\n",
       "      <th></th>\n",
       "      <th>TA_ERA</th>\n",
       "      <th>SW_IN_ERA</th>\n",
       "      <th>P_ERA</th>\n",
       "      <th>VPD_ERA</th>\n",
       "      <th>b1</th>\n",
       "      <th>b2</th>\n",
       "      <th>b3</th>\n",
       "      <th>b4</th>\n",
       "      <th>b5</th>\n",
       "      <th>b6</th>\n",
       "      <th>b7</th>\n",
       "      <th>NDVI</th>\n",
       "      <th>EVI</th>\n",
       "      <th>NIRv</th>\n",
       "      <th>IGBP_GRA</th>\n",
       "      <th>koppen_Temperate</th>\n",
       "    </tr>\n",
       "    <tr>\n",
       "      <th>datetime</th>\n",
       "      <th></th>\n",
       "      <th></th>\n",
       "      <th></th>\n",
       "      <th></th>\n",
       "      <th></th>\n",
       "      <th></th>\n",
       "      <th></th>\n",
       "      <th></th>\n",
       "      <th></th>\n",
       "      <th></th>\n",
       "      <th></th>\n",
       "      <th></th>\n",
       "      <th></th>\n",
       "      <th></th>\n",
       "      <th></th>\n",
       "      <th></th>\n",
       "    </tr>\n",
       "  </thead>\n",
       "  <tbody>\n",
       "    <tr>\n",
       "      <th>2001-01-01 00:00:00</th>\n",
       "      <td>2.171</td>\n",
       "      <td>0.0</td>\n",
       "      <td>0.0</td>\n",
       "      <td>0.893</td>\n",
       "      <td>0.0628</td>\n",
       "      <td>0.2694</td>\n",
       "      <td>0.0304</td>\n",
       "      <td>0.0625</td>\n",
       "      <td>0.3155</td>\n",
       "      <td>0.2595</td>\n",
       "      <td>0.1311</td>\n",
       "      <td>0.621915</td>\n",
       "      <td>0.364194</td>\n",
       "      <td>0.167544</td>\n",
       "      <td>1</td>\n",
       "      <td>1</td>\n",
       "    </tr>\n",
       "    <tr>\n",
       "      <th>2001-01-01 00:30:00</th>\n",
       "      <td>2.161</td>\n",
       "      <td>0.0</td>\n",
       "      <td>0.0</td>\n",
       "      <td>1.107</td>\n",
       "      <td>0.0628</td>\n",
       "      <td>0.2694</td>\n",
       "      <td>0.0304</td>\n",
       "      <td>0.0625</td>\n",
       "      <td>0.3155</td>\n",
       "      <td>0.2595</td>\n",
       "      <td>0.1311</td>\n",
       "      <td>0.621915</td>\n",
       "      <td>0.364194</td>\n",
       "      <td>0.167544</td>\n",
       "      <td>1</td>\n",
       "      <td>1</td>\n",
       "    </tr>\n",
       "  </tbody>\n",
       "</table>\n",
       "</div>"
      ],
      "text/plain": [
       "                     TA_ERA  SW_IN_ERA  P_ERA  VPD_ERA      b1      b2  \\\n",
       "datetime                                                                 \n",
       "2001-01-01 00:00:00   2.171        0.0    0.0    0.893  0.0628  0.2694   \n",
       "2001-01-01 00:30:00   2.161        0.0    0.0    1.107  0.0628  0.2694   \n",
       "\n",
       "                         b3      b4      b5      b6      b7      NDVI  \\\n",
       "datetime                                                                \n",
       "2001-01-01 00:00:00  0.0304  0.0625  0.3155  0.2595  0.1311  0.621915   \n",
       "2001-01-01 00:30:00  0.0304  0.0625  0.3155  0.2595  0.1311  0.621915   \n",
       "\n",
       "                          EVI      NIRv  IGBP_GRA  koppen_Temperate  \n",
       "datetime                                                             \n",
       "2001-01-01 00:00:00  0.364194  0.167544         1                 1  \n",
       "2001-01-01 00:30:00  0.364194  0.167544         1                 1  "
      ]
     },
     "execution_count": 41,
     "metadata": {},
     "output_type": "execute_result"
    }
   ],
   "source": [
    "X_test = test_df.drop([target, 'year'], axis = 1)\n",
    "X_test.head(2)"
   ]
  },
  {
   "cell_type": "code",
   "execution_count": 42,
   "metadata": {},
   "outputs": [
    {
     "data": {
      "text/plain": [
       "datetime\n",
       "2001-01-01 00:00:00   -1.84180\n",
       "2001-01-01 00:30:00   -1.91023\n",
       "Name: GPP_NT_VUT_REF, dtype: float64"
      ]
     },
     "execution_count": 42,
     "metadata": {},
     "output_type": "execute_result"
    }
   ],
   "source": [
    "y_test = test_df[target]\n",
    "y_test.head(2)"
   ]
  },
  {
   "cell_type": "code",
   "execution_count": null,
   "metadata": {},
   "outputs": [],
   "source": [
    "print (\"train_X.shape\" , X_train.shape) \n",
    "print (\"train_y.shape\" , y_train.shape)\n",
    "print (\"test_X.shape\" , X_test.shape) \n",
    "print (\"test_y.shape\" , y_test.shape)"
   ]
  },
  {
   "cell_type": "code",
   "execution_count": 59,
   "metadata": {},
   "outputs": [],
   "source": [
    "# Function to standardize variables and create test/train split \n",
    "'''\n",
    "def get_train_test_split(df, test_size, random_state, neural_net=False):\n",
    "    \"\"\"\n",
    "    This function returns four dataframes containing the testing and training X and y values.\n",
    "    Input:\n",
    "        df: df that contains the target/response variable and all the features.\n",
    "        y_col: a column name (as a string) of df that represents the response variable\n",
    "        test_size: a float between 0 and 1 indicating the fraction of the data to include in the test split\n",
    "        random_state: an integer, used to define the random state,\n",
    "        neural_net: boolean if making split for neural network model to determine how we should standardize \n",
    "    Output: X_train, X_test, y_train, y_test, four dataframes containing the training and testing subsets of the \n",
    "    feature matrix X and response matrix y\n",
    "    \"\"\"\n",
    "    \n",
    "    X = df[['GPP_NT_VUT_REF', 'TA_ERA', 'SW_IN_ERA', 'P_ERA', 'VPD_ERA', 'b1', 'b2',\n",
    "       'b3', 'b4', 'b5', 'b6', 'b7', 'NDVI', 'EVI', 'NIRv', 'IGBP_GRA',\n",
    "       'koppen_Temperate']]\n",
    "    y = df[target]\n",
    "    \n",
    "    # Standardize the data\n",
    "    if not neural_net:\n",
    "        scaler = StandardScaler()\n",
    "        scaler.fit(X) \n",
    "        X_stnd = scaler.transform(X)\n",
    "    else:\n",
    "        scaler = MinMaxScaler(feature_range=(0, 1))\n",
    "        X_stnd = scaler.fit_transform(X)\n",
    "    \n",
    "    X_train, X_test, y_train, y_test = train_test_split(X_stnd, y, test_size=test_size, \n",
    "                                                        random_state=random_state, shuffle=True)\n",
    "    \n",
    "    return X_train, X_test, y_train, y_test, scaler\n",
    "    \n",
    "'''"
   ]
  },
  {
   "cell_type": "code",
   "execution_count": 60,
   "metadata": {},
   "outputs": [],
   "source": [
    "#X_train, X_test, y_train, y_test, scaler = get_train_test_split(df, 0.3, 2022)"
   ]
  },
  {
   "cell_type": "markdown",
   "metadata": {},
   "source": [
    "### Lasso"
   ]
  },
  {
   "cell_type": "code",
   "execution_count": 43,
   "metadata": {},
   "outputs": [
    {
     "name": "stdout",
     "output_type": "stream",
     "text": [
      "Lasso Model Optimal Alpha:  0.001\n"
     ]
    }
   ],
   "source": [
    "n_splits = 5\n",
    "kf = KFold(n_splits=n_splits, shuffle=True, random_state=2022)\n",
    "\n",
    "lasso_model = LassoCV(cv = kf, alphas=np.linspace(0.001, 10, 100), max_iter = 10000)\n",
    "lasso_model.fit(X_train, y_train)\n",
    "print('Lasso Model Optimal Alpha: ', lasso_model.alpha_)"
   ]
  },
  {
   "cell_type": "code",
   "execution_count": 44,
   "metadata": {},
   "outputs": [
    {
     "name": "stdout",
     "output_type": "stream",
     "text": [
      "RMSE: 3.715, Standard Deviation : 0.020\n",
      "R2: 0.410, Standard Deviation : 0.009\n"
     ]
    }
   ],
   "source": [
    "# Cross Validation Results\n",
    "\n",
    "rmse = cross_val_score(lasso_model, X_train, y_train, scoring='neg_root_mean_squared_error', cv = kf)\n",
    "r2 = cross_val_score(lasso_model, X_train, y_train, scoring='r2', cv = kf)\n",
    "\n",
    "#get the mean of each fold \n",
    "print(\"RMSE: %.3f, Standard Deviation : %.3f\" % (rmse.mean() * -1, rmse.std())) \n",
    "print(\"R2: %.3f, Standard Deviation : %.3f\" % (r2.mean(), r2.std())) "
   ]
  },
  {
   "cell_type": "code",
   "execution_count": 45,
   "metadata": {},
   "outputs": [],
   "source": [
    "def calculate_errors(y_train, y_train_predicted, y_test, y_test_predicted, model_name):\n",
    "  r2 = r2_score(y_test, y_test_predicted)\n",
    "  rmse_train = np.sqrt(mean_squared_error(y_train, y_train_predicted))\n",
    "  rmse_test = np.sqrt(mean_squared_error(y_test, y_test_predicted))\n",
    "  bias_train = np.mean(y_train - y_train_predicted)\n",
    "  bias_test = np.mean(y_test - y_test_predicted)\n",
    "  print(\"The R2 score of \" + model_name + \" is: \" + str(r2))\n",
    "  print(\"The RMSE of predicting the TRAINING set of \" + model_name + \" is: \" + str(rmse_train))\n",
    "  print(\"The RMSE of predicting the TESTING set of \" + model_name + \" is: \" + str(rmse_test))\n",
    "  print(\"The bias of predicting the TRAINING set of \" + model_name + \" is: \" + str(bias_train))\n",
    "  print(\"The bias of predicting the TESTING set of \" + model_name + \" is: \" + str(bias_test))\n",
    "  return r2, rmse_test\n",
    "\n",
    "def show_scatter_train(y_train, y_train_predicted, model_name):\n",
    "  plt.figure(figsize=(8,5))\n",
    "  plt.scatter(x = y_train, y = y_train_predicted)\n",
    "  plt.plot(y_train, y_train, color = 'red', label = 'x=y')\n",
    "  plt.title(model_name + \" : observed vs. predicted for TRAIN set\")\n",
    "  plt.xlabel('y_train_Observed')\n",
    "  plt.ylabel('y_train_Predicted');\n",
    "\n",
    "def show_scatter_test(y_test, y_test_predicted, model_name):\n",
    "  #plt.figure(figsize=(8,5))\n",
    "  plt.scatter(x = y_test, y = y_test_predicted)\n",
    "  plt.plot(y_test, y_test, color = 'red', label = 'x=y')\n",
    "  plt.title(model_name + \" : observed vs. predicted for TEST set\")\n",
    "  plt.xlabel('y_test_Observed')\n",
    "  plt.ylabel('y_test_Predicted');"
   ]
  },
  {
   "cell_type": "code",
   "execution_count": 46,
   "metadata": {},
   "outputs": [
    {
     "name": "stdout",
     "output_type": "stream",
     "text": [
      "The R2 score of Lasso is: 0.4135585207367163\n",
      "The RMSE of predicting the TRAINING set of Lasso is: 3.715065381463515\n",
      "The RMSE of predicting the TESTING set of Lasso is: 3.9743414753071535\n",
      "The bias of predicting the TRAINING set of Lasso is: -1.494690411327144e-15\n",
      "The bias of predicting the TESTING set of Lasso is: -0.07623001346616341\n"
     ]
    }
   ],
   "source": [
    "# Test Results\n",
    "\n",
    "lasso_y_train_predicted = lasso_model.predict(X_train)\n",
    "lasso_y_test_predicted = lasso_model.predict(X_test)\n",
    "lasso_r2, lasso_rmse = calculate_errors(y_train, lasso_y_train_predicted, y_test, \n",
    "                                        lasso_y_test_predicted, \"Lasso\")"
   ]
  },
  {
   "cell_type": "code",
   "execution_count": 47,
   "metadata": {},
   "outputs": [
    {
     "data": {
      "image/png": "[encoded data removed]",
      "text/plain": [
       "<Figure size 640x480 with 1 Axes>"
      ]
     },
     "metadata": {},
     "output_type": "display_data"
    }
   ],
   "source": [
    "show_scatter_test(y_test, lasso_y_test_predicted, \"Lasso\")"
   ]
  },
  {
   "cell_type": "markdown",
   "metadata": {},
   "source": [
    "### SVM"
   ]
  },
  {
   "cell_type": "code",
   "execution_count": 48,
   "metadata": {},
   "outputs": [
    {
     "name": "stdout",
     "output_type": "stream",
     "text": [
      "Fitting 5 folds for each of 5 candidates, totalling 25 fits\n"
     ]
    },
    {
     "ename": "KeyboardInterrupt",
     "evalue": "",
     "output_type": "error",
     "traceback": [
      "\u001b[0;31m---------------------------------------------------------------------------\u001b[0m",
      "\u001b[0;31mKeyboardInterrupt\u001b[0m                         Traceback (most recent call last)",
      "Input \u001b[0;32mIn [48]\u001b[0m, in \u001b[0;36m<cell line: 14>\u001b[0;34m()\u001b[0m\n\u001b[1;32m      9\u001b[0m svm_random \u001b[38;5;241m=\u001b[39m RandomizedSearchCV(estimator \u001b[38;5;241m=\u001b[39m svm, param_distributions \u001b[38;5;241m=\u001b[39m svm_param_grid, \n\u001b[1;32m     10\u001b[0m                                 scoring\u001b[38;5;241m=\u001b[39m\u001b[38;5;124m'\u001b[39m\u001b[38;5;124mneg_mean_squared_error\u001b[39m\u001b[38;5;124m'\u001b[39m, n_iter \u001b[38;5;241m=\u001b[39m \u001b[38;5;241m5\u001b[39m, \n\u001b[1;32m     11\u001b[0m                                 cv \u001b[38;5;241m=\u001b[39m kf, verbose\u001b[38;5;241m=\u001b[39m\u001b[38;5;241m2\u001b[39m, \n\u001b[1;32m     12\u001b[0m                                 random_state\u001b[38;5;241m=\u001b[39m\u001b[38;5;241m2022\u001b[39m, n_jobs \u001b[38;5;241m=\u001b[39m \u001b[38;5;241m-\u001b[39m\u001b[38;5;241m1\u001b[39m)\n\u001b[1;32m     13\u001b[0m \u001b[38;5;66;03m# Fit the random search model\u001b[39;00m\n\u001b[0;32m---> 14\u001b[0m \u001b[43msvm_random\u001b[49m\u001b[38;5;241;43m.\u001b[39;49m\u001b[43mfit\u001b[49m\u001b[43m(\u001b[49m\u001b[43mX_train\u001b[49m\u001b[43m,\u001b[49m\u001b[43m \u001b[49m\u001b[43my_train\u001b[49m\u001b[43m)\u001b[49m\n\u001b[1;32m     15\u001b[0m \u001b[38;5;66;03m# Print best parameters after tuning\u001b[39;00m\n\u001b[1;32m     16\u001b[0m \u001b[38;5;28mprint\u001b[39m(\u001b[38;5;124m'\u001b[39m\u001b[38;5;124mSVM Best Parameters: \u001b[39m\u001b[38;5;124m'\u001b[39m, svm_random\u001b[38;5;241m.\u001b[39mbest_params_)\n",
      "File \u001b[0;32m/global/scratch/users/yaqiantang/conda/ml/lib/python3.10/site-packages/sklearn/model_selection/_search.py:875\u001b[0m, in \u001b[0;36mBaseSearchCV.fit\u001b[0;34m(self, X, y, groups, **fit_params)\u001b[0m\n\u001b[1;32m    869\u001b[0m     results \u001b[38;5;241m=\u001b[39m \u001b[38;5;28mself\u001b[39m\u001b[38;5;241m.\u001b[39m_format_results(\n\u001b[1;32m    870\u001b[0m         all_candidate_params, n_splits, all_out, all_more_results\n\u001b[1;32m    871\u001b[0m     )\n\u001b[1;32m    873\u001b[0m     \u001b[38;5;28;01mreturn\u001b[39;00m results\n\u001b[0;32m--> 875\u001b[0m \u001b[38;5;28;43mself\u001b[39;49m\u001b[38;5;241;43m.\u001b[39;49m\u001b[43m_run_search\u001b[49m\u001b[43m(\u001b[49m\u001b[43mevaluate_candidates\u001b[49m\u001b[43m)\u001b[49m\n\u001b[1;32m    877\u001b[0m \u001b[38;5;66;03m# multimetric is determined here because in the case of a callable\u001b[39;00m\n\u001b[1;32m    878\u001b[0m \u001b[38;5;66;03m# self.scoring the return type is only known after calling\u001b[39;00m\n\u001b[1;32m    879\u001b[0m first_test_score \u001b[38;5;241m=\u001b[39m all_out[\u001b[38;5;241m0\u001b[39m][\u001b[38;5;124m\"\u001b[39m\u001b[38;5;124mtest_scores\u001b[39m\u001b[38;5;124m\"\u001b[39m]\n",
      "File \u001b[0;32m/global/scratch/users/yaqiantang/conda/ml/lib/python3.10/site-packages/sklearn/model_selection/_search.py:1753\u001b[0m, in \u001b[0;36mRandomizedSearchCV._run_search\u001b[0;34m(self, evaluate_candidates)\u001b[0m\n\u001b[1;32m   1751\u001b[0m \u001b[38;5;28;01mdef\u001b[39;00m \u001b[38;5;21m_run_search\u001b[39m(\u001b[38;5;28mself\u001b[39m, evaluate_candidates):\n\u001b[1;32m   1752\u001b[0m     \u001b[38;5;124;03m\"\"\"Search n_iter candidates from param_distributions\"\"\"\u001b[39;00m\n\u001b[0;32m-> 1753\u001b[0m     \u001b[43mevaluate_candidates\u001b[49m\u001b[43m(\u001b[49m\n\u001b[1;32m   1754\u001b[0m \u001b[43m        \u001b[49m\u001b[43mParameterSampler\u001b[49m\u001b[43m(\u001b[49m\n\u001b[1;32m   1755\u001b[0m \u001b[43m            \u001b[49m\u001b[38;5;28;43mself\u001b[39;49m\u001b[38;5;241;43m.\u001b[39;49m\u001b[43mparam_distributions\u001b[49m\u001b[43m,\u001b[49m\u001b[43m \u001b[49m\u001b[38;5;28;43mself\u001b[39;49m\u001b[38;5;241;43m.\u001b[39;49m\u001b[43mn_iter\u001b[49m\u001b[43m,\u001b[49m\u001b[43m \u001b[49m\u001b[43mrandom_state\u001b[49m\u001b[38;5;241;43m=\u001b[39;49m\u001b[38;5;28;43mself\u001b[39;49m\u001b[38;5;241;43m.\u001b[39;49m\u001b[43mrandom_state\u001b[49m\n\u001b[1;32m   1756\u001b[0m \u001b[43m        \u001b[49m\u001b[43m)\u001b[49m\n\u001b[1;32m   1757\u001b[0m \u001b[43m    \u001b[49m\u001b[43m)\u001b[49m\n",
      "File \u001b[0;32m/global/scratch/users/yaqiantang/conda/ml/lib/python3.10/site-packages/sklearn/model_selection/_search.py:822\u001b[0m, in \u001b[0;36mBaseSearchCV.fit.<locals>.evaluate_candidates\u001b[0;34m(candidate_params, cv, more_results)\u001b[0m\n\u001b[1;32m    814\u001b[0m \u001b[38;5;28;01mif\u001b[39;00m \u001b[38;5;28mself\u001b[39m\u001b[38;5;241m.\u001b[39mverbose \u001b[38;5;241m>\u001b[39m \u001b[38;5;241m0\u001b[39m:\n\u001b[1;32m    815\u001b[0m     \u001b[38;5;28mprint\u001b[39m(\n\u001b[1;32m    816\u001b[0m         \u001b[38;5;124m\"\u001b[39m\u001b[38;5;124mFitting \u001b[39m\u001b[38;5;132;01m{0}\u001b[39;00m\u001b[38;5;124m folds for each of \u001b[39m\u001b[38;5;132;01m{1}\u001b[39;00m\u001b[38;5;124m candidates,\u001b[39m\u001b[38;5;124m\"\u001b[39m\n\u001b[1;32m    817\u001b[0m         \u001b[38;5;124m\"\u001b[39m\u001b[38;5;124m totalling \u001b[39m\u001b[38;5;132;01m{2}\u001b[39;00m\u001b[38;5;124m fits\u001b[39m\u001b[38;5;124m\"\u001b[39m\u001b[38;5;241m.\u001b[39mformat(\n\u001b[1;32m    818\u001b[0m             n_splits, n_candidates, n_candidates \u001b[38;5;241m*\u001b[39m n_splits\n\u001b[1;32m    819\u001b[0m         )\n\u001b[1;32m    820\u001b[0m     )\n\u001b[0;32m--> 822\u001b[0m out \u001b[38;5;241m=\u001b[39m \u001b[43mparallel\u001b[49m\u001b[43m(\u001b[49m\n\u001b[1;32m    823\u001b[0m \u001b[43m    \u001b[49m\u001b[43mdelayed\u001b[49m\u001b[43m(\u001b[49m\u001b[43m_fit_and_score\u001b[49m\u001b[43m)\u001b[49m\u001b[43m(\u001b[49m\n\u001b[1;32m    824\u001b[0m \u001b[43m        \u001b[49m\u001b[43mclone\u001b[49m\u001b[43m(\u001b[49m\u001b[43mbase_estimator\u001b[49m\u001b[43m)\u001b[49m\u001b[43m,\u001b[49m\n\u001b[1;32m    825\u001b[0m \u001b[43m        \u001b[49m\u001b[43mX\u001b[49m\u001b[43m,\u001b[49m\n\u001b[1;32m    826\u001b[0m \u001b[43m        \u001b[49m\u001b[43my\u001b[49m\u001b[43m,\u001b[49m\n\u001b[1;32m    827\u001b[0m \u001b[43m        \u001b[49m\u001b[43mtrain\u001b[49m\u001b[38;5;241;43m=\u001b[39;49m\u001b[43mtrain\u001b[49m\u001b[43m,\u001b[49m\n\u001b[1;32m    828\u001b[0m \u001b[43m        \u001b[49m\u001b[43mtest\u001b[49m\u001b[38;5;241;43m=\u001b[39;49m\u001b[43mtest\u001b[49m\u001b[43m,\u001b[49m\n\u001b[1;32m    829\u001b[0m \u001b[43m        \u001b[49m\u001b[43mparameters\u001b[49m\u001b[38;5;241;43m=\u001b[39;49m\u001b[43mparameters\u001b[49m\u001b[43m,\u001b[49m\n\u001b[1;32m    830\u001b[0m \u001b[43m        \u001b[49m\u001b[43msplit_progress\u001b[49m\u001b[38;5;241;43m=\u001b[39;49m\u001b[43m(\u001b[49m\u001b[43msplit_idx\u001b[49m\u001b[43m,\u001b[49m\u001b[43m \u001b[49m\u001b[43mn_splits\u001b[49m\u001b[43m)\u001b[49m\u001b[43m,\u001b[49m\n\u001b[1;32m    831\u001b[0m \u001b[43m        \u001b[49m\u001b[43mcandidate_progress\u001b[49m\u001b[38;5;241;43m=\u001b[39;49m\u001b[43m(\u001b[49m\u001b[43mcand_idx\u001b[49m\u001b[43m,\u001b[49m\u001b[43m \u001b[49m\u001b[43mn_candidates\u001b[49m\u001b[43m)\u001b[49m\u001b[43m,\u001b[49m\n\u001b[1;32m    832\u001b[0m \u001b[43m        \u001b[49m\u001b[38;5;241;43m*\u001b[39;49m\u001b[38;5;241;43m*\u001b[39;49m\u001b[43mfit_and_score_kwargs\u001b[49m\u001b[43m,\u001b[49m\n\u001b[1;32m    833\u001b[0m \u001b[43m    \u001b[49m\u001b[43m)\u001b[49m\n\u001b[1;32m    834\u001b[0m \u001b[43m    \u001b[49m\u001b[38;5;28;43;01mfor\u001b[39;49;00m\u001b[43m \u001b[49m\u001b[43m(\u001b[49m\u001b[43mcand_idx\u001b[49m\u001b[43m,\u001b[49m\u001b[43m \u001b[49m\u001b[43mparameters\u001b[49m\u001b[43m)\u001b[49m\u001b[43m,\u001b[49m\u001b[43m \u001b[49m\u001b[43m(\u001b[49m\u001b[43msplit_idx\u001b[49m\u001b[43m,\u001b[49m\u001b[43m \u001b[49m\u001b[43m(\u001b[49m\u001b[43mtrain\u001b[49m\u001b[43m,\u001b[49m\u001b[43m \u001b[49m\u001b[43mtest\u001b[49m\u001b[43m)\u001b[49m\u001b[43m)\u001b[49m\u001b[43m \u001b[49m\u001b[38;5;129;43;01min\u001b[39;49;00m\u001b[43m \u001b[49m\u001b[43mproduct\u001b[49m\u001b[43m(\u001b[49m\n\u001b[1;32m    835\u001b[0m \u001b[43m        \u001b[49m\u001b[38;5;28;43menumerate\u001b[39;49m\u001b[43m(\u001b[49m\u001b[43mcandidate_params\u001b[49m\u001b[43m)\u001b[49m\u001b[43m,\u001b[49m\u001b[43m \u001b[49m\u001b[38;5;28;43menumerate\u001b[39;49m\u001b[43m(\u001b[49m\u001b[43mcv\u001b[49m\u001b[38;5;241;43m.\u001b[39;49m\u001b[43msplit\u001b[49m\u001b[43m(\u001b[49m\u001b[43mX\u001b[49m\u001b[43m,\u001b[49m\u001b[43m \u001b[49m\u001b[43my\u001b[49m\u001b[43m,\u001b[49m\u001b[43m \u001b[49m\u001b[43mgroups\u001b[49m\u001b[43m)\u001b[49m\u001b[43m)\u001b[49m\n\u001b[1;32m    836\u001b[0m \u001b[43m    \u001b[49m\u001b[43m)\u001b[49m\n\u001b[1;32m    837\u001b[0m \u001b[43m\u001b[49m\u001b[43m)\u001b[49m\n\u001b[1;32m    839\u001b[0m \u001b[38;5;28;01mif\u001b[39;00m \u001b[38;5;28mlen\u001b[39m(out) \u001b[38;5;241m<\u001b[39m \u001b[38;5;241m1\u001b[39m:\n\u001b[1;32m    840\u001b[0m     \u001b[38;5;28;01mraise\u001b[39;00m \u001b[38;5;167;01mValueError\u001b[39;00m(\n\u001b[1;32m    841\u001b[0m         \u001b[38;5;124m\"\u001b[39m\u001b[38;5;124mNo fits were performed. \u001b[39m\u001b[38;5;124m\"\u001b[39m\n\u001b[1;32m    842\u001b[0m         \u001b[38;5;124m\"\u001b[39m\u001b[38;5;124mWas the CV iterator empty? \u001b[39m\u001b[38;5;124m\"\u001b[39m\n\u001b[1;32m    843\u001b[0m         \u001b[38;5;124m\"\u001b[39m\u001b[38;5;124mWere there no candidates?\u001b[39m\u001b[38;5;124m\"\u001b[39m\n\u001b[1;32m    844\u001b[0m     )\n",
      "File \u001b[0;32m/global/scratch/users/yaqiantang/conda/ml/lib/python3.10/site-packages/joblib/parallel.py:1098\u001b[0m, in \u001b[0;36mParallel.__call__\u001b[0;34m(self, iterable)\u001b[0m\n\u001b[1;32m   1095\u001b[0m     \u001b[38;5;28mself\u001b[39m\u001b[38;5;241m.\u001b[39m_iterating \u001b[38;5;241m=\u001b[39m \u001b[38;5;28;01mFalse\u001b[39;00m\n\u001b[1;32m   1097\u001b[0m \u001b[38;5;28;01mwith\u001b[39;00m \u001b[38;5;28mself\u001b[39m\u001b[38;5;241m.\u001b[39m_backend\u001b[38;5;241m.\u001b[39mretrieval_context():\n\u001b[0;32m-> 1098\u001b[0m     \u001b[38;5;28;43mself\u001b[39;49m\u001b[38;5;241;43m.\u001b[39;49m\u001b[43mretrieve\u001b[49m\u001b[43m(\u001b[49m\u001b[43m)\u001b[49m\n\u001b[1;32m   1099\u001b[0m \u001b[38;5;66;03m# Make sure that we get a last message telling us we are done\u001b[39;00m\n\u001b[1;32m   1100\u001b[0m elapsed_time \u001b[38;5;241m=\u001b[39m time\u001b[38;5;241m.\u001b[39mtime() \u001b[38;5;241m-\u001b[39m \u001b[38;5;28mself\u001b[39m\u001b[38;5;241m.\u001b[39m_start_time\n",
      "File \u001b[0;32m/global/scratch/users/yaqiantang/conda/ml/lib/python3.10/site-packages/joblib/parallel.py:975\u001b[0m, in \u001b[0;36mParallel.retrieve\u001b[0;34m(self)\u001b[0m\n\u001b[1;32m    973\u001b[0m \u001b[38;5;28;01mtry\u001b[39;00m:\n\u001b[1;32m    974\u001b[0m     \u001b[38;5;28;01mif\u001b[39;00m \u001b[38;5;28mgetattr\u001b[39m(\u001b[38;5;28mself\u001b[39m\u001b[38;5;241m.\u001b[39m_backend, \u001b[38;5;124m'\u001b[39m\u001b[38;5;124msupports_timeout\u001b[39m\u001b[38;5;124m'\u001b[39m, \u001b[38;5;28;01mFalse\u001b[39;00m):\n\u001b[0;32m--> 975\u001b[0m         \u001b[38;5;28mself\u001b[39m\u001b[38;5;241m.\u001b[39m_output\u001b[38;5;241m.\u001b[39mextend(\u001b[43mjob\u001b[49m\u001b[38;5;241;43m.\u001b[39;49m\u001b[43mget\u001b[49m\u001b[43m(\u001b[49m\u001b[43mtimeout\u001b[49m\u001b[38;5;241;43m=\u001b[39;49m\u001b[38;5;28;43mself\u001b[39;49m\u001b[38;5;241;43m.\u001b[39;49m\u001b[43mtimeout\u001b[49m\u001b[43m)\u001b[49m)\n\u001b[1;32m    976\u001b[0m     \u001b[38;5;28;01melse\u001b[39;00m:\n\u001b[1;32m    977\u001b[0m         \u001b[38;5;28mself\u001b[39m\u001b[38;5;241m.\u001b[39m_output\u001b[38;5;241m.\u001b[39mextend(job\u001b[38;5;241m.\u001b[39mget())\n",
      "File \u001b[0;32m/global/scratch/users/yaqiantang/conda/ml/lib/python3.10/site-packages/joblib/_parallel_backends.py:567\u001b[0m, in \u001b[0;36mLokyBackend.wrap_future_result\u001b[0;34m(future, timeout)\u001b[0m\n\u001b[1;32m    564\u001b[0m \u001b[38;5;124;03m\"\"\"Wrapper for Future.result to implement the same behaviour as\u001b[39;00m\n\u001b[1;32m    565\u001b[0m \u001b[38;5;124;03mAsyncResults.get from multiprocessing.\"\"\"\u001b[39;00m\n\u001b[1;32m    566\u001b[0m \u001b[38;5;28;01mtry\u001b[39;00m:\n\u001b[0;32m--> 567\u001b[0m     \u001b[38;5;28;01mreturn\u001b[39;00m \u001b[43mfuture\u001b[49m\u001b[38;5;241;43m.\u001b[39;49m\u001b[43mresult\u001b[49m\u001b[43m(\u001b[49m\u001b[43mtimeout\u001b[49m\u001b[38;5;241;43m=\u001b[39;49m\u001b[43mtimeout\u001b[49m\u001b[43m)\u001b[49m\n\u001b[1;32m    568\u001b[0m \u001b[38;5;28;01mexcept\u001b[39;00m CfTimeoutError \u001b[38;5;28;01mas\u001b[39;00m e:\n\u001b[1;32m    569\u001b[0m     \u001b[38;5;28;01mraise\u001b[39;00m \u001b[38;5;167;01mTimeoutError\u001b[39;00m \u001b[38;5;28;01mfrom\u001b[39;00m \u001b[38;5;21;01me\u001b[39;00m\n",
      "File \u001b[0;32m/global/scratch/users/yaqiantang/conda/ml/lib/python3.10/concurrent/futures/_base.py:453\u001b[0m, in \u001b[0;36mFuture.result\u001b[0;34m(self, timeout)\u001b[0m\n\u001b[1;32m    450\u001b[0m \u001b[38;5;28;01melif\u001b[39;00m \u001b[38;5;28mself\u001b[39m\u001b[38;5;241m.\u001b[39m_state \u001b[38;5;241m==\u001b[39m FINISHED:\n\u001b[1;32m    451\u001b[0m     \u001b[38;5;28;01mreturn\u001b[39;00m \u001b[38;5;28mself\u001b[39m\u001b[38;5;241m.\u001b[39m__get_result()\n\u001b[0;32m--> 453\u001b[0m \u001b[38;5;28;43mself\u001b[39;49m\u001b[38;5;241;43m.\u001b[39;49m\u001b[43m_condition\u001b[49m\u001b[38;5;241;43m.\u001b[39;49m\u001b[43mwait\u001b[49m\u001b[43m(\u001b[49m\u001b[43mtimeout\u001b[49m\u001b[43m)\u001b[49m\n\u001b[1;32m    455\u001b[0m \u001b[38;5;28;01mif\u001b[39;00m \u001b[38;5;28mself\u001b[39m\u001b[38;5;241m.\u001b[39m_state \u001b[38;5;129;01min\u001b[39;00m [CANCELLED, CANCELLED_AND_NOTIFIED]:\n\u001b[1;32m    456\u001b[0m     \u001b[38;5;28;01mraise\u001b[39;00m CancelledError()\n",
      "File \u001b[0;32m/global/scratch/users/yaqiantang/conda/ml/lib/python3.10/threading.py:320\u001b[0m, in \u001b[0;36mCondition.wait\u001b[0;34m(self, timeout)\u001b[0m\n\u001b[1;32m    318\u001b[0m \u001b[38;5;28;01mtry\u001b[39;00m:    \u001b[38;5;66;03m# restore state no matter what (e.g., KeyboardInterrupt)\u001b[39;00m\n\u001b[1;32m    319\u001b[0m     \u001b[38;5;28;01mif\u001b[39;00m timeout \u001b[38;5;129;01mis\u001b[39;00m \u001b[38;5;28;01mNone\u001b[39;00m:\n\u001b[0;32m--> 320\u001b[0m         \u001b[43mwaiter\u001b[49m\u001b[38;5;241;43m.\u001b[39;49m\u001b[43macquire\u001b[49m\u001b[43m(\u001b[49m\u001b[43m)\u001b[49m\n\u001b[1;32m    321\u001b[0m         gotit \u001b[38;5;241m=\u001b[39m \u001b[38;5;28;01mTrue\u001b[39;00m\n\u001b[1;32m    322\u001b[0m     \u001b[38;5;28;01melse\u001b[39;00m:\n",
      "\u001b[0;31mKeyboardInterrupt\u001b[0m: "
     ]
    }
   ],
   "source": [
    "# NOTE: TAKES A LONG TIME TO RUN\n",
    "\n",
    "# defining parameter range\n",
    "svm_param_grid = {'C': [0.1, 1, 10, 100, 1000], \n",
    "              'gamma': [1, 0.1, 0.01, 0.001],\n",
    "              'kernel': ['rbf']} \n",
    "  \n",
    "svm = SVR()\n",
    "svm_random = RandomizedSearchCV(estimator = svm, param_distributions = svm_param_grid, \n",
    "                                scoring='neg_mean_squared_error', n_iter = 5, \n",
    "                                cv = kf, verbose=2, \n",
    "                                random_state=2022, n_jobs = -1)\n",
    "# Fit the random search model\n",
    "svm_random.fit(X_train, y_train)\n",
    "# Print best parameters after tuning\n",
    "print('SVM Best Parameters: ', svm_random.best_params_)"
   ]
  },
  {
   "cell_type": "code",
   "execution_count": null,
   "metadata": {},
   "outputs": [],
   "source": [
    "# Model with Cross Validated Hyperparameters\n",
    "svm_model = SVR(kernel = 'rbf', gamma = 0.1, C = 10)\n",
    "svm_model.fit(X_train, y_train)"
   ]
  },
  {
   "cell_type": "code",
   "execution_count": null,
   "metadata": {},
   "outputs": [],
   "source": [
    "# Cross Validation Results\n",
    "\n",
    "rmse = cross_val_score(svm_model, X_train, y_train, \n",
    "                       scoring='neg_root_mean_squared_error', cv = kf)\n",
    "r2 = cross_val_score(svm_model, X_train, y_train, scoring='r2', cv = kf)\n",
    "\n",
    "#get the mean of each fold \n",
    "print(\"RMSE: %.3f, Standard Deviation : %.3f\" % (rmse.mean() * -1, rmse.std())) \n",
    "print(\"R2: %.3f, Standard Deviation : %.3f\" % (r2.mean(), r2.std()))"
   ]
  },
  {
   "cell_type": "code",
   "execution_count": null,
   "metadata": {},
   "outputs": [],
   "source": [
    "# Test Results\n",
    "svm_y_train_predicted = svm_model.predict(X_train)\n",
    "svm_y_test_predicted = svm_model.predict(X_test)\n",
    "calculate_errors(y_train, svm_y_train_predicted, y_test, svm_y_test_predicted, \"SVM\")"
   ]
  },
  {
   "cell_type": "code",
   "execution_count": null,
   "metadata": {},
   "outputs": [],
   "source": [
    "show_scatter_test(y_test, svm_y_test_predicted, \"SVM\")"
   ]
  },
  {
   "cell_type": "markdown",
   "metadata": {},
   "source": [
    "### Random Forest\n"
   ]
  },
  {
   "cell_type": "code",
   "execution_count": 21,
   "metadata": {},
   "outputs": [
    {
     "name": "stderr",
     "output_type": "stream",
     "text": [
      "/global/home/users/yaqiantang/.conda/envs/ML/lib/python3.10/site-packages/sklearn/ensemble/_forest.py:416: FutureWarning: `max_features='auto'` has been deprecated in 1.1 and will be removed in 1.3. To keep the past behaviour, explicitly set `max_features=1.0` or remove this parameter as it is also the default value for RandomForestRegressors and ExtraTreesRegressors.\n",
      "  warn(\n",
      "/global/home/users/yaqiantang/.conda/envs/ML/lib/python3.10/site-packages/sklearn/ensemble/_forest.py:416: FutureWarning: `max_features='auto'` has been deprecated in 1.1 and will be removed in 1.3. To keep the past behaviour, explicitly set `max_features=1.0` or remove this parameter as it is also the default value for RandomForestRegressors and ExtraTreesRegressors.\n",
      "  warn(\n",
      "/global/home/users/yaqiantang/.conda/envs/ML/lib/python3.10/site-packages/sklearn/ensemble/_forest.py:416: FutureWarning: `max_features='auto'` has been deprecated in 1.1 and will be removed in 1.3. To keep the past behaviour, explicitly set `max_features=1.0` or remove this parameter as it is also the default value for RandomForestRegressors and ExtraTreesRegressors.\n",
      "  warn(\n",
      "/global/home/users/yaqiantang/.conda/envs/ML/lib/python3.10/site-packages/sklearn/ensemble/_forest.py:416: FutureWarning: `max_features='auto'` has been deprecated in 1.1 and will be removed in 1.3. To keep the past behaviour, explicitly set `max_features=1.0` or remove this parameter as it is also the default value for RandomForestRegressors and ExtraTreesRegressors.\n",
      "  warn(\n",
      "/global/home/users/yaqiantang/.conda/envs/ML/lib/python3.10/site-packages/sklearn/ensemble/_forest.py:416: FutureWarning: `max_features='auto'` has been deprecated in 1.1 and will be removed in 1.3. To keep the past behaviour, explicitly set `max_features=1.0` or remove this parameter as it is also the default value for RandomForestRegressors and ExtraTreesRegressors.\n",
      "  warn(\n"
     ]
    },
    {
     "name": "stdout",
     "output_type": "stream",
     "text": [
      "Random Forest Best Parameters: \n"
     ]
    },
    {
     "data": {
      "text/plain": [
       "{'n_estimators': 200,\n",
       " 'min_samples_split': 6,\n",
       " 'min_samples_leaf': 6,\n",
       " 'max_features': 0.5,\n",
       " 'max_depth': 6,\n",
       " 'bootstrap': True}"
      ]
     },
     "execution_count": 21,
     "metadata": {},
     "output_type": "execute_result"
    }
   ],
   "source": [
    "# Number of trees in random forest\n",
    "n_estimators = [25, 50, 75, 100, 150, 200]\n",
    "# Number of features to consider at every split\n",
    "max_features = ['auto', 'sqrt', 0.1, 0.5, 1.0]\n",
    "# Maximum number of levels in tree\n",
    "max_depth = [3, 4, 5, 6]\n",
    "# Minimum number of samples required to split a node\n",
    "min_samples_split = [2,3,4,5,6]\n",
    "# Minimum number of samples required at each leaf node\n",
    "min_samples_leaf = [2,3,4,5,6]\n",
    "# Method of selecting samples for training each tree\n",
    "bootstrap = [True, False]\n",
    "\n",
    "\n",
    "# Create the random grid\n",
    "random_grid = {'n_estimators': n_estimators,\n",
    "               'max_features': max_features,\n",
    "               'max_depth': max_depth,\n",
    "               'min_samples_split': min_samples_split,\n",
    "               'min_samples_leaf': min_samples_leaf,\n",
    "               'bootstrap': bootstrap}\n",
    "\n",
    "rf = RandomForestRegressor()\n",
    "# Random search of parameters, using 5 fold cross validation, search across 10 different combinations\n",
    "rf_random = RandomizedSearchCV(estimator = rf, param_distributions = random_grid, \n",
    "                               scoring='neg_mean_squared_error',n_iter = 10, cv = kf, verbose=2, \n",
    "                               random_state=2022, n_jobs = -1)\n",
    "# Fit the random search model\n",
    "rf_random.fit(X_train, y_train)\n",
    "# Print best parameters after tuning\n",
    "print('Random Forest Best Parameters: ')\n",
    "rf_random.best_params_"
   ]
  },
  {
   "cell_type": "code",
   "execution_count": 22,
   "metadata": {},
   "outputs": [
    {
     "data": {
      "text/html": [
       "<style>#sk-container-id-2 {color: black;background-color: white;}#sk-container-id-2 pre{padding: 0;}#sk-container-id-2 div.sk-toggleable {background-color: white;}#sk-container-id-2 label.sk-toggleable__label {cursor: pointer;display: block;width: 100%;margin-bottom: 0;padding: 0.3em;box-sizing: border-box;text-align: center;}#sk-container-id-2 label.sk-toggleable__label-arrow:before {content: \"▸\";float: left;margin-right: 0.25em;color: #696969;}#sk-container-id-2 label.sk-toggleable__label-arrow:hover:before {color: black;}#sk-container-id-2 div.sk-estimator:hover label.sk-toggleable__label-arrow:before {color: black;}#sk-container-id-2 div.sk-toggleable__content {max-height: 0;max-width: 0;overflow: hidden;text-align: left;background-color: #f0f8ff;}#sk-container-id-2 div.sk-toggleable__content pre {margin: 0.2em;color: black;border-radius: 0.25em;background-color: #f0f8ff;}#sk-container-id-2 input.sk-toggleable__control:checked~div.sk-toggleable__content {max-height: 200px;max-width: 100%;overflow: auto;}#sk-container-id-2 input.sk-toggleable__control:checked~label.sk-toggleable__label-arrow:before {content: \"▾\";}#sk-container-id-2 div.sk-estimator input.sk-toggleable__control:checked~label.sk-toggleable__label {background-color: #d4ebff;}#sk-container-id-2 div.sk-label input.sk-toggleable__control:checked~label.sk-toggleable__label {background-color: #d4ebff;}#sk-container-id-2 input.sk-hidden--visually {border: 0;clip: rect(1px 1px 1px 1px);clip: rect(1px, 1px, 1px, 1px);height: 1px;margin: -1px;overflow: hidden;padding: 0;position: absolute;width: 1px;}#sk-container-id-2 div.sk-estimator {font-family: monospace;background-color: #f0f8ff;border: 1px dotted black;border-radius: 0.25em;box-sizing: border-box;margin-bottom: 0.5em;}#sk-container-id-2 div.sk-estimator:hover {background-color: #d4ebff;}#sk-container-id-2 div.sk-parallel-item::after {content: \"\";width: 100%;border-bottom: 1px solid gray;flex-grow: 1;}#sk-container-id-2 div.sk-label:hover label.sk-toggleable__label {background-color: #d4ebff;}#sk-container-id-2 div.sk-serial::before {content: \"\";position: absolute;border-left: 1px solid gray;box-sizing: border-box;top: 0;bottom: 0;left: 50%;z-index: 0;}#sk-container-id-2 div.sk-serial {display: flex;flex-direction: column;align-items: center;background-color: white;padding-right: 0.2em;padding-left: 0.2em;position: relative;}#sk-container-id-2 div.sk-item {position: relative;z-index: 1;}#sk-container-id-2 div.sk-parallel {display: flex;align-items: stretch;justify-content: center;background-color: white;position: relative;}#sk-container-id-2 div.sk-item::before, #sk-container-id-2 div.sk-parallel-item::before {content: \"\";position: absolute;border-left: 1px solid gray;box-sizing: border-box;top: 0;bottom: 0;left: 50%;z-index: -1;}#sk-container-id-2 div.sk-parallel-item {display: flex;flex-direction: column;z-index: 1;position: relative;background-color: white;}#sk-container-id-2 div.sk-parallel-item:first-child::after {align-self: flex-end;width: 50%;}#sk-container-id-2 div.sk-parallel-item:last-child::after {align-self: flex-start;width: 50%;}#sk-container-id-2 div.sk-parallel-item:only-child::after {width: 0;}#sk-container-id-2 div.sk-dashed-wrapped {border: 1px dashed gray;margin: 0 0.4em 0.5em 0.4em;box-sizing: border-box;padding-bottom: 0.4em;background-color: white;}#sk-container-id-2 div.sk-label label {font-family: monospace;font-weight: bold;display: inline-block;line-height: 1.2em;}#sk-container-id-2 div.sk-label-container {text-align: center;}#sk-container-id-2 div.sk-container {/* jupyter's `normalize.less` sets `[hidden] { display: none; }` but bootstrap.min.css set `[hidden] { display: none !important; }` so we also need the `!important` here to be able to override the default hidden behavior on the sphinx rendered scikit-learn.org. See: https://github.com/scikit-learn/scikit-learn/issues/21755 */display: inline-block !important;position: relative;}#sk-container-id-2 div.sk-text-repr-fallback {display: none;}</style><div id=\"sk-container-id-2\" class=\"sk-top-container\"><div class=\"sk-text-repr-fallback\"><pre>RandomForestRegressor(max_depth=6, max_features=0.5, min_samples_leaf=6,\n",
       "                      min_samples_split=6, n_estimators=200)</pre><b>In a Jupyter environment, please rerun this cell to show the HTML representation or trust the notebook. <br />On GitHub, the HTML representation is unable to render, please try loading this page with nbviewer.org.</b></div><div class=\"sk-container\" hidden><div class=\"sk-item\"><div class=\"sk-estimator sk-toggleable\"><input class=\"sk-toggleable__control sk-hidden--visually\" id=\"sk-estimator-id-2\" type=\"checkbox\" checked><label for=\"sk-estimator-id-2\" class=\"sk-toggleable__label sk-toggleable__label-arrow\">RandomForestRegressor</label><div class=\"sk-toggleable__content\"><pre>RandomForestRegressor(max_depth=6, max_features=0.5, min_samples_leaf=6,\n",
       "                      min_samples_split=6, n_estimators=200)</pre></div></div></div></div></div>"
      ],
      "text/plain": [
       "RandomForestRegressor(max_depth=6, max_features=0.5, min_samples_leaf=6,\n",
       "                      min_samples_split=6, n_estimators=200)"
      ]
     },
     "execution_count": 22,
     "metadata": {},
     "output_type": "execute_result"
    }
   ],
   "source": [
    "rf_model = RandomForestRegressor(n_estimators=200, min_samples_split=6, min_samples_leaf=6, \n",
    "                                 max_features=0.5, max_depth = 6, bootstrap = True)\n",
    "rf_model.fit(X_train, y_train)"
   ]
  },
  {
   "cell_type": "code",
   "execution_count": 23,
   "metadata": {},
   "outputs": [
    {
     "name": "stdout",
     "output_type": "stream",
     "text": [
      "[CV] END bootstrap=False, max_depth=6, max_features=0.5, min_samples_leaf=5, min_samples_split=5, n_estimators=50; total time=  21.8s\n",
      "[CV] END bootstrap=False, max_depth=6, max_features=0.5, min_samples_leaf=5, min_samples_split=5, n_estimators=50; total time=  21.7s\n",
      "[CV] END bootstrap=False, max_depth=6, max_features=0.5, min_samples_leaf=5, min_samples_split=5, n_estimators=50; total time=  21.9s\n",
      "[CV] END bootstrap=False, max_depth=6, max_features=0.5, min_samples_leaf=5, min_samples_split=5, n_estimators=50; total time=  22.2s\n",
      "[CV] END bootstrap=True, max_depth=4, max_features=0.5, min_samples_leaf=3, min_samples_split=4, n_estimators=75; total time=  16.0s\n",
      "[CV] END bootstrap=True, max_depth=3, max_features=auto, min_samples_leaf=2, min_samples_split=6, n_estimators=25; total time=   8.2s\n",
      "[CV] END bootstrap=True, max_depth=4, max_features=0.5, min_samples_leaf=3, min_samples_split=4, n_estimators=75; total time=  16.1s\n",
      "[CV] END bootstrap=True, max_depth=3, max_features=auto, min_samples_leaf=2, min_samples_split=6, n_estimators=25; total time=   8.2s\n",
      "[CV] END bootstrap=True, max_depth=3, max_features=sqrt, min_samples_leaf=2, min_samples_split=5, n_estimators=200; total time=  17.6s\n",
      "[CV] END bootstrap=True, max_depth=3, max_features=auto, min_samples_leaf=2, min_samples_split=6, n_estimators=25; total time=   8.2s\n",
      "[CV] END bootstrap=True, max_depth=3, max_features=sqrt, min_samples_leaf=2, min_samples_split=5, n_estimators=200; total time=  17.7s\n",
      "[CV] END bootstrap=True, max_depth=3, max_features=auto, min_samples_leaf=2, min_samples_split=6, n_estimators=25; total time=   8.2s\n",
      "[CV] END bootstrap=True, max_depth=3, max_features=sqrt, min_samples_leaf=2, min_samples_split=5, n_estimators=200; total time=  17.9s\n",
      "[CV] END bootstrap=True, max_depth=3, max_features=auto, min_samples_leaf=2, min_samples_split=6, n_estimators=25; total time=   8.2s\n",
      "[CV] END bootstrap=False, max_depth=5, max_features=sqrt, min_samples_leaf=4, min_samples_split=3, n_estimators=150; total time=  28.4s\n",
      "[CV] END bootstrap=False, max_depth=5, max_features=sqrt, min_samples_leaf=4, min_samples_split=3, n_estimators=150; total time=  28.4s\n",
      "[CV] END bootstrap=False, max_depth=5, max_features=sqrt, min_samples_leaf=4, min_samples_split=3, n_estimators=150; total time=  28.8s\n",
      "[CV] END bootstrap=False, max_depth=5, max_features=sqrt, min_samples_leaf=4, min_samples_split=3, n_estimators=150; total time=  28.8s\n",
      "[CV] END bootstrap=False, max_depth=5, max_features=sqrt, min_samples_leaf=4, min_samples_split=3, n_estimators=150; total time=  29.0s\n",
      "[CV] END bootstrap=True, max_depth=4, max_features=0.5, min_samples_leaf=3, min_samples_split=4, n_estimators=75; total time=  15.7s\n",
      "[CV] END bootstrap=True, max_depth=5, max_features=0.5, min_samples_leaf=5, min_samples_split=6, n_estimators=75; total time=  18.4s\n",
      "[CV] END bootstrap=True, max_depth=4, max_features=0.5, min_samples_leaf=3, min_samples_split=4, n_estimators=75; total time=  15.8s\n",
      "[CV] END bootstrap=True, max_depth=5, max_features=0.5, min_samples_leaf=5, min_samples_split=6, n_estimators=75; total time=  18.3s\n",
      "[CV] END bootstrap=True, max_depth=4, max_features=0.5, min_samples_leaf=3, min_samples_split=4, n_estimators=75; total time=  15.8s\n",
      "[CV] END bootstrap=True, max_depth=5, max_features=0.5, min_samples_leaf=5, min_samples_split=6, n_estimators=75; total time=  18.9s\n",
      "[CV] END bootstrap=False, max_depth=5, max_features=0.5, min_samples_leaf=3, min_samples_split=3, n_estimators=100; total time=  35.2s\n",
      "[CV] END bootstrap=False, max_depth=5, max_features=0.5, min_samples_leaf=3, min_samples_split=3, n_estimators=100; total time=  35.9s\n",
      "[CV] END bootstrap=False, max_depth=5, max_features=0.5, min_samples_leaf=3, min_samples_split=3, n_estimators=100; total time=  35.9s\n",
      "[CV] END bootstrap=False, max_depth=5, max_features=0.5, min_samples_leaf=3, min_samples_split=3, n_estimators=100; total time=  36.0s\n",
      "[CV] END bootstrap=False, max_depth=5, max_features=0.5, min_samples_leaf=3, min_samples_split=3, n_estimators=100; total time=  36.5s\n",
      "[CV] END bootstrap=True, max_depth=3, max_features=sqrt, min_samples_leaf=2, min_samples_split=5, n_estimators=200; total time=  18.1s\n",
      "[CV] END bootstrap=False, max_depth=4, max_features=0.5, min_samples_leaf=3, min_samples_split=3, n_estimators=150; total time=  36.9s\n",
      "[CV] END bootstrap=True, max_depth=3, max_features=sqrt, min_samples_leaf=2, min_samples_split=5, n_estimators=200; total time=  17.9s\n",
      "[CV] END bootstrap=False, max_depth=4, max_features=0.5, min_samples_leaf=3, min_samples_split=3, n_estimators=150; total time=  37.6s\n",
      "[CV] END bootstrap=False, max_depth=5, max_features=0.5, min_samples_leaf=5, min_samples_split=3, n_estimators=50; total time=  18.2s\n",
      "[CV] END bootstrap=False, max_depth=4, max_features=0.5, min_samples_leaf=3, min_samples_split=3, n_estimators=150; total time=  37.9s\n",
      "[CV] END bootstrap=False, max_depth=5, max_features=0.5, min_samples_leaf=5, min_samples_split=3, n_estimators=50; total time=  18.6s\n",
      "[CV] END bootstrap=False, max_depth=4, max_features=0.5, min_samples_leaf=3, min_samples_split=3, n_estimators=150; total time=  37.6s\n",
      "[CV] END bootstrap=False, max_depth=5, max_features=0.5, min_samples_leaf=5, min_samples_split=3, n_estimators=50; total time=  18.6s\n",
      "[CV] END bootstrap=False, max_depth=4, max_features=0.5, min_samples_leaf=3, min_samples_split=3, n_estimators=150; total time=  38.2s\n",
      "[CV] END bootstrap=True, max_depth=5, max_features=0.5, min_samples_leaf=5, min_samples_split=6, n_estimators=75; total time=  19.3s\n",
      "[CV] END bootstrap=True, max_depth=6, max_features=0.5, min_samples_leaf=6, min_samples_split=6, n_estimators=200; total time=  46.4s\n",
      "[CV] END bootstrap=False, max_depth=5, max_features=0.5, min_samples_leaf=5, min_samples_split=3, n_estimators=50; total time=  18.7s\n",
      "[CV] END bootstrap=True, max_depth=6, max_features=0.5, min_samples_leaf=6, min_samples_split=6, n_estimators=200; total time=  47.1s\n",
      "[CV] END bootstrap=True, max_depth=5, max_features=0.5, min_samples_leaf=5, min_samples_split=6, n_estimators=75; total time=  19.2s\n",
      "[CV] END bootstrap=True, max_depth=6, max_features=0.5, min_samples_leaf=6, min_samples_split=6, n_estimators=200; total time=  46.7s\n",
      "[CV] END bootstrap=False, max_depth=5, max_features=0.5, min_samples_leaf=5, min_samples_split=3, n_estimators=50; total time=  19.0s\n",
      "[CV] END bootstrap=True, max_depth=6, max_features=0.5, min_samples_leaf=6, min_samples_split=6, n_estimators=200; total time=  47.4s\n",
      "[CV] END bootstrap=False, max_depth=6, max_features=0.5, min_samples_leaf=5, min_samples_split=5, n_estimators=50; total time=  21.5s\n",
      "[CV] END bootstrap=True, max_depth=6, max_features=0.5, min_samples_leaf=6, min_samples_split=6, n_estimators=200; total time=  46.5s\n",
      "RMSE: 0.713, Standard Deviation : 0.019\n",
      "R2: 0.980, Standard Deviation : 0.002\n"
     ]
    }
   ],
   "source": [
    "# Cross Validation Results\n",
    "\n",
    "rmse = cross_val_score(rf_model, X_train, y_train, scoring='neg_root_mean_squared_error', cv = kf)\n",
    "r2 = cross_val_score(rf_model, X_train, y_train, scoring='r2', cv = kf)\n",
    "\n",
    "#get the mean of each fold \n",
    "print(\"RMSE: %.3f, Standard Deviation : %.3f\" % (rmse.mean() * -1, rmse.std())) \n",
    "print(\"R2: %.3f, Standard Deviation : %.3f\" % (r2.mean(), r2.std())) "
   ]
  },
  {
   "cell_type": "code",
   "execution_count": 24,
   "metadata": {},
   "outputs": [
    {
     "name": "stdout",
     "output_type": "stream",
     "text": [
      "The R2 score of Random Forest is: 0.9765035851861809\n",
      "The RMSE of predicting the TRAINING set of Random Forest is: 0.6945939125612508\n",
      "The RMSE of predicting the TESTING set of Random Forest is: 0.7626160401095693\n",
      "The bias of predicting the TRAINING set of Random Forest is: -0.00019944863417294337\n",
      "The bias of predicting the TESTING set of Random Forest is: -0.002945490391467733\n"
     ]
    }
   ],
   "source": [
    "# Train/Test Results\n",
    "\n",
    "rf_y_train_predicted = rf_model.predict(X_train)\n",
    "rf_y_test_predicted = rf_model.predict(X_test)\n",
    "rf_r2, rf_rmse = calculate_errors(y_train, rf_y_train_predicted, \n",
    "                                  y_test, rf_y_test_predicted, \"Random Forest\")"
   ]
  },
  {
   "cell_type": "code",
   "execution_count": 25,
   "metadata": {},
   "outputs": [
    {
     "data": {
      "image/png": "[encoded data removed]",
      "text/plain": [
       "<Figure size 640x480 with 1 Axes>"
      ]
     },
     "metadata": {},
     "output_type": "display_data"
    }
   ],
   "source": [
    "show_scatter_test(y_test, rf_y_test_predicted, \"Random Forest\")"
   ]
  },
  {
   "cell_type": "markdown",
   "metadata": {},
   "source": [
    "## XGBoost"
   ]
  },
  {
   "cell_type": "code",
   "execution_count": 26,
   "metadata": {},
   "outputs": [
    {
     "name": "stdout",
     "output_type": "stream",
     "text": [
      "Fitting 5 folds for each of 10 candidates, totalling 50 fits\n",
      "XGBoost Best Parameters: \n"
     ]
    },
    {
     "data": {
      "text/plain": [
       "{'subsample': 0.6,\n",
       " 'n_estimators': 50,\n",
       " 'min_child_weight': 7,\n",
       " 'max_depth': 10,\n",
       " 'learning_rate': 0.2,\n",
       " 'colsample_bytree': 0.8999999999999999,\n",
       " 'colsample_bylevel': 0.8999999999999999}"
      ]
     },
     "execution_count": 26,
     "metadata": {},
     "output_type": "execute_result"
    }
   ],
   "source": [
    "xgb_param_grid = { 'max_depth': [3, 5, 6, 10], \n",
    "                  'min_child_weight': [1, 3, 5, 7],\n",
    "                  'learning_rate': [0.01, 0.1, 0.2, 0.3],\n",
    "                  'subsample': np.arange(0.5, 1.0, 0.1),\n",
    "                  'colsample_bytree': np.arange(0.4, 1.0, 0.1),\n",
    "                  'colsample_bylevel': np.arange(0.4, 1.0, 0.1),\n",
    "                  'n_estimators': [50, 100, 150, 200, 250]}\n",
    "\n",
    "xgbr = XGBRegressor()\n",
    "xgb_random = RandomizedSearchCV(estimator=xgbr, param_distributions=xgb_param_grid, \n",
    "                                scoring='neg_mean_squared_error', n_iter=10, cv = kf, verbose=2, \n",
    "                                random_state=2022, n_jobs = -1)\n",
    "xgb_random.fit(X_train, y_train)\n",
    "print(\"XGBoost Best Parameters: \")\n",
    "xgb_random.best_params_"
   ]
  },
  {
   "cell_type": "code",
   "execution_count": 27,
   "metadata": {},
   "outputs": [
    {
     "data": {
      "text/html": [
       "<style>#sk-container-id-3 {color: black;background-color: white;}#sk-container-id-3 pre{padding: 0;}#sk-container-id-3 div.sk-toggleable {background-color: white;}#sk-container-id-3 label.sk-toggleable__label {cursor: pointer;display: block;width: 100%;margin-bottom: 0;padding: 0.3em;box-sizing: border-box;text-align: center;}#sk-container-id-3 label.sk-toggleable__label-arrow:before {content: \"▸\";float: left;margin-right: 0.25em;color: #696969;}#sk-container-id-3 label.sk-toggleable__label-arrow:hover:before {color: black;}#sk-container-id-3 div.sk-estimator:hover label.sk-toggleable__label-arrow:before {color: black;}#sk-container-id-3 div.sk-toggleable__content {max-height: 0;max-width: 0;overflow: hidden;text-align: left;background-color: #f0f8ff;}#sk-container-id-3 div.sk-toggleable__content pre {margin: 0.2em;color: black;border-radius: 0.25em;background-color: #f0f8ff;}#sk-container-id-3 input.sk-toggleable__control:checked~div.sk-toggleable__content {max-height: 200px;max-width: 100%;overflow: auto;}#sk-container-id-3 input.sk-toggleable__control:checked~label.sk-toggleable__label-arrow:before {content: \"▾\";}#sk-container-id-3 div.sk-estimator input.sk-toggleable__control:checked~label.sk-toggleable__label {background-color: #d4ebff;}#sk-container-id-3 div.sk-label input.sk-toggleable__control:checked~label.sk-toggleable__label {background-color: #d4ebff;}#sk-container-id-3 input.sk-hidden--visually {border: 0;clip: rect(1px 1px 1px 1px);clip: rect(1px, 1px, 1px, 1px);height: 1px;margin: -1px;overflow: hidden;padding: 0;position: absolute;width: 1px;}#sk-container-id-3 div.sk-estimator {font-family: monospace;background-color: #f0f8ff;border: 1px dotted black;border-radius: 0.25em;box-sizing: border-box;margin-bottom: 0.5em;}#sk-container-id-3 div.sk-estimator:hover {background-color: #d4ebff;}#sk-container-id-3 div.sk-parallel-item::after {content: \"\";width: 100%;border-bottom: 1px solid gray;flex-grow: 1;}#sk-container-id-3 div.sk-label:hover label.sk-toggleable__label {background-color: #d4ebff;}#sk-container-id-3 div.sk-serial::before {content: \"\";position: absolute;border-left: 1px solid gray;box-sizing: border-box;top: 0;bottom: 0;left: 50%;z-index: 0;}#sk-container-id-3 div.sk-serial {display: flex;flex-direction: column;align-items: center;background-color: white;padding-right: 0.2em;padding-left: 0.2em;position: relative;}#sk-container-id-3 div.sk-item {position: relative;z-index: 1;}#sk-container-id-3 div.sk-parallel {display: flex;align-items: stretch;justify-content: center;background-color: white;position: relative;}#sk-container-id-3 div.sk-item::before, #sk-container-id-3 div.sk-parallel-item::before {content: \"\";position: absolute;border-left: 1px solid gray;box-sizing: border-box;top: 0;bottom: 0;left: 50%;z-index: -1;}#sk-container-id-3 div.sk-parallel-item {display: flex;flex-direction: column;z-index: 1;position: relative;background-color: white;}#sk-container-id-3 div.sk-parallel-item:first-child::after {align-self: flex-end;width: 50%;}#sk-container-id-3 div.sk-parallel-item:last-child::after {align-self: flex-start;width: 50%;}#sk-container-id-3 div.sk-parallel-item:only-child::after {width: 0;}#sk-container-id-3 div.sk-dashed-wrapped {border: 1px dashed gray;margin: 0 0.4em 0.5em 0.4em;box-sizing: border-box;padding-bottom: 0.4em;background-color: white;}#sk-container-id-3 div.sk-label label {font-family: monospace;font-weight: bold;display: inline-block;line-height: 1.2em;}#sk-container-id-3 div.sk-label-container {text-align: center;}#sk-container-id-3 div.sk-container {/* jupyter's `normalize.less` sets `[hidden] { display: none; }` but bootstrap.min.css set `[hidden] { display: none !important; }` so we also need the `!important` here to be able to override the default hidden behavior on the sphinx rendered scikit-learn.org. See: https://github.com/scikit-learn/scikit-learn/issues/21755 */display: inline-block !important;position: relative;}#sk-container-id-3 div.sk-text-repr-fallback {display: none;}</style><div id=\"sk-container-id-3\" class=\"sk-top-container\"><div class=\"sk-text-repr-fallback\"><pre>XGBRegressor(base_score=0.5, booster=&#x27;gbtree&#x27;, callbacks=None,\n",
       "             colsample_bylevel=0.7, colsample_bynode=1, colsample_bytree=0.9,\n",
       "             early_stopping_rounds=None, enable_categorical=False,\n",
       "             eval_metric=None, feature_types=None, gamma=0, gpu_id=-1,\n",
       "             grow_policy=&#x27;depthwise&#x27;, importance_type=None,\n",
       "             interaction_constraints=&#x27;&#x27;, learning_rate=0.1, max_bin=256,\n",
       "             max_cat_threshold=64, max_cat_to_onehot=4, max_delta_step=0,\n",
       "             max_depth=6, max_leaves=0, min_child_weight=7, missing=nan,\n",
       "             monotone_constraints=&#x27;()&#x27;, n_estimators=150, n_jobs=0,\n",
       "             num_parallel_tree=1, predictor=&#x27;auto&#x27;, random_state=0, ...)</pre><b>In a Jupyter environment, please rerun this cell to show the HTML representation or trust the notebook. <br />On GitHub, the HTML representation is unable to render, please try loading this page with nbviewer.org.</b></div><div class=\"sk-container\" hidden><div class=\"sk-item\"><div class=\"sk-estimator sk-toggleable\"><input class=\"sk-toggleable__control sk-hidden--visually\" id=\"sk-estimator-id-3\" type=\"checkbox\" checked><label for=\"sk-estimator-id-3\" class=\"sk-toggleable__label sk-toggleable__label-arrow\">XGBRegressor</label><div class=\"sk-toggleable__content\"><pre>XGBRegressor(base_score=0.5, booster=&#x27;gbtree&#x27;, callbacks=None,\n",
       "             colsample_bylevel=0.7, colsample_bynode=1, colsample_bytree=0.9,\n",
       "             early_stopping_rounds=None, enable_categorical=False,\n",
       "             eval_metric=None, feature_types=None, gamma=0, gpu_id=-1,\n",
       "             grow_policy=&#x27;depthwise&#x27;, importance_type=None,\n",
       "             interaction_constraints=&#x27;&#x27;, learning_rate=0.1, max_bin=256,\n",
       "             max_cat_threshold=64, max_cat_to_onehot=4, max_delta_step=0,\n",
       "             max_depth=6, max_leaves=0, min_child_weight=7, missing=nan,\n",
       "             monotone_constraints=&#x27;()&#x27;, n_estimators=150, n_jobs=0,\n",
       "             num_parallel_tree=1, predictor=&#x27;auto&#x27;, random_state=0, ...)</pre></div></div></div></div></div>"
      ],
      "text/plain": [
       "XGBRegressor(base_score=0.5, booster='gbtree', callbacks=None,\n",
       "             colsample_bylevel=0.7, colsample_bynode=1, colsample_bytree=0.9,\n",
       "             early_stopping_rounds=None, enable_categorical=False,\n",
       "             eval_metric=None, feature_types=None, gamma=0, gpu_id=-1,\n",
       "             grow_policy='depthwise', importance_type=None,\n",
       "             interaction_constraints='', learning_rate=0.1, max_bin=256,\n",
       "             max_cat_threshold=64, max_cat_to_onehot=4, max_delta_step=0,\n",
       "             max_depth=6, max_leaves=0, min_child_weight=7, missing=nan,\n",
       "             monotone_constraints='()', n_estimators=150, n_jobs=0,\n",
       "             num_parallel_tree=1, predictor='auto', random_state=0, ...)"
      ]
     },
     "execution_count": 27,
     "metadata": {},
     "output_type": "execute_result"
    }
   ],
   "source": [
    "xgb_model = XGBRegressor(subsample = 0.8, n_estimators = 150, max_depth = 6, min_child_weight = 7,\n",
    "                         learning_rate = 0.1, colsample_bytree = 0.9, colsample_bylevel = 0.7,\n",
    "                         objective = 'reg:squarederror')\n",
    "xgb_model.fit(X_train, y_train)"
   ]
  },
  {
   "cell_type": "code",
   "execution_count": 28,
   "metadata": {},
   "outputs": [
    {
     "name": "stdout",
     "output_type": "stream",
     "text": [
      "RMSE: 0.108, Standard Deviation : 0.011\n",
      "R2: 1.000, Standard Deviation : 0.000\n"
     ]
    }
   ],
   "source": [
    "# Cross Validation Results\n",
    "\n",
    "rmse = cross_val_score(xgb_model, X_train, y_train, scoring='neg_root_mean_squared_error', cv = kf)\n",
    "r2 = cross_val_score(xgb_model, X_train, y_train, scoring='r2', cv = kf)\n",
    "\n",
    "#get the mean of each fold \n",
    "print(\"RMSE: %.3f, Standard Deviation : %.3f\" % (rmse.mean() * -1, rmse.std())) \n",
    "print(\"R2: %.3f, Standard Deviation : %.3f\" % (r2.mean(), r2.std())) "
   ]
  },
  {
   "cell_type": "code",
   "execution_count": 29,
   "metadata": {},
   "outputs": [
    {
     "name": "stdout",
     "output_type": "stream",
     "text": [
      "The R2 score of XGBoost is: 0.9996726929184041\n",
      "The RMSE of predicting the TRAINING set of XGBoost is: 0.06297302079022082\n",
      "The RMSE of predicting the TESTING set of XGBoost is: 0.09000835738056766\n",
      "The bias of predicting the TRAINING set of XGBoost is: -4.051401284251861e-05\n",
      "The bias of predicting the TESTING set of XGBoost is: -0.0013044704535264055\n"
     ]
    }
   ],
   "source": [
    "#Train/Test Results\n",
    "\n",
    "xgb_y_train_predicted = xgb_model.predict(X_train)\n",
    "xgb_y_test_predicted = xgb_model.predict(X_test)\n",
    "xgb_r2, xgb_rmse = calculate_errors(y_train, xgb_y_train_predicted, y_test, xgb_y_test_predicted, \"XGBoost\")"
   ]
  },
  {
   "cell_type": "code",
   "execution_count": 30,
   "metadata": {},
   "outputs": [
    {
     "data": {
      "image/png": "[encoded data removed]",
      "text/plain": [
       "<Figure size 640x480 with 1 Axes>"
      ]
     },
     "metadata": {},
     "output_type": "display_data"
    }
   ],
   "source": [
    "show_scatter_test(y_test, xgb_y_test_predicted, \"XGBoost\")"
   ]
  },
  {
   "cell_type": "markdown",
   "metadata": {},
   "source": [
    "## MLP"
   ]
  },
  {
   "cell_type": "code",
   "execution_count": 31,
   "metadata": {},
   "outputs": [],
   "source": [
    "from sklearn.neural_network import MLPClassifier\n",
    "from sklearn.neural_network import MLPRegressor\n",
    "import warnings\n",
    "warnings.filterwarnings(\"ignore\")"
   ]
  },
  {
   "cell_type": "code",
   "execution_count": 32,
   "metadata": {},
   "outputs": [],
   "source": [
    "mlp_X_train, mlp_X_test, mlp_y_train, mlp_y_test, mlp_scaler = get_train_test_split(df, 0.3, 2022, True)"
   ]
  },
  {
   "cell_type": "code",
   "execution_count": 33,
   "metadata": {},
   "outputs": [
    {
     "name": "stdout",
     "output_type": "stream",
     "text": [
      "[CV] END colsample_bylevel=0.5, colsample_bytree=0.7999999999999999, learning_rate=0.1, max_depth=5, min_child_weight=5, n_estimators=100, subsample=0.7; total time=  10.6s\n",
      "[CV] END colsample_bylevel=0.5, colsample_bytree=0.7999999999999999, learning_rate=0.1, max_depth=3, min_child_weight=1, n_estimators=100, subsample=0.7999999999999999; total time=   5.6s\n",
      "[CV] END colsample_bylevel=0.8999999999999999, colsample_bytree=0.8999999999999999, learning_rate=0.2, max_depth=10, min_child_weight=7, n_estimators=50, subsample=0.6; total time=  17.8s\n",
      "[CV] END colsample_bylevel=0.5, colsample_bytree=0.7999999999999999, learning_rate=0.1, max_depth=5, min_child_weight=5, n_estimators=100, subsample=0.7; total time=  10.4s\n",
      "[CV] END colsample_bylevel=0.4, colsample_bytree=0.5, learning_rate=0.1, max_depth=3, min_child_weight=5, n_estimators=200, subsample=0.6; total time=   7.9s\n",
      "[CV] END colsample_bylevel=0.5, colsample_bytree=0.7999999999999999, learning_rate=0.1, max_depth=5, min_child_weight=5, n_estimators=100, subsample=0.7; total time=  10.4s\n",
      "[CV] END colsample_bylevel=0.4, colsample_bytree=0.5, learning_rate=0.1, max_depth=3, min_child_weight=5, n_estimators=200, subsample=0.6; total time=   8.0s\n",
      "[CV] END colsample_bylevel=0.5, colsample_bytree=0.7999999999999999, learning_rate=0.1, max_depth=5, min_child_weight=5, n_estimators=100, subsample=0.7; total time=  10.5s\n",
      "[CV] END colsample_bylevel=0.4, colsample_bytree=0.5, learning_rate=0.1, max_depth=3, min_child_weight=5, n_estimators=200, subsample=0.6; total time=   8.0s\n",
      "[CV] END colsample_bylevel=0.6, colsample_bytree=0.5, learning_rate=0.1, max_depth=5, min_child_weight=5, n_estimators=250, subsample=0.7999999999999999; total time=  18.5s\n",
      "[CV] END colsample_bylevel=0.6, colsample_bytree=0.5, learning_rate=0.1, max_depth=5, min_child_weight=5, n_estimators=250, subsample=0.7999999999999999; total time=  18.6s\n",
      "[CV] END colsample_bylevel=0.6, colsample_bytree=0.5, learning_rate=0.1, max_depth=5, min_child_weight=5, n_estimators=250, subsample=0.7999999999999999; total time=  18.7s\n",
      "[CV] END colsample_bylevel=0.6, colsample_bytree=0.5, learning_rate=0.1, max_depth=5, min_child_weight=5, n_estimators=250, subsample=0.7999999999999999; total time=  18.7s\n",
      "[CV] END colsample_bylevel=0.6, colsample_bytree=0.5, learning_rate=0.1, max_depth=5, min_child_weight=5, n_estimators=250, subsample=0.7999999999999999; total time=  19.0s\n",
      "[CV] END colsample_bylevel=0.8999999999999999, colsample_bytree=0.8999999999999999, learning_rate=0.2, max_depth=10, min_child_weight=7, n_estimators=50, subsample=0.6; total time=  19.1s\n",
      "[CV] END colsample_bylevel=0.4, colsample_bytree=0.7, learning_rate=0.3, max_depth=10, min_child_weight=7, n_estimators=100, subsample=0.8999999999999999; total time=  15.2s\n",
      "[CV] END colsample_bylevel=0.5, colsample_bytree=0.7999999999999999, learning_rate=0.1, max_depth=3, min_child_weight=1, n_estimators=100, subsample=0.7999999999999999; total time=   5.3s\n",
      "[CV] END colsample_bylevel=0.4, colsample_bytree=0.4, learning_rate=0.3, max_depth=3, min_child_weight=3, n_estimators=200, subsample=0.8999999999999999; total time=   7.0s\n",
      "[CV] END colsample_bylevel=0.4, colsample_bytree=0.5, learning_rate=0.1, max_depth=3, min_child_weight=5, n_estimators=200, subsample=0.6; total time=   8.1s\n",
      "[CV] END colsample_bylevel=0.5, colsample_bytree=0.7999999999999999, learning_rate=0.1, max_depth=3, min_child_weight=1, n_estimators=100, subsample=0.7999999999999999; total time=   5.4s\n",
      "[CV] END colsample_bylevel=0.4, colsample_bytree=0.4, learning_rate=0.3, max_depth=3, min_child_weight=3, n_estimators=200, subsample=0.8999999999999999; total time=   7.1s\n",
      "[CV] END colsample_bylevel=0.4, colsample_bytree=0.5, learning_rate=0.1, max_depth=3, min_child_weight=5, n_estimators=200, subsample=0.6; total time=   8.1s\n",
      "[CV] END colsample_bylevel=0.5, colsample_bytree=0.7999999999999999, learning_rate=0.1, max_depth=3, min_child_weight=1, n_estimators=100, subsample=0.7999999999999999; total time=   5.4s\n"
     ]
    }
   ],
   "source": [
    "mlp_model = MLPRegressor(learning_rate_init=0.01, batch_size=32, max_iter=200).fit(mlp_X_train, mlp_y_train)"
   ]
  },
  {
   "cell_type": "code",
   "execution_count": 34,
   "metadata": {},
   "outputs": [
    {
     "name": "stdout",
     "output_type": "stream",
     "text": [
      "[CV] END colsample_bylevel=0.4, colsample_bytree=0.4, learning_rate=0.3, max_depth=3, min_child_weight=3, n_estimators=200, subsample=0.8999999999999999; total time=   6.9s\n",
      "[CV] END colsample_bylevel=0.8999999999999999, colsample_bytree=0.8999999999999999, learning_rate=0.2, max_depth=10, min_child_weight=7, n_estimators=50, subsample=0.6; total time=  16.1s\n",
      "[CV] END colsample_bylevel=0.4, colsample_bytree=0.4, learning_rate=0.3, max_depth=3, min_child_weight=3, n_estimators=200, subsample=0.8999999999999999; total time=   7.0s\n",
      "[CV] END colsample_bylevel=0.8999999999999999, colsample_bytree=0.8999999999999999, learning_rate=0.2, max_depth=10, min_child_weight=7, n_estimators=50, subsample=0.6; total time=  16.2s\n",
      "[CV] END colsample_bylevel=0.7, colsample_bytree=0.8999999999999999, learning_rate=0.1, max_depth=6, min_child_weight=7, n_estimators=150, subsample=0.7999999999999999; total time=  23.3s\n",
      "[CV] END colsample_bylevel=0.4, colsample_bytree=0.4, learning_rate=0.3, max_depth=3, min_child_weight=3, n_estimators=200, subsample=0.8999999999999999; total time=   7.0s\n",
      "[CV] END colsample_bylevel=0.8999999999999999, colsample_bytree=0.8999999999999999, learning_rate=0.2, max_depth=10, min_child_weight=7, n_estimators=50, subsample=0.6; total time=  16.3s\n",
      "[CV] END colsample_bylevel=0.7, colsample_bytree=0.8999999999999999, learning_rate=0.1, max_depth=6, min_child_weight=7, n_estimators=150, subsample=0.7999999999999999; total time=  23.4s\n",
      "[CV] END colsample_bylevel=0.7, colsample_bytree=0.8999999999999999, learning_rate=0.1, max_depth=6, min_child_weight=7, n_estimators=150, subsample=0.7999999999999999; total time=  23.4s\n",
      "[CV] END colsample_bylevel=0.7, colsample_bytree=0.8999999999999999, learning_rate=0.1, max_depth=6, min_child_weight=7, n_estimators=150, subsample=0.7999999999999999; total time=  23.5s\n",
      "[CV] END colsample_bylevel=0.7, colsample_bytree=0.8999999999999999, learning_rate=0.1, max_depth=6, min_child_weight=7, n_estimators=150, subsample=0.7999999999999999; total time=  23.5s\n",
      "[CV] END colsample_bylevel=0.4, colsample_bytree=0.7, learning_rate=0.3, max_depth=10, min_child_weight=7, n_estimators=100, subsample=0.8999999999999999; total time=  15.4s\n",
      "[CV] END colsample_bylevel=0.8999999999999999, colsample_bytree=0.8999999999999999, learning_rate=0.1, max_depth=6, min_child_weight=3, n_estimators=50, subsample=0.8999999999999999; total time=   8.9s\n",
      "[CV] END colsample_bylevel=0.4, colsample_bytree=0.7, learning_rate=0.3, max_depth=10, min_child_weight=7, n_estimators=100, subsample=0.8999999999999999; total time=  15.3s\n",
      "[CV] END colsample_bylevel=0.8999999999999999, colsample_bytree=0.8999999999999999, learning_rate=0.1, max_depth=6, min_child_weight=3, n_estimators=50, subsample=0.8999999999999999; total time=   9.1s\n",
      "[CV] END colsample_bylevel=0.5, colsample_bytree=0.7999999999999999, learning_rate=0.1, max_depth=5, min_child_weight=5, n_estimators=100, subsample=0.7; total time=  10.5s\n",
      "[CV] END colsample_bylevel=0.5, colsample_bytree=0.7999999999999999, learning_rate=0.1, max_depth=3, min_child_weight=1, n_estimators=100, subsample=0.7999999999999999; total time=   5.5s\n",
      "[CV] END colsample_bylevel=0.8999999999999999, colsample_bytree=0.8999999999999999, learning_rate=0.1, max_depth=6, min_child_weight=3, n_estimators=50, subsample=0.8999999999999999; total time=   8.7s\n",
      "[CV] END colsample_bylevel=0.4, colsample_bytree=0.7, learning_rate=0.3, max_depth=10, min_child_weight=7, n_estimators=100, subsample=0.8999999999999999; total time=  15.6s\n",
      "[CV] END colsample_bylevel=0.8999999999999999, colsample_bytree=0.8999999999999999, learning_rate=0.1, max_depth=6, min_child_weight=3, n_estimators=50, subsample=0.8999999999999999; total time=   9.3s\n",
      "[CV] END colsample_bylevel=0.4, colsample_bytree=0.7, learning_rate=0.3, max_depth=10, min_child_weight=7, n_estimators=100, subsample=0.8999999999999999; total time=  15.3s\n",
      "[CV] END colsample_bylevel=0.8999999999999999, colsample_bytree=0.8999999999999999, learning_rate=0.1, max_depth=6, min_child_weight=3, n_estimators=50, subsample=0.8999999999999999; total time=   9.7s\n",
      "[CV] END colsample_bylevel=0.7999999999999999, colsample_bytree=0.8999999999999999, learning_rate=0.01, max_depth=10, min_child_weight=5, n_estimators=200, subsample=0.8999999999999999; total time=  56.6s\n",
      "[CV] END colsample_bylevel=0.7999999999999999, colsample_bytree=0.8999999999999999, learning_rate=0.01, max_depth=10, min_child_weight=5, n_estimators=200, subsample=0.8999999999999999; total time=  56.5s\n",
      "[CV] END colsample_bylevel=0.7999999999999999, colsample_bytree=0.8999999999999999, learning_rate=0.01, max_depth=10, min_child_weight=5, n_estimators=200, subsample=0.8999999999999999; total time=  57.2s\n",
      "[CV] END colsample_bylevel=0.7999999999999999, colsample_bytree=0.8999999999999999, learning_rate=0.01, max_depth=10, min_child_weight=5, n_estimators=200, subsample=0.8999999999999999; total time=  57.4s\n",
      "[CV] END colsample_bylevel=0.7999999999999999, colsample_bytree=0.8999999999999999, learning_rate=0.01, max_depth=10, min_child_weight=5, n_estimators=200, subsample=0.8999999999999999; total time=  58.1s\n",
      "RMSE: 0.020, Standard Deviation : 0.015\n",
      "R2: 1.000, Standard Deviation : 0.000\n"
     ]
    }
   ],
   "source": [
    "# Cross Validation Results\n",
    "\n",
    "rmse = cross_val_score(mlp_model, mlp_X_train, mlp_y_train, scoring='neg_root_mean_squared_error')\n",
    "r2 = cross_val_score(mlp_model, mlp_X_train, mlp_y_train, scoring='r2')\n",
    "\n",
    "#get the mean of each fold \n",
    "print(\"RMSE: %.3f, Standard Deviation : %.3f\" % (rmse.mean() * -1, rmse.std())) \n",
    "print(\"R2: %.3f, Standard Deviation : %.3f\" % (r2.mean(), r2.std())) "
   ]
  },
  {
   "cell_type": "code",
   "execution_count": 35,
   "metadata": {},
   "outputs": [
    {
     "name": "stdout",
     "output_type": "stream",
     "text": [
      "The R2 score of MLP is: 0.9999693486622255\n",
      "The RMSE of predicting the TRAINING set of MLP is: 0.012052380213742572\n",
      "The RMSE of predicting the TESTING set of MLP is: 0.027544180277264976\n",
      "The bias of predicting the TRAINING set of MLP is: -0.00403736590484436\n",
      "The bias of predicting the TESTING set of MLP is: -0.004210658701788561\n"
     ]
    }
   ],
   "source": [
    "# Train/Test Results\n",
    "\n",
    "mlp_y_train_predicted = mlp_model.predict(mlp_X_train)\n",
    "mlp_y_test_predicted = mlp_model.predict(mlp_X_test)\n",
    "mlp_r2, mlp_rmse = calculate_errors(mlp_y_train, mlp_y_train_predicted, mlp_y_test, mlp_y_test_predicted, \"MLP\")"
   ]
  },
  {
   "cell_type": "code",
   "execution_count": 36,
   "metadata": {},
   "outputs": [
    {
     "data": {
      "image/png": "[encoded data removed]",
      "text/plain": [
       "<Figure size 640x480 with 1 Axes>"
      ]
     },
     "metadata": {},
     "output_type": "display_data"
    }
   ],
   "source": [
    "show_scatter_test(mlp_y_test, mlp_y_test_predicted, \"MLP\")"
   ]
  },
  {
   "cell_type": "markdown",
   "metadata": {},
   "source": [
    "## Model Comparison"
   ]
  },
  {
   "cell_type": "code",
   "execution_count": 37,
   "metadata": {},
   "outputs": [
    {
     "data": {
      "image/png": "[encoded data removed]",
      "text/plain": [
       "<Figure size 1500x1500 with 4 Axes>"
      ]
     },
     "metadata": {},
     "output_type": "display_data"
    }
   ],
   "source": [
    "# Predicted Values\n",
    "\n",
    "models = [\"Lasso\", \"Random Forest\", \"XGBoost\", \"MLP\"]\n",
    "test_values = [y_test, y_test, y_test, mlp_y_test]\n",
    "predictions = [lasso_y_test_predicted, rf_y_test_predicted, xgb_y_test_predicted, mlp_y_test_predicted]\n",
    "\n",
    "\n",
    "fig=plt.figure(figsize=[15,15])\n",
    "\n",
    "count = 0\n",
    "for i in range(len(models)):\n",
    "  count += 1\n",
    "  plt.subplot(2,2,count)\n",
    "  show_scatter_test(test_values[i], predictions[i], models[i])"
   ]
  },
  {
   "cell_type": "code",
   "execution_count": 38,
   "metadata": {},
   "outputs": [
    {
     "data": {
      "text/plain": [
       "Text(0.5, 1.0, 'Testing R2 Scores Across Models')"
      ]
     },
     "execution_count": 38,
     "metadata": {},
     "output_type": "execute_result"
    },
    {
     "data": {
      "image/png": "[encoded data removed]",
      "text/plain": [
       "<Figure size 640x480 with 1 Axes>"
      ]
     },
     "metadata": {},
     "output_type": "display_data"
    }
   ],
   "source": [
    "# Test R2 Score Comparison\n",
    "r2_scores = [lasso_r2, rf_r2, xgb_r2, mlp_r2]\n",
    "\n",
    "plt.bar(models, r2_scores)\n",
    "plt.title(\"Testing R2 Scores Across Models\")"
   ]
  },
  {
   "cell_type": "code",
   "execution_count": 39,
   "metadata": {},
   "outputs": [
    {
     "data": {
      "text/plain": [
       "Text(0.5, 1.0, 'Testing RMSE Scores Across Models')"
      ]
     },
     "execution_count": 39,
     "metadata": {},
     "output_type": "execute_result"
    },
    {
     "data": {
      "image/png": "[encoded data removed]",
      "text/plain": [
       "<Figure size 640x480 with 1 Axes>"
      ]
     },
     "metadata": {},
     "output_type": "display_data"
    }
   ],
   "source": [
    "# RMSE Comparison\n",
    "rmse_scores = [lasso_rmse, rf_rmse, xgb_rmse, mlp_rmse]\n",
    "\n",
    "plt.bar(models, rmse_scores)\n",
    "plt.title(\"Testing RMSE Scores Across Models\")"
   ]
  },
  {
   "cell_type": "markdown",
   "metadata": {},
   "source": [
    "# 6th Site - US-Ne2"
   ]
  },
  {
   "cell_type": "code",
   "execution_count": null,
   "metadata": {},
   "outputs": [],
   "source": []
  }
 ],
 "metadata": {
  "kernelspec": {
   "display_name": "ML",
   "language": "python",
   "name": "ml"
  },
  "language_info": {
   "codemirror_mode": {
    "name": "ipython",
    "version": 3
   },
   "file_extension": ".py",
   "mimetype": "text/x-python",
   "name": "python",
   "nbconvert_exporter": "python",
   "pygments_lexer": "ipython3",
   "version": "3.10.6"
  }
 },
 "nbformat": 4,
 "nbformat_minor": 2
}
